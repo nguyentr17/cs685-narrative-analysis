{
 "cells": [
  {
   "cell_type": "code",
   "execution_count": 2,
   "id": "f412678a-6e15-498c-879b-e16e3165eb35",
   "metadata": {
    "tags": []
   },
   "outputs": [],
   "source": [
    "import pandas as pd\n",
    "import ast\n",
    "import numpy as np"
   ]
  },
  {
   "cell_type": "code",
   "execution_count": 90,
   "id": "c88af02c-500c-410a-866c-c83bc8075ba7",
   "metadata": {
    "tags": []
   },
   "outputs": [],
   "source": [
    "pd.set_option('display.max_rows', 100)\n",
    "pd.set_option('display.width', 1000)\n",
    "pd.set_option('display.max_colwidth', None)\n"
   ]
  },
  {
   "cell_type": "code",
   "execution_count": 3,
   "id": "2d31abef-bdbe-4c15-a1e8-18ca2b9ad38c",
   "metadata": {
    "tags": []
   },
   "outputs": [
    {
     "name": "stdout",
     "output_type": "stream",
     "text": [
      "Index(['Unnamed: 0', 'author', 'subreddit_id', 'selftext', 'title', 'id', 'created_utc', 'Topic Distribution', 'most_probable_topic'], dtype='object')\n"
     ]
    },
    {
     "data": {
      "text/html": [
       "<div>\n",
       "<style scoped>\n",
       "    .dataframe tbody tr th:only-of-type {\n",
       "        vertical-align: middle;\n",
       "    }\n",
       "\n",
       "    .dataframe tbody tr th {\n",
       "        vertical-align: top;\n",
       "    }\n",
       "\n",
       "    .dataframe thead th {\n",
       "        text-align: right;\n",
       "    }\n",
       "</style>\n",
       "<table border=\"1\" class=\"dataframe\">\n",
       "  <thead>\n",
       "    <tr style=\"text-align: right;\">\n",
       "      <th></th>\n",
       "      <th>Unnamed: 0</th>\n",
       "      <th>author</th>\n",
       "      <th>subreddit_id</th>\n",
       "      <th>selftext</th>\n",
       "      <th>title</th>\n",
       "      <th>id</th>\n",
       "      <th>created_utc</th>\n",
       "      <th>Topic Distribution</th>\n",
       "      <th>most_probable_topic</th>\n",
       "    </tr>\n",
       "  </thead>\n",
       "  <tbody>\n",
       "    <tr>\n",
       "      <th>0</th>\n",
       "      <td>0</td>\n",
       "      <td>-CreamyPie-</td>\n",
       "      <td>t5_o3plh</td>\n",
       "      <td>Hello!  Im 11 and Im a boy self recovering from anorexia.  If you never saw my last post, I said on friday, \"Fear Food Friday\" I was going to have sweet scary cereal. Guess what it was? Froot Loops! I had me a bowl and it was pretty simple. 9/10.   Pretty easy, I ate in my room in peace while watching youtube, and then I ate a banana after.   I think I might buy another cereal. Theres so many types now lol.  But yea, it was basic, It felt normal, Just ate and watched a video and sat down. Fe...</td>\n",
       "      <td>Fear Food Friday!! So far its successful</td>\n",
       "      <td>gbj0rh</td>\n",
       "      <td>1588343070</td>\n",
       "      <td>[0.003704930553153588, 0.0008734280746749083, 0.0027177668338180384, 0.048346758641879616, 0.007509378074348145, 0.1357362532546351, 0.017228765520522566, 0.014247114805046765, 0.027907570015390147, 0.018457796864655564, 0.02507237026348541, 0.0031206368517028515, 0.14498486897396912, 0.00382996859058736, 0.0020321719710924596, 0.34519891047848955, 0.002129552182466121, 0.15361063905711517, 0.03963310469684806, 0.003658014296119375]</td>\n",
       "      <td>15</td>\n",
       "    </tr>\n",
       "    <tr>\n",
       "      <th>1</th>\n",
       "      <td>0</td>\n",
       "      <td>-CreamyPie-</td>\n",
       "      <td>t5_o3plh</td>\n",
       "      <td>Alright so Its wednesday the day im typing this, its almost fear food friday, Im 11 and Im a boy in self recovery from anorexia.   So for fear food friday I bought a box of....  Froot Loops!!!  So on friday morning,Im going to pour myself a cold bowl of froot loops in the morning.  Of course Im going to have fear foods on other days but not only on friday, But i figured friday is almost here so its a perfect time.  Hopefully when the time comes I can do it.  Motivation in the comments please...</td>\n",
       "      <td>Fear Food Friday is almost here.</td>\n",
       "      <td>gagddu</td>\n",
       "      <td>1588190127</td>\n",
       "      <td>[0.003704930553153588, 0.0008734280746749083, 0.018564638615800884, 0.03249988685989677, 0.03920312163831384, 0.0089612789987723, 0.001381893738539719, 0.04594085836901246, 0.20222315961720147, 0.0026109250826727194, 0.009225498481502562, 0.0031206368517028515, 0.08159738184603774, 0.019676840372570205, 0.049572787317041, 0.29765829513254105, 0.002129552182466121, 0.16945751083909802, 0.007939361132882367, 0.003658014296119375]</td>\n",
       "      <td>15</td>\n",
       "    </tr>\n",
       "    <tr>\n",
       "      <th>2</th>\n",
       "      <td>0</td>\n",
       "      <td>-CreamyPie-</td>\n",
       "      <td>t5_o3plh</td>\n",
       "      <td>Im 11, Im a boy, you've probably seen my other post, Im in self recovery.  So I was eating lunch, and was some refried beans and a tortilla. I made myself a little burrito. Munched on that.  Then I was bored and it was sunny outside so I decided to make a smoothie. I looked in my fridge and got some almond milk. I was thinking of making a strawberry banana smoothie but decided on only banana. So I grabbed a banana, 1 cup of almond milk, Blend.  Came back to my room with my drink and tasted i...</td>\n",
       "      <td>Smoothie!!</td>\n",
       "      <td>g7xk05</td>\n",
       "      <td>1587836033</td>\n",
       "      <td>[0.019866626213482064, 0.01698953077244474, 0.018863567145709772, 0.01692116257158796, 0.023732333095990463, 0.04130965131041252, 0.0014041450450316421, 0.030578561124446235, 0.012254900063413225, 0.0026529662994622186, 0.04157812526548563, 0.003170885467135907, 0.3888500018250573, 0.019993677618236703, 0.0020648940828670286, 0.286349161802521, 0.0021638423141752856, 0.027267773715095645, 0.024169239758384333, 0.01981895450906025]</td>\n",
       "      <td>12</td>\n",
       "    </tr>\n",
       "    <tr>\n",
       "      <th>3</th>\n",
       "      <td>1</td>\n",
       "      <td>194569324</td>\n",
       "      <td>t5_s5o7i</td>\n",
       "      <td>Just want to get this off my chest because I don't know who else to tell.  &amp;amp;#x200B;  I'm in virtual treatment and my treatment team thinks I'm doing great but I'm just lying my ass off about everything. They want to discharge me in two weeks or so after I've been in treatment for months. I know I'm not ready to leave treatment because I've already majorly relapsed since everything went virtual, but I'm also desperate and relieved to have a discharge date so I can go back to restricting w...</td>\n",
       "      <td>Hardcore restricting, close to being discharged from treatment, lying to my entire treatment team.</td>\n",
       "      <td>g3255g</td>\n",
       "      <td>1587130632</td>\n",
       "      <td>[0.002993392052432115, 0.000705684659831887, 0.002195814880737728, 0.026258225798200266, 0.10849480368507837, 0.032847153188110864, 0.0011164985888141741, 0.21636616111866294, 0.06095822720315747, 0.014912944155737845, 0.00745372509364537, 0.0025213129953172565, 0.001909200179389617, 0.0030944163124381153, 0.014445341608356742, 0.06124416397595568, 0.2321827017005198, 0.07289563516927766, 0.12164565961049446, 0.015758938023841717]</td>\n",
       "      <td>16</td>\n",
       "    </tr>\n",
       "    <tr>\n",
       "      <th>4</th>\n",
       "      <td>1</td>\n",
       "      <td>194569324</td>\n",
       "      <td>t5_s5o7i</td>\n",
       "      <td>I feel horrible because I love him so much, but he doesn't think about overeating every day and it reminds me so much of binging, except he's not emotional eating. He's just hungry and eats what he wants and my brain breaks looking at it.   On a typical day (pre-quarantine), he'll eat three heavy meals (burger, fries, milkshake, pizza, fried chicken, etc.), then snack on some combination of chips, cookies, a whole bag of buttered popcorn, a package of Pop-Tarts, a bag of beef jerky, ice crea...</td>\n",
       "      <td>My boyfriend triggers my eating disorder.</td>\n",
       "      <td>fvycov</td>\n",
       "      <td>1586178189</td>\n",
       "      <td>[0.03404512105871182, 0.0003010134634609527, 0.011859394297137584, 0.09858264711687424, 0.08450867615151343, 0.07954767230942146, 0.08239693354132663, 0.09229211181888913, 0.29360962083639125, 0.0008998149072147834, 0.0031794252218243055, 0.022920995246061414, 0.11004195961566711, 0.0013199393788990194, 0.0007003566076056034, 0.04250815386060085, 0.000733917189808157, 0.003787117384813888, 0.0027361778966925277, 0.03402895209708582]</td>\n",
       "      <td>8</td>\n",
       "    </tr>\n",
       "  </tbody>\n",
       "</table>\n",
       "</div>"
      ],
      "text/plain": [
       "   Unnamed: 0       author subreddit_id                                                                                                                                                                                                                                                                                                                                                                                                                                                                                                             selftext                                                                                               title      id  created_utc  \\\n",
       "0           0  -CreamyPie-     t5_o3plh  Hello!  Im 11 and Im a boy self recovering from anorexia.  If you never saw my last post, I said on friday, \"Fear Food Friday\" I was going to have sweet scary cereal. Guess what it was? Froot Loops! I had me a bowl and it was pretty simple. 9/10.   Pretty easy, I ate in my room in peace while watching youtube, and then I ate a banana after.   I think I might buy another cereal. Theres so many types now lol.  But yea, it was basic, It felt normal, Just ate and watched a video and sat down. Fe...                                                            Fear Food Friday!! So far its successful  gbj0rh   1588343070   \n",
       "1           0  -CreamyPie-     t5_o3plh  Alright so Its wednesday the day im typing this, its almost fear food friday, Im 11 and Im a boy in self recovery from anorexia.   So for fear food friday I bought a box of....  Froot Loops!!!  So on friday morning,Im going to pour myself a cold bowl of froot loops in the morning.  Of course Im going to have fear foods on other days but not only on friday, But i figured friday is almost here so its a perfect time.  Hopefully when the time comes I can do it.  Motivation in the comments please...                                                                    Fear Food Friday is almost here.  gagddu   1588190127   \n",
       "2           0  -CreamyPie-     t5_o3plh  Im 11, Im a boy, you've probably seen my other post, Im in self recovery.  So I was eating lunch, and was some refried beans and a tortilla. I made myself a little burrito. Munched on that.  Then I was bored and it was sunny outside so I decided to make a smoothie. I looked in my fridge and got some almond milk. I was thinking of making a strawberry banana smoothie but decided on only banana. So I grabbed a banana, 1 cup of almond milk, Blend.  Came back to my room with my drink and tasted i...                                                                                          Smoothie!!  g7xk05   1587836033   \n",
       "3           1    194569324     t5_s5o7i  Just want to get this off my chest because I don't know who else to tell.  &amp;#x200B;  I'm in virtual treatment and my treatment team thinks I'm doing great but I'm just lying my ass off about everything. They want to discharge me in two weeks or so after I've been in treatment for months. I know I'm not ready to leave treatment because I've already majorly relapsed since everything went virtual, but I'm also desperate and relieved to have a discharge date so I can go back to restricting w...  Hardcore restricting, close to being discharged from treatment, lying to my entire treatment team.  g3255g   1587130632   \n",
       "4           1    194569324     t5_s5o7i  I feel horrible because I love him so much, but he doesn't think about overeating every day and it reminds me so much of binging, except he's not emotional eating. He's just hungry and eats what he wants and my brain breaks looking at it.   On a typical day (pre-quarantine), he'll eat three heavy meals (burger, fries, milkshake, pizza, fried chicken, etc.), then snack on some combination of chips, cookies, a whole bag of buttered popcorn, a package of Pop-Tarts, a bag of beef jerky, ice crea...                                                           My boyfriend triggers my eating disorder.  fvycov   1586178189   \n",
       "\n",
       "                                                                                                                                                                                                                                                                                                                                                                                                                                     Topic Distribution  most_probable_topic  \n",
       "0  [0.003704930553153588, 0.0008734280746749083, 0.0027177668338180384, 0.048346758641879616, 0.007509378074348145, 0.1357362532546351, 0.017228765520522566, 0.014247114805046765, 0.027907570015390147, 0.018457796864655564, 0.02507237026348541, 0.0031206368517028515, 0.14498486897396912, 0.00382996859058736, 0.0020321719710924596, 0.34519891047848955, 0.002129552182466121, 0.15361063905711517, 0.03963310469684806, 0.003658014296119375]                   15  \n",
       "1       [0.003704930553153588, 0.0008734280746749083, 0.018564638615800884, 0.03249988685989677, 0.03920312163831384, 0.0089612789987723, 0.001381893738539719, 0.04594085836901246, 0.20222315961720147, 0.0026109250826727194, 0.009225498481502562, 0.0031206368517028515, 0.08159738184603774, 0.019676840372570205, 0.049572787317041, 0.29765829513254105, 0.002129552182466121, 0.16945751083909802, 0.007939361132882367, 0.003658014296119375]                   15  \n",
       "2    [0.019866626213482064, 0.01698953077244474, 0.018863567145709772, 0.01692116257158796, 0.023732333095990463, 0.04130965131041252, 0.0014041450450316421, 0.030578561124446235, 0.012254900063413225, 0.0026529662994622186, 0.04157812526548563, 0.003170885467135907, 0.3888500018250573, 0.019993677618236703, 0.0020648940828670286, 0.286349161802521, 0.0021638423141752856, 0.027267773715095645, 0.024169239758384333, 0.01981895450906025]                   12  \n",
       "3    [0.002993392052432115, 0.000705684659831887, 0.002195814880737728, 0.026258225798200266, 0.10849480368507837, 0.032847153188110864, 0.0011164985888141741, 0.21636616111866294, 0.06095822720315747, 0.014912944155737845, 0.00745372509364537, 0.0025213129953172565, 0.001909200179389617, 0.0030944163124381153, 0.014445341608356742, 0.06124416397595568, 0.2321827017005198, 0.07289563516927766, 0.12164565961049446, 0.015758938023841717]                   16  \n",
       "4  [0.03404512105871182, 0.0003010134634609527, 0.011859394297137584, 0.09858264711687424, 0.08450867615151343, 0.07954767230942146, 0.08239693354132663, 0.09229211181888913, 0.29360962083639125, 0.0008998149072147834, 0.0031794252218243055, 0.022920995246061414, 0.11004195961566711, 0.0013199393788990194, 0.0007003566076056034, 0.04250815386060085, 0.000733917189808157, 0.003787117384813888, 0.0027361778966925277, 0.03402895209708582]                    8  "
      ]
     },
     "execution_count": 3,
     "metadata": {},
     "output_type": "execute_result"
    }
   ],
   "source": [
    "post_with_topic = pd.read_csv(\"../topic-modeling/data/positive_topic_dist.csv\")\n",
    "print(post_with_topic.columns)\n",
    "post_with_topic[\"Topic Distribution\"] = post_with_topic[\"Topic Distribution\"].apply(lambda x: ast.literal_eval(x))\n",
    "post_with_topic.head()"
   ]
  },
  {
   "cell_type": "code",
   "execution_count": 9,
   "id": "0659df76-6341-4285-9e4d-f256b6d7baa9",
   "metadata": {
    "tags": []
   },
   "outputs": [
    {
     "data": {
      "text/html": [
       "<div>\n",
       "<style scoped>\n",
       "    .dataframe tbody tr th:only-of-type {\n",
       "        vertical-align: middle;\n",
       "    }\n",
       "\n",
       "    .dataframe tbody tr th {\n",
       "        vertical-align: top;\n",
       "    }\n",
       "\n",
       "    .dataframe thead th {\n",
       "        text-align: right;\n",
       "    }\n",
       "</style>\n",
       "<table border=\"1\" class=\"dataframe\">\n",
       "  <thead>\n",
       "    <tr style=\"text-align: right;\">\n",
       "      <th></th>\n",
       "      <th>index</th>\n",
       "      <th>topic_desc</th>\n",
       "      <th>top_words</th>\n",
       "    </tr>\n",
       "  </thead>\n",
       "  <tbody>\n",
       "    <tr>\n",
       "      <th>0</th>\n",
       "      <td>0</td>\n",
       "      <td>eatingBehavior (good)</td>\n",
       "      <td>purging binge purge binging stop bulimia b/p day cycle bad</td>\n",
       "    </tr>\n",
       "    <tr>\n",
       "      <th>1</th>\n",
       "      <td>1</td>\n",
       "      <td>bodyParts (good)</td>\n",
       "      <td>xNUMb hair would teeth dentist make mouth abs use email</td>\n",
       "    </tr>\n",
       "    <tr>\n",
       "      <th>2</th>\n",
       "      <td>2</td>\n",
       "      <td>family (good)</td>\n",
       "      <td>mom family fat dad sister said parents told comments always</td>\n",
       "    </tr>\n",
       "    <tr>\n",
       "      <th>3</th>\n",
       "      <td>3</td>\n",
       "      <td>feeling (moderate)</td>\n",
       "      <td>like feel even want know much get hate fucking never</td>\n",
       "    </tr>\n",
       "    <tr>\n",
       "      <th>4</th>\n",
       "      <td>4</td>\n",
       "      <td>work (bad)</td>\n",
       "      <td>work get want time going need life back job hard</td>\n",
       "    </tr>\n",
       "    <tr>\n",
       "      <th>5</th>\n",
       "      <td>5</td>\n",
       "      <td>feeling (moderate)</td>\n",
       "      <td>like feel really also know lot think still idk maybe</td>\n",
       "    </tr>\n",
       "    <tr>\n",
       "      <th>6</th>\n",
       "      <td>6</td>\n",
       "      <td>groceryShopping (moderate)</td>\n",
       "      <td>food mad buy money cookies store candy buying kitchen fucking</td>\n",
       "    </tr>\n",
       "    <tr>\n",
       "      <th>7</th>\n",
       "      <td>7</td>\n",
       "      <td>feeling (moderate)</td>\n",
       "      <td>know really get want eating think help tell disorder also</td>\n",
       "    </tr>\n",
       "    <tr>\n",
       "      <th>8</th>\n",
       "      <td>8</td>\n",
       "      <td>eat(good)</td>\n",
       "      <td>eat eating food feel like meal even day hungry want</td>\n",
       "    </tr>\n",
       "    <tr>\n",
       "      <th>9</th>\n",
       "      <td>9</td>\n",
       "      <td>community (moderate)</td>\n",
       "      <td>people post group recovery made diet disordered certain looking posts</td>\n",
       "    </tr>\n",
       "    <tr>\n",
       "      <th>10</th>\n",
       "      <td>10</td>\n",
       "      <td>weight (good)</td>\n",
       "      <td>weight gain lose gained eating back underweight bmi want NUM</td>\n",
       "    </tr>\n",
       "    <tr>\n",
       "      <th>11</th>\n",
       "      <td>11</td>\n",
       "      <td>appearance (good)</td>\n",
       "      <td>body look weight see clothes skinny fat looked face fit</td>\n",
       "    </tr>\n",
       "    <tr>\n",
       "      <th>12</th>\n",
       "      <td>12</td>\n",
       "      <td>food (good)</td>\n",
       "      <td>foods ate NUM eat food sugar chocolate cream ice cheese</td>\n",
       "    </tr>\n",
       "    <tr>\n",
       "      <th>13</th>\n",
       "      <td>13</td>\n",
       "      <td>life (bad)</td>\n",
       "      <td>life eating self disorder things every people anxiety way mental</td>\n",
       "    </tr>\n",
       "    <tr>\n",
       "      <th>14</th>\n",
       "      <td>14</td>\n",
       "      <td>discomfort (moderate)</td>\n",
       "      <td>never heart pain sick enough blood sleep night take water</td>\n",
       "    </tr>\n",
       "    <tr>\n",
       "      <th>15</th>\n",
       "      <td>15</td>\n",
       "      <td>timeShort (moderate)</td>\n",
       "      <td>today didn felt got day going last back went time</td>\n",
       "    </tr>\n",
       "    <tr>\n",
       "      <th>16</th>\n",
       "      <td>16</td>\n",
       "      <td>formalTreatment (good)</td>\n",
       "      <td>treatment inpatient hospital therapist NUM program get appointment doctor medical</td>\n",
       "    </tr>\n",
       "    <tr>\n",
       "      <th>17</th>\n",
       "      <td>17</td>\n",
       "      <td>recovery (bad)</td>\n",
       "      <td>recovery body anyone really still much long time recover would</td>\n",
       "    </tr>\n",
       "    <tr>\n",
       "      <th>18</th>\n",
       "      <td>18</td>\n",
       "      <td>timeLong (moderate)</td>\n",
       "      <td>NUM years since time year last months started ago even</td>\n",
       "    </tr>\n",
       "    <tr>\n",
       "      <th>19</th>\n",
       "      <td>19</td>\n",
       "      <td>calories (bad)</td>\n",
       "      <td>NUM day calories eat days also exercise every gym week</td>\n",
       "    </tr>\n",
       "  </tbody>\n",
       "</table>\n",
       "</div>"
      ],
      "text/plain": [
       "    index                  topic_desc                                                                          top_words\n",
       "0       0       eatingBehavior (good)                         purging binge purge binging stop bulimia b/p day cycle bad\n",
       "1       1            bodyParts (good)                            xNUMb hair would teeth dentist make mouth abs use email\n",
       "2       2               family (good)                        mom family fat dad sister said parents told comments always\n",
       "3       3          feeling (moderate)                               like feel even want know much get hate fucking never\n",
       "4       4                  work (bad)                                   work get want time going need life back job hard\n",
       "5       5          feeling (moderate)                               like feel really also know lot think still idk maybe\n",
       "6       6  groceryShopping (moderate)                      food mad buy money cookies store candy buying kitchen fucking\n",
       "7       7          feeling (moderate)                          know really get want eating think help tell disorder also\n",
       "8       8                   eat(good)                                eat eating food feel like meal even day hungry want\n",
       "9       9        community (moderate)              people post group recovery made diet disordered certain looking posts\n",
       "10     10               weight (good)                       weight gain lose gained eating back underweight bmi want NUM\n",
       "11     11           appearance (good)                            body look weight see clothes skinny fat looked face fit\n",
       "12     12                 food (good)                            foods ate NUM eat food sugar chocolate cream ice cheese\n",
       "13     13                  life (bad)                   life eating self disorder things every people anxiety way mental\n",
       "14     14       discomfort (moderate)                          never heart pain sick enough blood sleep night take water\n",
       "15     15        timeShort (moderate)                                  today didn felt got day going last back went time\n",
       "16     16      formalTreatment (good)  treatment inpatient hospital therapist NUM program get appointment doctor medical\n",
       "17     17              recovery (bad)                     recovery body anyone really still much long time recover would\n",
       "18     18         timeLong (moderate)                             NUM years since time year last months started ago even\n",
       "19     19              calories (bad)                             NUM day calories eat days also exercise every gym week"
      ]
     },
     "execution_count": 9,
     "metadata": {},
     "output_type": "execute_result"
    }
   ],
   "source": [
    "topic_list = pd.read_csv(\"../topic-modeling/data/analysis/topic_label_20.txt\", delimiter=\"_\", \n",
    "                         header = None, names = [\"index\", \"topic_desc\", \"top_words\"])\n",
    "topic_list"
   ]
  },
  {
   "cell_type": "code",
   "execution_count": 10,
   "id": "b79fefab-5c79-4a4e-8530-562f7839e077",
   "metadata": {
    "tags": []
   },
   "outputs": [
    {
     "data": {
      "text/plain": [
       "3     497\n",
       "7     357\n",
       "8     337\n",
       "15    313\n",
       "10    225\n",
       "17    218\n",
       "4     140\n",
       "18    135\n",
       "5     119\n",
       "11     77\n",
       "12     71\n",
       "19     65\n",
       "0      58\n",
       "13     50\n",
       "14     37\n",
       "9      36\n",
       "6      31\n",
       "16     30\n",
       "2      30\n",
       "1      14\n",
       "Name: most_probable_topic, dtype: int64"
      ]
     },
     "execution_count": 10,
     "metadata": {},
     "output_type": "execute_result"
    }
   ],
   "source": [
    "post_with_topic[\"most_probable_topic\"] = post_with_topic[\"Topic Distribution\"].apply(lambda x: np.array(x).argmax())\n",
    "post_with_topic[\"most_probable_topic\"].value_counts()"
   ]
  },
  {
   "cell_type": "code",
   "execution_count": 12,
   "id": "d87a69ac-eb8a-4511-ae0a-c84217ea510b",
   "metadata": {},
   "outputs": [],
   "source": [
    "trigger_extraction_result = pd.read_csv(\"./results/trigger_extraction_result_1682559339.705567.csv\", keep_default_na = False)\n",
    "for i in range(3):\n",
    "    trigger_extraction_result[f\"trigger_{i}\"] = trigger_extraction_result[f\"trigger_{i}\"].apply(lambda x: ast.literal_eval(x) if x.startswith(\"[\") else (None if x == \"\" else [x]))\n",
    "    #print(trigger_extraction_result[f\"trigger_{i}\"].explode().value_counts(dropna=False))\n",
    "    "
   ]
  },
  {
   "cell_type": "code",
   "execution_count": null,
   "id": "51e97b9a-c995-4267-b6c8-75a77f188981",
   "metadata": {},
   "outputs": [],
   "source": []
  },
  {
   "cell_type": "code",
   "execution_count": 13,
   "id": "1c529280-a97d-45b7-8b64-6274002cebd4",
   "metadata": {
    "tags": []
   },
   "outputs": [],
   "source": [
    "trigger_extraction_result = trigger_extraction_result.merge(post_with_topic[[\"id\",\"most_probable_topic\"]], on=\"id\", how=\"left\")"
   ]
  },
  {
   "cell_type": "code",
   "execution_count": 14,
   "id": "ba6e3b02-7a56-42e9-8f0f-74842947dd1b",
   "metadata": {
    "tags": []
   },
   "outputs": [
    {
     "data": {
      "text/plain": [
       "NaN     294\n",
       "3.0       2\n",
       "7.0       1\n",
       "17.0      1\n",
       "0.0       1\n",
       "15.0      1\n",
       "Name: most_probable_topic, dtype: int64"
      ]
     },
     "execution_count": 14,
     "metadata": {},
     "output_type": "execute_result"
    }
   ],
   "source": [
    "trigger_extraction_result[\"most_probable_topic\"].value_counts(dropna=False)"
   ]
  },
  {
   "cell_type": "code",
   "execution_count": 21,
   "id": "799458bd-41b1-4ab9-900f-b468c0233969",
   "metadata": {
    "tags": []
   },
   "outputs": [],
   "source": [
    "trigger_extraction_result[\"most_probable_topic_desc\"] = trigger_extraction_result[\"most_probable_topic\"].apply(lambda x: topic_list[x])"
   ]
  },
  {
   "cell_type": "code",
   "execution_count": 24,
   "id": "61cbeadc-e276-4dcd-83ee-dc835c6293da",
   "metadata": {
    "tags": []
   },
   "outputs": [
    {
     "data": {
      "text/html": [
       "<div>\n",
       "<style scoped>\n",
       "    .dataframe tbody tr th:only-of-type {\n",
       "        vertical-align: middle;\n",
       "    }\n",
       "\n",
       "    .dataframe tbody tr th {\n",
       "        vertical-align: top;\n",
       "    }\n",
       "\n",
       "    .dataframe thead tr th {\n",
       "        text-align: left;\n",
       "    }\n",
       "\n",
       "    .dataframe thead tr:last-of-type th {\n",
       "        text-align: right;\n",
       "    }\n",
       "</style>\n",
       "<table border=\"1\" class=\"dataframe\">\n",
       "  <thead>\n",
       "    <tr>\n",
       "      <th></th>\n",
       "      <th>most_probable_topic_desc</th>\n",
       "      <th>trigger_0</th>\n",
       "      <th>trigger_1</th>\n",
       "      <th>trigger_2</th>\n",
       "    </tr>\n",
       "    <tr>\n",
       "      <th></th>\n",
       "      <th>first</th>\n",
       "      <th>most_common</th>\n",
       "      <th>most_common</th>\n",
       "      <th>most_common</th>\n",
       "    </tr>\n",
       "    <tr>\n",
       "      <th>most_probable_topic</th>\n",
       "      <th></th>\n",
       "      <th></th>\n",
       "      <th></th>\n",
       "      <th></th>\n",
       "    </tr>\n",
       "  </thead>\n",
       "  <tbody>\n",
       "    <tr>\n",
       "      <th>0</th>\n",
       "      <td>NUM treatment get work need year time therapist last back</td>\n",
       "      <td>[(None, 16), (fear of failure, 1), (loss of father, boyfriend, job, school, and health issues, 1), (PTSD, 1), (nutritionist left, 1)]</td>\n",
       "      <td>[(None, 16), (being told her athletic body wasn't feminine, 1), (father, 1), (watching old colleagues now drop, 1), (two deaths of former colleagues over the weekend, 1)]</td>\n",
       "      <td>[(None, 14), (obsession with vanity and physique, 1), (problems with immunity, 1), (nutritionist leaving without addressing issues, financial strain, pressure from friends and personal issues, 1), (watching old colleagues now drop, 1)]</td>\n",
       "    </tr>\n",
       "    <tr>\n",
       "      <th>1</th>\n",
       "      <td>eat food eating day meal hungry like meals calories binge</td>\n",
       "      <td>[(None, 14), (scared to gain weight, 1), (poor fitting immediate denture, 1), (physical and emotional issues, 1), (Ate more than usual at a social gathering, 1)]</td>\n",
       "      <td>[(None, 14), (eating more than usual, 2), (found an old corset, 1), (binge behavior, 1), (weight gain, 1)]</td>\n",
       "      <td>[(None, 14), (scared to gain weight, 1), (fear of health impacts, 1), (binge behavior, 1), (cravings, 1)]</td>\n",
       "    </tr>\n",
       "    <tr>\n",
       "      <th>2</th>\n",
       "      <td>life recovery people body self nNUM things would every love</td>\n",
       "      <td>[(None, 11), (anxiety, 1), (lack of control, 1), (supply chain, 1), (grocery stores, 1)]</td>\n",
       "      <td>[(None, 11), (feeling like a failure, 2), (anxiety around depraving oneself, 1), (double tracking calories, 1), (feeling fat and hot, 1)]</td>\n",
       "      <td>[(None, 14), (new antipsychotic medication, 1), (overtracking calories, 1), (pandemic, 1), (income changes, 1)]</td>\n",
       "    </tr>\n",
       "    <tr>\n",
       "      <th>3</th>\n",
       "      <td>look body like weight fat hate see skinny people always</td>\n",
       "      <td>[(None, 11), (Adderall, 1), (fear of waking up mid-procedure, 1), (difficulty with fasting of drinks, 1), (only eating one meal per day, 1)]</td>\n",
       "      <td>[(None, 11), (constipation, 2), (blood glucose levels dropping and cortisol rising, 2), (doctor's insensitivity to the seriousness of her symptoms, 1), (lack of hunger, 1)]</td>\n",
       "      <td>[(None, 12), (constipation, 2), (severe PTSD, 1), (exercising and purging, 1), (GI specialist's attitude and inappropriate behavior/actions, 1)]</td>\n",
       "    </tr>\n",
       "    <tr>\n",
       "      <th>4</th>\n",
       "      <td>NUM eat ate chocolate foods sugar cream food cake one</td>\n",
       "      <td>[(None, 11), (stressful and traumatic experiences last Autumn, 1), (roommate's comment about olive oil, 1), (her mom refusing surgery for cancer because she thinks it will make her gain weight, 1), (my biological mother told me that she thought I was disgustingly skinny, 1)]</td>\n",
       "      <td>[(None, 10), (stressful and traumatic experience in Autumn, 1), (roommate said olive oil is healthy and good for you, made me feel paranoid and like my roommate wants me to be fat., 1), (older folks in the neighborhood who are bored, 1), (foto/gif where someone is very thin, 1)]</td>\n",
       "      <td>[(None, 12), (stressful and traumatic events in last autumn, 1), (roommate saying olive oil is healthy calories, 1), (mother commenting on weight gain, 1), (my biological mother, 1)]</td>\n",
       "    </tr>\n",
       "    <tr>\n",
       "      <th>5</th>\n",
       "      <td>NUM weight gain back eating months lose lost still body</td>\n",
       "      <td>[(None, 16), (wanting to be skinny, 1), (finding old clothes that are now too big, 1), (hate being anything other than a Small, ever, 1), (being terrible at ED life and gaining most of the weight back, 1)]</td>\n",
       "      <td>[(None, 16), (put on bikini, 1), (gaining weight, 1), (existing clothes don‚Äôt fit, 1), (sizing chart showed true weight, 1)]</td>\n",
       "      <td>[(None, 14), (put on a bikini, 1), (my disordered mind is like ‚Äúyou‚Äôre fat and he knows‚Äù, 1), (COVID isolation and lifestyle change, 1), (need to purchase new clothes, 1)]</td>\n",
       "    </tr>\n",
       "    <tr>\n",
       "      <th>6</th>\n",
       "      <td>like know feel want really even eating get think never</td>\n",
       "      <td>[(None, 11), (mom‚Äôs text, 1), (gender dysphoria, 1), (financial concerns, 1), (the termination of outpatient dietician for non-compliance, 1)]</td>\n",
       "      <td>[(None, 11), (mom mentioned sending to residential program, 1), (slow work day, 1), (Termination of new outpatient dietician after 2 sessions, 1), (Trouble getting a counselor, due to insurance and financial issues, 1)]</td>\n",
       "      <td>[(None, 14), (seeing text from mom, 1), (Parents asking her to cut her work hours and not stay home, 1), (job hunt, 1), (rejection emails, 1)]</td>\n",
       "    </tr>\n",
       "    <tr>\n",
       "      <th>7</th>\n",
       "      <td>said told didn mom family made got would one went</td>\n",
       "      <td>[(None, 18), (relapse into ED, 1), (my dietician doesn‚Äôt believe I could possibly have extreme hunger as I am not underweight, 1), (family history of breast cancer and possible ovarian cancer, 1), (hasn‚Äôt had period since February, 1)]</td>\n",
       "      <td>[(None, 18), (relapse into my ED, 1), (my dietician doesn‚Äôt believe I could possibly have extreme hunger as I am not underweight, 1), (missing menstrual period since February, 1), (family history of breast cancer, 1)]</td>\n",
       "      <td>[(None, 18), (blood circulation problems, 1), (my dietician doesn‚Äôt believe I could possibly have extreme hunger as I am not underweight and she‚Äôs honestly scared me into thinking that I have now have binge eating disorder, 1), (getting an ultrasound due to family history of breast cancer, 1), (haven‚Äôt had my period since the first week February, 1)]</td>\n",
       "    </tr>\n",
       "    <tr>\n",
       "      <th>8</th>\n",
       "      <td>doctor blood take heart symptoms hospital taking doctors medication pain</td>\n",
       "      <td>[(None, 16), (stressful situations, 2), (watching 1000lbs sisters, 1), (losing all friends, 1), (move to UK, 1)]</td>\n",
       "      <td>[(None, 17), (need for control, 1), (photo on Instagram for birthday, 1), (feeling lonely and unable to make new friends, 1), (moving to a new continent and losing friends, 1)]</td>\n",
       "      <td>[(None, 17), (friends suggesting medication for depression when she does not have depression, 1), (Photo posted on Instagram for her birthday, 1), (being unable to adapt to new environment or make new friends, 1), (moving to a new continent and losing all friends, 1)]</td>\n",
       "    </tr>\n",
       "    <tr>\n",
       "      <th>9</th>\n",
       "      <td>like NUM feel day want get today time days eat</td>\n",
       "      <td>[(None, 12), (gained weight despite eating more, 1), (thinking about a particular chocolate in the fridge, 1), (reduced social pressure and increased control over food, 1), (overwhelming urge to know the number on the scale, 1)]</td>\n",
       "      <td>[(None, 12), (gaining weight despite calorie increase, 1), (thinking about specific food, 1), (overwhelming urge to know the number on the scale, 1), (fluctuations in weight during the day, 1)]</td>\n",
       "      <td>[(None, 13), (weight gain despite calorie restriction, 1), (tracking calories for a nutrition class, 1), (comparison with brother’s BMI, 1), (brother mentioning writer’s eating in front of family, 1)]</td>\n",
       "    </tr>\n",
       "  </tbody>\n",
       "</table>\n",
       "</div>"
      ],
      "text/plain": [
       "                                                                     most_probable_topic_desc                                                                                                                                                                                                                                                                            trigger_0                                                                                                                                                                                                                                                                                trigger_1  \\\n",
       "                                                                                        first                                                                                                                                                                                                                                                                          most_common                                                                                                                                                                                                                                                                              most_common   \n",
       "most_probable_topic                                                                                                                                                                                                                                                                                                                                                                                                                                                                                                                                                                                                                                                           \n",
       "0                                   NUM treatment get work need year time therapist last back                                                                                                                                                [(None, 16), (fear of failure, 1), (loss of father, boyfriend, job, school, and health issues, 1), (PTSD, 1), (nutritionist left, 1)]                                                                                                               [(None, 16), (being told her athletic body wasn't feminine, 1), (father, 1), (watching old colleagues now drop, 1), (two deaths of former colleagues over the weekend, 1)]   \n",
       "1                                   eat food eating day meal hungry like meals calories binge                                                                                                                    [(None, 14), (scared to gain weight, 1), (poor fitting immediate denture, 1), (physical and emotional issues, 1), (Ate more than usual at a social gathering, 1)]                                                                                                                                                                               [(None, 14), (eating more than usual, 2), (found an old corset, 1), (binge behavior, 1), (weight gain, 1)]   \n",
       "2                                 life recovery people body self nNUM things would every love                                                                                                                                                                                             [(None, 11), (anxiety, 1), (lack of control, 1), (supply chain, 1), (grocery stores, 1)]                                                                                                                                                [(None, 11), (feeling like a failure, 2), (anxiety around depraving oneself, 1), (double tracking calories, 1), (feeling fat and hot, 1)]   \n",
       "3                                     look body like weight fat hate see skinny people always                                                                                                                                         [(None, 11), (Adderall, 1), (fear of waking up mid-procedure, 1), (difficulty with fasting of drinks, 1), (only eating one meal per day, 1)]                                                                                                             [(None, 11), (constipation, 2), (blood glucose levels dropping and cortisol rising, 2), (doctor's insensitivity to the seriousness of her symptoms, 1), (lack of hunger, 1)]   \n",
       "4                                       NUM eat ate chocolate foods sugar cream food cake one  [(None, 11), (stressful and traumatic experiences last Autumn, 1), (roommate's comment about olive oil, 1), (her mom refusing surgery for cancer because she thinks it will make her gain weight, 1), (my biological mother told me that she thought I was disgustingly skinny, 1)]  [(None, 10), (stressful and traumatic experience in Autumn, 1), (roommate said olive oil is healthy and good for you, made me feel paranoid and like my roommate wants me to be fat., 1), (older folks in the neighborhood who are bored, 1), (foto/gif where someone is very thin, 1)]   \n",
       "5                                     NUM weight gain back eating months lose lost still body                                                                        [(None, 16), (wanting to be skinny, 1), (finding old clothes that are now too big, 1), (hate being anything other than a Small, ever, 1), (being terrible at ED life and gaining most of the weight back, 1)]                                                                                                                                                           [(None, 16), (put on bikini, 1), (gaining weight, 1), (existing clothes don‚Äôt fit, 1), (sizing chart showed true weight, 1)]   \n",
       "6                                      like know feel want really even eating get think never                                                                                                                                     [(None, 11), (mom‚Äôs text, 1), (gender dysphoria, 1), (financial concerns, 1), (the termination of outpatient dietician for non-compliance, 1)]                                                              [(None, 11), (mom mentioned sending to residential program, 1), (slow work day, 1), (Termination of new outpatient dietician after 2 sessions, 1), (Trouble getting a counselor, due to insurance and financial issues, 1)]   \n",
       "7                                           said told didn mom family made got would one went                                      [(None, 18), (relapse into ED, 1), (my dietician doesn‚Äôt believe I could possibly have extreme hunger as I am not underweight, 1), (family history of breast cancer and possible ovarian cancer, 1), (hasn‚Äôt had period since February, 1)]                                                              [(None, 18), (relapse into my ED, 1), (my dietician doesn‚Äôt believe I could possibly have extreme hunger as I am not underweight, 1), (missing menstrual period since February, 1), (family history of breast cancer, 1)]   \n",
       "8                    doctor blood take heart symptoms hospital taking doctors medication pain                                                                                                                                                                     [(None, 16), (stressful situations, 2), (watching 1000lbs sisters, 1), (losing all friends, 1), (move to UK, 1)]                                                                                                         [(None, 17), (need for control, 1), (photo on Instagram for birthday, 1), (feeling lonely and unable to make new friends, 1), (moving to a new continent and losing friends, 1)]   \n",
       "9                                              like NUM feel day want get today time days eat                                                 [(None, 12), (gained weight despite eating more, 1), (thinking about a particular chocolate in the fridge, 1), (reduced social pressure and increased control over food, 1), (overwhelming urge to know the number on the scale, 1)]                                                                                        [(None, 12), (gaining weight despite calorie increase, 1), (thinking about specific food, 1), (overwhelming urge to know the number on the scale, 1), (fluctuations in weight during the day, 1)]   \n",
       "\n",
       "                                                                                                                                                                                                                                                                                                                                                                                  trigger_2  \n",
       "                                                                                                                                                                                                                                                                                                                                                                                most_common  \n",
       "most_probable_topic                                                                                                                                                                                                                                                                                                                                                                          \n",
       "0                                                                                                                                               [(None, 14), (obsession with vanity and physique, 1), (problems with immunity, 1), (nutritionist leaving without addressing issues, financial strain, pressure from friends and personal issues, 1), (watching old colleagues now drop, 1)]  \n",
       "1                                                                                                                                                                                                                                                                                 [(None, 14), (scared to gain weight, 1), (fear of health impacts, 1), (binge behavior, 1), (cravings, 1)]  \n",
       "2                                                                                                                                                                                                                                                                           [(None, 14), (new antipsychotic medication, 1), (overtracking calories, 1), (pandemic, 1), (income changes, 1)]  \n",
       "3                                                                                                                                                                                                                                          [(None, 12), (constipation, 2), (severe PTSD, 1), (exercising and purging, 1), (GI specialist's attitude and inappropriate behavior/actions, 1)]  \n",
       "4                                                                                                                                                                                                    [(None, 12), (stressful and traumatic events in last autumn, 1), (roommate saying olive oil is healthy calories, 1), (mother commenting on weight gain, 1), (my biological mother, 1)]  \n",
       "5                                                                                                                                                                                                         [(None, 14), (put on a bikini, 1), (my disordered mind is like ‚Äúyou‚Äôre fat and he knows‚Äù, 1), (COVID isolation and lifestyle change, 1), (need to purchase new clothes, 1)]  \n",
       "6                                                                                                                                                                                                                                            [(None, 14), (seeing text from mom, 1), (Parents asking her to cut her work hours and not stay home, 1), (job hunt, 1), (rejection emails, 1)]  \n",
       "7                    [(None, 18), (blood circulation problems, 1), (my dietician doesn‚Äôt believe I could possibly have extreme hunger as I am not underweight and she‚Äôs honestly scared me into thinking that I have now have binge eating disorder, 1), (getting an ultrasound due to family history of breast cancer, 1), (haven‚Äôt had my period since the first week February, 1)]  \n",
       "8                                                                                                              [(None, 17), (friends suggesting medication for depression when she does not have depression, 1), (Photo posted on Instagram for her birthday, 1), (being unable to adapt to new environment or make new friends, 1), (moving to a new continent and losing all friends, 1)]  \n",
       "9                                                                                                                                                                                  [(None, 13), (weight gain despite calorie restriction, 1), (tracking calories for a nutrition class, 1), (comparison with brother’s BMI, 1), (brother mentioning writer’s eating in front of family, 1)]  "
      ]
     },
     "execution_count": 24,
     "metadata": {},
     "output_type": "execute_result"
    }
   ],
   "source": [
    "def most_common(x):\n",
    "    top_5 = x.explode().value_counts(dropna=False)[:5]\n",
    "    return [(x, c) for x, c in zip(top_5.index, top_5)]\n",
    "trigger_extraction_result.groupby([\"most_probable_topic\"]).agg({\n",
    "    \"most_probable_topic_desc\": [\"first\"],\n",
    "    \"trigger_0\": [most_common],\n",
    "    \"trigger_1\": [most_common],\n",
    "    \"trigger_2\": [most_common]\n",
    "})"
   ]
  },
  {
   "cell_type": "code",
   "execution_count": 9,
   "id": "09339629-1349-4d93-9b2f-76ab5ee31788",
   "metadata": {
    "tags": []
   },
   "outputs": [],
   "source": [
    "def get_jaccard_sim(str1, str2): \n",
    "    a = set(str1.split()) \n",
    "    b = set(str2.split())\n",
    "    c = a.intersection(b)\n",
    "    return float(len(c)) / (len(a) + len(b) - len(c))"
   ]
  },
  {
   "cell_type": "markdown",
   "id": "ac688028-b1ac-434e-a29f-748ee200c33a",
   "metadata": {},
   "source": [
    "## Create input file based on topic modeling"
   ]
  },
  {
   "cell_type": "code",
   "execution_count": 20,
   "id": "f2df7d94-040a-4d30-9bcd-8d290ef53247",
   "metadata": {
    "tags": []
   },
   "outputs": [
    {
     "name": "stdout",
     "output_type": "stream",
     "text": [
      "2839\n",
      "Index(['Unnamed: 0', 'selected_for_experiment', 'subreddit', 'selftext', 'author_fullname', 'title', 'score', 'link_flair_css_class', 'link_flair_text', 'author_flair_type', 'over_18', 'author_flair_text', 'subreddit_id', 'id', 'is_self', 'author', 'author_flair_css_class', 'permalink', 'url', 'created_utc', 'num_words', 'narrative_positive', 'narrative_negative', 'narrative_uncertain', 'narrative_label', 'predicted_narrative_label', 'most_probable_topic'], dtype='object')\n"
     ]
    }
   ],
   "source": [
    "full_narrative_df = pd.read_csv(\"../narrative_detection/annotated_narrative_posts_by_trained_classification.csv\")\n",
    "narrative_with_topic_model = full_narrative_df.merge(post_with_topic[[\"id\",\"most_probable_topic\"]], on=\"id\", how=\"inner\")\n",
    "print(len(narrative_with_topic_model))\n",
    "print(narrative_with_topic_model.columns)\n"
   ]
  },
  {
   "cell_type": "code",
   "execution_count": 21,
   "id": "d70a1de4-e0bb-434e-a004-ee2acf1b872d",
   "metadata": {
    "tags": []
   },
   "outputs": [
    {
     "name": "stdout",
     "output_type": "stream",
     "text": [
      "Topic 0\n",
      "Topic 1\n",
      "Topic 2\n",
      "Topic 3\n",
      "Topic 4\n",
      "Topic 5\n",
      "Topic 6\n",
      "Topic 7\n",
      "Topic 8\n",
      "Topic 9\n",
      "Topic 10\n",
      "Topic 11\n",
      "Topic 12\n",
      "Topic 13\n",
      "Topic 14\n",
      "Topic 15\n",
      "Topic 16\n",
      "Topic 17\n",
      "Topic 18\n",
      "Topic 19\n"
     ]
    }
   ],
   "source": [
    "np.random.seed(20)\n",
    "experiment_index = []\n",
    "few_shot_index = []\n",
    "for topic_i in range(len(topic_list)):\n",
    "    print(f\"Topic {topic_i}\")\n",
    "    topic_all_indexes = narrative_with_topic_model[narrative_with_topic_model[\"most_probable_topic\"] == topic_i].index\n",
    "    sample_size = min(11, len(topic_all_indexes))\n",
    "    selected_indexes = np.random.choice(topic_all_indexes, sample_size, replace = False)\n",
    "    experiment_index.extend(selected_indexes[1:])\n",
    "    few_shot_index.append(selected_indexes[0])"
   ]
  },
  {
   "cell_type": "code",
   "execution_count": 22,
   "id": "955a0c7d-9e63-4cf8-b9f6-6d6dc1727c5f",
   "metadata": {
    "tags": []
   },
   "outputs": [],
   "source": [
    "narrative_with_topic_model.loc[experiment_index,\"selected_for_experiment\"] = 1\n",
    "narrative_with_topic_model.loc[few_shot_index,\"selected_for_example\"] = 1"
   ]
  },
  {
   "cell_type": "code",
   "execution_count": 23,
   "id": "e3219e41-2c99-43f4-9b49-f2cd52a3d560",
   "metadata": {
    "tags": []
   },
   "outputs": [
    {
     "data": {
      "text/plain": [
       "NaN    2623\n",
       "1.0     216\n",
       "Name: selected_for_experiment, dtype: int64"
      ]
     },
     "execution_count": 23,
     "metadata": {},
     "output_type": "execute_result"
    }
   ],
   "source": [
    "narrative_with_topic_model[\"selected_for_experiment\"].value_counts(dropna=False)"
   ]
  },
  {
   "cell_type": "code",
   "execution_count": 24,
   "id": "ad7b979f-6678-4359-8a54-7d85cb7458f2",
   "metadata": {
    "tags": []
   },
   "outputs": [],
   "source": [
    "#narrative_with_topic_model.to_csv(\"../narrative_detection/narrative_post_with_topic_model_20.csv\", index=False)"
   ]
  },
  {
   "cell_type": "code",
   "execution_count": 10,
   "id": "388e24ee-477c-4484-8104-1bca7d95913b",
   "metadata": {
    "tags": []
   },
   "outputs": [],
   "source": [
    "narrative_with_topic_model = pd.read_csv(\"../narrative_detection/narrative_post_with_topic_model_20.csv\")\n",
    "narrative_with_topic_model_example = narrative_with_topic_model[narrative_with_topic_model[\"selected_for_example\"] == 1]\n",
    "narrative_with_topic_model_example[[\"id\", \"most_probable_topic\",\"selftext\", \"num_words\", \"subreddit\"]].sort_values(\"num_words\").to_csv(\"./trigger_extraction_topic_examples.csv\", index=False)\n",
    "                                         "
   ]
  },
  {
   "cell_type": "markdown",
   "id": "8c54a13c-affe-4cc4-ad9e-5b8e18cb6aec",
   "metadata": {},
   "source": [
    "## Analyze results of trigger extraction on topic-based samples"
   ]
  },
  {
   "cell_type": "code",
   "execution_count": 15,
   "id": "942f1dfa-192f-49b3-90e2-88227eac46db",
   "metadata": {
    "tags": []
   },
   "outputs": [
    {
     "name": "stdout",
     "output_type": "stream",
     "text": [
      "350\n"
     ]
    }
   ],
   "source": [
    "trigger_extraction_result = pd.read_csv(\"./results/experiment_trigger_extraction_result_500_from_topic_model_zero_shot.csv\", keep_default_na = False)\n",
    "print(len(trigger_extraction_result))\n",
    "for i in range(3):\n",
    "    trigger_extraction_result[f\"trigger_{i}\"] = trigger_extraction_result[f\"trigger_{i}\"].apply(lambda x: ast.literal_eval(x) if x.startswith(\"[\") else (None if x == \"\" else [x]))"
   ]
  },
  {
   "cell_type": "code",
   "execution_count": 16,
   "id": "5d40bebf-b3ec-4bd0-8d6d-61f2ad980472",
   "metadata": {
    "tags": []
   },
   "outputs": [
    {
     "data": {
      "text/plain": [
       "yes    207\n",
       "no     136\n",
       "         7\n",
       "Name: has_trigger_2, dtype: int64"
      ]
     },
     "execution_count": 16,
     "metadata": {},
     "output_type": "execute_result"
    }
   ],
   "source": [
    "trigger_extraction_result[\"has_trigger_2\"].value_counts()"
   ]
  },
  {
   "cell_type": "code",
   "execution_count": 17,
   "id": "839db088-599d-4345-abcd-d4df86ddc1b2",
   "metadata": {
    "tags": []
   },
   "outputs": [
    {
     "data": {
      "text/html": [
       "<div>\n",
       "<style scoped>\n",
       "    .dataframe tbody tr th:only-of-type {\n",
       "        vertical-align: middle;\n",
       "    }\n",
       "\n",
       "    .dataframe tbody tr th {\n",
       "        vertical-align: top;\n",
       "    }\n",
       "\n",
       "    .dataframe thead tr th {\n",
       "        text-align: left;\n",
       "    }\n",
       "\n",
       "    .dataframe thead tr:last-of-type th {\n",
       "        text-align: right;\n",
       "    }\n",
       "</style>\n",
       "<table border=\"1\" class=\"dataframe\">\n",
       "  <thead>\n",
       "    <tr>\n",
       "      <th></th>\n",
       "      <th>trigger_0</th>\n",
       "      <th>trigger_1</th>\n",
       "      <th>trigger_2</th>\n",
       "    </tr>\n",
       "    <tr>\n",
       "      <th></th>\n",
       "      <th>most_common</th>\n",
       "      <th>most_common</th>\n",
       "      <th>most_common</th>\n",
       "    </tr>\n",
       "    <tr>\n",
       "      <th>most_probable_topic</th>\n",
       "      <th></th>\n",
       "      <th></th>\n",
       "      <th></th>\n",
       "    </tr>\n",
       "  </thead>\n",
       "  <tbody>\n",
       "    <tr>\n",
       "      <th>0</th>\n",
       "      <td>[(None, 16), (fear of failure, 1), (loss of father, boyfriend, job, school, and health issues, 1), (PTSD, 1), (nutritionist left, 1)]</td>\n",
       "      <td>[(None, 16), (being told her athletic body wasn't feminine, 1), (father, 1), (watching old colleagues now drop, 1), (two deaths of former colleagues over the weekend, 1)]</td>\n",
       "      <td>[(None, 14), (obsession with vanity and physique, 1), (problems with immunity, 1), (nutritionist leaving without addressing issues, financial strain, pressure from friends and personal issues, 1), (watching old colleagues now drop, 1)]</td>\n",
       "    </tr>\n",
       "    <tr>\n",
       "      <th>1</th>\n",
       "      <td>[(None, 14), (scared to gain weight, 1), (poor fitting immediate denture, 1), (physical and emotional issues, 1), (Ate more than usual at a social gathering, 1)]</td>\n",
       "      <td>[(None, 14), (eating more than usual, 2), (found an old corset, 1), (binge behavior, 1), (weight gain, 1)]</td>\n",
       "      <td>[(None, 14), (scared to gain weight, 1), (fear of health impacts, 1), (binge behavior, 1), (cravings, 1)]</td>\n",
       "    </tr>\n",
       "    <tr>\n",
       "      <th>2</th>\n",
       "      <td>[(None, 11), (anxiety, 1), (lack of control, 1), (supply chain, 1), (grocery stores, 1)]</td>\n",
       "      <td>[(None, 11), (feeling like a failure, 2), (anxiety around depraving oneself, 1), (double tracking calories, 1), (feeling fat and hot, 1)]</td>\n",
       "      <td>[(None, 14), (new antipsychotic medication, 1), (overtracking calories, 1), (pandemic, 1), (income changes, 1)]</td>\n",
       "    </tr>\n",
       "    <tr>\n",
       "      <th>3</th>\n",
       "      <td>[(None, 11), (Adderall, 1), (fear of waking up mid-procedure, 1), (difficulty with fasting of drinks, 1), (only eating one meal per day, 1)]</td>\n",
       "      <td>[(None, 11), (constipation, 2), (blood glucose levels dropping and cortisol rising, 2), (doctor's insensitivity to the seriousness of her symptoms, 1), (lack of hunger, 1)]</td>\n",
       "      <td>[(None, 12), (constipation, 2), (severe PTSD, 1), (exercising and purging, 1), (GI specialist's attitude and inappropriate behavior/actions, 1)]</td>\n",
       "    </tr>\n",
       "    <tr>\n",
       "      <th>4</th>\n",
       "      <td>[(None, 11), (stressful and traumatic experiences last Autumn, 1), (roommate's comment about olive oil, 1), (her mom refusing surgery for cancer because she thinks it will make her gain weight, 1), (my biological mother told me that she thought I was disgustingly skinny, 1)]</td>\n",
       "      <td>[(None, 10), (stressful and traumatic experience in Autumn, 1), (roommate said olive oil is healthy and good for you, made me feel paranoid and like my roommate wants me to be fat., 1), (older folks in the neighborhood who are bored, 1), (foto/gif where someone is very thin, 1)]</td>\n",
       "      <td>[(None, 12), (stressful and traumatic events in last autumn, 1), (roommate saying olive oil is healthy calories, 1), (mother commenting on weight gain, 1), (my biological mother, 1)]</td>\n",
       "    </tr>\n",
       "    <tr>\n",
       "      <th>5</th>\n",
       "      <td>[(None, 16), (wanting to be skinny, 1), (finding old clothes that are now too big, 1), (hate being anything other than a Small, ever, 1), (being terrible at ED life and gaining most of the weight back, 1)]</td>\n",
       "      <td>[(None, 16), (put on bikini, 1), (gaining weight, 1), (existing clothes don‚Äôt fit, 1), (sizing chart showed true weight, 1)]</td>\n",
       "      <td>[(None, 14), (put on a bikini, 1), (my disordered mind is like ‚Äúyou‚Äôre fat and he knows‚Äù, 1), (COVID isolation and lifestyle change, 1), (need to purchase new clothes, 1)]</td>\n",
       "    </tr>\n",
       "    <tr>\n",
       "      <th>6</th>\n",
       "      <td>[(None, 11), (mom‚Äôs text, 1), (gender dysphoria, 1), (financial concerns, 1), (the termination of outpatient dietician for non-compliance, 1)]</td>\n",
       "      <td>[(None, 11), (mom mentioned sending to residential program, 1), (slow work day, 1), (Termination of new outpatient dietician after 2 sessions, 1), (Trouble getting a counselor, due to insurance and financial issues, 1)]</td>\n",
       "      <td>[(None, 14), (seeing text from mom, 1), (Parents asking her to cut her work hours and not stay home, 1), (job hunt, 1), (rejection emails, 1)]</td>\n",
       "    </tr>\n",
       "    <tr>\n",
       "      <th>7</th>\n",
       "      <td>[(None, 18), (relapse into ED, 1), (my dietician doesn‚Äôt believe I could possibly have extreme hunger as I am not underweight, 1), (family history of breast cancer and possible ovarian cancer, 1), (hasn‚Äôt had period since February, 1)]</td>\n",
       "      <td>[(None, 18), (relapse into my ED, 1), (my dietician doesn‚Äôt believe I could possibly have extreme hunger as I am not underweight, 1), (missing menstrual period since February, 1), (family history of breast cancer, 1)]</td>\n",
       "      <td>[(None, 18), (blood circulation problems, 1), (my dietician doesn‚Äôt believe I could possibly have extreme hunger as I am not underweight and she‚Äôs honestly scared me into thinking that I have now have binge eating disorder, 1), (getting an ultrasound due to family history of breast cancer, 1), (haven‚Äôt had my period since the first week February, 1)]</td>\n",
       "    </tr>\n",
       "    <tr>\n",
       "      <th>8</th>\n",
       "      <td>[(None, 16), (stressful situations, 2), (watching 1000lbs sisters, 1), (losing all friends, 1), (move to UK, 1)]</td>\n",
       "      <td>[(None, 17), (need for control, 1), (photo on Instagram for birthday, 1), (feeling lonely and unable to make new friends, 1), (moving to a new continent and losing friends, 1)]</td>\n",
       "      <td>[(None, 17), (friends suggesting medication for depression when she does not have depression, 1), (Photo posted on Instagram for her birthday, 1), (being unable to adapt to new environment or make new friends, 1), (moving to a new continent and losing all friends, 1)]</td>\n",
       "    </tr>\n",
       "    <tr>\n",
       "      <th>9</th>\n",
       "      <td>[(None, 12), (gained weight despite eating more, 1), (thinking about a particular chocolate in the fridge, 1), (reduced social pressure and increased control over food, 1), (overwhelming urge to know the number on the scale, 1)]</td>\n",
       "      <td>[(None, 12), (gaining weight despite calorie increase, 1), (thinking about specific food, 1), (overwhelming urge to know the number on the scale, 1), (fluctuations in weight during the day, 1)]</td>\n",
       "      <td>[(None, 13), (weight gain despite calorie restriction, 1), (tracking calories for a nutrition class, 1), (comparison with brother’s BMI, 1), (brother mentioning writer’s eating in front of family, 1)]</td>\n",
       "    </tr>\n",
       "  </tbody>\n",
       "</table>\n",
       "</div>"
      ],
      "text/plain": [
       "                                                                                                                                                                                                                                                                                               trigger_0                                                                                                                                                                                                                                                                                trigger_1                                                                                                                                                                                                                                                                                                                                                               trigger_2\n",
       "                                                                                                                                                                                                                                                                                             most_common                                                                                                                                                                                                                                                                              most_common                                                                                                                                                                                                                                                                                                                                                             most_common\n",
       "most_probable_topic                                                                                                                                                                                                                                                                                                                                                                                                                                                                                                                                                                                                                                                                                                                                                                                                                                                                                                                                                      \n",
       "0                                                                                                                                                                  [(None, 16), (fear of failure, 1), (loss of father, boyfriend, job, school, and health issues, 1), (PTSD, 1), (nutritionist left, 1)]                                                                                                               [(None, 16), (being told her athletic body wasn't feminine, 1), (father, 1), (watching old colleagues now drop, 1), (two deaths of former colleagues over the weekend, 1)]                                                                                                                             [(None, 14), (obsession with vanity and physique, 1), (problems with immunity, 1), (nutritionist leaving without addressing issues, financial strain, pressure from friends and personal issues, 1), (watching old colleagues now drop, 1)]\n",
       "1                                                                                                                                      [(None, 14), (scared to gain weight, 1), (poor fitting immediate denture, 1), (physical and emotional issues, 1), (Ate more than usual at a social gathering, 1)]                                                                                                                                                                               [(None, 14), (eating more than usual, 2), (found an old corset, 1), (binge behavior, 1), (weight gain, 1)]                                                                                                                                                                                                                                                               [(None, 14), (scared to gain weight, 1), (fear of health impacts, 1), (binge behavior, 1), (cravings, 1)]\n",
       "2                                                                                                                                                                                                               [(None, 11), (anxiety, 1), (lack of control, 1), (supply chain, 1), (grocery stores, 1)]                                                                                                                                                [(None, 11), (feeling like a failure, 2), (anxiety around depraving oneself, 1), (double tracking calories, 1), (feeling fat and hot, 1)]                                                                                                                                                                                                                                                         [(None, 14), (new antipsychotic medication, 1), (overtracking calories, 1), (pandemic, 1), (income changes, 1)]\n",
       "3                                                                                                                                                           [(None, 11), (Adderall, 1), (fear of waking up mid-procedure, 1), (difficulty with fasting of drinks, 1), (only eating one meal per day, 1)]                                                                                                             [(None, 11), (constipation, 2), (blood glucose levels dropping and cortisol rising, 2), (doctor's insensitivity to the seriousness of her symptoms, 1), (lack of hunger, 1)]                                                                                                                                                                                                                        [(None, 12), (constipation, 2), (severe PTSD, 1), (exercising and purging, 1), (GI specialist's attitude and inappropriate behavior/actions, 1)]\n",
       "4                    [(None, 11), (stressful and traumatic experiences last Autumn, 1), (roommate's comment about olive oil, 1), (her mom refusing surgery for cancer because she thinks it will make her gain weight, 1), (my biological mother told me that she thought I was disgustingly skinny, 1)]  [(None, 10), (stressful and traumatic experience in Autumn, 1), (roommate said olive oil is healthy and good for you, made me feel paranoid and like my roommate wants me to be fat., 1), (older folks in the neighborhood who are bored, 1), (foto/gif where someone is very thin, 1)]                                                                                                                                                                                  [(None, 12), (stressful and traumatic events in last autumn, 1), (roommate saying olive oil is healthy calories, 1), (mother commenting on weight gain, 1), (my biological mother, 1)]\n",
       "5                                                                                          [(None, 16), (wanting to be skinny, 1), (finding old clothes that are now too big, 1), (hate being anything other than a Small, ever, 1), (being terrible at ED life and gaining most of the weight back, 1)]                                                                                                                                                           [(None, 16), (put on bikini, 1), (gaining weight, 1), (existing clothes don‚Äôt fit, 1), (sizing chart showed true weight, 1)]                                                                                                                                                                                       [(None, 14), (put on a bikini, 1), (my disordered mind is like ‚Äúyou‚Äôre fat and he knows‚Äù, 1), (COVID isolation and lifestyle change, 1), (need to purchase new clothes, 1)]\n",
       "6                                                                                                                                                       [(None, 11), (mom‚Äôs text, 1), (gender dysphoria, 1), (financial concerns, 1), (the termination of outpatient dietician for non-compliance, 1)]                                                              [(None, 11), (mom mentioned sending to residential program, 1), (slow work day, 1), (Termination of new outpatient dietician after 2 sessions, 1), (Trouble getting a counselor, due to insurance and financial issues, 1)]                                                                                                                                                                                                                          [(None, 14), (seeing text from mom, 1), (Parents asking her to cut her work hours and not stay home, 1), (job hunt, 1), (rejection emails, 1)]\n",
       "7                                                        [(None, 18), (relapse into ED, 1), (my dietician doesn‚Äôt believe I could possibly have extreme hunger as I am not underweight, 1), (family history of breast cancer and possible ovarian cancer, 1), (hasn‚Äôt had period since February, 1)]                                                              [(None, 18), (relapse into my ED, 1), (my dietician doesn‚Äôt believe I could possibly have extreme hunger as I am not underweight, 1), (missing menstrual period since February, 1), (family history of breast cancer, 1)]  [(None, 18), (blood circulation problems, 1), (my dietician doesn‚Äôt believe I could possibly have extreme hunger as I am not underweight and she‚Äôs honestly scared me into thinking that I have now have binge eating disorder, 1), (getting an ultrasound due to family history of breast cancer, 1), (haven‚Äôt had my period since the first week February, 1)]\n",
       "8                                                                                                                                                                                       [(None, 16), (stressful situations, 2), (watching 1000lbs sisters, 1), (losing all friends, 1), (move to UK, 1)]                                                                                                         [(None, 17), (need for control, 1), (photo on Instagram for birthday, 1), (feeling lonely and unable to make new friends, 1), (moving to a new continent and losing friends, 1)]                                                                                            [(None, 17), (friends suggesting medication for depression when she does not have depression, 1), (Photo posted on Instagram for her birthday, 1), (being unable to adapt to new environment or make new friends, 1), (moving to a new continent and losing all friends, 1)]\n",
       "9                                                                   [(None, 12), (gained weight despite eating more, 1), (thinking about a particular chocolate in the fridge, 1), (reduced social pressure and increased control over food, 1), (overwhelming urge to know the number on the scale, 1)]                                                                                        [(None, 12), (gaining weight despite calorie increase, 1), (thinking about specific food, 1), (overwhelming urge to know the number on the scale, 1), (fluctuations in weight during the day, 1)]                                                                                                                                                                [(None, 13), (weight gain despite calorie restriction, 1), (tracking calories for a nutrition class, 1), (comparison with brother’s BMI, 1), (brother mentioning writer’s eating in front of family, 1)]"
      ]
     },
     "execution_count": 17,
     "metadata": {},
     "output_type": "execute_result"
    }
   ],
   "source": [
    "def most_common(x):\n",
    "    top_5 = x.explode().value_counts(dropna=False)[:5]\n",
    "    return [(x, c) for x, c in zip(top_5.index, top_5)]\n",
    "trigger_extraction_result.groupby([\"most_probable_topic\"]).agg({\n",
    "    \"trigger_0\": [most_common],\n",
    "    \"trigger_1\": [most_common],\n",
    "    \"trigger_2\": [most_common],\n",
    "})"
   ]
  },
  {
   "cell_type": "markdown",
   "id": "9c4f8bac-75b3-4e40-b85c-c3042b89e787",
   "metadata": {},
   "source": [
    "# Evaluation of trigger extraction performance"
   ]
  },
  {
   "cell_type": "code",
   "execution_count": 24,
   "id": "d869e699-19bf-459c-85fb-15d3bc3185ee",
   "metadata": {
    "tags": []
   },
   "outputs": [
    {
     "name": "stdout",
     "output_type": "stream",
     "text": [
      "yes    171\n",
      "no      45\n",
      "Name: has_trigger, dtype: int64\n"
     ]
    },
    {
     "data": {
      "text/html": [
       "<div>\n",
       "<style scoped>\n",
       "    .dataframe tbody tr th:only-of-type {\n",
       "        vertical-align: middle;\n",
       "    }\n",
       "\n",
       "    .dataframe tbody tr th {\n",
       "        vertical-align: top;\n",
       "    }\n",
       "\n",
       "    .dataframe thead th {\n",
       "        text-align: right;\n",
       "    }\n",
       "</style>\n",
       "<table border=\"1\" class=\"dataframe\">\n",
       "  <thead>\n",
       "    <tr style=\"text-align: right;\">\n",
       "      <th></th>\n",
       "      <th>subreddit</th>\n",
       "      <th>selftext</th>\n",
       "      <th>id</th>\n",
       "      <th>assigned to</th>\n",
       "      <th>has_trigger</th>\n",
       "      <th>trigger_1</th>\n",
       "      <th>trigger_1_type</th>\n",
       "      <th>trigger_2</th>\n",
       "      <th>trigger_2_type</th>\n",
       "      <th>notes</th>\n",
       "      <th>has_trigger_label</th>\n",
       "      <th>grouped_trigger_label</th>\n",
       "      <th>grouped_trigger_type_label</th>\n",
       "    </tr>\n",
       "  </thead>\n",
       "  <tbody>\n",
       "    <tr>\n",
       "      <th>0</th>\n",
       "      <td>EDAnonymous</td>\n",
       "      <td>It‚Äö√Ñ√¥s breaking me apart to read through these posts. I‚Äö√Ñ√¥ve mostly recovered and I‚Äö√Ñ√¥m WR, but reading what I used to put myself through was so eye opening and it‚Äö√Ñ√¥s scary to see how many reblogs/likes they would get. I contribute to a horrible community full of self destruction and I can‚Äö√Ñ√¥t help but feel a little triggered into this weird, like, feeling I need to prove myself again? For example I made a post that was something like &amp;gt;! Blah blah HORRIFICALLY UNHEALTHY THING TO DO, if I eat __ calories per day I‚Äö√Ñ√¥ll reach my GW in 24 days !&amp;lt; and I immediately thought, omg, I can? Maybe I could do better? And I don‚Äö√Ñ√¥t know what‚Äö√Ñ√¥s wrong with me! I haven‚Äö√Ñ√¥t relapsed in a long time and I don‚Äö√Ñ√¥t want to, but the feeling of guilt and seeing these posts is making me all confused and competitive and self depreciated. Ugh.</td>\n",
       "      <td>10eemqs</td>\n",
       "      <td>anthony</td>\n",
       "      <td>yes</td>\n",
       "      <td>Reading posts from reddit</td>\n",
       "      <td>external</td>\n",
       "      <td></td>\n",
       "      <td></td>\n",
       "      <td></td>\n",
       "      <td>1</td>\n",
       "      <td>Reading posts from reddit</td>\n",
       "      <td>external</td>\n",
       "    </tr>\n",
       "    <tr>\n",
       "      <th>1</th>\n",
       "      <td>EDAnonymous</td>\n",
       "      <td>I have BED and when I start restricting and my face is the first place people will notice. I have have naturally high and prominent cheekbones, which are \"trendy\" right now, and my mom and friends won't stop telling how \"pretty\" I look these days.\\n \\n Of couser thats nice to hear, the jokes about Bella hadid cheeks put my God complex through the roof!!\\n But at the end of the day, I'll come back home, read another article on how \"heroin chic\" is back, write critiques about about how goddam harmful this thinking is to young women everywhere, while I skip yet again another meal. I am a hypocrite. And feel like I have no control over my own brain.\\n \\n I study social comunnications and sociology but can't help but hate myself for falling for the very phenomenomena I study. I know it's wrong, I know it's harmful, my body is giving me signs its starting to giving up on me these days.\\n \\n I feel guilty.</td>\n",
       "      <td>10ee8p5</td>\n",
       "      <td>anthony</td>\n",
       "      <td>yes</td>\n",
       "      <td>Getting compliments when they start restricting</td>\n",
       "      <td>external</td>\n",
       "      <td>Feeling hypocritical because they study these problems</td>\n",
       "      <td>internal</td>\n",
       "      <td></td>\n",
       "      <td>1</td>\n",
       "      <td>Getting compliments when they start restricting, Feeling hypocritical because they study these problems</td>\n",
       "      <td>external, internal</td>\n",
       "    </tr>\n",
       "    <tr>\n",
       "      <th>2</th>\n",
       "      <td>EDAnonymous</td>\n",
       "      <td>As a kid I always wanted to be taller. I figured I could eat more and weigh more but be slimmer. \\n Now I want to be shorter. I would be happy being a normal weight if it was low bc I'm so small. Idk what's wrong with me but for years I've just wanted to look like a child. \\n \\n But, I do think I stunted my height a bit. With calculations I predicted I should be taller than my mum. She's quite tall but I'm just average height. \\n \\n Not to mention my boyfriend is only a little bit taller than me, but I wish there was more of a difference because I was smaller.</td>\n",
       "      <td>10e4an6</td>\n",
       "      <td>anthony</td>\n",
       "      <td>yes</td>\n",
       "      <td>Unhappy with weight, wishes they were shorter</td>\n",
       "      <td>internal</td>\n",
       "      <td></td>\n",
       "      <td></td>\n",
       "      <td></td>\n",
       "      <td>1</td>\n",
       "      <td>Unhappy with weight, wishes they were shorter</td>\n",
       "      <td>internal</td>\n",
       "    </tr>\n",
       "    <tr>\n",
       "      <th>3</th>\n",
       "      <td>EDAnonymous</td>\n",
       "      <td>Im so scared omg, i lie to my doctor saying im in recovery, while im obviously not. I lie because its the only way i'll ever be able to get adhd meds and i kinda have no choice... Next week my gp wants to do blood tests on me to \"prove\" that im in recovery, is there any way i could fake this or somehow make it seem that i eat normally? \\n \\n \\n I TRULY have no choice, these adhd meds are so vital to my future that if i can't get them i'll have to start doing drugs instead to self medicate, so being found out is not an option\\n \\n Im at an obese bmi, i take multivitamins twice a day and iron supplements, nothing about me scream restrictive ED, Im just an idiot for being honest with my doctors...</td>\n",
       "      <td>10do1eh</td>\n",
       "      <td>anthony</td>\n",
       "      <td>no</td>\n",
       "      <td></td>\n",
       "      <td></td>\n",
       "      <td></td>\n",
       "      <td></td>\n",
       "      <td></td>\n",
       "      <td>0</td>\n",
       "      <td></td>\n",
       "      <td></td>\n",
       "    </tr>\n",
       "    <tr>\n",
       "      <th>4</th>\n",
       "      <td>EDAnonymous</td>\n",
       "      <td>So when I first started really leaning into my eating disorder I was around 230 pounds. I've lost about 55 pounds since then, and even now I already have so much loose skin, particularly around my stomach. I just want to sob. I'm trying not to be so hard on myself since I'm in ED recovery, I'm trying to be neutral about my body, but it's so fucking hard.\\n \\n My mom doesn't know about my ED, and as her way of comforting, she said that once I \"hit a weight I'm happy with\" I can ask about skin removal. In her defense, she did lose 200 pounds (in a healthy way) and the insurance paid for her excess skin removal since it was causing her rashes. I just hate looking at myself so fucking much. I'm wearing shape wear just so my pants look semi okay. I hate this I hate this so much.</td>\n",
       "      <td>10dig38</td>\n",
       "      <td>anthony</td>\n",
       "      <td>yes</td>\n",
       "      <td>Having loose skin because of weight loss</td>\n",
       "      <td>internal</td>\n",
       "      <td></td>\n",
       "      <td></td>\n",
       "      <td></td>\n",
       "      <td>1</td>\n",
       "      <td>Having loose skin because of weight loss</td>\n",
       "      <td>internal</td>\n",
       "    </tr>\n",
       "  </tbody>\n",
       "</table>\n",
       "</div>"
      ],
      "text/plain": [
       "     subreddit                                                                                                                                                                                                                                                                                                                                                                                                                                                                                                                                                                                                                                                                                                                                                                                                                                                                                                                                          selftext       id assigned to has_trigger  \\\n",
       "0  EDAnonymous                                   It‚Äö√Ñ√¥s breaking me apart to read through these posts. I‚Äö√Ñ√¥ve mostly recovered and I‚Äö√Ñ√¥m WR, but reading what I used to put myself through was so eye opening and it‚Äö√Ñ√¥s scary to see how many reblogs/likes they would get. I contribute to a horrible community full of self destruction and I can‚Äö√Ñ√¥t help but feel a little triggered into this weird, like, feeling I need to prove myself again? For example I made a post that was something like &gt;! Blah blah HORRIFICALLY UNHEALTHY THING TO DO, if I eat __ calories per day I‚Äö√Ñ√¥ll reach my GW in 24 days !&lt; and I immediately thought, omg, I can? Maybe I could do better? And I don‚Äö√Ñ√¥t know what‚Äö√Ñ√¥s wrong with me! I haven‚Äö√Ñ√¥t relapsed in a long time and I don‚Äö√Ñ√¥t want to, but the feeling of guilt and seeing these posts is making me all confused and competitive and self depreciated. Ugh.  10eemqs     anthony         yes   \n",
       "1  EDAnonymous  I have BED and when I start restricting and my face is the first place people will notice. I have have naturally high and prominent cheekbones, which are \"trendy\" right now, and my mom and friends won't stop telling how \"pretty\" I look these days.\\n \\n Of couser thats nice to hear, the jokes about Bella hadid cheeks put my God complex through the roof!!\\n But at the end of the day, I'll come back home, read another article on how \"heroin chic\" is back, write critiques about about how goddam harmful this thinking is to young women everywhere, while I skip yet again another meal. I am a hypocrite. And feel like I have no control over my own brain.\\n \\n I study social comunnications and sociology but can't help but hate myself for falling for the very phenomenomena I study. I know it's wrong, I know it's harmful, my body is giving me signs its starting to giving up on me these days.\\n \\n I feel guilty.  10ee8p5     anthony         yes   \n",
       "2  EDAnonymous                                                                                                                                                                                                                                                                                                                                                            As a kid I always wanted to be taller. I figured I could eat more and weigh more but be slimmer. \\n Now I want to be shorter. I would be happy being a normal weight if it was low bc I'm so small. Idk what's wrong with me but for years I've just wanted to look like a child. \\n \\n But, I do think I stunted my height a bit. With calculations I predicted I should be taller than my mum. She's quite tall but I'm just average height. \\n \\n Not to mention my boyfriend is only a little bit taller than me, but I wish there was more of a difference because I was smaller.  10e4an6     anthony         yes   \n",
       "3  EDAnonymous                                                                                                                                                                                                                   Im so scared omg, i lie to my doctor saying im in recovery, while im obviously not. I lie because its the only way i'll ever be able to get adhd meds and i kinda have no choice... Next week my gp wants to do blood tests on me to \"prove\" that im in recovery, is there any way i could fake this or somehow make it seem that i eat normally? \\n \\n \\n I TRULY have no choice, these adhd meds are so vital to my future that if i can't get them i'll have to start doing drugs instead to self medicate, so being found out is not an option\\n \\n Im at an obese bmi, i take multivitamins twice a day and iron supplements, nothing about me scream restrictive ED, Im just an idiot for being honest with my doctors...  10do1eh     anthony          no   \n",
       "4  EDAnonymous                                                                                                                                  So when I first started really leaning into my eating disorder I was around 230 pounds. I've lost about 55 pounds since then, and even now I already have so much loose skin, particularly around my stomach. I just want to sob. I'm trying not to be so hard on myself since I'm in ED recovery, I'm trying to be neutral about my body, but it's so fucking hard.\\n \\n My mom doesn't know about my ED, and as her way of comforting, she said that once I \"hit a weight I'm happy with\" I can ask about skin removal. In her defense, she did lose 200 pounds (in a healthy way) and the insurance paid for her excess skin removal since it was causing her rashes. I just hate looking at myself so fucking much. I'm wearing shape wear just so my pants look semi okay. I hate this I hate this so much.  10dig38     anthony         yes   \n",
       "\n",
       "                                         trigger_1 trigger_1_type                                               trigger_2 trigger_2_type notes  has_trigger_label                                                                                    grouped_trigger_label grouped_trigger_type_label  \n",
       "0                        Reading posts from reddit       external                                                                                               1                                                                                Reading posts from reddit                   external  \n",
       "1  Getting compliments when they start restricting       external  Feeling hypocritical because they study these problems       internal                        1  Getting compliments when they start restricting, Feeling hypocritical because they study these problems         external, internal  \n",
       "2    Unhappy with weight, wishes they were shorter       internal                                                                                               1                                                            Unhappy with weight, wishes they were shorter                   internal  \n",
       "3                                                                                                                                                               0                                                                                                                                      \n",
       "4         Having loose skin because of weight loss       internal                                                                                               1                                                                 Having loose skin because of weight loss                   internal  "
      ]
     },
     "execution_count": 24,
     "metadata": {},
     "output_type": "execute_result"
    }
   ],
   "source": [
    "ground_truth = pd.read_csv(\"./trigger_extraction_label.csv\", keep_default_na=False)\n",
    "ground_truth[\"has_trigger_label\"] = ground_truth[\"has_trigger\"].apply(lambda x: 1 if x == \"yes\" else 0)\n",
    "print(ground_truth[\"has_trigger\"].value_counts())\n",
    "ground_truth[\"grouped_trigger_label\"] = ground_truth.apply(lambda x: \", \".join([x[\"trigger_1\"], x[\"trigger_2\"]]) if x[\"trigger_2\"] != \"\" else x[\"trigger_1\"], axis=1)\n",
    "ground_truth[\"grouped_trigger_type_label\"] = ground_truth.apply(lambda x: \", \".join([x[\"trigger_1_type\"], x[\"trigger_2_type\"]]) if x[\"trigger_2_type\"] != \"\" else x[\"trigger_1_type\"], axis=1)\n",
    "ground_truth.head()"
   ]
  },
  {
   "cell_type": "code",
   "execution_count": 25,
   "id": "308e4474-51ed-443d-87cf-6e78958d4da0",
   "metadata": {
    "tags": []
   },
   "outputs": [
    {
     "name": "stdout",
     "output_type": "stream",
     "text": [
      "216\n"
     ]
    },
    {
     "data": {
      "text/plain": [
       "Index(['Unnamed: 0', 'selected_for_experiment', 'subreddit', 'selftext', 'author_fullname', 'title', 'score', 'link_flair_css_class', 'link_flair_text', 'author_flair_type', 'over_18', 'author_flair_text', 'subreddit_id', 'id', 'is_self', 'author', 'author_flair_css_class', 'permalink', 'url', 'created_utc', 'num_words', 'narrative_positive', 'narrative_negative', 'narrative_uncertain', 'narrative_label', 'predicted_narrative_label', 'most_probable_topic', '1', 'duration_0', 'has_trigger_0', 'trigger_0', 'gender_0', 'age_0', 'trigger_type_0', 'perspective_0', 'duration_1', 'has_trigger_1', 'trigger_1', 'gender_1', 'age_1', 'trigger_type_1', 'perspective_1', 'duration_2', 'has_trigger_2', 'trigger_2', 'gender_2', 'age_2', 'trigger_type_2', 'perspective_2', 'index', 'selected_for_example'], dtype='object')"
      ]
     },
     "execution_count": 25,
     "metadata": {},
     "output_type": "execute_result"
    }
   ],
   "source": [
    "zero_shot = pd.read_csv(\"./results/experiment_trigger_extraction_result_500_from_topic_model_zero_shot.csv\", keep_default_na=False)\n",
    "narrative_df = pd.read_csv(\"../narrative_detection/narrative_post_with_topic_model_20.csv\")\n",
    "narrative_df = narrative_df[narrative_df[\"selected_for_experiment\"] == 1]\n",
    "zero_shot = zero_shot.merge(narrative_df[\"id\"], on=\"id\", how=\"right\")\n",
    "print(len(zero_shot))\n",
    "zero_shot.columns"
   ]
  },
  {
   "cell_type": "code",
   "execution_count": 26,
   "id": "5baf49de-95a8-46f4-af44-fe458b8a00f4",
   "metadata": {
    "tags": []
   },
   "outputs": [
    {
     "data": {
      "text/plain": [
       "yes    125\n",
       "no      87\n",
       "         4\n",
       "Name: has_trigger_2, dtype: int64"
      ]
     },
     "execution_count": 26,
     "metadata": {},
     "output_type": "execute_result"
    }
   ],
   "source": [
    "zero_shot[\"has_trigger_2\"].value_counts(dropna=False)"
   ]
  },
  {
   "cell_type": "code",
   "execution_count": 27,
   "id": "ca956405-2590-4e3d-a649-87b1f6474371",
   "metadata": {
    "tags": []
   },
   "outputs": [
    {
     "data": {
      "text/plain": [
       "1    142\n",
       "0     74\n",
       "Name: has_trigger_predicted, dtype: int64"
      ]
     },
     "execution_count": 27,
     "metadata": {},
     "output_type": "execute_result"
    }
   ],
   "source": [
    "zero_shot[\"has_trigger_predicted\"] = zero_shot.apply(lambda x: 1 if \"yes\" in [x[\"has_trigger_0\"].lower(), \n",
    "                                                                       x[\"has_trigger_1\"].lower(), \n",
    "                                                                       x[\"has_trigger_2\"].lower()\n",
    "                                                                      ] else 0, axis=1)\n",
    "zero_shot[\"has_trigger_predicted\"].value_counts()\n",
    "                                                                       "
   ]
  },
  {
   "cell_type": "code",
   "execution_count": 28,
   "id": "1fd0634c-3d69-4fb3-93d5-c2ac6fba8822",
   "metadata": {},
   "outputs": [
    {
     "name": "stdout",
     "output_type": "stream",
     "text": [
      "216\n",
      "no     113\n",
      "yes     98\n",
      "         5\n",
      "Name: has_trigger_0, dtype: int64\n",
      "no     110\n",
      "yes    101\n",
      "         5\n",
      "Name: has_trigger_1, dtype: int64\n",
      "no     112\n",
      "yes     98\n",
      "         6\n",
      "Name: has_trigger_2, dtype: int64\n"
     ]
    }
   ],
   "source": [
    "few_shot = pd.read_csv(\"./results/experiment_trigger_extraction_result_3_examples.csv\", keep_default_na=False)\n",
    "print(len(few_shot))\n",
    "for i in range(3):\n",
    "    print(few_shot[f\"has_trigger_{i}\"].value_counts(dropna=False))"
   ]
  },
  {
   "cell_type": "code",
   "execution_count": 29,
   "id": "8dcb7777-f735-4ae6-b038-c59c58f1b649",
   "metadata": {
    "tags": []
   },
   "outputs": [
    {
     "data": {
      "text/plain": [
       "1    119\n",
       "0     97\n",
       "Name: has_trigger_predicted, dtype: int64"
      ]
     },
     "execution_count": 29,
     "metadata": {},
     "output_type": "execute_result"
    }
   ],
   "source": [
    "few_shot[\"has_trigger_predicted\"] = few_shot.apply(lambda x: 1 if \"yes\" in [x[\"has_trigger_0\"].lower(), \n",
    "                                                                       x[\"has_trigger_1\"].lower(), \n",
    "                                                                       x[\"has_trigger_2\"].lower()\n",
    "                                                                      ] else 0, axis=1)\n",
    "few_shot[\"has_trigger_predicted\"].value_counts()"
   ]
  },
  {
   "cell_type": "code",
   "execution_count": 30,
   "id": "4914c5f9-f47e-4eb0-98dd-a62288b3e2d0",
   "metadata": {
    "tags": []
   },
   "outputs": [
    {
     "name": "stdout",
     "output_type": "stream",
     "text": [
      "216\n",
      "yes    112\n",
      "no      99\n",
      "         5\n",
      "Name: has_trigger_0, dtype: int64\n",
      "yes    118\n",
      "no      95\n",
      "         3\n",
      "Name: has_trigger_1, dtype: int64\n",
      "yes    119\n",
      "no      94\n",
      "         3\n",
      "Name: has_trigger_2, dtype: int64\n"
     ]
    },
    {
     "data": {
      "text/plain": [
       "1    137\n",
       "0     79\n",
       "Name: has_trigger_predicted, dtype: int64"
      ]
     },
     "execution_count": 30,
     "metadata": {},
     "output_type": "execute_result"
    }
   ],
   "source": [
    "few_shot_include_multiple = pd.read_csv(\"./results/experiment_trigger_extraction_result_3_examples_include_multiple_trigger.csv\", keep_default_na=False)\n",
    "print(len(few_shot_include_multiple))\n",
    "for i in range(3):\n",
    "    print(few_shot_include_multiple[f\"has_trigger_{i}\"].value_counts(dropna=False))\n",
    "\n",
    "few_shot_include_multiple[\"has_trigger_predicted\"] = few_shot_include_multiple.apply(lambda x: 1 if \"yes\" in [x[\"has_trigger_0\"].lower(), \n",
    "                                                                       x[\"has_trigger_1\"].lower(), \n",
    "                                                                       x[\"has_trigger_2\"].lower()\n",
    "                                                                      ] else 0, axis=1)\n",
    "few_shot_include_multiple[\"has_trigger_predicted\"].value_counts()"
   ]
  },
  {
   "cell_type": "code",
   "execution_count": 31,
   "id": "62766d54-607b-444a-a2f1-f598846b91e2",
   "metadata": {
    "tags": []
   },
   "outputs": [
    {
     "name": "stdout",
     "output_type": "stream",
     "text": [
      "216\n",
      "no     112\n",
      "yes    101\n",
      "         3\n",
      "Name: has_trigger_0, dtype: int64\n",
      "yes    111\n",
      "no     100\n",
      "         5\n",
      "Name: has_trigger_1, dtype: int64\n",
      "yes    106\n",
      "no     105\n",
      "         5\n",
      "Name: has_trigger_2, dtype: int64\n"
     ]
    },
    {
     "data": {
      "text/plain": [
       "1    126\n",
       "0     90\n",
       "Name: has_trigger_predicted, dtype: int64"
      ]
     },
     "execution_count": 31,
     "metadata": {},
     "output_type": "execute_result"
    }
   ],
   "source": [
    "few_shot_1_include_multiple = pd.read_csv(\"./results/experiment_trigger_extraction_result_1_example_include_multiple_trigger.csv\", keep_default_na=False)\n",
    "print(len(few_shot_1_include_multiple))\n",
    "for i in range(3):\n",
    "    print(few_shot_1_include_multiple[f\"has_trigger_{i}\"].value_counts(dropna=False))\n",
    "few_shot_1_include_multiple[\"has_trigger_predicted\"] = few_shot_1_include_multiple.apply(lambda x: 1 if \"yes\" in [x[\"has_trigger_0\"].lower(), \n",
    "                                                                       x[\"has_trigger_1\"].lower(), \n",
    "                                                                       x[\"has_trigger_2\"].lower()\n",
    "                                                                      ] else 0, axis=1)\n",
    "few_shot_1_include_multiple[\"has_trigger_predicted\"].value_counts()"
   ]
  },
  {
   "cell_type": "markdown",
   "id": "e6a067d7-ac9e-4c77-94bf-08a6ba408136",
   "metadata": {},
   "source": [
    "## Check extraction rate\n"
   ]
  },
  {
   "cell_type": "code",
   "execution_count": 3,
   "id": "185fc3f5-91ba-47cf-939f-629418ca6f84",
   "metadata": {
    "tags": []
   },
   "outputs": [
    {
     "ename": "NameError",
     "evalue": "name 'zero_shot' is not defined",
     "output_type": "error",
     "traceback": [
      "\u001b[0;31m---------------------------------------------------------------------------\u001b[0m",
      "\u001b[0;31mNameError\u001b[0m                                 Traceback (most recent call last)",
      "Cell \u001b[0;32mIn[3], line 4\u001b[0m\n\u001b[1;32m      1\u001b[0m \u001b[38;5;28;01mfrom\u001b[39;00m \u001b[38;5;21;01mfunctools\u001b[39;00m \u001b[38;5;28;01mimport\u001b[39;00m reduce\n\u001b[1;32m      2\u001b[0m columns_of_interest \u001b[38;5;241m=\u001b[39m [\u001b[38;5;124m\"\u001b[39m\u001b[38;5;124mid\u001b[39m\u001b[38;5;124m\"\u001b[39m, \u001b[38;5;124m\"\u001b[39m\u001b[38;5;124mhas_trigger_predicted\u001b[39m\u001b[38;5;124m\"\u001b[39m, \u001b[38;5;124m\"\u001b[39m\u001b[38;5;124mtrigger_0\u001b[39m\u001b[38;5;124m\"\u001b[39m, \u001b[38;5;124m\"\u001b[39m\u001b[38;5;124mtrigger_1\u001b[39m\u001b[38;5;124m\"\u001b[39m, \u001b[38;5;124m\"\u001b[39m\u001b[38;5;124mtrigger_2\u001b[39m\u001b[38;5;124m\"\u001b[39m]\n\u001b[1;32m      3\u001b[0m all_methods \u001b[38;5;241m=\u001b[39m {\n\u001b[0;32m----> 4\u001b[0m     \u001b[38;5;124m\"\u001b[39m\u001b[38;5;124mzero_shot\u001b[39m\u001b[38;5;124m\"\u001b[39m: \u001b[43mzero_shot\u001b[49m[columns_of_interest],\n\u001b[1;32m      5\u001b[0m     \u001b[38;5;124m\"\u001b[39m\u001b[38;5;124mfew_shot_3\u001b[39m\u001b[38;5;124m\"\u001b[39m: few_shot[columns_of_interest],\n\u001b[1;32m      6\u001b[0m     \u001b[38;5;124m\"\u001b[39m\u001b[38;5;124mfew_shot_3_include_multiple\u001b[39m\u001b[38;5;124m\"\u001b[39m: few_shot_include_multiple[columns_of_interest],\n\u001b[1;32m      7\u001b[0m     \u001b[38;5;124m\"\u001b[39m\u001b[38;5;124mfew_shot_1_include_multiple\u001b[39m\u001b[38;5;124m\"\u001b[39m: few_shot_1_include_multiple[columns_of_interest]\n\u001b[1;32m      8\u001b[0m }\n\u001b[1;32m      9\u001b[0m \u001b[38;5;28;01mfor\u001b[39;00m key, df \u001b[38;5;129;01min\u001b[39;00m all_methods\u001b[38;5;241m.\u001b[39mitems():\n\u001b[1;32m     10\u001b[0m     df\u001b[38;5;241m.\u001b[39mcolumns \u001b[38;5;241m=\u001b[39m [\u001b[38;5;124m\"\u001b[39m\u001b[38;5;124mid\u001b[39m\u001b[38;5;124m\"\u001b[39m, \u001b[38;5;124mf\u001b[39m\u001b[38;5;124m\"\u001b[39m\u001b[38;5;124mhas_trigger_predicted_\u001b[39m\u001b[38;5;132;01m{\u001b[39;00mkey\u001b[38;5;132;01m}\u001b[39;00m\u001b[38;5;124m\"\u001b[39m, \u001b[38;5;124mf\u001b[39m\u001b[38;5;124m\"\u001b[39m\u001b[38;5;124mtrigger_0_\u001b[39m\u001b[38;5;132;01m{\u001b[39;00mkey\u001b[38;5;132;01m}\u001b[39;00m\u001b[38;5;124m\"\u001b[39m, \u001b[38;5;124mf\u001b[39m\u001b[38;5;124m\"\u001b[39m\u001b[38;5;124mtrigger_1_\u001b[39m\u001b[38;5;132;01m{\u001b[39;00mkey\u001b[38;5;132;01m}\u001b[39;00m\u001b[38;5;124m\"\u001b[39m, \u001b[38;5;124mf\u001b[39m\u001b[38;5;124m\"\u001b[39m\u001b[38;5;124mtrigger_2_\u001b[39m\u001b[38;5;132;01m{\u001b[39;00mkey\u001b[38;5;132;01m}\u001b[39;00m\u001b[38;5;124m\"\u001b[39m]\n",
      "\u001b[0;31mNameError\u001b[0m: name 'zero_shot' is not defined"
     ]
    }
   ],
   "source": [
    "from functools import reduce\n",
    "columns_of_interest = [\"id\", \"has_trigger_predicted\", \"trigger_0\", \"trigger_1\", \"trigger_2\"]\n",
    "all_methods = {\n",
    "    \"zero_shot\": zero_shot[columns_of_interest],\n",
    "    \"few_shot_3\": few_shot[columns_of_interest],\n",
    "    \"few_shot_3_include_multiple\": few_shot_include_multiple[columns_of_interest],\n",
    "    \"few_shot_1_include_multiple\": few_shot_1_include_multiple[columns_of_interest]\n",
    "}\n",
    "for key, df in all_methods.items():\n",
    "    df.columns = [\"id\", f\"has_trigger_predicted_{key}\", f\"trigger_0_{key}\", f\"trigger_1_{key}\", f\"trigger_2_{key}\"]\n",
    "    print(df.columns)\n",
    "\n",
    "all_results = reduce(lambda x, y: x.merge(y,on=\"id\"), all_methods.values())\n",
    "all_results = ground_truth[[\"id\", \"selftext\", \"has_trigger_label\", \"grouped_trigger_label\", \"grouped_trigger_type_label\"]].merge(all_results, on=\"id\")\n",
    "has_trigger_columns = [f\"has_trigger_predicted_{key}\" for key in all_methods.keys()]\n",
    "all_results[\"trigger_score\"] = all_results.apply(lambda x: sum(x[has_trigger_columns]), axis=1)\n",
    "all_results[\"trigger_score\"].value_counts()"
   ]
  },
  {
   "cell_type": "code",
   "execution_count": 33,
   "id": "b05f66c2-26dc-4805-a35e-65b8b88e0896",
   "metadata": {
    "tags": []
   },
   "outputs": [],
   "source": [
    "all_results.to_csv(\"results/trigger_extraction_experiment_results.csv\", index=False)"
   ]
  },
  {
   "cell_type": "code",
   "execution_count": 13,
   "id": "217f066a-e877-4751-a004-0f4e6aaa097a",
   "metadata": {
    "tags": []
   },
   "outputs": [],
   "source": [
    "all_results = pd.read_csv(\"results/trigger_extraction_experiment_results.csv\")"
   ]
  },
  {
   "cell_type": "code",
   "execution_count": 16,
   "id": "d87e1eae-3cdf-40d2-bc38-ff5a2bb8d4fb",
   "metadata": {
    "tags": []
   },
   "outputs": [
    {
     "name": "stdout",
     "output_type": "stream",
     "text": [
      "zero_shot: precision = 0.8380281690140845, recall = 0.695906432748538, f1 = 0.7603833865814696\n",
      "few_shot_3: precision = 0.8487394957983193, recall = 0.5906432748538012, f1 = 0.6965517241379311\n",
      "few_shot_3_include_multiple: precision = 0.8467153284671532, recall = 0.6783625730994152, f1 = 0.7532467532467532\n",
      "few_shot_1_include_multiple: precision = 0.8650793650793651, recall = 0.6374269005847953, f1 = 0.734006734006734\n"
     ]
    },
    {
     "data": {
      "image/png": "[encoded data removed]",
      "text/plain": [
       "<Figure size 640x480 with 1 Axes>"
      ]
     },
     "metadata": {},
     "output_type": "display_data"
    }
   ],
   "source": [
    "# Recall and Precision\n",
    "from sklearn.metrics import precision_recall_fscore_support\n",
    "\n",
    "trigger_extraction_rate_performance = {\n",
    "    \"precision\": [],\n",
    "    \"recall\": [],\n",
    "    \"f1\": []\n",
    "}\n",
    "\n",
    "for method in all_methods:\n",
    "    p, r, f, _ = precision_recall_fscore_support(all_results[\"has_trigger_label\"], all_results[f\"has_trigger_predicted_{method}\"], average=\"binary\")\n",
    "    print(f\"{method}: precision = {p}, recall = {r}, f1 = {f}\")\n",
    "    trigger_extraction_rate_performance[\"precision\"].append(p)\n",
    "    trigger_extraction_rate_performance[\"recall\"].append(r)\n",
    "    trigger_extraction_rate_performance[\"f1\"].append(f)\n",
    "\n",
    "\n",
    "import matplotlib.pyplot as plt\n",
    "fig, ax = plt.subplots()\n",
    "all_methods_labels = [\"Zero Shot\", \"Few Shot (3, not inlude multiple triggers)\", \"Few Shot (3, include multiple triggers)\", \"Few Shot (1, include multiple triggers)\"]\n",
    "for metric, value in trigger_extraction_rate_performance.items():\n",
    "    ax.plot(all_methods_labels, value, label = metric)\n",
    "plt.grid()\n",
    "plt.xticks(fontsize=14)\n",
    "plt.yticks(fontsize=14)\n",
    "plt.legend(bbox_to_anchor=(1.05, 1.0), loc='upper left')\n",
    "plt.tight_layout()\n",
    "plt.setp(ax.get_xticklabels(), rotation=45, horizontalalignment='right')\n",
    "plt.savefig(\"Trigger extraction rate comparison.pdf\", bbox_inches='tight')"
   ]
  },
  {
   "cell_type": "code",
   "execution_count": 48,
   "id": "e7cc12ee-963e-4ff9-a416-2be4f5ccd59f",
   "metadata": {
    "tags": []
   },
   "outputs": [
    {
     "name": "stdout",
     "output_type": "stream",
     "text": [
      "Collecting nltk\n",
      "  Using cached nltk-3.8.1-py3-none-any.whl (1.5 MB)\n",
      "Requirement already satisfied: joblib in /Users/trangnguyen/miniforge3/envs/cs685-narrative-analysis/lib/python3.8/site-packages (from nltk) (1.2.0)\n",
      "Requirement already satisfied: tqdm in /Users/trangnguyen/miniforge3/envs/cs685-narrative-analysis/lib/python3.8/site-packages (from nltk) (4.65.0)\n",
      "Requirement already satisfied: regex>=2021.8.3 in /Users/trangnguyen/miniforge3/envs/cs685-narrative-analysis/lib/python3.8/site-packages (from nltk) (2023.3.23)\n",
      "Collecting click\n",
      "  Using cached click-8.1.3-py3-none-any.whl (96 kB)\n",
      "Installing collected packages: click, nltk\n",
      "Successfully installed click-8.1.3 nltk-3.8.1\n"
     ]
    }
   ],
   "source": [
    "!pip install nltk"
   ]
  },
  {
   "cell_type": "code",
   "execution_count": 77,
   "id": "d01a161a-22c0-4e79-aa06-2d0f3738cc94",
   "metadata": {
    "tags": []
   },
   "outputs": [
    {
     "name": "stdout",
     "output_type": "stream",
     "text": [
      "[['reading', 'posts', 'from', 'reddit']]\n",
      "[['reading', 'triggering', 'posts']]\n",
      "Individual 1-gram: 0.000000\n",
      "Individual 2-gram: 0.000000\n",
      "Individual 3-gram: 0.000000\n",
      "Individual 4-gram: 0.000000\n"
     ]
    }
   ],
   "source": [
    "from nltk.translate.bleu_score import sentence_bleu, corpus_bleu\n",
    "import string\n",
    "reference = [\"Reading posts from reddit\".lower().split(\" \")]\n",
    "candidate = [\"['reading triggering posts']\".lower().translate(str.maketrans('','',string.punctuation)).split(\" \")]\n",
    "print(reference)\n",
    "print(candidate)\n",
    "print('Individual 1-gram: %f' % corpus_bleu(reference, candidate, weights=(1, 0, 0, 0)))\n",
    "print('Individual 2-gram: %f' % corpus_bleu(reference, candidate, weights=(0, 1, 0, 0)))\n",
    "print('Individual 3-gram: %f' % corpus_bleu(reference, candidate, weights=(0, 0, 1, 0)))\n",
    "print('Individual 4-gram: %f' % corpus_bleu(reference, candidate, weights=(0, 0, 0, 1)))"
   ]
  },
  {
   "cell_type": "code",
   "execution_count": 73,
   "id": "ec0dbfdd-4673-4ff8-a3a9-a8a3a13091f7",
   "metadata": {
    "tags": []
   },
   "outputs": [
    {
     "name": "stdout",
     "output_type": "stream",
     "text": [
      "Collecting rouge\n",
      "  Downloading rouge-1.0.1-py3-none-any.whl (13 kB)\n",
      "Requirement already satisfied: six in /Users/trangnguyen/miniforge3/envs/cs685-narrative-analysis/lib/python3.8/site-packages (from rouge) (1.16.0)\n",
      "Installing collected packages: rouge\n",
      "Successfully installed rouge-1.0.1\n"
     ]
    }
   ],
   "source": [
    "!pip install rouge"
   ]
  },
  {
   "cell_type": "code",
   "execution_count": 80,
   "id": "4c2b9fd5-1e59-4933-9c12-07fc5fea290e",
   "metadata": {
    "tags": []
   },
   "outputs": [],
   "source": [
    "from rouge import Rouge\n",
    "ROUGE = Rouge()\n",
    "ROUGE.get_scores(\" \".join(candidate[0]), \" \".join(reference[0]))[0][\"rouge-1\"]\n",
    "def get_score(candidate: str, reference: str):\n",
    "    score = ROUGE.get_scores(candidate, reference)[0][\"rouge-1\"]\n",
    "    return score[\"r\"], score[\"p\"], score[\"f\"]\n",
    "    "
   ]
  },
  {
   "cell_type": "code",
   "execution_count": 84,
   "id": "3256e7e4-4510-43a8-928d-3ddf7334202d",
   "metadata": {
    "tags": []
   },
   "outputs": [],
   "source": [
    "from nltk.corpus import stopwords\n",
    "from nltk.tokenize import word_tokenize\n",
    "\n",
    "def process_response(x: str):\n",
    "    x = x.lower().translate(str.maketrans('','',string.punctuation))\n",
    "    return x\n",
    "    "
   ]
  },
  {
   "cell_type": "code",
   "execution_count": 136,
   "id": "8717f0b7-3789-4f1c-96f9-9b5ff4e4c4bc",
   "metadata": {
    "tags": []
   },
   "outputs": [
    {
     "name": "stdout",
     "output_type": "stream",
     "text": [
      "87\n",
      "Row 0\n",
      "Row 1\n",
      "Row 2\n",
      "Row 3\n",
      "Row 4\n",
      "Row 5\n",
      "Row 6\n",
      "Row 7\n",
      "Row 8\n",
      "Row 9\n",
      "Row 10\n",
      "Row 11\n",
      "Row 12\n",
      "Row 13\n",
      "Row 14\n",
      "Row 15\n",
      "Row 16\n",
      "Row 17\n",
      "Row 18\n",
      "Row 19\n",
      "Row 20\n",
      "Row 21\n",
      "Row 22\n",
      "Row 23\n",
      "Row 24\n",
      "Row 25\n",
      "Row 26\n",
      "Row 27\n",
      "Row 28\n",
      "Row 29\n",
      "Row 30\n",
      "Row 31\n",
      "Row 32\n",
      "Row 33\n",
      "Row 34\n",
      "Row 35\n",
      "Row 36\n",
      "Row 37\n",
      "Row 38\n",
      "Row 39\n",
      "Row 40\n",
      "Row 41\n",
      "Row 42\n",
      "Row 43\n",
      "Row 44\n",
      "Row 45\n",
      "Row 46\n",
      "Row 47\n",
      "Row 48\n",
      "Row 49\n",
      "Row 50\n",
      "Row 51\n",
      "Row 52\n",
      "Row 53\n",
      "Row 54\n",
      "Row 55\n",
      "Row 56\n",
      "Row 57\n",
      "Row 58\n",
      "Row 59\n",
      "Row 60\n",
      "Row 61\n",
      "Row 62\n",
      "Row 63\n",
      "Row 64\n",
      "Row 65\n",
      "Row 66\n",
      "Row 67\n",
      "Row 68\n",
      "Row 69\n",
      "Row 70\n",
      "Row 71\n",
      "Row 72\n",
      "Row 73\n",
      "Row 74\n",
      "Row 75\n",
      "Row 76\n",
      "Row 77\n",
      "Row 78\n",
      "Row 79\n",
      "Row 80\n",
      "Row 81\n",
      "Row 82\n",
      "Row 83\n",
      "Row 84\n",
      "Row 85\n",
      "Row 86\n",
      "606\n"
     ]
    },
    {
     "name": "stderr",
     "output_type": "stream",
     "text": [
      "/var/folders/fj/7t9sn4pn7t993nnng_9lyxtr0000gn/T/ipykernel_70758/931061301.py:4: SettingWithCopyWarning: \n",
      "A value is trying to be set on a copy of a slice from a DataFrame.\n",
      "Try using .loc[row_indexer,col_indexer] = value instead\n",
      "\n",
      "See the caveats in the documentation: https://pandas.pydata.org/pandas-docs/stable/user_guide/indexing.html#returning-a-view-versus-a-copy\n",
      "  extracted_results[\"grouped_trigger_label\"] = extracted_results[\"grouped_trigger_label\"].apply(process_response)\n"
     ]
    }
   ],
   "source": [
    "extracted_results = all_results.loc[(all_results[\"has_trigger_label\"] == 1) & (all_results[\"trigger_score\"] == 4)]\n",
    "print(len(extracted_results))\n",
    "\n",
    "extracted_results[\"grouped_trigger_label\"] = extracted_results[\"grouped_trigger_label\"].apply(process_response)\n",
    "ret = []\n",
    "error_count = 0\n",
    "for row in range(len(extracted_results)):\n",
    "    print(f\"Row {row}\")\n",
    "    temp = {\n",
    "    \"id\": all_results[\"id\"][row],\n",
    "    \"selftext\": all_results[\"selftext\"][row],\n",
    "    \"grouped_trigger_label\": all_results[\"grouped_trigger_label\"][row]\n",
    "    }\n",
    "    for method in all_methods.keys():\n",
    "        for i in range(3):\n",
    "            candidate = process_response(all_results[f\"trigger_{i}_{method}\"][row])\n",
    "            reference = all_results[\"grouped_trigger_label\"][row]\n",
    "            try:\n",
    "                r, p, f = get_score(candidate, reference)\n",
    "                temp[f\"recall_{method}_{i}\"] = r\n",
    "                temp[f\"precision_{method}_{i}\"] = p\n",
    "                temp[f\"f1_{method}_{i}\"] = f\n",
    "            except Exception as e:\n",
    "                #print(f\"Human: {all_results['grouped_trigger_label'][row]}\")\n",
    "                #print(f\"LLM: {all_results[f'trigger_{i}_{method}'][row]}\")\n",
    "                #print(e)\n",
    "                error_count +=1\n",
    "                temp[f\"recall_{method}_{i}\"] = None\n",
    "                temp[f\"precision_{method}_{i}\"] = None\n",
    "                temp[f\"f1_{method}_{i}\"] = None\n",
    "    ret.append(temp)\n",
    "print(error_count)"
   ]
  },
  {
   "cell_type": "code",
   "execution_count": 137,
   "id": "fc6f12cb-7d8b-49c8-a244-3b5e53326662",
   "metadata": {
    "tags": []
   },
   "outputs": [
    {
     "name": "stdout",
     "output_type": "stream",
     "text": [
      "87\n"
     ]
    }
   ],
   "source": [
    "ret_df = pd.DataFrame(ret)\n",
    "print(len(ret_df))"
   ]
  },
  {
   "cell_type": "code",
   "execution_count": 138,
   "id": "72cd254a-f5ae-4b6b-832f-dffdab0fb2f8",
   "metadata": {
    "tags": []
   },
   "outputs": [
    {
     "name": "stdout",
     "output_type": "stream",
     "text": [
      "zero_shot\n",
      "0.25796014124803174\n",
      "0.19049168424168422\n",
      "0.1915064493153471\n",
      "few_shot_3\n",
      "0.2641236910425506\n",
      "0.22098063519632144\n",
      "0.2199519839448537\n",
      "few_shot_3_include_multiple\n",
      "0.25568589305431416\n",
      "0.1671191401191401\n",
      "0.17982958624986717\n",
      "few_shot_1_include_multiple\n",
      "0.3157872737642475\n",
      "0.1822897398439194\n",
      "0.2018209628764514\n"
     ]
    },
    {
     "name": "stderr",
     "output_type": "stream",
     "text": [
      "/var/folders/fj/7t9sn4pn7t993nnng_9lyxtr0000gn/T/ipykernel_70758/2433236975.py:3: RuntimeWarning: All-NaN axis encountered\n",
      "  ret_df[f\"recall_{method}\"] = ret_df.apply(lambda x: np.nanmax([x[f\"recall_{method}_{i}\"] for i in range(3)]), axis=1)\n",
      "/var/folders/fj/7t9sn4pn7t993nnng_9lyxtr0000gn/T/ipykernel_70758/2433236975.py:4: RuntimeWarning: All-NaN axis encountered\n",
      "  ret_df[f\"precision_{method}\"] = ret_df.apply(lambda x: np.nanmax([x[f\"precision_{method}_{i}\"] for i in range(3)]), axis=1)\n",
      "/var/folders/fj/7t9sn4pn7t993nnng_9lyxtr0000gn/T/ipykernel_70758/2433236975.py:5: RuntimeWarning: All-NaN axis encountered\n",
      "  ret_df[f\"f1_{method}\"] = ret_df.apply(lambda x: np.nanmax([x[f\"f1_{method}_{i}\"] for i in range(3)]), axis=1)\n",
      "/var/folders/fj/7t9sn4pn7t993nnng_9lyxtr0000gn/T/ipykernel_70758/2433236975.py:3: RuntimeWarning: All-NaN axis encountered\n",
      "  ret_df[f\"recall_{method}\"] = ret_df.apply(lambda x: np.nanmax([x[f\"recall_{method}_{i}\"] for i in range(3)]), axis=1)\n",
      "/var/folders/fj/7t9sn4pn7t993nnng_9lyxtr0000gn/T/ipykernel_70758/2433236975.py:4: RuntimeWarning: All-NaN axis encountered\n",
      "  ret_df[f\"precision_{method}\"] = ret_df.apply(lambda x: np.nanmax([x[f\"precision_{method}_{i}\"] for i in range(3)]), axis=1)\n",
      "/var/folders/fj/7t9sn4pn7t993nnng_9lyxtr0000gn/T/ipykernel_70758/2433236975.py:5: RuntimeWarning: All-NaN axis encountered\n",
      "  ret_df[f\"f1_{method}\"] = ret_df.apply(lambda x: np.nanmax([x[f\"f1_{method}_{i}\"] for i in range(3)]), axis=1)\n",
      "/var/folders/fj/7t9sn4pn7t993nnng_9lyxtr0000gn/T/ipykernel_70758/2433236975.py:3: RuntimeWarning: All-NaN axis encountered\n",
      "  ret_df[f\"recall_{method}\"] = ret_df.apply(lambda x: np.nanmax([x[f\"recall_{method}_{i}\"] for i in range(3)]), axis=1)\n",
      "/var/folders/fj/7t9sn4pn7t993nnng_9lyxtr0000gn/T/ipykernel_70758/2433236975.py:4: RuntimeWarning: All-NaN axis encountered\n",
      "  ret_df[f\"precision_{method}\"] = ret_df.apply(lambda x: np.nanmax([x[f\"precision_{method}_{i}\"] for i in range(3)]), axis=1)\n",
      "/var/folders/fj/7t9sn4pn7t993nnng_9lyxtr0000gn/T/ipykernel_70758/2433236975.py:5: RuntimeWarning: All-NaN axis encountered\n",
      "  ret_df[f\"f1_{method}\"] = ret_df.apply(lambda x: np.nanmax([x[f\"f1_{method}_{i}\"] for i in range(3)]), axis=1)\n",
      "/var/folders/fj/7t9sn4pn7t993nnng_9lyxtr0000gn/T/ipykernel_70758/2433236975.py:3: RuntimeWarning: All-NaN axis encountered\n",
      "  ret_df[f\"recall_{method}\"] = ret_df.apply(lambda x: np.nanmax([x[f\"recall_{method}_{i}\"] for i in range(3)]), axis=1)\n",
      "/var/folders/fj/7t9sn4pn7t993nnng_9lyxtr0000gn/T/ipykernel_70758/2433236975.py:4: RuntimeWarning: All-NaN axis encountered\n",
      "  ret_df[f\"precision_{method}\"] = ret_df.apply(lambda x: np.nanmax([x[f\"precision_{method}_{i}\"] for i in range(3)]), axis=1)\n",
      "/var/folders/fj/7t9sn4pn7t993nnng_9lyxtr0000gn/T/ipykernel_70758/2433236975.py:5: RuntimeWarning: All-NaN axis encountered\n",
      "  ret_df[f\"f1_{method}\"] = ret_df.apply(lambda x: np.nanmax([x[f\"f1_{method}_{i}\"] for i in range(3)]), axis=1)\n"
     ]
    }
   ],
   "source": [
    "for method in all_methods.keys():\n",
    "    print(method)\n",
    "    ret_df[f\"recall_{method}\"] = ret_df.apply(lambda x: np.nanmax([x[f\"recall_{method}_{i}\"] for i in range(3)]), axis=1)\n",
    "    ret_df[f\"precision_{method}\"] = ret_df.apply(lambda x: np.nanmax([x[f\"precision_{method}_{i}\"] for i in range(3)]), axis=1)\n",
    "    ret_df[f\"f1_{method}\"] = ret_df.apply(lambda x: np.nanmax([x[f\"f1_{method}_{i}\"] for i in range(3)]), axis=1)\n",
    "    print(ret_df[f\"recall_{method}\"].mean())\n",
    "    print(ret_df[f\"precision_{method}\"].mean())\n",
    "    print(ret_df[f\"f1_{method}\"].mean())"
   ]
  },
  {
   "cell_type": "code",
   "execution_count": 139,
   "id": "a237c3fe-5a02-4edb-9d84-f54e310e73b6",
   "metadata": {
    "tags": []
   },
   "outputs": [],
   "source": [
    "ret_df.to_csv(\"trigger_extraction_accuracy_result.csv\", index=False)"
   ]
  },
  {
   "cell_type": "code",
   "execution_count": 4,
   "id": "717ae86d-88b7-489e-8354-82319aa4c2f0",
   "metadata": {},
   "outputs": [],
   "source": [
    "import pandas as pd\n",
    "import matplotlib.pyplot as plt\n",
    "\n",
    "ret_df = pd.read_csv(\"trigger_extraction_accuracy_result.csv\")\n",
    "all_methods = [\n",
    "    \"zero_shot\",\n",
    "    \"few_shot_3\",\n",
    "    \"few_shot_3_include_multiple\",\n",
    "    \"few_shot_1_include_multiple\"\n",
    "]\n",
    "all_methods_labels = [\"Zero Shot\", \"Few Shot (3, not inlude multiple triggers)\", \"Few Shot (3, include multiple triggers)\", \"Few Shot (1, include multiple triggers)\"]\n"
   ]
  },
  {
   "cell_type": "code",
   "execution_count": 6,
   "id": "cd312e42-90d1-4672-8142-f5d3f15c4ee5",
   "metadata": {
    "tags": []
   },
   "outputs": [
    {
     "data": {
      "image/png": "[encoded data removed]",
      "text/plain": [
       "<Figure size 640x480 with 3 Axes>"
      ]
     },
     "metadata": {},
     "output_type": "display_data"
    }
   ],
   "source": [
    "fig, ax = plt.subplots(3)\n",
    "for i, metric in enumerate([\"precision\", \"recall\", \"f1\"]):\n",
    "    ax[i].boxplot([ret_df[f\"{metric}_{method}\"].dropna() for method in all_methods],\n",
    "              showmeans=True)\n",
    "    plt.xticks([1, 2, 3, 4], all_methods_labels)\n",
    "    plt.setp(ax[i].get_xticklabels(), rotation=45, horizontalalignment='right')\n"
   ]
  },
  {
   "cell_type": "code",
   "execution_count": 7,
   "id": "0d8bfe6e-18c9-46c0-b8e0-6be7b360d2ca",
   "metadata": {
    "tags": []
   },
   "outputs": [
    {
     "data": {
      "text/plain": [
       "0.19375"
      ]
     },
     "execution_count": 7,
     "metadata": {},
     "output_type": "execute_result"
    }
   ],
   "source": [
    "ret_df[\"recall_zero_shot\"].median()"
   ]
  },
  {
   "cell_type": "code",
   "execution_count": 12,
   "id": "1b789245-4918-4d27-8afc-1358ef4a70b8",
   "metadata": {
    "tags": []
   },
   "outputs": [
    {
     "data": {
      "image/png": "[encoded data removed]",
      "text/plain": [
       "<Figure size 640x480 with 1 Axes>"
      ]
     },
     "metadata": {},
     "output_type": "display_data"
    }
   ],
   "source": [
    "fig, ax = plt.subplots()\n",
    "for metric in [\"precision\", \"recall\", \"f1\"]:\n",
    "    ax.plot(all_methods_labels, [ret_df[f\"{metric}_{method}\"].mean() for method in all_methods], label = metric)\n",
    "plt.grid()\n",
    "plt.xticks(fontsize=14)\n",
    "plt.yticks(fontsize=14)\n",
    "plt.legend(bbox_to_anchor=(1.05, 1.0), loc='upper left')\n",
    "plt.tight_layout()\n",
    "plt.setp(ax.get_xticklabels(), rotation=45, horizontalalignment='right')\n",
    "plt.savefig(\"Trigger extraction accuracy performance.pdf\", bbox_inches='tight')"
   ]
  },
  {
   "cell_type": "code",
   "execution_count": 17,
   "id": "765b1928-e3fc-491a-a267-f2342dca7035",
   "metadata": {
    "tags": []
   },
   "outputs": [
    {
     "data": {
      "text/html": [
       "<div>\n",
       "<style scoped>\n",
       "    .dataframe tbody tr th:only-of-type {\n",
       "        vertical-align: middle;\n",
       "    }\n",
       "\n",
       "    .dataframe tbody tr th {\n",
       "        vertical-align: top;\n",
       "    }\n",
       "\n",
       "    .dataframe thead th {\n",
       "        text-align: right;\n",
       "    }\n",
       "</style>\n",
       "<table border=\"1\" class=\"dataframe\">\n",
       "  <thead>\n",
       "    <tr style=\"text-align: right;\">\n",
       "      <th></th>\n",
       "      <th>id</th>\n",
       "      <th>selftext</th>\n",
       "      <th>grouped_trigger_label</th>\n",
       "      <th>recall_zero_shot_0</th>\n",
       "      <th>precision_zero_shot_0</th>\n",
       "      <th>f1_zero_shot_0</th>\n",
       "      <th>recall_zero_shot_1</th>\n",
       "      <th>precision_zero_shot_1</th>\n",
       "      <th>f1_zero_shot_1</th>\n",
       "      <th>recall_zero_shot_2</th>\n",
       "      <th>...</th>\n",
       "      <th>f1_zero_shot</th>\n",
       "      <th>recall_few_shot_3</th>\n",
       "      <th>precision_few_shot_3</th>\n",
       "      <th>f1_few_shot_3</th>\n",
       "      <th>recall_few_shot_3_include_multiple</th>\n",
       "      <th>precision_few_shot_3_include_multiple</th>\n",
       "      <th>f1_few_shot_3_include_multiple</th>\n",
       "      <th>recall_few_shot_1_include_multiple</th>\n",
       "      <th>precision_few_shot_1_include_multiple</th>\n",
       "      <th>f1_few_shot_1_include_multiple</th>\n",
       "    </tr>\n",
       "  </thead>\n",
       "  <tbody>\n",
       "    <tr>\n",
       "      <th>0</th>\n",
       "      <td>10eemqs</td>\n",
       "      <td>It‚Äö√Ñ√¥s breaking me apart to read through t...</td>\n",
       "      <td>Reading posts from reddit</td>\n",
       "      <td>0.250000</td>\n",
       "      <td>0.125000</td>\n",
       "      <td>0.166667</td>\n",
       "      <td>0.250000</td>\n",
       "      <td>0.1</td>\n",
       "      <td>0.142857</td>\n",
       "      <td>0.250000</td>\n",
       "      <td>...</td>\n",
       "      <td>0.166667</td>\n",
       "      <td>0.250000</td>\n",
       "      <td>0.166667</td>\n",
       "      <td>0.200000</td>\n",
       "      <td>0.250000</td>\n",
       "      <td>0.083333</td>\n",
       "      <td>0.125000</td>\n",
       "      <td>0.250000</td>\n",
       "      <td>0.090909</td>\n",
       "      <td>0.133333</td>\n",
       "    </tr>\n",
       "    <tr>\n",
       "      <th>1</th>\n",
       "      <td>10ee8p5</td>\n",
       "      <td>I have BED and when I start restricting and my...</td>\n",
       "      <td>Getting compliments when they start restrictin...</td>\n",
       "      <td>0.000000</td>\n",
       "      <td>0.000000</td>\n",
       "      <td>0.000000</td>\n",
       "      <td>0.000000</td>\n",
       "      <td>0.0</td>\n",
       "      <td>0.000000</td>\n",
       "      <td>0.000000</td>\n",
       "      <td>...</td>\n",
       "      <td>0.000000</td>\n",
       "      <td>0.083333</td>\n",
       "      <td>0.166667</td>\n",
       "      <td>0.111111</td>\n",
       "      <td>0.000000</td>\n",
       "      <td>0.000000</td>\n",
       "      <td>0.000000</td>\n",
       "      <td>0.000000</td>\n",
       "      <td>0.000000</td>\n",
       "      <td>0.000000</td>\n",
       "    </tr>\n",
       "    <tr>\n",
       "      <th>2</th>\n",
       "      <td>10e4an6</td>\n",
       "      <td>As a kid I always wanted to be taller. I figur...</td>\n",
       "      <td>Unhappy with weight, wishes they were shorter</td>\n",
       "      <td>NaN</td>\n",
       "      <td>NaN</td>\n",
       "      <td>NaN</td>\n",
       "      <td>NaN</td>\n",
       "      <td>NaN</td>\n",
       "      <td>NaN</td>\n",
       "      <td>NaN</td>\n",
       "      <td>...</td>\n",
       "      <td>NaN</td>\n",
       "      <td>NaN</td>\n",
       "      <td>NaN</td>\n",
       "      <td>NaN</td>\n",
       "      <td>NaN</td>\n",
       "      <td>NaN</td>\n",
       "      <td>NaN</td>\n",
       "      <td>NaN</td>\n",
       "      <td>NaN</td>\n",
       "      <td>NaN</td>\n",
       "    </tr>\n",
       "    <tr>\n",
       "      <th>3</th>\n",
       "      <td>10do1eh</td>\n",
       "      <td>Im so scared omg, i lie to my doctor saying im...</td>\n",
       "      <td>NaN</td>\n",
       "      <td>NaN</td>\n",
       "      <td>NaN</td>\n",
       "      <td>NaN</td>\n",
       "      <td>NaN</td>\n",
       "      <td>NaN</td>\n",
       "      <td>NaN</td>\n",
       "      <td>NaN</td>\n",
       "      <td>...</td>\n",
       "      <td>NaN</td>\n",
       "      <td>NaN</td>\n",
       "      <td>NaN</td>\n",
       "      <td>NaN</td>\n",
       "      <td>NaN</td>\n",
       "      <td>NaN</td>\n",
       "      <td>NaN</td>\n",
       "      <td>NaN</td>\n",
       "      <td>NaN</td>\n",
       "      <td>NaN</td>\n",
       "    </tr>\n",
       "    <tr>\n",
       "      <th>4</th>\n",
       "      <td>10dig38</td>\n",
       "      <td>So when I first started really leaning into my...</td>\n",
       "      <td>Having loose skin because of weight loss</td>\n",
       "      <td>0.142857</td>\n",
       "      <td>0.111111</td>\n",
       "      <td>0.125000</td>\n",
       "      <td>0.571429</td>\n",
       "      <td>1.0</td>\n",
       "      <td>0.727273</td>\n",
       "      <td>0.428571</td>\n",
       "      <td>...</td>\n",
       "      <td>0.727273</td>\n",
       "      <td>0.428571</td>\n",
       "      <td>0.600000</td>\n",
       "      <td>0.500000</td>\n",
       "      <td>0.285714</td>\n",
       "      <td>0.400000</td>\n",
       "      <td>0.333333</td>\n",
       "      <td>0.428571</td>\n",
       "      <td>0.500000</td>\n",
       "      <td>0.375000</td>\n",
       "    </tr>\n",
       "  </tbody>\n",
       "</table>\n",
       "<p>5 rows × 51 columns</p>\n",
       "</div>"
      ],
      "text/plain": [
       "        id                                           selftext  \\\n",
       "0  10eemqs  It‚Äö√Ñ√¥s breaking me apart to read through t...   \n",
       "1  10ee8p5  I have BED and when I start restricting and my...   \n",
       "2  10e4an6  As a kid I always wanted to be taller. I figur...   \n",
       "3  10do1eh  Im so scared omg, i lie to my doctor saying im...   \n",
       "4  10dig38  So when I first started really leaning into my...   \n",
       "\n",
       "                               grouped_trigger_label  recall_zero_shot_0  \\\n",
       "0                          Reading posts from reddit            0.250000   \n",
       "1  Getting compliments when they start restrictin...            0.000000   \n",
       "2      Unhappy with weight, wishes they were shorter                 NaN   \n",
       "3                                                NaN                 NaN   \n",
       "4           Having loose skin because of weight loss            0.142857   \n",
       "\n",
       "   precision_zero_shot_0  f1_zero_shot_0  recall_zero_shot_1  \\\n",
       "0               0.125000        0.166667            0.250000   \n",
       "1               0.000000        0.000000            0.000000   \n",
       "2                    NaN             NaN                 NaN   \n",
       "3                    NaN             NaN                 NaN   \n",
       "4               0.111111        0.125000            0.571429   \n",
       "\n",
       "   precision_zero_shot_1  f1_zero_shot_1  recall_zero_shot_2  ...  \\\n",
       "0                    0.1        0.142857            0.250000  ...   \n",
       "1                    0.0        0.000000            0.000000  ...   \n",
       "2                    NaN             NaN                 NaN  ...   \n",
       "3                    NaN             NaN                 NaN  ...   \n",
       "4                    1.0        0.727273            0.428571  ...   \n",
       "\n",
       "   f1_zero_shot  recall_few_shot_3  precision_few_shot_3  f1_few_shot_3  \\\n",
       "0      0.166667           0.250000              0.166667       0.200000   \n",
       "1      0.000000           0.083333              0.166667       0.111111   \n",
       "2           NaN                NaN                   NaN            NaN   \n",
       "3           NaN                NaN                   NaN            NaN   \n",
       "4      0.727273           0.428571              0.600000       0.500000   \n",
       "\n",
       "   recall_few_shot_3_include_multiple  precision_few_shot_3_include_multiple  \\\n",
       "0                            0.250000                               0.083333   \n",
       "1                            0.000000                               0.000000   \n",
       "2                                 NaN                                    NaN   \n",
       "3                                 NaN                                    NaN   \n",
       "4                            0.285714                               0.400000   \n",
       "\n",
       "   f1_few_shot_3_include_multiple  recall_few_shot_1_include_multiple  \\\n",
       "0                        0.125000                            0.250000   \n",
       "1                        0.000000                            0.000000   \n",
       "2                             NaN                                 NaN   \n",
       "3                             NaN                                 NaN   \n",
       "4                        0.333333                            0.428571   \n",
       "\n",
       "   precision_few_shot_1_include_multiple  f1_few_shot_1_include_multiple  \n",
       "0                               0.090909                        0.133333  \n",
       "1                               0.000000                        0.000000  \n",
       "2                                    NaN                             NaN  \n",
       "3                                    NaN                             NaN  \n",
       "4                               0.500000                        0.375000  \n",
       "\n",
       "[5 rows x 51 columns]"
      ]
     },
     "execution_count": 17,
     "metadata": {},
     "output_type": "execute_result"
    }
   ],
   "source": [
    "ret_df.head()"
   ]
  },
  {
   "cell_type": "code",
   "execution_count": 20,
   "id": "43fdd2de-04c7-4d5e-9130-d8d255e33993",
   "metadata": {
    "tags": []
   },
   "outputs": [],
   "source": [
    "full_ret_df = ret_df.merge(all_results, on=[\"id\",\"selftext\", \"grouped_trigger_label\"], how = \"left\")"
   ]
  },
  {
   "cell_type": "code",
   "execution_count": 21,
   "id": "b8734bcf-4f5d-49a4-9dba-e58b2563ef78",
   "metadata": {
    "tags": []
   },
   "outputs": [
    {
     "data": {
      "text/plain": [
       "87"
      ]
     },
     "execution_count": 21,
     "metadata": {},
     "output_type": "execute_result"
    }
   ],
   "source": [
    "len(full_ret_df)"
   ]
  },
  {
   "cell_type": "code",
   "execution_count": null,
   "id": "dda14dff-878e-4810-8c1b-b55ac786c839",
   "metadata": {},
   "outputs": [],
   "source": [
    "full_ret_df.to_csv(\"results/trigger_extraction_acc"
   ]
  }
 ],
 "metadata": {
  "kernelspec": {
   "display_name": "Python 3 (ipykernel)",
   "language": "python",
   "name": "python3"
  },
  "language_info": {
   "codemirror_mode": {
    "name": "ipython",
    "version": 3
   },
   "file_extension": ".py",
   "mimetype": "text/x-python",
   "name": "python",
   "nbconvert_exporter": "python",
   "pygments_lexer": "ipython3",
   "version": "3.8.16"
  }
 },
 "nbformat": 4,
 "nbformat_minor": 5
}
