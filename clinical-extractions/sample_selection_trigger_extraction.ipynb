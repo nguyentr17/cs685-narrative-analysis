{
 "cells": [
  {
   "cell_type": "code",
   "execution_count": 1,
   "id": "f412678a-6e15-498c-879b-e16e3165eb35",
   "metadata": {
    "tags": []
   },
   "outputs": [],
   "source": [
    "import pandas as pd\n",
    "import ast\n",
    "import numpy as np"
   ]
  },
  {
   "cell_type": "code",
   "execution_count": 2,
   "id": "c88af02c-500c-410a-866c-c83bc8075ba7",
   "metadata": {
    "tags": []
   },
   "outputs": [],
   "source": [
    "pd.set_option('display.max_rows', 500)\n",
    "pd.set_option('display.max_colwidth', 500)\n",
    "pd.set_option('display.width', 1000)\n"
   ]
  },
  {
   "cell_type": "code",
   "execution_count": 12,
   "id": "2d31abef-bdbe-4c15-a1e8-18ca2b9ad38c",
   "metadata": {
    "tags": []
   },
   "outputs": [
    {
     "name": "stdout",
     "output_type": "stream",
     "text": [
      "Index(['Unnamed: 0', 'subreddit_id', 'author', 'selftext', 'title', 'id',\n",
      "       'created_utc', 'Topic Distribution'],\n",
      "      dtype='object')\n"
     ]
    },
    {
     "data": {
      "text/html": [
       "<div>\n",
       "<style scoped>\n",
       "    .dataframe tbody tr th:only-of-type {\n",
       "        vertical-align: middle;\n",
       "    }\n",
       "\n",
       "    .dataframe tbody tr th {\n",
       "        vertical-align: top;\n",
       "    }\n",
       "\n",
       "    .dataframe thead th {\n",
       "        text-align: right;\n",
       "    }\n",
       "</style>\n",
       "<table border=\"1\" class=\"dataframe\">\n",
       "  <thead>\n",
       "    <tr style=\"text-align: right;\">\n",
       "      <th></th>\n",
       "      <th>Unnamed: 0</th>\n",
       "      <th>subreddit_id</th>\n",
       "      <th>author</th>\n",
       "      <th>selftext</th>\n",
       "      <th>title</th>\n",
       "      <th>id</th>\n",
       "      <th>created_utc</th>\n",
       "      <th>Topic Distribution</th>\n",
       "    </tr>\n",
       "  </thead>\n",
       "  <tbody>\n",
       "    <tr>\n",
       "      <th>0</th>\n",
       "      <td>1</td>\n",
       "      <td>t5_o3plh</td>\n",
       "      <td>-CreamyPie-</td>\n",
       "      <td>Hello!\\n\\nIm 11 and Im a boy self recovering f...</td>\n",
       "      <td>Fear Food Friday!! So far its successful</td>\n",
       "      <td>gbj0rh</td>\n",
       "      <td>1588343070</td>\n",
       "      <td>[0.11385973850293842, 0.3352082928986615, 0.20...</td>\n",
       "    </tr>\n",
       "    <tr>\n",
       "      <th>1</th>\n",
       "      <td>1</td>\n",
       "      <td>t5_o3plh</td>\n",
       "      <td>-CreamyPie-</td>\n",
       "      <td>Alright so Its wednesday the day im typing thi...</td>\n",
       "      <td>Fear Food Friday is almost here.</td>\n",
       "      <td>gagddu</td>\n",
       "      <td>1588190127</td>\n",
       "      <td>[0.11385973850293842, 0.47646002034584006, 0.1...</td>\n",
       "    </tr>\n",
       "    <tr>\n",
       "      <th>2</th>\n",
       "      <td>1</td>\n",
       "      <td>t5_o3plh</td>\n",
       "      <td>-CreamyPie-</td>\n",
       "      <td>Im 11, Im a boy, you've probably seen my other...</td>\n",
       "      <td>Smoothie!!</td>\n",
       "      <td>g7xk05</td>\n",
       "      <td>1587836033</td>\n",
       "      <td>[0.020330066198061984, 0.5405101500269072, 0.2...</td>\n",
       "    </tr>\n",
       "    <tr>\n",
       "      <th>3</th>\n",
       "      <td>22</td>\n",
       "      <td>t5_s5o7i</td>\n",
       "      <td>194569324</td>\n",
       "      <td>Just want to get this off my chest because I d...</td>\n",
       "      <td>Hardcore restricting, close to being discharge...</td>\n",
       "      <td>g3255g</td>\n",
       "      <td>1587130632</td>\n",
       "      <td>[0.08260721895128373, 0.00473008524034919, 0.4...</td>\n",
       "    </tr>\n",
       "    <tr>\n",
       "      <th>4</th>\n",
       "      <td>22</td>\n",
       "      <td>t5_s5o7i</td>\n",
       "      <td>194569324</td>\n",
       "      <td>I feel horrible because I love him so much, bu...</td>\n",
       "      <td>My boyfriend triggers my eating disorder.</td>\n",
       "      <td>fvycov</td>\n",
       "      <td>1586178189</td>\n",
       "      <td>[0.01233986429530161, 0.4562169014396947, 0.32...</td>\n",
       "    </tr>\n",
       "  </tbody>\n",
       "</table>\n",
       "</div>"
      ],
      "text/plain": [
       "   Unnamed: 0 subreddit_id       author  \\\n",
       "0           1     t5_o3plh  -CreamyPie-   \n",
       "1           1     t5_o3plh  -CreamyPie-   \n",
       "2           1     t5_o3plh  -CreamyPie-   \n",
       "3          22     t5_s5o7i    194569324   \n",
       "4          22     t5_s5o7i    194569324   \n",
       "\n",
       "                                            selftext  \\\n",
       "0  Hello!\\n\\nIm 11 and Im a boy self recovering f...   \n",
       "1  Alright so Its wednesday the day im typing thi...   \n",
       "2  Im 11, Im a boy, you've probably seen my other...   \n",
       "3  Just want to get this off my chest because I d...   \n",
       "4  I feel horrible because I love him so much, bu...   \n",
       "\n",
       "                                               title      id  created_utc  \\\n",
       "0           Fear Food Friday!! So far its successful  gbj0rh   1588343070   \n",
       "1                   Fear Food Friday is almost here.  gagddu   1588190127   \n",
       "2                                         Smoothie!!  g7xk05   1587836033   \n",
       "3  Hardcore restricting, close to being discharge...  g3255g   1587130632   \n",
       "4          My boyfriend triggers my eating disorder.  fvycov   1586178189   \n",
       "\n",
       "                                  Topic Distribution  \n",
       "0  [0.11385973850293842, 0.3352082928986615, 0.20...  \n",
       "1  [0.11385973850293842, 0.47646002034584006, 0.1...  \n",
       "2  [0.020330066198061984, 0.5405101500269072, 0.2...  \n",
       "3  [0.08260721895128373, 0.00473008524034919, 0.4...  \n",
       "4  [0.01233986429530161, 0.4562169014396947, 0.32...  "
      ]
     },
     "execution_count": 12,
     "metadata": {},
     "output_type": "execute_result"
    }
   ],
   "source": [
    "post_with_topic = pd.read_csv(\"../topic-modeling/data/positive_topic_dist.csv\")\n",
    "print(post_with_topic.columns)\n",
    "post_with_topic[\"Topic Distribution\"] = post_with_topic[\"Topic Distribution\"].apply(lambda x: ast.literal_eval(x))\n",
    "post_with_topic.head()"
   ]
  },
  {
   "cell_type": "code",
   "execution_count": 20,
   "id": "0659df76-6341-4285-9e4d-f256b6d7baa9",
   "metadata": {
    "tags": []
   },
   "outputs": [],
   "source": [
    "topic_list = [\n",
    "    'NUM treatment get work need year time therapist last back', #0\n",
    " 'eat food eating day meal hungry like meals calories binge',    #1\n",
    " 'life recovery people body self nNUM things would every love',  #2 \n",
    " 'look body like weight fat hate see skinny people always',\n",
    " 'NUM eat ate chocolate foods sugar cream food cake one',\n",
    " 'NUM weight gain back eating months lose lost still body',\n",
    " 'like know feel want really even eating get think never',\n",
    " 'said told didn mom family made got would one went',\n",
    " 'doctor blood take heart symptoms hospital taking doctors medication pain',\n",
    " 'like NUM feel day want get today time days eat']"
   ]
  },
  {
   "cell_type": "code",
   "execution_count": 14,
   "id": "b79fefab-5c79-4a4e-8530-562f7839e077",
   "metadata": {
    "tags": []
   },
   "outputs": [
    {
     "data": {
      "text/plain": [
       "2    1876\n",
       "9     253\n",
       "1     177\n",
       "4     141\n",
       "6      98\n",
       "7      79\n",
       "8      64\n",
       "5      60\n",
       "3      53\n",
       "0      39\n",
       "Name: most_probable_topic, dtype: int64"
      ]
     },
     "execution_count": 14,
     "metadata": {},
     "output_type": "execute_result"
    }
   ],
   "source": [
    "post_with_topic[\"most_probable_topic\"] = post_with_topic[\"Topic Distribution\"].apply(lambda x: np.array(x).argmax())\n",
    "post_with_topic[\"most_probable_topic\"].value_counts()"
   ]
  },
  {
   "cell_type": "code",
   "execution_count": 28,
   "id": "d87a69ac-eb8a-4511-ae0a-c84217ea510b",
   "metadata": {},
   "outputs": [
    {
     "name": "stdout",
     "output_type": "stream",
     "text": [
      "None                                                         137\n",
      "stress                                                         3\n",
      "gaining weight                                                 2\n",
      "losing weight                                                  2\n",
      "relapse                                                        2\n",
      "                                                            ... \n",
      "physical affection from friend                                 1\n",
      "birthday                                                       1\n",
      "mom ignoring signs                                             1\n",
      "seeing sibling lose weight                                     1\n",
      "recent weight gain after pregnancy and fight with partner      1\n",
      "Name: trigger_0, Length: 307, dtype: int64\n",
      "None                                       141\n",
      "depression                                   3\n",
      "gaining weight                               2\n",
      "stress                                       2\n",
      "anxiety                                      2\n",
      "                                          ... \n",
      "birthday                                     1\n",
      "lack of routine                              1\n",
      "lack of trust                                1\n",
      "snooping                                     1\n",
      "giving birth and taking a lot of weight      1\n",
      "Name: trigger_1, Length: 294, dtype: int64\n",
      "None                                                                     134\n",
      "stress                                                                     3\n",
      "body dysmorphia                                                            3\n",
      "anxiety                                                                    2\n",
      "occupational health meeting                                                1\n",
      "                                                                        ... \n",
      "conversations with her friend about her anorexia                           1\n",
      "being at a weight they haven't been in 3 years                             1\n",
      "difficulties with abilities due to weight gain                             1\n",
      "returning from trip and feeling like I have to make up for what I ate      1\n",
      "Recent weight gain, fight with partner                                     1\n",
      "Name: trigger_2, Length: 285, dtype: int64\n"
     ]
    }
   ],
   "source": [
    "trigger_extraction_result = pd.read_csv(\"./results/trigger_extraction_result_1682559339.705567.csv\", keep_default_na = False)\n",
    "for i in range(3):\n",
    "    trigger_extraction_result[f\"trigger_{i}\"] = trigger_extraction_result[f\"trigger_{i}\"].apply(lambda x: ast.literal_eval(x) if x.startswith(\"[\") else (None if x == \"\" else [x]))\n",
    "    print(trigger_extraction_result[f\"trigger_{i}\"].explode().value_counts(dropna=False))\n",
    "    "
   ]
  },
  {
   "cell_type": "code",
   "execution_count": null,
   "id": "51e97b9a-c995-4267-b6c8-75a77f188981",
   "metadata": {},
   "outputs": [],
   "source": []
  },
  {
   "cell_type": "code",
   "execution_count": 29,
   "id": "1c529280-a97d-45b7-8b64-6274002cebd4",
   "metadata": {
    "tags": []
   },
   "outputs": [],
   "source": [
    "trigger_extraction_result = trigger_extraction_result.merge(post_with_topic[[\"id\",\"most_probable_topic\"]], on=\"id\", how=\"left\")"
   ]
  },
  {
   "cell_type": "code",
   "execution_count": 43,
   "id": "ba6e3b02-7a56-42e9-8f0f-74842947dd1b",
   "metadata": {
    "tags": []
   },
   "outputs": [
    {
     "data": {
      "text/plain": [
       "NaN    294\n",
       "2.0      4\n",
       "3.0      1\n",
       "4.0      1\n",
       "Name: most_probable_topic, dtype: int64"
      ]
     },
     "execution_count": 43,
     "metadata": {},
     "output_type": "execute_result"
    }
   ],
   "source": [
    "trigger_extraction_result[\"most_probable_topic\"].value_counts(dropna=False)"
   ]
  },
  {
   "cell_type": "code",
   "execution_count": 21,
   "id": "799458bd-41b1-4ab9-900f-b468c0233969",
   "metadata": {
    "tags": []
   },
   "outputs": [],
   "source": [
    "trigger_extraction_result[\"most_probable_topic_desc\"] = trigger_extraction_result[\"most_probable_topic\"].apply(lambda x: topic_list[x])"
   ]
  },
  {
   "cell_type": "code",
   "execution_count": 24,
   "id": "61cbeadc-e276-4dcd-83ee-dc835c6293da",
   "metadata": {
    "tags": []
   },
   "outputs": [
    {
     "data": {
      "text/html": [
       "<div>\n",
       "<style scoped>\n",
       "    .dataframe tbody tr th:only-of-type {\n",
       "        vertical-align: middle;\n",
       "    }\n",
       "\n",
       "    .dataframe tbody tr th {\n",
       "        vertical-align: top;\n",
       "    }\n",
       "\n",
       "    .dataframe thead tr th {\n",
       "        text-align: left;\n",
       "    }\n",
       "\n",
       "    .dataframe thead tr:last-of-type th {\n",
       "        text-align: right;\n",
       "    }\n",
       "</style>\n",
       "<table border=\"1\" class=\"dataframe\">\n",
       "  <thead>\n",
       "    <tr>\n",
       "      <th></th>\n",
       "      <th>most_probable_topic_desc</th>\n",
       "      <th>trigger_0</th>\n",
       "      <th>trigger_1</th>\n",
       "      <th>trigger_2</th>\n",
       "    </tr>\n",
       "    <tr>\n",
       "      <th></th>\n",
       "      <th>first</th>\n",
       "      <th>most_common</th>\n",
       "      <th>most_common</th>\n",
       "      <th>most_common</th>\n",
       "    </tr>\n",
       "    <tr>\n",
       "      <th>most_probable_topic</th>\n",
       "      <th></th>\n",
       "      <th></th>\n",
       "      <th></th>\n",
       "      <th></th>\n",
       "    </tr>\n",
       "  </thead>\n",
       "  <tbody>\n",
       "    <tr>\n",
       "      <th>0</th>\n",
       "      <td>NUM treatment get work need year time therapist last back</td>\n",
       "      <td>[(None, 16), (fear of failure, 1), (loss of father, boyfriend, job, school, and health issues, 1), (PTSD, 1), (nutritionist left, 1)]</td>\n",
       "      <td>[(None, 16), (being told her athletic body wasn't feminine, 1), (father, 1), (watching old colleagues now drop, 1), (two deaths of former colleagues over the weekend, 1)]</td>\n",
       "      <td>[(None, 14), (obsession with vanity and physique, 1), (problems with immunity, 1), (nutritionist leaving without addressing issues, financial strain, pressure from friends and personal issues, 1), (watching old colleagues now drop, 1)]</td>\n",
       "    </tr>\n",
       "    <tr>\n",
       "      <th>1</th>\n",
       "      <td>eat food eating day meal hungry like meals calories binge</td>\n",
       "      <td>[(None, 14), (scared to gain weight, 1), (poor fitting immediate denture, 1), (physical and emotional issues, 1), (Ate more than usual at a social gathering, 1)]</td>\n",
       "      <td>[(None, 14), (eating more than usual, 2), (found an old corset, 1), (binge behavior, 1), (weight gain, 1)]</td>\n",
       "      <td>[(None, 14), (scared to gain weight, 1), (fear of health impacts, 1), (binge behavior, 1), (cravings, 1)]</td>\n",
       "    </tr>\n",
       "    <tr>\n",
       "      <th>2</th>\n",
       "      <td>life recovery people body self nNUM things would every love</td>\n",
       "      <td>[(None, 11), (anxiety, 1), (lack of control, 1), (supply chain, 1), (grocery stores, 1)]</td>\n",
       "      <td>[(None, 11), (feeling like a failure, 2), (anxiety around depraving oneself, 1), (double tracking calories, 1), (feeling fat and hot, 1)]</td>\n",
       "      <td>[(None, 14), (new antipsychotic medication, 1), (overtracking calories, 1), (pandemic, 1), (income changes, 1)]</td>\n",
       "    </tr>\n",
       "    <tr>\n",
       "      <th>3</th>\n",
       "      <td>look body like weight fat hate see skinny people always</td>\n",
       "      <td>[(None, 11), (Adderall, 1), (fear of waking up mid-procedure, 1), (difficulty with fasting of drinks, 1), (only eating one meal per day, 1)]</td>\n",
       "      <td>[(None, 11), (constipation, 2), (blood glucose levels dropping and cortisol rising, 2), (doctor's insensitivity to the seriousness of her symptoms, 1), (lack of hunger, 1)]</td>\n",
       "      <td>[(None, 12), (constipation, 2), (severe PTSD, 1), (exercising and purging, 1), (GI specialist's attitude and inappropriate behavior/actions, 1)]</td>\n",
       "    </tr>\n",
       "    <tr>\n",
       "      <th>4</th>\n",
       "      <td>NUM eat ate chocolate foods sugar cream food cake one</td>\n",
       "      <td>[(None, 11), (stressful and traumatic experiences last Autumn, 1), (roommate's comment about olive oil, 1), (her mom refusing surgery for cancer because she thinks it will make her gain weight, 1), (my biological mother told me that she thought I was disgustingly skinny, 1)]</td>\n",
       "      <td>[(None, 10), (stressful and traumatic experience in Autumn, 1), (roommate said olive oil is healthy and good for you, made me feel paranoid and like my roommate wants me to be fat., 1), (older folks in the neighborhood who are bored, 1), (foto/gif where someone is very thin, 1)]</td>\n",
       "      <td>[(None, 12), (stressful and traumatic events in last autumn, 1), (roommate saying olive oil is healthy calories, 1), (mother commenting on weight gain, 1), (my biological mother, 1)]</td>\n",
       "    </tr>\n",
       "    <tr>\n",
       "      <th>5</th>\n",
       "      <td>NUM weight gain back eating months lose lost still body</td>\n",
       "      <td>[(None, 16), (wanting to be skinny, 1), (finding old clothes that are now too big, 1), (hate being anything other than a Small, ever, 1), (being terrible at ED life and gaining most of the weight back, 1)]</td>\n",
       "      <td>[(None, 16), (put on bikini, 1), (gaining weight, 1), (existing clothes don‚Äôt fit, 1), (sizing chart showed true weight, 1)]</td>\n",
       "      <td>[(None, 14), (put on a bikini, 1), (my disordered mind is like ‚Äúyou‚Äôre fat and he knows‚Äù, 1), (COVID isolation and lifestyle change, 1), (need to purchase new clothes, 1)]</td>\n",
       "    </tr>\n",
       "    <tr>\n",
       "      <th>6</th>\n",
       "      <td>like know feel want really even eating get think never</td>\n",
       "      <td>[(None, 11), (mom‚Äôs text, 1), (gender dysphoria, 1), (financial concerns, 1), (the termination of outpatient dietician for non-compliance, 1)]</td>\n",
       "      <td>[(None, 11), (mom mentioned sending to residential program, 1), (slow work day, 1), (Termination of new outpatient dietician after 2 sessions, 1), (Trouble getting a counselor, due to insurance and financial issues, 1)]</td>\n",
       "      <td>[(None, 14), (seeing text from mom, 1), (Parents asking her to cut her work hours and not stay home, 1), (job hunt, 1), (rejection emails, 1)]</td>\n",
       "    </tr>\n",
       "    <tr>\n",
       "      <th>7</th>\n",
       "      <td>said told didn mom family made got would one went</td>\n",
       "      <td>[(None, 18), (relapse into ED, 1), (my dietician doesn‚Äôt believe I could possibly have extreme hunger as I am not underweight, 1), (family history of breast cancer and possible ovarian cancer, 1), (hasn‚Äôt had period since February, 1)]</td>\n",
       "      <td>[(None, 18), (relapse into my ED, 1), (my dietician doesn‚Äôt believe I could possibly have extreme hunger as I am not underweight, 1), (missing menstrual period since February, 1), (family history of breast cancer, 1)]</td>\n",
       "      <td>[(None, 18), (blood circulation problems, 1), (my dietician doesn‚Äôt believe I could possibly have extreme hunger as I am not underweight and she‚Äôs honestly scared me into thinking that I have now have binge eating disorder, 1), (getting an ultrasound due to family history of breast cancer, 1), (haven‚Äôt had my period since the first week February, 1)]</td>\n",
       "    </tr>\n",
       "    <tr>\n",
       "      <th>8</th>\n",
       "      <td>doctor blood take heart symptoms hospital taking doctors medication pain</td>\n",
       "      <td>[(None, 16), (stressful situations, 2), (watching 1000lbs sisters, 1), (losing all friends, 1), (move to UK, 1)]</td>\n",
       "      <td>[(None, 17), (need for control, 1), (photo on Instagram for birthday, 1), (feeling lonely and unable to make new friends, 1), (moving to a new continent and losing friends, 1)]</td>\n",
       "      <td>[(None, 17), (friends suggesting medication for depression when she does not have depression, 1), (Photo posted on Instagram for her birthday, 1), (being unable to adapt to new environment or make new friends, 1), (moving to a new continent and losing all friends, 1)]</td>\n",
       "    </tr>\n",
       "    <tr>\n",
       "      <th>9</th>\n",
       "      <td>like NUM feel day want get today time days eat</td>\n",
       "      <td>[(None, 12), (gained weight despite eating more, 1), (thinking about a particular chocolate in the fridge, 1), (reduced social pressure and increased control over food, 1), (overwhelming urge to know the number on the scale, 1)]</td>\n",
       "      <td>[(None, 12), (gaining weight despite calorie increase, 1), (thinking about specific food, 1), (overwhelming urge to know the number on the scale, 1), (fluctuations in weight during the day, 1)]</td>\n",
       "      <td>[(None, 13), (weight gain despite calorie restriction, 1), (tracking calories for a nutrition class, 1), (comparison with brother’s BMI, 1), (brother mentioning writer’s eating in front of family, 1)]</td>\n",
       "    </tr>\n",
       "  </tbody>\n",
       "</table>\n",
       "</div>"
      ],
      "text/plain": [
       "                                                                     most_probable_topic_desc                                                                                                                                                                                                                                                                            trigger_0                                                                                                                                                                                                                                                                                trigger_1  \\\n",
       "                                                                                        first                                                                                                                                                                                                                                                                          most_common                                                                                                                                                                                                                                                                              most_common   \n",
       "most_probable_topic                                                                                                                                                                                                                                                                                                                                                                                                                                                                                                                                                                                                                                                           \n",
       "0                                   NUM treatment get work need year time therapist last back                                                                                                                                                [(None, 16), (fear of failure, 1), (loss of father, boyfriend, job, school, and health issues, 1), (PTSD, 1), (nutritionist left, 1)]                                                                                                               [(None, 16), (being told her athletic body wasn't feminine, 1), (father, 1), (watching old colleagues now drop, 1), (two deaths of former colleagues over the weekend, 1)]   \n",
       "1                                   eat food eating day meal hungry like meals calories binge                                                                                                                    [(None, 14), (scared to gain weight, 1), (poor fitting immediate denture, 1), (physical and emotional issues, 1), (Ate more than usual at a social gathering, 1)]                                                                                                                                                                               [(None, 14), (eating more than usual, 2), (found an old corset, 1), (binge behavior, 1), (weight gain, 1)]   \n",
       "2                                 life recovery people body self nNUM things would every love                                                                                                                                                                                             [(None, 11), (anxiety, 1), (lack of control, 1), (supply chain, 1), (grocery stores, 1)]                                                                                                                                                [(None, 11), (feeling like a failure, 2), (anxiety around depraving oneself, 1), (double tracking calories, 1), (feeling fat and hot, 1)]   \n",
       "3                                     look body like weight fat hate see skinny people always                                                                                                                                         [(None, 11), (Adderall, 1), (fear of waking up mid-procedure, 1), (difficulty with fasting of drinks, 1), (only eating one meal per day, 1)]                                                                                                             [(None, 11), (constipation, 2), (blood glucose levels dropping and cortisol rising, 2), (doctor's insensitivity to the seriousness of her symptoms, 1), (lack of hunger, 1)]   \n",
       "4                                       NUM eat ate chocolate foods sugar cream food cake one  [(None, 11), (stressful and traumatic experiences last Autumn, 1), (roommate's comment about olive oil, 1), (her mom refusing surgery for cancer because she thinks it will make her gain weight, 1), (my biological mother told me that she thought I was disgustingly skinny, 1)]  [(None, 10), (stressful and traumatic experience in Autumn, 1), (roommate said olive oil is healthy and good for you, made me feel paranoid and like my roommate wants me to be fat., 1), (older folks in the neighborhood who are bored, 1), (foto/gif where someone is very thin, 1)]   \n",
       "5                                     NUM weight gain back eating months lose lost still body                                                                        [(None, 16), (wanting to be skinny, 1), (finding old clothes that are now too big, 1), (hate being anything other than a Small, ever, 1), (being terrible at ED life and gaining most of the weight back, 1)]                                                                                                                                                           [(None, 16), (put on bikini, 1), (gaining weight, 1), (existing clothes don‚Äôt fit, 1), (sizing chart showed true weight, 1)]   \n",
       "6                                      like know feel want really even eating get think never                                                                                                                                     [(None, 11), (mom‚Äôs text, 1), (gender dysphoria, 1), (financial concerns, 1), (the termination of outpatient dietician for non-compliance, 1)]                                                              [(None, 11), (mom mentioned sending to residential program, 1), (slow work day, 1), (Termination of new outpatient dietician after 2 sessions, 1), (Trouble getting a counselor, due to insurance and financial issues, 1)]   \n",
       "7                                           said told didn mom family made got would one went                                      [(None, 18), (relapse into ED, 1), (my dietician doesn‚Äôt believe I could possibly have extreme hunger as I am not underweight, 1), (family history of breast cancer and possible ovarian cancer, 1), (hasn‚Äôt had period since February, 1)]                                                              [(None, 18), (relapse into my ED, 1), (my dietician doesn‚Äôt believe I could possibly have extreme hunger as I am not underweight, 1), (missing menstrual period since February, 1), (family history of breast cancer, 1)]   \n",
       "8                    doctor blood take heart symptoms hospital taking doctors medication pain                                                                                                                                                                     [(None, 16), (stressful situations, 2), (watching 1000lbs sisters, 1), (losing all friends, 1), (move to UK, 1)]                                                                                                         [(None, 17), (need for control, 1), (photo on Instagram for birthday, 1), (feeling lonely and unable to make new friends, 1), (moving to a new continent and losing friends, 1)]   \n",
       "9                                              like NUM feel day want get today time days eat                                                 [(None, 12), (gained weight despite eating more, 1), (thinking about a particular chocolate in the fridge, 1), (reduced social pressure and increased control over food, 1), (overwhelming urge to know the number on the scale, 1)]                                                                                        [(None, 12), (gaining weight despite calorie increase, 1), (thinking about specific food, 1), (overwhelming urge to know the number on the scale, 1), (fluctuations in weight during the day, 1)]   \n",
       "\n",
       "                                                                                                                                                                                                                                                                                                                                                                                  trigger_2  \n",
       "                                                                                                                                                                                                                                                                                                                                                                                most_common  \n",
       "most_probable_topic                                                                                                                                                                                                                                                                                                                                                                          \n",
       "0                                                                                                                                               [(None, 14), (obsession with vanity and physique, 1), (problems with immunity, 1), (nutritionist leaving without addressing issues, financial strain, pressure from friends and personal issues, 1), (watching old colleagues now drop, 1)]  \n",
       "1                                                                                                                                                                                                                                                                                 [(None, 14), (scared to gain weight, 1), (fear of health impacts, 1), (binge behavior, 1), (cravings, 1)]  \n",
       "2                                                                                                                                                                                                                                                                           [(None, 14), (new antipsychotic medication, 1), (overtracking calories, 1), (pandemic, 1), (income changes, 1)]  \n",
       "3                                                                                                                                                                                                                                          [(None, 12), (constipation, 2), (severe PTSD, 1), (exercising and purging, 1), (GI specialist's attitude and inappropriate behavior/actions, 1)]  \n",
       "4                                                                                                                                                                                                    [(None, 12), (stressful and traumatic events in last autumn, 1), (roommate saying olive oil is healthy calories, 1), (mother commenting on weight gain, 1), (my biological mother, 1)]  \n",
       "5                                                                                                                                                                                                         [(None, 14), (put on a bikini, 1), (my disordered mind is like ‚Äúyou‚Äôre fat and he knows‚Äù, 1), (COVID isolation and lifestyle change, 1), (need to purchase new clothes, 1)]  \n",
       "6                                                                                                                                                                                                                                            [(None, 14), (seeing text from mom, 1), (Parents asking her to cut her work hours and not stay home, 1), (job hunt, 1), (rejection emails, 1)]  \n",
       "7                    [(None, 18), (blood circulation problems, 1), (my dietician doesn‚Äôt believe I could possibly have extreme hunger as I am not underweight and she‚Äôs honestly scared me into thinking that I have now have binge eating disorder, 1), (getting an ultrasound due to family history of breast cancer, 1), (haven‚Äôt had my period since the first week February, 1)]  \n",
       "8                                                                                                              [(None, 17), (friends suggesting medication for depression when she does not have depression, 1), (Photo posted on Instagram for her birthday, 1), (being unable to adapt to new environment or make new friends, 1), (moving to a new continent and losing all friends, 1)]  \n",
       "9                                                                                                                                                                                  [(None, 13), (weight gain despite calorie restriction, 1), (tracking calories for a nutrition class, 1), (comparison with brother’s BMI, 1), (brother mentioning writer’s eating in front of family, 1)]  "
      ]
     },
     "execution_count": 24,
     "metadata": {},
     "output_type": "execute_result"
    }
   ],
   "source": [
    "def most_common(x):\n",
    "    top_5 = x.explode().value_counts(dropna=False)[:5]\n",
    "    return [(x, c) for x, c in zip(top_5.index, top_5)]\n",
    "trigger_extraction_result.groupby([\"most_probable_topic\"]).agg({\n",
    "    \"most_probable_topic_desc\": [\"first\"],\n",
    "    \"trigger_0\": [most_common],\n",
    "    \"trigger_1\": [most_common],\n",
    "    \"trigger_2\": [most_common]\n",
    "})"
   ]
  },
  {
   "cell_type": "code",
   "execution_count": 9,
   "id": "09339629-1349-4d93-9b2f-76ab5ee31788",
   "metadata": {
    "tags": []
   },
   "outputs": [],
   "source": [
    "def get_jaccard_sim(str1, str2): \n",
    "    a = set(str1.split()) \n",
    "    b = set(str2.split())\n",
    "    c = a.intersection(b)\n",
    "    return float(len(c)) / (len(a) + len(b) - len(c))"
   ]
  },
  {
   "cell_type": "markdown",
   "id": "ac688028-b1ac-434e-a29f-748ee200c33a",
   "metadata": {},
   "source": [
    "## Create input file based on topic modeling"
   ]
  },
  {
   "cell_type": "code",
   "execution_count": 25,
   "id": "f2df7d94-040a-4d30-9bcd-8d290ef53247",
   "metadata": {
    "tags": []
   },
   "outputs": [
    {
     "ename": "NameError",
     "evalue": "name 'post_with_topic' is not defined",
     "output_type": "error",
     "traceback": [
      "\u001b[0;31m---------------------------------------------------------------------------\u001b[0m",
      "\u001b[0;31mNameError\u001b[0m                                 Traceback (most recent call last)",
      "Cell \u001b[0;32mIn[25], line 2\u001b[0m\n\u001b[1;32m      1\u001b[0m full_narrative_df \u001b[38;5;241m=\u001b[39m pd\u001b[38;5;241m.\u001b[39mread_csv(\u001b[38;5;124m\"\u001b[39m\u001b[38;5;124m../narrative_detection/annotated_narrative_posts_by_trained_classification.csv\u001b[39m\u001b[38;5;124m\"\u001b[39m)\n\u001b[0;32m----> 2\u001b[0m narrative_with_topic_model \u001b[38;5;241m=\u001b[39m full_narrative_df\u001b[38;5;241m.\u001b[39mmerge(\u001b[43mpost_with_topic\u001b[49m[[\u001b[38;5;124m\"\u001b[39m\u001b[38;5;124mid\u001b[39m\u001b[38;5;124m\"\u001b[39m,\u001b[38;5;124m\"\u001b[39m\u001b[38;5;124mmost_probable_topic\u001b[39m\u001b[38;5;124m\"\u001b[39m]], on\u001b[38;5;241m=\u001b[39m\u001b[38;5;124m\"\u001b[39m\u001b[38;5;124mid\u001b[39m\u001b[38;5;124m\"\u001b[39m, how\u001b[38;5;241m=\u001b[39m\u001b[38;5;124m\"\u001b[39m\u001b[38;5;124minner\u001b[39m\u001b[38;5;124m\"\u001b[39m)\n\u001b[1;32m      3\u001b[0m \u001b[38;5;28mprint\u001b[39m(\u001b[38;5;28mlen\u001b[39m(narrative_with_topic_model))\n\u001b[1;32m      4\u001b[0m \u001b[38;5;28mprint\u001b[39m(narrative_with_topic_model\u001b[38;5;241m.\u001b[39mcolumns)\n",
      "\u001b[0;31mNameError\u001b[0m: name 'post_with_topic' is not defined"
     ]
    }
   ],
   "source": [
    "full_narrative_df = pd.read_csv(\"../narrative_detection/annotated_narrative_posts_by_trained_classification.csv\")\n",
    "narrative_with_topic_model = full_narrative_df.merge(post_with_topic[[\"id\",\"most_probable_topic\"]], on=\"id\", how=\"inner\")\n",
    "print(len(narrative_with_topic_model))\n",
    "print(narrative_with_topic_model.columns)\n"
   ]
  },
  {
   "cell_type": "code",
   "execution_count": 51,
   "id": "d70a1de4-e0bb-434e-a004-ee2acf1b872d",
   "metadata": {
    "tags": []
   },
   "outputs": [
    {
     "name": "stdout",
     "output_type": "stream",
     "text": [
      "Topic 0\n",
      "[ 387 1984 1125  141 2215  923 1763  770  384 1360  657 1491 2500 2794\n",
      " 2111  462 2716 2281 1777  493 1313 1569 1622  567 2699  103  383  559\n",
      " 1714  690 1609  637 2793 2117 2409 1247 2056 2792]\n",
      "Topic 1\n",
      "[  83  765 2670 2199 2277  351  838 2465 1756 2514  445 1950  286 1402\n",
      " 2377 1998    9 1420  893 2471  869 2470  950 1793 2383  777 2003 1590\n",
      " 1285  643  592 2467 2163 2784 2633 1537 1378 1623 1991 1369   90 1414\n",
      " 2469 2776 1169 1761 1001  908  891 2472]\n",
      "Topic 2\n",
      "[ 713 2817  362 1044 1915  924  210 2542 1928   96  813 1811 1223 1721\n",
      "  725  192  407 2755 2011 1118  378 1349  481 2493 2779  323 2440  465\n",
      "  989 1858 1805 1792  564 1518 2620 1575 2799 2347 1437 1637 2606   84\n",
      " 2544  361 2115 1635 2617 2454  317 1465]\n",
      "Topic 3\n",
      "[1029 1272 1280 1356 2585  927 2816 1691 1151 1060 2520 1250 2575 1238\n",
      " 2507 2532 1576  918  207  683 2636 2570 2602 1072 1323 1083 2627 1264\n",
      "  437 2642 2790 2654 1904 2557 2697 1115  985 1965  454 1548 2517 1686\n",
      "    3 2526 2531  159 1901 2768 2624 1897]\n",
      "Topic 4\n",
      "[ 663 1729 1396  243 2162 2652  588  751 1698 1532  195 1220  970 1657\n",
      "  533 2197 1038 1230 1426  743  495  278 2413 2814  955  650  863 1262\n",
      "  865 1423 2141 1048  206 1242 1320 1413  414  715 1275 2782 2354 2832\n",
      "    6 2783  299 1270  490  427 1043  171]\n",
      "Topic 5\n",
      "[ 333 2028  756  632 1952 2202 1364  240 1229  393  702 1380 1419 2326\n",
      " 2749  524  928 1599 2370  617 1520 1646  801 2048 2061  510  619 1614\n",
      "  483 2363 1146  995 2046 1525 2235 2175 1514 2733  736  996 1978 2037\n",
      "  688 1563 1693 1892  506 2052 1251  898]\n",
      "Topic 6\n",
      "[1042 1528 1907  173 1711 2113 1197   76  741 1002 1479 2315 1123 1225\n",
      " 1370  191 2272 1760 2208 1249 2256  382 2480  845 1639  260 1234 1645\n",
      " 1700  164 1407  452 2100  709 2180 1662 2574 1450 1719 1055 2135 1629\n",
      " 1443 2484 1587 1751 1780  609 1656 1659]\n",
      "Topic 7\n",
      "[2384  706  150 2188 1810 2415   48 2224  577 1483 1111 2447  652 2320\n",
      " 2016  810 2142 1130 2226 2071  606 2394 2049  857 2357  212 1444 2438\n",
      " 2423 2437  735 2317 1434  589 1999 1345 1821 1694 2047 2485 2040  897\n",
      " 2084  821 2323 2034 2373 2177 2076 2417]\n",
      "Topic 8\n",
      "[1969 2742  541 2739 2274 1106 1000  172 1460 1737 2548 1283 1363 2812\n",
      " 2475  998 1295 1580 1105 1738  507 1070 2738 1239  400 1424 1028 1367\n",
      " 1509  722 2123 2004 2741  788 2766 2801 1615 1864  885 2249 2717 1865\n",
      " 2830 1917 2788 2273 2737  267 1261 2594]\n",
      "Topic 9\n",
      "[  49 1541 1119  844 1302  204  894  703  248 2668 1859 2659  651 1818\n",
      " 1568  476 2210  412  293 2172  520 2535 1747  232 1997 1595 1814  867\n",
      " 2295  127 1138 2128  747 1634   30  110  484 1534  497  423 2771 2369\n",
      " 1137  771 1872 1480 1212  981 2331 2481]\n"
     ]
    }
   ],
   "source": [
    "np.random.seed(20)\n",
    "experiment_index = []\n",
    "for topic_i in range(len(topic_list)):\n",
    "    print(f\"Topic {topic_i}\")\n",
    "    topic_all_indexes = narrative_with_topic_model[narrative_with_topic_model[\"most_probable_topic\"] == topic_i].index\n",
    "    sample_size = min(50, len(topic_all_indexes))\n",
    "    selected_indexes = np.random.choice(topic_all_indexes, sample_size, replace = False)\n",
    "    print(selected_indexes)\n",
    "    experiment_index.extend(selected_indexes)"
   ]
  },
  {
   "cell_type": "code",
   "execution_count": 73,
   "id": "955a0c7d-9e63-4cf8-b9f6-6d6dc1727c5f",
   "metadata": {
    "tags": []
   },
   "outputs": [],
   "source": [
    "narrative_with_topic_model.loc[experiment_index,\"selected_for_experiment\"] = 1"
   ]
  },
  {
   "cell_type": "code",
   "execution_count": 78,
   "id": "e3219e41-2c99-43f4-9b49-f2cd52a3d560",
   "metadata": {
    "tags": []
   },
   "outputs": [
    {
     "data": {
      "text/plain": [
       "NaN    2338\n",
       "1.0     501\n",
       "Name: selected_for_experiment, dtype: int64"
      ]
     },
     "execution_count": 78,
     "metadata": {},
     "output_type": "execute_result"
    }
   ],
   "source": [
    "narrative_with_topic_model[\"selected_for_experiment\"].value_counts(dropna=False)"
   ]
  },
  {
   "cell_type": "code",
   "execution_count": 79,
   "id": "ad7b979f-6678-4359-8a54-7d85cb7458f2",
   "metadata": {
    "tags": []
   },
   "outputs": [],
   "source": [
    "narrative_with_topic_model.to_csv(\"../narrative_detection/narrative_post_with_topic_model.csv\", index=False)"
   ]
  },
  {
   "cell_type": "markdown",
   "id": "8c54a13c-affe-4cc4-ad9e-5b8e18cb6aec",
   "metadata": {},
   "source": [
    "## Analyze results of trigger extraction on topic-based samples"
   ]
  },
  {
   "cell_type": "code",
   "execution_count": 15,
   "id": "942f1dfa-192f-49b3-90e2-88227eac46db",
   "metadata": {
    "tags": []
   },
   "outputs": [
    {
     "name": "stdout",
     "output_type": "stream",
     "text": [
      "350\n"
     ]
    }
   ],
   "source": [
    "trigger_extraction_result = pd.read_csv(\"./results/experiment_trigger_extraction_result_500_from_topic_model_zero_shot.csv\", keep_default_na = False)\n",
    "print(len(trigger_extraction_result))\n",
    "for i in range(3):\n",
    "    trigger_extraction_result[f\"trigger_{i}\"] = trigger_extraction_result[f\"trigger_{i}\"].apply(lambda x: ast.literal_eval(x) if x.startswith(\"[\") else (None if x == \"\" else [x]))"
   ]
  },
  {
   "cell_type": "code",
   "execution_count": 16,
   "id": "5d40bebf-b3ec-4bd0-8d6d-61f2ad980472",
   "metadata": {
    "tags": []
   },
   "outputs": [
    {
     "data": {
      "text/plain": [
       "yes    207\n",
       "no     136\n",
       "         7\n",
       "Name: has_trigger_2, dtype: int64"
      ]
     },
     "execution_count": 16,
     "metadata": {},
     "output_type": "execute_result"
    }
   ],
   "source": [
    "trigger_extraction_result[\"has_trigger_2\"].value_counts()"
   ]
  },
  {
   "cell_type": "code",
   "execution_count": 17,
   "id": "839db088-599d-4345-abcd-d4df86ddc1b2",
   "metadata": {
    "tags": []
   },
   "outputs": [
    {
     "data": {
      "text/html": [
       "<div>\n",
       "<style scoped>\n",
       "    .dataframe tbody tr th:only-of-type {\n",
       "        vertical-align: middle;\n",
       "    }\n",
       "\n",
       "    .dataframe tbody tr th {\n",
       "        vertical-align: top;\n",
       "    }\n",
       "\n",
       "    .dataframe thead tr th {\n",
       "        text-align: left;\n",
       "    }\n",
       "\n",
       "    .dataframe thead tr:last-of-type th {\n",
       "        text-align: right;\n",
       "    }\n",
       "</style>\n",
       "<table border=\"1\" class=\"dataframe\">\n",
       "  <thead>\n",
       "    <tr>\n",
       "      <th></th>\n",
       "      <th>trigger_0</th>\n",
       "      <th>trigger_1</th>\n",
       "      <th>trigger_2</th>\n",
       "    </tr>\n",
       "    <tr>\n",
       "      <th></th>\n",
       "      <th>most_common</th>\n",
       "      <th>most_common</th>\n",
       "      <th>most_common</th>\n",
       "    </tr>\n",
       "    <tr>\n",
       "      <th>most_probable_topic</th>\n",
       "      <th></th>\n",
       "      <th></th>\n",
       "      <th></th>\n",
       "    </tr>\n",
       "  </thead>\n",
       "  <tbody>\n",
       "    <tr>\n",
       "      <th>0</th>\n",
       "      <td>[(None, 16), (fear of failure, 1), (loss of father, boyfriend, job, school, and health issues, 1), (PTSD, 1), (nutritionist left, 1)]</td>\n",
       "      <td>[(None, 16), (being told her athletic body wasn't feminine, 1), (father, 1), (watching old colleagues now drop, 1), (two deaths of former colleagues over the weekend, 1)]</td>\n",
       "      <td>[(None, 14), (obsession with vanity and physique, 1), (problems with immunity, 1), (nutritionist leaving without addressing issues, financial strain, pressure from friends and personal issues, 1), (watching old colleagues now drop, 1)]</td>\n",
       "    </tr>\n",
       "    <tr>\n",
       "      <th>1</th>\n",
       "      <td>[(None, 14), (scared to gain weight, 1), (poor fitting immediate denture, 1), (physical and emotional issues, 1), (Ate more than usual at a social gathering, 1)]</td>\n",
       "      <td>[(None, 14), (eating more than usual, 2), (found an old corset, 1), (binge behavior, 1), (weight gain, 1)]</td>\n",
       "      <td>[(None, 14), (scared to gain weight, 1), (fear of health impacts, 1), (binge behavior, 1), (cravings, 1)]</td>\n",
       "    </tr>\n",
       "    <tr>\n",
       "      <th>2</th>\n",
       "      <td>[(None, 11), (anxiety, 1), (lack of control, 1), (supply chain, 1), (grocery stores, 1)]</td>\n",
       "      <td>[(None, 11), (feeling like a failure, 2), (anxiety around depraving oneself, 1), (double tracking calories, 1), (feeling fat and hot, 1)]</td>\n",
       "      <td>[(None, 14), (new antipsychotic medication, 1), (overtracking calories, 1), (pandemic, 1), (income changes, 1)]</td>\n",
       "    </tr>\n",
       "    <tr>\n",
       "      <th>3</th>\n",
       "      <td>[(None, 11), (Adderall, 1), (fear of waking up mid-procedure, 1), (difficulty with fasting of drinks, 1), (only eating one meal per day, 1)]</td>\n",
       "      <td>[(None, 11), (constipation, 2), (blood glucose levels dropping and cortisol rising, 2), (doctor's insensitivity to the seriousness of her symptoms, 1), (lack of hunger, 1)]</td>\n",
       "      <td>[(None, 12), (constipation, 2), (severe PTSD, 1), (exercising and purging, 1), (GI specialist's attitude and inappropriate behavior/actions, 1)]</td>\n",
       "    </tr>\n",
       "    <tr>\n",
       "      <th>4</th>\n",
       "      <td>[(None, 11), (stressful and traumatic experiences last Autumn, 1), (roommate's comment about olive oil, 1), (her mom refusing surgery for cancer because she thinks it will make her gain weight, 1), (my biological mother told me that she thought I was disgustingly skinny, 1)]</td>\n",
       "      <td>[(None, 10), (stressful and traumatic experience in Autumn, 1), (roommate said olive oil is healthy and good for you, made me feel paranoid and like my roommate wants me to be fat., 1), (older folks in the neighborhood who are bored, 1), (foto/gif where someone is very thin, 1)]</td>\n",
       "      <td>[(None, 12), (stressful and traumatic events in last autumn, 1), (roommate saying olive oil is healthy calories, 1), (mother commenting on weight gain, 1), (my biological mother, 1)]</td>\n",
       "    </tr>\n",
       "    <tr>\n",
       "      <th>5</th>\n",
       "      <td>[(None, 16), (wanting to be skinny, 1), (finding old clothes that are now too big, 1), (hate being anything other than a Small, ever, 1), (being terrible at ED life and gaining most of the weight back, 1)]</td>\n",
       "      <td>[(None, 16), (put on bikini, 1), (gaining weight, 1), (existing clothes don‚Äôt fit, 1), (sizing chart showed true weight, 1)]</td>\n",
       "      <td>[(None, 14), (put on a bikini, 1), (my disordered mind is like ‚Äúyou‚Äôre fat and he knows‚Äù, 1), (COVID isolation and lifestyle change, 1), (need to purchase new clothes, 1)]</td>\n",
       "    </tr>\n",
       "    <tr>\n",
       "      <th>6</th>\n",
       "      <td>[(None, 11), (mom‚Äôs text, 1), (gender dysphoria, 1), (financial concerns, 1), (the termination of outpatient dietician for non-compliance, 1)]</td>\n",
       "      <td>[(None, 11), (mom mentioned sending to residential program, 1), (slow work day, 1), (Termination of new outpatient dietician after 2 sessions, 1), (Trouble getting a counselor, due to insurance and financial issues, 1)]</td>\n",
       "      <td>[(None, 14), (seeing text from mom, 1), (Parents asking her to cut her work hours and not stay home, 1), (job hunt, 1), (rejection emails, 1)]</td>\n",
       "    </tr>\n",
       "    <tr>\n",
       "      <th>7</th>\n",
       "      <td>[(None, 18), (relapse into ED, 1), (my dietician doesn‚Äôt believe I could possibly have extreme hunger as I am not underweight, 1), (family history of breast cancer and possible ovarian cancer, 1), (hasn‚Äôt had period since February, 1)]</td>\n",
       "      <td>[(None, 18), (relapse into my ED, 1), (my dietician doesn‚Äôt believe I could possibly have extreme hunger as I am not underweight, 1), (missing menstrual period since February, 1), (family history of breast cancer, 1)]</td>\n",
       "      <td>[(None, 18), (blood circulation problems, 1), (my dietician doesn‚Äôt believe I could possibly have extreme hunger as I am not underweight and she‚Äôs honestly scared me into thinking that I have now have binge eating disorder, 1), (getting an ultrasound due to family history of breast cancer, 1), (haven‚Äôt had my period since the first week February, 1)]</td>\n",
       "    </tr>\n",
       "    <tr>\n",
       "      <th>8</th>\n",
       "      <td>[(None, 16), (stressful situations, 2), (watching 1000lbs sisters, 1), (losing all friends, 1), (move to UK, 1)]</td>\n",
       "      <td>[(None, 17), (need for control, 1), (photo on Instagram for birthday, 1), (feeling lonely and unable to make new friends, 1), (moving to a new continent and losing friends, 1)]</td>\n",
       "      <td>[(None, 17), (friends suggesting medication for depression when she does not have depression, 1), (Photo posted on Instagram for her birthday, 1), (being unable to adapt to new environment or make new friends, 1), (moving to a new continent and losing all friends, 1)]</td>\n",
       "    </tr>\n",
       "    <tr>\n",
       "      <th>9</th>\n",
       "      <td>[(None, 12), (gained weight despite eating more, 1), (thinking about a particular chocolate in the fridge, 1), (reduced social pressure and increased control over food, 1), (overwhelming urge to know the number on the scale, 1)]</td>\n",
       "      <td>[(None, 12), (gaining weight despite calorie increase, 1), (thinking about specific food, 1), (overwhelming urge to know the number on the scale, 1), (fluctuations in weight during the day, 1)]</td>\n",
       "      <td>[(None, 13), (weight gain despite calorie restriction, 1), (tracking calories for a nutrition class, 1), (comparison with brother’s BMI, 1), (brother mentioning writer’s eating in front of family, 1)]</td>\n",
       "    </tr>\n",
       "  </tbody>\n",
       "</table>\n",
       "</div>"
      ],
      "text/plain": [
       "                                                                                                                                                                                                                                                                                               trigger_0                                                                                                                                                                                                                                                                                trigger_1                                                                                                                                                                                                                                                                                                                                                               trigger_2\n",
       "                                                                                                                                                                                                                                                                                             most_common                                                                                                                                                                                                                                                                              most_common                                                                                                                                                                                                                                                                                                                                                             most_common\n",
       "most_probable_topic                                                                                                                                                                                                                                                                                                                                                                                                                                                                                                                                                                                                                                                                                                                                                                                                                                                                                                                                                      \n",
       "0                                                                                                                                                                  [(None, 16), (fear of failure, 1), (loss of father, boyfriend, job, school, and health issues, 1), (PTSD, 1), (nutritionist left, 1)]                                                                                                               [(None, 16), (being told her athletic body wasn't feminine, 1), (father, 1), (watching old colleagues now drop, 1), (two deaths of former colleagues over the weekend, 1)]                                                                                                                             [(None, 14), (obsession with vanity and physique, 1), (problems with immunity, 1), (nutritionist leaving without addressing issues, financial strain, pressure from friends and personal issues, 1), (watching old colleagues now drop, 1)]\n",
       "1                                                                                                                                      [(None, 14), (scared to gain weight, 1), (poor fitting immediate denture, 1), (physical and emotional issues, 1), (Ate more than usual at a social gathering, 1)]                                                                                                                                                                               [(None, 14), (eating more than usual, 2), (found an old corset, 1), (binge behavior, 1), (weight gain, 1)]                                                                                                                                                                                                                                                               [(None, 14), (scared to gain weight, 1), (fear of health impacts, 1), (binge behavior, 1), (cravings, 1)]\n",
       "2                                                                                                                                                                                                               [(None, 11), (anxiety, 1), (lack of control, 1), (supply chain, 1), (grocery stores, 1)]                                                                                                                                                [(None, 11), (feeling like a failure, 2), (anxiety around depraving oneself, 1), (double tracking calories, 1), (feeling fat and hot, 1)]                                                                                                                                                                                                                                                         [(None, 14), (new antipsychotic medication, 1), (overtracking calories, 1), (pandemic, 1), (income changes, 1)]\n",
       "3                                                                                                                                                           [(None, 11), (Adderall, 1), (fear of waking up mid-procedure, 1), (difficulty with fasting of drinks, 1), (only eating one meal per day, 1)]                                                                                                             [(None, 11), (constipation, 2), (blood glucose levels dropping and cortisol rising, 2), (doctor's insensitivity to the seriousness of her symptoms, 1), (lack of hunger, 1)]                                                                                                                                                                                                                        [(None, 12), (constipation, 2), (severe PTSD, 1), (exercising and purging, 1), (GI specialist's attitude and inappropriate behavior/actions, 1)]\n",
       "4                    [(None, 11), (stressful and traumatic experiences last Autumn, 1), (roommate's comment about olive oil, 1), (her mom refusing surgery for cancer because she thinks it will make her gain weight, 1), (my biological mother told me that she thought I was disgustingly skinny, 1)]  [(None, 10), (stressful and traumatic experience in Autumn, 1), (roommate said olive oil is healthy and good for you, made me feel paranoid and like my roommate wants me to be fat., 1), (older folks in the neighborhood who are bored, 1), (foto/gif where someone is very thin, 1)]                                                                                                                                                                                  [(None, 12), (stressful and traumatic events in last autumn, 1), (roommate saying olive oil is healthy calories, 1), (mother commenting on weight gain, 1), (my biological mother, 1)]\n",
       "5                                                                                          [(None, 16), (wanting to be skinny, 1), (finding old clothes that are now too big, 1), (hate being anything other than a Small, ever, 1), (being terrible at ED life and gaining most of the weight back, 1)]                                                                                                                                                           [(None, 16), (put on bikini, 1), (gaining weight, 1), (existing clothes don‚Äôt fit, 1), (sizing chart showed true weight, 1)]                                                                                                                                                                                       [(None, 14), (put on a bikini, 1), (my disordered mind is like ‚Äúyou‚Äôre fat and he knows‚Äù, 1), (COVID isolation and lifestyle change, 1), (need to purchase new clothes, 1)]\n",
       "6                                                                                                                                                       [(None, 11), (mom‚Äôs text, 1), (gender dysphoria, 1), (financial concerns, 1), (the termination of outpatient dietician for non-compliance, 1)]                                                              [(None, 11), (mom mentioned sending to residential program, 1), (slow work day, 1), (Termination of new outpatient dietician after 2 sessions, 1), (Trouble getting a counselor, due to insurance and financial issues, 1)]                                                                                                                                                                                                                          [(None, 14), (seeing text from mom, 1), (Parents asking her to cut her work hours and not stay home, 1), (job hunt, 1), (rejection emails, 1)]\n",
       "7                                                        [(None, 18), (relapse into ED, 1), (my dietician doesn‚Äôt believe I could possibly have extreme hunger as I am not underweight, 1), (family history of breast cancer and possible ovarian cancer, 1), (hasn‚Äôt had period since February, 1)]                                                              [(None, 18), (relapse into my ED, 1), (my dietician doesn‚Äôt believe I could possibly have extreme hunger as I am not underweight, 1), (missing menstrual period since February, 1), (family history of breast cancer, 1)]  [(None, 18), (blood circulation problems, 1), (my dietician doesn‚Äôt believe I could possibly have extreme hunger as I am not underweight and she‚Äôs honestly scared me into thinking that I have now have binge eating disorder, 1), (getting an ultrasound due to family history of breast cancer, 1), (haven‚Äôt had my period since the first week February, 1)]\n",
       "8                                                                                                                                                                                       [(None, 16), (stressful situations, 2), (watching 1000lbs sisters, 1), (losing all friends, 1), (move to UK, 1)]                                                                                                         [(None, 17), (need for control, 1), (photo on Instagram for birthday, 1), (feeling lonely and unable to make new friends, 1), (moving to a new continent and losing friends, 1)]                                                                                            [(None, 17), (friends suggesting medication for depression when she does not have depression, 1), (Photo posted on Instagram for her birthday, 1), (being unable to adapt to new environment or make new friends, 1), (moving to a new continent and losing all friends, 1)]\n",
       "9                                                                   [(None, 12), (gained weight despite eating more, 1), (thinking about a particular chocolate in the fridge, 1), (reduced social pressure and increased control over food, 1), (overwhelming urge to know the number on the scale, 1)]                                                                                        [(None, 12), (gaining weight despite calorie increase, 1), (thinking about specific food, 1), (overwhelming urge to know the number on the scale, 1), (fluctuations in weight during the day, 1)]                                                                                                                                                                [(None, 13), (weight gain despite calorie restriction, 1), (tracking calories for a nutrition class, 1), (comparison with brother’s BMI, 1), (brother mentioning writer’s eating in front of family, 1)]"
      ]
     },
     "execution_count": 17,
     "metadata": {},
     "output_type": "execute_result"
    }
   ],
   "source": [
    "def most_common(x):\n",
    "    top_5 = x.explode().value_counts(dropna=False)[:5]\n",
    "    return [(x, c) for x, c in zip(top_5.index, top_5)]\n",
    "trigger_extraction_result.groupby([\"most_probable_topic\"]).agg({\n",
    "    \"trigger_0\": [most_common],\n",
    "    \"trigger_1\": [most_common],\n",
    "    \"trigger_2\": [most_common],\n",
    "})"
   ]
  }
 ],
 "metadata": {
  "kernelspec": {
   "display_name": "Python 3 (ipykernel)",
   "language": "python",
   "name": "python3"
  },
  "language_info": {
   "codemirror_mode": {
    "name": "ipython",
    "version": 3
   },
   "file_extension": ".py",
   "mimetype": "text/x-python",
   "name": "python",
   "nbconvert_exporter": "python",
   "pygments_lexer": "ipython3",
   "version": "3.8.16"
  }
 },
 "nbformat": 4,
 "nbformat_minor": 5
}
