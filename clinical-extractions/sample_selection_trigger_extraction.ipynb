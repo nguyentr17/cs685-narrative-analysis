{
 "cells": [
  {
   "cell_type": "code",
   "execution_count": 11,
   "id": "f412678a-6e15-498c-879b-e16e3165eb35",
   "metadata": {
    "tags": []
   },
   "outputs": [],
   "source": [
    "import pandas as pd\n",
    "import ast\n",
    "import numpy as np"
   ]
  },
  {
   "cell_type": "code",
   "execution_count": 41,
   "id": "c88af02c-500c-410a-866c-c83bc8075ba7",
   "metadata": {
    "tags": []
   },
   "outputs": [],
   "source": [
    "pd.set_option('display.max_rows', 500)\n",
    "pd.set_option('display.max_colwidth', 500)\n",
    "pd.set_option('display.width', 1000)\n"
   ]
  },
  {
   "cell_type": "code",
   "execution_count": 12,
   "id": "2d31abef-bdbe-4c15-a1e8-18ca2b9ad38c",
   "metadata": {
    "tags": []
   },
   "outputs": [
    {
     "name": "stdout",
     "output_type": "stream",
     "text": [
      "Index(['Unnamed: 0', 'subreddit_id', 'author', 'selftext', 'title', 'id',\n",
      "       'created_utc', 'Topic Distribution'],\n",
      "      dtype='object')\n"
     ]
    },
    {
     "data": {
      "text/html": [
       "<div>\n",
       "<style scoped>\n",
       "    .dataframe tbody tr th:only-of-type {\n",
       "        vertical-align: middle;\n",
       "    }\n",
       "\n",
       "    .dataframe tbody tr th {\n",
       "        vertical-align: top;\n",
       "    }\n",
       "\n",
       "    .dataframe thead th {\n",
       "        text-align: right;\n",
       "    }\n",
       "</style>\n",
       "<table border=\"1\" class=\"dataframe\">\n",
       "  <thead>\n",
       "    <tr style=\"text-align: right;\">\n",
       "      <th></th>\n",
       "      <th>Unnamed: 0</th>\n",
       "      <th>subreddit_id</th>\n",
       "      <th>author</th>\n",
       "      <th>selftext</th>\n",
       "      <th>title</th>\n",
       "      <th>id</th>\n",
       "      <th>created_utc</th>\n",
       "      <th>Topic Distribution</th>\n",
       "    </tr>\n",
       "  </thead>\n",
       "  <tbody>\n",
       "    <tr>\n",
       "      <th>0</th>\n",
       "      <td>1</td>\n",
       "      <td>t5_o3plh</td>\n",
       "      <td>-CreamyPie-</td>\n",
       "      <td>Hello!\\n\\nIm 11 and Im a boy self recovering f...</td>\n",
       "      <td>Fear Food Friday!! So far its successful</td>\n",
       "      <td>gbj0rh</td>\n",
       "      <td>1588343070</td>\n",
       "      <td>[0.11385973850293842, 0.3352082928986615, 0.20...</td>\n",
       "    </tr>\n",
       "    <tr>\n",
       "      <th>1</th>\n",
       "      <td>1</td>\n",
       "      <td>t5_o3plh</td>\n",
       "      <td>-CreamyPie-</td>\n",
       "      <td>Alright so Its wednesday the day im typing thi...</td>\n",
       "      <td>Fear Food Friday is almost here.</td>\n",
       "      <td>gagddu</td>\n",
       "      <td>1588190127</td>\n",
       "      <td>[0.11385973850293842, 0.47646002034584006, 0.1...</td>\n",
       "    </tr>\n",
       "    <tr>\n",
       "      <th>2</th>\n",
       "      <td>1</td>\n",
       "      <td>t5_o3plh</td>\n",
       "      <td>-CreamyPie-</td>\n",
       "      <td>Im 11, Im a boy, you've probably seen my other...</td>\n",
       "      <td>Smoothie!!</td>\n",
       "      <td>g7xk05</td>\n",
       "      <td>1587836033</td>\n",
       "      <td>[0.020330066198061984, 0.5405101500269072, 0.2...</td>\n",
       "    </tr>\n",
       "    <tr>\n",
       "      <th>3</th>\n",
       "      <td>22</td>\n",
       "      <td>t5_s5o7i</td>\n",
       "      <td>194569324</td>\n",
       "      <td>Just want to get this off my chest because I d...</td>\n",
       "      <td>Hardcore restricting, close to being discharge...</td>\n",
       "      <td>g3255g</td>\n",
       "      <td>1587130632</td>\n",
       "      <td>[0.08260721895128373, 0.00473008524034919, 0.4...</td>\n",
       "    </tr>\n",
       "    <tr>\n",
       "      <th>4</th>\n",
       "      <td>22</td>\n",
       "      <td>t5_s5o7i</td>\n",
       "      <td>194569324</td>\n",
       "      <td>I feel horrible because I love him so much, bu...</td>\n",
       "      <td>My boyfriend triggers my eating disorder.</td>\n",
       "      <td>fvycov</td>\n",
       "      <td>1586178189</td>\n",
       "      <td>[0.01233986429530161, 0.4562169014396947, 0.32...</td>\n",
       "    </tr>\n",
       "  </tbody>\n",
       "</table>\n",
       "</div>"
      ],
      "text/plain": [
       "   Unnamed: 0 subreddit_id       author  \\\n",
       "0           1     t5_o3plh  -CreamyPie-   \n",
       "1           1     t5_o3plh  -CreamyPie-   \n",
       "2           1     t5_o3plh  -CreamyPie-   \n",
       "3          22     t5_s5o7i    194569324   \n",
       "4          22     t5_s5o7i    194569324   \n",
       "\n",
       "                                            selftext  \\\n",
       "0  Hello!\\n\\nIm 11 and Im a boy self recovering f...   \n",
       "1  Alright so Its wednesday the day im typing thi...   \n",
       "2  Im 11, Im a boy, you've probably seen my other...   \n",
       "3  Just want to get this off my chest because I d...   \n",
       "4  I feel horrible because I love him so much, bu...   \n",
       "\n",
       "                                               title      id  created_utc  \\\n",
       "0           Fear Food Friday!! So far its successful  gbj0rh   1588343070   \n",
       "1                   Fear Food Friday is almost here.  gagddu   1588190127   \n",
       "2                                         Smoothie!!  g7xk05   1587836033   \n",
       "3  Hardcore restricting, close to being discharge...  g3255g   1587130632   \n",
       "4          My boyfriend triggers my eating disorder.  fvycov   1586178189   \n",
       "\n",
       "                                  Topic Distribution  \n",
       "0  [0.11385973850293842, 0.3352082928986615, 0.20...  \n",
       "1  [0.11385973850293842, 0.47646002034584006, 0.1...  \n",
       "2  [0.020330066198061984, 0.5405101500269072, 0.2...  \n",
       "3  [0.08260721895128373, 0.00473008524034919, 0.4...  \n",
       "4  [0.01233986429530161, 0.4562169014396947, 0.32...  "
      ]
     },
     "execution_count": 12,
     "metadata": {},
     "output_type": "execute_result"
    }
   ],
   "source": [
    "post_with_topic = pd.read_csv(\"../topic-modeling/data/positive_topic_dist.csv\")\n",
    "print(post_with_topic.columns)\n",
    "post_with_topic[\"Topic Distribution\"] = post_with_topic[\"Topic Distribution\"].apply(lambda x: ast.literal_eval(x))\n",
    "post_with_topic.head()"
   ]
  },
  {
   "cell_type": "code",
   "execution_count": 13,
   "id": "0659df76-6341-4285-9e4d-f256b6d7baa9",
   "metadata": {
    "tags": []
   },
   "outputs": [],
   "source": [
    "topic_list = [\n",
    "    'NUM treatment get work need year time therapist last back', #0\n",
    " 'eat food eating day meal hungry like meals calories binge',    #1\n",
    " 'life recovery people body self nNUM things would every love',  #2 \n",
    " 'look body like weight fat hate see skinny people always',\n",
    " 'NUM eat ate chocolate foods sugar cream food cake one',\n",
    " 'NUM weight gain back eating months lose lost still body',\n",
    " 'like know feel want really even eating get think never',\n",
    " 'said told didn mom family made got would one went',\n",
    " 'doctor blood take heart symptoms hospital taking doctors medication pain',\n",
    " 'like NUM feel day want get today time days eat']"
   ]
  },
  {
   "cell_type": "code",
   "execution_count": 14,
   "id": "b79fefab-5c79-4a4e-8530-562f7839e077",
   "metadata": {
    "tags": []
   },
   "outputs": [
    {
     "data": {
      "text/plain": [
       "2    1876\n",
       "9     253\n",
       "1     177\n",
       "4     141\n",
       "6      98\n",
       "7      79\n",
       "8      64\n",
       "5      60\n",
       "3      53\n",
       "0      39\n",
       "Name: most_probable_topic, dtype: int64"
      ]
     },
     "execution_count": 14,
     "metadata": {},
     "output_type": "execute_result"
    }
   ],
   "source": [
    "post_with_topic[\"most_probable_topic\"] = post_with_topic[\"Topic Distribution\"].apply(lambda x: np.array(x).argmax())\n",
    "post_with_topic[\"most_probable_topic\"].value_counts()"
   ]
  },
  {
   "cell_type": "code",
   "execution_count": 28,
   "id": "d87a69ac-eb8a-4511-ae0a-c84217ea510b",
   "metadata": {},
   "outputs": [
    {
     "name": "stdout",
     "output_type": "stream",
     "text": [
      "None                                                         137\n",
      "stress                                                         3\n",
      "gaining weight                                                 2\n",
      "losing weight                                                  2\n",
      "relapse                                                        2\n",
      "                                                            ... \n",
      "physical affection from friend                                 1\n",
      "birthday                                                       1\n",
      "mom ignoring signs                                             1\n",
      "seeing sibling lose weight                                     1\n",
      "recent weight gain after pregnancy and fight with partner      1\n",
      "Name: trigger_0, Length: 307, dtype: int64\n",
      "None                                       141\n",
      "depression                                   3\n",
      "gaining weight                               2\n",
      "stress                                       2\n",
      "anxiety                                      2\n",
      "                                          ... \n",
      "birthday                                     1\n",
      "lack of routine                              1\n",
      "lack of trust                                1\n",
      "snooping                                     1\n",
      "giving birth and taking a lot of weight      1\n",
      "Name: trigger_1, Length: 294, dtype: int64\n",
      "None                                                                     134\n",
      "stress                                                                     3\n",
      "body dysmorphia                                                            3\n",
      "anxiety                                                                    2\n",
      "occupational health meeting                                                1\n",
      "                                                                        ... \n",
      "conversations with her friend about her anorexia                           1\n",
      "being at a weight they haven't been in 3 years                             1\n",
      "difficulties with abilities due to weight gain                             1\n",
      "returning from trip and feeling like I have to make up for what I ate      1\n",
      "Recent weight gain, fight with partner                                     1\n",
      "Name: trigger_2, Length: 285, dtype: int64\n"
     ]
    }
   ],
   "source": [
    "trigger_extraction_result = pd.read_csv(\"./results/trigger_extraction_result_1682559339.705567.csv\", keep_default_na = False)\n",
    "for i in range(3):\n",
    "    trigger_extraction_result[f\"trigger_{i}\"] = trigger_extraction_result[f\"trigger_{i}\"].apply(lambda x: ast.literal_eval(x) if x.startswith(\"[\") else (None if x == \"\" else [x]))\n",
    "    print(trigger_extraction_result[f\"trigger_{i}\"].explode().value_counts(dropna=False))\n",
    "    "
   ]
  },
  {
   "cell_type": "code",
   "execution_count": null,
   "id": "51e97b9a-c995-4267-b6c8-75a77f188981",
   "metadata": {},
   "outputs": [],
   "source": []
  },
  {
   "cell_type": "code",
   "execution_count": 29,
   "id": "1c529280-a97d-45b7-8b64-6274002cebd4",
   "metadata": {
    "tags": []
   },
   "outputs": [],
   "source": [
    "trigger_extraction_result = trigger_extraction_result.merge(post_with_topic[[\"id\",\"most_probable_topic\"]], on=\"id\", how=\"left\")"
   ]
  },
  {
   "cell_type": "code",
   "execution_count": 43,
   "id": "ba6e3b02-7a56-42e9-8f0f-74842947dd1b",
   "metadata": {
    "tags": []
   },
   "outputs": [
    {
     "data": {
      "text/plain": [
       "NaN    294\n",
       "2.0      4\n",
       "3.0      1\n",
       "4.0      1\n",
       "Name: most_probable_topic, dtype: int64"
      ]
     },
     "execution_count": 43,
     "metadata": {},
     "output_type": "execute_result"
    }
   ],
   "source": [
    "trigger_extraction_result[\"most_probable_topic\"].value_counts(dropna=False)"
   ]
  },
  {
   "cell_type": "code",
   "execution_count": 42,
   "id": "61cbeadc-e276-4dcd-83ee-dc835c6293da",
   "metadata": {
    "tags": []
   },
   "outputs": [
    {
     "data": {
      "text/html": [
       "<div>\n",
       "<style scoped>\n",
       "    .dataframe tbody tr th:only-of-type {\n",
       "        vertical-align: middle;\n",
       "    }\n",
       "\n",
       "    .dataframe tbody tr th {\n",
       "        vertical-align: top;\n",
       "    }\n",
       "\n",
       "    .dataframe thead tr th {\n",
       "        text-align: left;\n",
       "    }\n",
       "\n",
       "    .dataframe thead tr:last-of-type th {\n",
       "        text-align: right;\n",
       "    }\n",
       "</style>\n",
       "<table border=\"1\" class=\"dataframe\">\n",
       "  <thead>\n",
       "    <tr>\n",
       "      <th></th>\n",
       "      <th>trigger_0</th>\n",
       "      <th>trigger_1</th>\n",
       "      <th>trigger_2</th>\n",
       "    </tr>\n",
       "    <tr>\n",
       "      <th></th>\n",
       "      <th>most_common</th>\n",
       "      <th>most_common</th>\n",
       "      <th>most_common</th>\n",
       "    </tr>\n",
       "    <tr>\n",
       "      <th>most_probable_topic</th>\n",
       "      <th></th>\n",
       "      <th></th>\n",
       "      <th></th>\n",
       "    </tr>\n",
       "  </thead>\n",
       "  <tbody>\n",
       "    <tr>\n",
       "      <th>2.0</th>\n",
       "      <td>[(None, 2), (eating cake at birthday parties, 1), (stomach bloating after eating, 1), (winter, 1)]</td>\n",
       "      <td>[(None, 3), (stomach bloating after eating, 1)]</td>\n",
       "      <td>[(None, 3), (stomach bloating after eating, 1)]</td>\n",
       "    </tr>\n",
       "    <tr>\n",
       "      <th>3.0</th>\n",
       "      <td>[(stopped taking laxatives, 1), (suffering with backed up bloat and discomfort, 1)]</td>\n",
       "      <td>[(stopped taking laxatives, 1), (suffering with the backed up bloat and discomfort, 1)]</td>\n",
       "      <td>[(stopped taking laxatives, 1), (suffering with backed up bloat and discomfort, 1)]</td>\n",
       "    </tr>\n",
       "    <tr>\n",
       "      <th>4.0</th>\n",
       "      <td>[(she is meeting with the girl she changed me with next Wednesday and I can't shake the thought that she preferred her over me., 1)]</td>\n",
       "      <td>[(finding out that girlfriend made out with someone else, 1), (girlfriend meeting with the person she cheated on the writer with, 1)]</td>\n",
       "      <td>[(she is meeting with the girl she cheated on me with next Wednesday, 1)]</td>\n",
       "    </tr>\n",
       "  </tbody>\n",
       "</table>\n",
       "</div>"
      ],
      "text/plain": [
       "                                                                                                                                                trigger_0                                                                                                                              trigger_1                                                                            trigger_2\n",
       "                                                                                                                                              most_common                                                                                                                            most_common                                                                          most_common\n",
       "most_probable_topic                                                                                                                                                                                                                                                                                                                                                                  \n",
       "2.0                                                    [(None, 2), (eating cake at birthday parties, 1), (stomach bloating after eating, 1), (winter, 1)]                                                                                        [(None, 3), (stomach bloating after eating, 1)]                                      [(None, 3), (stomach bloating after eating, 1)]\n",
       "3.0                                                                   [(stopped taking laxatives, 1), (suffering with backed up bloat and discomfort, 1)]                                                [(stopped taking laxatives, 1), (suffering with the backed up bloat and discomfort, 1)]  [(stopped taking laxatives, 1), (suffering with backed up bloat and discomfort, 1)]\n",
       "4.0                  [(she is meeting with the girl she changed me with next Wednesday and I can't shake the thought that she preferred her over me., 1)]  [(finding out that girlfriend made out with someone else, 1), (girlfriend meeting with the person she cheated on the writer with, 1)]            [(she is meeting with the girl she cheated on me with next Wednesday, 1)]"
      ]
     },
     "execution_count": 42,
     "metadata": {},
     "output_type": "execute_result"
    }
   ],
   "source": [
    "def most_common(x):\n",
    "    top_5 = x.explode().value_counts(dropna=False)[:5]\n",
    "    return [(x, c) for x, c in zip(top_5.index, top_5)]\n",
    "trigger_extraction_result.groupby([\"most_probable_topic\"]).agg({\n",
    "    \"trigger_0\": [most_common],\n",
    "    \"trigger_1\": [most_common],\n",
    "    \"trigger_2\": [most_common]\n",
    "})"
   ]
  },
  {
   "cell_type": "code",
   "execution_count": 9,
   "id": "09339629-1349-4d93-9b2f-76ab5ee31788",
   "metadata": {
    "tags": []
   },
   "outputs": [],
   "source": [
    "def get_jaccard_sim(str1, str2): \n",
    "    a = set(str1.split()) \n",
    "    b = set(str2.split())\n",
    "    c = a.intersection(b)\n",
    "    return float(len(c)) / (len(a) + len(b) - len(c))"
   ]
  },
  {
   "cell_type": "markdown",
   "id": "ac688028-b1ac-434e-a29f-748ee200c33a",
   "metadata": {},
   "source": [
    "## Create input file based on topic modeling"
   ]
  },
  {
   "cell_type": "code",
   "execution_count": 45,
   "id": "f2df7d94-040a-4d30-9bcd-8d290ef53247",
   "metadata": {
    "tags": []
   },
   "outputs": [
    {
     "name": "stdout",
     "output_type": "stream",
     "text": [
      "2839\n",
      "Index(['Unnamed: 0', 'selected_for_experiment', 'subreddit', 'selftext', 'author_fullname', 'title', 'score', 'link_flair_css_class', 'link_flair_text', 'author_flair_type', 'over_18', 'author_flair_text', 'subreddit_id', 'id', 'is_self', 'author', 'author_flair_css_class', 'permalink', 'url', 'created_utc', 'num_words', 'narrative_positive', 'narrative_negative', 'narrative_uncertain', 'narrative_label', 'predicted_narrative_label', 'most_probable_topic'], dtype='object')\n"
     ]
    }
   ],
   "source": [
    "full_narrative_df = pd.read_csv(\"../narrative_detection/annotated_narrative_posts_by_trained_classification.csv\")\n",
    "narrative_with_topic_model = full_narrative_df.merge(post_with_topic[[\"id\",\"most_probable_topic\"]], on=\"id\", how=\"inner\")\n",
    "print(len(narrative_with_topic_model))\n",
    "print(narrative_with_topic_model.columns)\n"
   ]
  },
  {
   "cell_type": "code",
   "execution_count": 51,
   "id": "d70a1de4-e0bb-434e-a004-ee2acf1b872d",
   "metadata": {
    "tags": []
   },
   "outputs": [
    {
     "name": "stdout",
     "output_type": "stream",
     "text": [
      "Topic 0\n",
      "[ 387 1984 1125  141 2215  923 1763  770  384 1360  657 1491 2500 2794\n",
      " 2111  462 2716 2281 1777  493 1313 1569 1622  567 2699  103  383  559\n",
      " 1714  690 1609  637 2793 2117 2409 1247 2056 2792]\n",
      "Topic 1\n",
      "[  83  765 2670 2199 2277  351  838 2465 1756 2514  445 1950  286 1402\n",
      " 2377 1998    9 1420  893 2471  869 2470  950 1793 2383  777 2003 1590\n",
      " 1285  643  592 2467 2163 2784 2633 1537 1378 1623 1991 1369   90 1414\n",
      " 2469 2776 1169 1761 1001  908  891 2472]\n",
      "Topic 2\n",
      "[ 713 2817  362 1044 1915  924  210 2542 1928   96  813 1811 1223 1721\n",
      "  725  192  407 2755 2011 1118  378 1349  481 2493 2779  323 2440  465\n",
      "  989 1858 1805 1792  564 1518 2620 1575 2799 2347 1437 1637 2606   84\n",
      " 2544  361 2115 1635 2617 2454  317 1465]\n",
      "Topic 3\n",
      "[1029 1272 1280 1356 2585  927 2816 1691 1151 1060 2520 1250 2575 1238\n",
      " 2507 2532 1576  918  207  683 2636 2570 2602 1072 1323 1083 2627 1264\n",
      "  437 2642 2790 2654 1904 2557 2697 1115  985 1965  454 1548 2517 1686\n",
      "    3 2526 2531  159 1901 2768 2624 1897]\n",
      "Topic 4\n",
      "[ 663 1729 1396  243 2162 2652  588  751 1698 1532  195 1220  970 1657\n",
      "  533 2197 1038 1230 1426  743  495  278 2413 2814  955  650  863 1262\n",
      "  865 1423 2141 1048  206 1242 1320 1413  414  715 1275 2782 2354 2832\n",
      "    6 2783  299 1270  490  427 1043  171]\n",
      "Topic 5\n",
      "[ 333 2028  756  632 1952 2202 1364  240 1229  393  702 1380 1419 2326\n",
      " 2749  524  928 1599 2370  617 1520 1646  801 2048 2061  510  619 1614\n",
      "  483 2363 1146  995 2046 1525 2235 2175 1514 2733  736  996 1978 2037\n",
      "  688 1563 1693 1892  506 2052 1251  898]\n",
      "Topic 6\n",
      "[1042 1528 1907  173 1711 2113 1197   76  741 1002 1479 2315 1123 1225\n",
      " 1370  191 2272 1760 2208 1249 2256  382 2480  845 1639  260 1234 1645\n",
      " 1700  164 1407  452 2100  709 2180 1662 2574 1450 1719 1055 2135 1629\n",
      " 1443 2484 1587 1751 1780  609 1656 1659]\n",
      "Topic 7\n",
      "[2384  706  150 2188 1810 2415   48 2224  577 1483 1111 2447  652 2320\n",
      " 2016  810 2142 1130 2226 2071  606 2394 2049  857 2357  212 1444 2438\n",
      " 2423 2437  735 2317 1434  589 1999 1345 1821 1694 2047 2485 2040  897\n",
      " 2084  821 2323 2034 2373 2177 2076 2417]\n",
      "Topic 8\n",
      "[1969 2742  541 2739 2274 1106 1000  172 1460 1737 2548 1283 1363 2812\n",
      " 2475  998 1295 1580 1105 1738  507 1070 2738 1239  400 1424 1028 1367\n",
      " 1509  722 2123 2004 2741  788 2766 2801 1615 1864  885 2249 2717 1865\n",
      " 2830 1917 2788 2273 2737  267 1261 2594]\n",
      "Topic 9\n",
      "[  49 1541 1119  844 1302  204  894  703  248 2668 1859 2659  651 1818\n",
      " 1568  476 2210  412  293 2172  520 2535 1747  232 1997 1595 1814  867\n",
      " 2295  127 1138 2128  747 1634   30  110  484 1534  497  423 2771 2369\n",
      " 1137  771 1872 1480 1212  981 2331 2481]\n"
     ]
    }
   ],
   "source": [
    "np.random.seed(20)\n",
    "experiment_index = []\n",
    "for topic_i in range(len(topic_list)):\n",
    "    print(f\"Topic {topic_i}\")\n",
    "    topic_all_indexes = narrative_with_topic_model[narrative_with_topic_model[\"most_probable_topic\"] == topic_i].index\n",
    "    sample_size = min(50, len(topic_all_indexes))\n",
    "    selected_indexes = np.random.choice(topic_all_indexes, sample_size, replace = False)\n",
    "    print(selected_indexes)\n",
    "    experiment_index.extend(selected_indexes)"
   ]
  },
  {
   "cell_type": "code",
   "execution_count": 73,
   "id": "955a0c7d-9e63-4cf8-b9f6-6d6dc1727c5f",
   "metadata": {
    "tags": []
   },
   "outputs": [],
   "source": [
    "narrative_with_topic_model.loc[experiment_index,\"selected_for_experiment\"] = 1"
   ]
  },
  {
   "cell_type": "code",
   "execution_count": 78,
   "id": "e3219e41-2c99-43f4-9b49-f2cd52a3d560",
   "metadata": {
    "tags": []
   },
   "outputs": [
    {
     "data": {
      "text/plain": [
       "NaN    2338\n",
       "1.0     501\n",
       "Name: selected_for_experiment, dtype: int64"
      ]
     },
     "execution_count": 78,
     "metadata": {},
     "output_type": "execute_result"
    }
   ],
   "source": [
    "narrative_with_topic_model[\"selected_for_experiment\"].value_counts(dropna=False)"
   ]
  },
  {
   "cell_type": "code",
   "execution_count": 79,
   "id": "ad7b979f-6678-4359-8a54-7d85cb7458f2",
   "metadata": {
    "tags": []
   },
   "outputs": [],
   "source": [
    "narrative_with_topic_model.to_csv(\"../narrative_detection/narrative_post_with_topic_model.csv\", index=False)"
   ]
  }
 ],
 "metadata": {
  "kernelspec": {
   "display_name": "Python 3 (ipykernel)",
   "language": "python",
   "name": "python3"
  },
  "language_info": {
   "codemirror_mode": {
    "name": "ipython",
    "version": 3
   },
   "file_extension": ".py",
   "mimetype": "text/x-python",
   "name": "python",
   "nbconvert_exporter": "python",
   "pygments_lexer": "ipython3",
   "version": "3.8.16"
  }
 },
 "nbformat": 4,
 "nbformat_minor": 5
}
