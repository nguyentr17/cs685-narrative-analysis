{
 "cells": [
  {
   "cell_type": "code",
   "execution_count": 42,
   "id": "d2ba859f",
   "metadata": {},
   "outputs": [],
   "source": [
    "import os\n",
    "import json\n",
    "import pandas as pd\n",
    "from sqlalchemy import text\n",
    "from sqlalchemy import create_engine\n",
    "from sqlalchemy.orm import sessionmaker\n",
    "import nltk\n",
    "from nltk.tokenize import word_tokenize\n",
    "from nltk.corpus import stopwords\n",
    "import numpy as np\n",
    "import gensim"
   ]
  },
  {
   "cell_type": "code",
   "execution_count": 43,
   "id": "d1e21220",
   "metadata": {},
   "outputs": [],
   "source": [
    "normalized_dir = \"../polarities/normalized\""
   ]
  },
  {
   "cell_type": "code",
   "execution_count": 44,
   "id": "7484b4b3",
   "metadata": {
    "scrolled": true
   },
   "outputs": [
    {
     "data": {
      "text/plain": [
       "20"
      ]
     },
     "execution_count": 44,
     "metadata": {},
     "output_type": "execute_result"
    }
   ],
   "source": [
    "len(os.listdir(normalized_dir))"
   ]
  },
  {
   "cell_type": "code",
   "execution_count": 4,
   "id": "402f9040",
   "metadata": {},
   "outputs": [],
   "source": [
    "subreddits = list()"
   ]
  },
  {
   "cell_type": "code",
   "execution_count": 5,
   "id": "b19e2b4d",
   "metadata": {},
   "outputs": [],
   "source": [
    "subreddit_polarities = dict()\n",
    "for subreddit in os.listdir(normalized_dir):\n",
    "    with open(os.path.join(normalized_dir,subreddit)) as f:\n",
    "        subreddit_polarities[subreddit.split('_standardized')[0]] = json.load(f)\n",
    "        subreddits.append(subreddit.split('_standardized')[0])"
   ]
  },
  {
   "cell_type": "code",
   "execution_count": 6,
   "id": "a56f205b",
   "metadata": {},
   "outputs": [
    {
     "data": {
      "text/plain": [
       "dict_keys(['BingeEatingRecovery', 'AnorexiaRecovery', 'bingeeating', 'eating_disorders', 'EdAnonymousAdults', 'EatingDisorderHope', 'selftext', 'bulimia', 'BulimiaRecovery', 'EDRecovery_public', 'BingeEatingDisorder', 'EatingDisorders', 'anorexiaflareuphelp', 'edsupport', 'PurgingDisorder', 'AnorexiaNervosa', 'BulimiaAndAnaSupport', 'EDAnonymous', 'NotOtherwiseSpecified'])"
      ]
     },
     "execution_count": 6,
     "metadata": {},
     "output_type": "execute_result"
    }
   ],
   "source": [
    "subreddit_polarities.keys()"
   ]
  },
  {
   "cell_type": "code",
   "execution_count": 7,
   "id": "9f5e92b1",
   "metadata": {
    "scrolled": true
   },
   "outputs": [
    {
     "data": {
      "text/plain": [
       "['BingeEatingRecovery',\n",
       " 'AnorexiaRecovery',\n",
       " 'bingeeating',\n",
       " 'eating_disorders',\n",
       " 'EdAnonymousAdults',\n",
       " 'EatingDisorderHope',\n",
       " 'selftext',\n",
       " 'bulimia',\n",
       " 'BulimiaRecovery',\n",
       " 'EDRecovery_public',\n",
       " 'BingeEatingDisorder',\n",
       " 'EatingDisorders',\n",
       " 'anorexiaflareuphelp',\n",
       " 'edsupport',\n",
       " 'PurgingDisorder',\n",
       " 'AnorexiaNervosa',\n",
       " 'BulimiaAndAnaSupport',\n",
       " 'EDAnonymous',\n",
       " 'NotOtherwiseSpecified']"
      ]
     },
     "execution_count": 7,
     "metadata": {},
     "output_type": "execute_result"
    }
   ],
   "source": [
    "subreddits"
   ]
  },
  {
   "cell_type": "code",
   "execution_count": 8,
   "id": "98d8e1c1",
   "metadata": {},
   "outputs": [],
   "source": [
    "sqlite_path = \"../reddit_ed_0.6.0.sqlite3\"\n",
    "engine = create_engine(\n",
    "    f\"sqlite:///{sqlite_path}\",\n",
    "    connect_args={\"check_same_thread\":False},\n",
    ")"
   ]
  },
  {
   "cell_type": "code",
   "execution_count": 9,
   "id": "447a0891",
   "metadata": {},
   "outputs": [],
   "source": [
    "def preprocess(text):\n",
    "    result=[]\n",
    "    for token in gensim.utils.simple_preprocess(text) :\n",
    "        \n",
    "        if token not in stopwords.words('english'):\n",
    "            \n",
    "            result.append(token)\n",
    "    return result"
   ]
  },
  {
   "cell_type": "markdown",
   "id": "9f7e6f46",
   "metadata": {},
   "source": [
    "# Regular Summing"
   ]
  },
  {
   "cell_type": "markdown",
   "id": "10f33884",
   "metadata": {},
   "source": [
    "### Don't use"
   ]
  },
  {
   "cell_type": "code",
   "execution_count": null,
   "id": "3c35933f",
   "metadata": {
    "scrolled": false
   },
   "outputs": [],
   "source": [
    "polarity_dfs = dict()\n",
    "for subreddit in subreddits:\n",
    "    if subreddit != 'BingeEatingRecovery':\n",
    "        polarities = list()\n",
    "        print(subreddit)\n",
    "        query = f\"select id, selftext from subreddit_submission_metadata where subreddit='{subreddit}';\"\n",
    "        df = pd.read_sql_query(text(query),con=engine.connect())\n",
    "        for sentence in df.values:\n",
    "            preprocessed_sentence = preprocess(sentence[1])\n",
    "        #     print(preprocessed_sentence)\n",
    "            sentence_polarities = [subreddit_polarities[subreddit][word] for word in preprocessed_sentence if word in subreddit_polarities[subreddit].keys()]\n",
    "        #     print(sentence_polarities)\n",
    "            sum_polarities = np.sum(sentence_polarities)\n",
    "        #     print(f\"Regular sum of sentence non-stopwords polarities: {sum_polarities}\")  \n",
    "        #     print(sentence.append(sum_polarities))\n",
    "            polarities.append({'id':sentence[0], 'selftext':sentence[1],'sentence_polarity':sum_polarities})\n",
    "\n",
    "\n",
    "        polarity_dfs[subreddit] = pd.DataFrame.from_dict(polarities)\n"
   ]
  },
  {
   "cell_type": "markdown",
   "id": "78164c7b",
   "metadata": {},
   "source": [
    "# Averaging Polarity Scores"
   ]
  },
  {
   "cell_type": "markdown",
   "id": "2c65ffc8",
   "metadata": {},
   "source": [
    "better than regular summing"
   ]
  },
  {
   "cell_type": "code",
   "execution_count": 10,
   "id": "cfa27a22",
   "metadata": {
    "scrolled": true
   },
   "outputs": [
    {
     "name": "stdout",
     "output_type": "stream",
     "text": [
      "AnorexiaRecovery\n"
     ]
    },
    {
     "name": "stderr",
     "output_type": "stream",
     "text": [
      "/Library/Frameworks/Python.framework/Versions/3.11/lib/python3.11/site-packages/numpy/lib/function_base.py:518: RuntimeWarning: Mean of empty slice.\n",
      "  avg = a.mean(axis, **keepdims_kw)\n",
      "/Library/Frameworks/Python.framework/Versions/3.11/lib/python3.11/site-packages/numpy/core/_methods.py:190: RuntimeWarning: invalid value encountered in double_scalars\n",
      "  ret = ret.dtype.type(ret / rcount)\n"
     ]
    },
    {
     "name": "stdout",
     "output_type": "stream",
     "text": [
      "bingeeating\n"
     ]
    },
    {
     "name": "stderr",
     "output_type": "stream",
     "text": [
      "/Library/Frameworks/Python.framework/Versions/3.11/lib/python3.11/site-packages/numpy/lib/function_base.py:518: RuntimeWarning: Mean of empty slice.\n",
      "  avg = a.mean(axis, **keepdims_kw)\n",
      "/Library/Frameworks/Python.framework/Versions/3.11/lib/python3.11/site-packages/numpy/core/_methods.py:190: RuntimeWarning: invalid value encountered in double_scalars\n",
      "  ret = ret.dtype.type(ret / rcount)\n"
     ]
    },
    {
     "name": "stdout",
     "output_type": "stream",
     "text": [
      "eating_disorders\n"
     ]
    },
    {
     "name": "stderr",
     "output_type": "stream",
     "text": [
      "/Library/Frameworks/Python.framework/Versions/3.11/lib/python3.11/site-packages/numpy/lib/function_base.py:518: RuntimeWarning: Mean of empty slice.\n",
      "  avg = a.mean(axis, **keepdims_kw)\n",
      "/Library/Frameworks/Python.framework/Versions/3.11/lib/python3.11/site-packages/numpy/core/_methods.py:190: RuntimeWarning: invalid value encountered in double_scalars\n",
      "  ret = ret.dtype.type(ret / rcount)\n"
     ]
    },
    {
     "name": "stdout",
     "output_type": "stream",
     "text": [
      "EdAnonymousAdults\n"
     ]
    },
    {
     "name": "stderr",
     "output_type": "stream",
     "text": [
      "/Library/Frameworks/Python.framework/Versions/3.11/lib/python3.11/site-packages/numpy/lib/function_base.py:518: RuntimeWarning: Mean of empty slice.\n",
      "  avg = a.mean(axis, **keepdims_kw)\n",
      "/Library/Frameworks/Python.framework/Versions/3.11/lib/python3.11/site-packages/numpy/core/_methods.py:190: RuntimeWarning: invalid value encountered in double_scalars\n",
      "  ret = ret.dtype.type(ret / rcount)\n"
     ]
    },
    {
     "name": "stdout",
     "output_type": "stream",
     "text": [
      "EatingDisorderHope\n"
     ]
    },
    {
     "name": "stderr",
     "output_type": "stream",
     "text": [
      "/Library/Frameworks/Python.framework/Versions/3.11/lib/python3.11/site-packages/numpy/lib/function_base.py:518: RuntimeWarning: Mean of empty slice.\n",
      "  avg = a.mean(axis, **keepdims_kw)\n",
      "/Library/Frameworks/Python.framework/Versions/3.11/lib/python3.11/site-packages/numpy/core/_methods.py:190: RuntimeWarning: invalid value encountered in double_scalars\n",
      "  ret = ret.dtype.type(ret / rcount)\n"
     ]
    },
    {
     "name": "stdout",
     "output_type": "stream",
     "text": [
      "selftext\n",
      "bulimia\n"
     ]
    },
    {
     "name": "stderr",
     "output_type": "stream",
     "text": [
      "/Library/Frameworks/Python.framework/Versions/3.11/lib/python3.11/site-packages/numpy/lib/function_base.py:518: RuntimeWarning: Mean of empty slice.\n",
      "  avg = a.mean(axis, **keepdims_kw)\n",
      "/Library/Frameworks/Python.framework/Versions/3.11/lib/python3.11/site-packages/numpy/core/_methods.py:190: RuntimeWarning: invalid value encountered in double_scalars\n",
      "  ret = ret.dtype.type(ret / rcount)\n"
     ]
    },
    {
     "name": "stdout",
     "output_type": "stream",
     "text": [
      "BulimiaRecovery\n",
      "EDRecovery_public\n"
     ]
    },
    {
     "name": "stderr",
     "output_type": "stream",
     "text": [
      "/Library/Frameworks/Python.framework/Versions/3.11/lib/python3.11/site-packages/numpy/lib/function_base.py:518: RuntimeWarning: Mean of empty slice.\n",
      "  avg = a.mean(axis, **keepdims_kw)\n",
      "/Library/Frameworks/Python.framework/Versions/3.11/lib/python3.11/site-packages/numpy/core/_methods.py:190: RuntimeWarning: invalid value encountered in double_scalars\n",
      "  ret = ret.dtype.type(ret / rcount)\n",
      "/Library/Frameworks/Python.framework/Versions/3.11/lib/python3.11/site-packages/numpy/lib/function_base.py:518: RuntimeWarning: Mean of empty slice.\n",
      "  avg = a.mean(axis, **keepdims_kw)\n",
      "/Library/Frameworks/Python.framework/Versions/3.11/lib/python3.11/site-packages/numpy/core/_methods.py:190: RuntimeWarning: invalid value encountered in double_scalars\n",
      "  ret = ret.dtype.type(ret / rcount)\n"
     ]
    },
    {
     "name": "stdout",
     "output_type": "stream",
     "text": [
      "BingeEatingDisorder\n"
     ]
    },
    {
     "name": "stderr",
     "output_type": "stream",
     "text": [
      "/Library/Frameworks/Python.framework/Versions/3.11/lib/python3.11/site-packages/numpy/lib/function_base.py:518: RuntimeWarning: Mean of empty slice.\n",
      "  avg = a.mean(axis, **keepdims_kw)\n",
      "/Library/Frameworks/Python.framework/Versions/3.11/lib/python3.11/site-packages/numpy/core/_methods.py:190: RuntimeWarning: invalid value encountered in double_scalars\n",
      "  ret = ret.dtype.type(ret / rcount)\n"
     ]
    },
    {
     "name": "stdout",
     "output_type": "stream",
     "text": [
      "EatingDisorders\n"
     ]
    },
    {
     "name": "stderr",
     "output_type": "stream",
     "text": [
      "/Library/Frameworks/Python.framework/Versions/3.11/lib/python3.11/site-packages/numpy/lib/function_base.py:518: RuntimeWarning: Mean of empty slice.\n",
      "  avg = a.mean(axis, **keepdims_kw)\n",
      "/Library/Frameworks/Python.framework/Versions/3.11/lib/python3.11/site-packages/numpy/core/_methods.py:190: RuntimeWarning: invalid value encountered in double_scalars\n",
      "  ret = ret.dtype.type(ret / rcount)\n"
     ]
    },
    {
     "name": "stdout",
     "output_type": "stream",
     "text": [
      "anorexiaflareuphelp\n"
     ]
    },
    {
     "name": "stderr",
     "output_type": "stream",
     "text": [
      "/Library/Frameworks/Python.framework/Versions/3.11/lib/python3.11/site-packages/numpy/lib/function_base.py:518: RuntimeWarning: Mean of empty slice.\n",
      "  avg = a.mean(axis, **keepdims_kw)\n",
      "/Library/Frameworks/Python.framework/Versions/3.11/lib/python3.11/site-packages/numpy/core/_methods.py:190: RuntimeWarning: invalid value encountered in double_scalars\n",
      "  ret = ret.dtype.type(ret / rcount)\n"
     ]
    },
    {
     "name": "stdout",
     "output_type": "stream",
     "text": [
      "edsupport\n"
     ]
    },
    {
     "name": "stderr",
     "output_type": "stream",
     "text": [
      "/Library/Frameworks/Python.framework/Versions/3.11/lib/python3.11/site-packages/numpy/lib/function_base.py:518: RuntimeWarning: Mean of empty slice.\n",
      "  avg = a.mean(axis, **keepdims_kw)\n",
      "/Library/Frameworks/Python.framework/Versions/3.11/lib/python3.11/site-packages/numpy/core/_methods.py:190: RuntimeWarning: invalid value encountered in double_scalars\n",
      "  ret = ret.dtype.type(ret / rcount)\n"
     ]
    },
    {
     "name": "stdout",
     "output_type": "stream",
     "text": [
      "PurgingDisorder\n",
      "AnorexiaNervosa\n"
     ]
    },
    {
     "name": "stderr",
     "output_type": "stream",
     "text": [
      "/Library/Frameworks/Python.framework/Versions/3.11/lib/python3.11/site-packages/numpy/lib/function_base.py:518: RuntimeWarning: Mean of empty slice.\n",
      "  avg = a.mean(axis, **keepdims_kw)\n",
      "/Library/Frameworks/Python.framework/Versions/3.11/lib/python3.11/site-packages/numpy/core/_methods.py:190: RuntimeWarning: invalid value encountered in double_scalars\n",
      "  ret = ret.dtype.type(ret / rcount)\n",
      "/Library/Frameworks/Python.framework/Versions/3.11/lib/python3.11/site-packages/numpy/lib/function_base.py:518: RuntimeWarning: Mean of empty slice.\n",
      "  avg = a.mean(axis, **keepdims_kw)\n",
      "/Library/Frameworks/Python.framework/Versions/3.11/lib/python3.11/site-packages/numpy/core/_methods.py:190: RuntimeWarning: invalid value encountered in double_scalars\n",
      "  ret = ret.dtype.type(ret / rcount)\n"
     ]
    },
    {
     "name": "stdout",
     "output_type": "stream",
     "text": [
      "BulimiaAndAnaSupport\n"
     ]
    },
    {
     "name": "stderr",
     "output_type": "stream",
     "text": [
      "/Library/Frameworks/Python.framework/Versions/3.11/lib/python3.11/site-packages/numpy/lib/function_base.py:518: RuntimeWarning: Mean of empty slice.\n",
      "  avg = a.mean(axis, **keepdims_kw)\n",
      "/Library/Frameworks/Python.framework/Versions/3.11/lib/python3.11/site-packages/numpy/core/_methods.py:190: RuntimeWarning: invalid value encountered in double_scalars\n",
      "  ret = ret.dtype.type(ret / rcount)\n"
     ]
    },
    {
     "name": "stdout",
     "output_type": "stream",
     "text": [
      "EDAnonymous\n"
     ]
    },
    {
     "name": "stderr",
     "output_type": "stream",
     "text": [
      "/Library/Frameworks/Python.framework/Versions/3.11/lib/python3.11/site-packages/numpy/lib/function_base.py:518: RuntimeWarning: Mean of empty slice.\n",
      "  avg = a.mean(axis, **keepdims_kw)\n",
      "/Library/Frameworks/Python.framework/Versions/3.11/lib/python3.11/site-packages/numpy/core/_methods.py:190: RuntimeWarning: invalid value encountered in double_scalars\n",
      "  ret = ret.dtype.type(ret / rcount)\n"
     ]
    },
    {
     "name": "stdout",
     "output_type": "stream",
     "text": [
      "NotOtherwiseSpecified\n"
     ]
    },
    {
     "name": "stderr",
     "output_type": "stream",
     "text": [
      "/Library/Frameworks/Python.framework/Versions/3.11/lib/python3.11/site-packages/numpy/lib/function_base.py:518: RuntimeWarning: Mean of empty slice.\n",
      "  avg = a.mean(axis, **keepdims_kw)\n",
      "/Library/Frameworks/Python.framework/Versions/3.11/lib/python3.11/site-packages/numpy/core/_methods.py:190: RuntimeWarning: invalid value encountered in double_scalars\n",
      "  ret = ret.dtype.type(ret / rcount)\n"
     ]
    }
   ],
   "source": [
    "polarity_dfs = dict()\n",
    "for subreddit in subreddits:\n",
    "    if subreddit != 'BingeEatingRecovery':\n",
    "        polarities = list()\n",
    "        print(subreddit)\n",
    "        query = f\"select id, selftext from subreddit_submission_metadata where subreddit='{subreddit}';\"\n",
    "        df = pd.read_sql_query(text(query),con=engine.connect())\n",
    "        for sentence in df.values:\n",
    "            preprocessed_sentence = preprocess(sentence[1])\n",
    "            sentence_polarities = [subreddit_polarities[subreddit][word] for word in preprocessed_sentence if word in subreddit_polarities[subreddit].keys()]\n",
    "        #     print(sentence_polarities)\n",
    "            avg_polarities = np.average(sentence_polarities)\n",
    "        #     print(f\"Regular sum of sentence non-stopwords polarities: {sum_polarities}\")  \n",
    "        #     print(sentence.append(sum_polarities))\n",
    "            polarities.append({'id':sentence[0], 'selftext':sentence[1],'sentence_polarity':avg_polarities})\n",
    "\n",
    "\n",
    "        polarity_dfs[subreddit] = pd.DataFrame.from_dict(polarities)"
   ]
  },
  {
   "cell_type": "code",
   "execution_count": 11,
   "id": "17915c0c",
   "metadata": {
    "scrolled": true
   },
   "outputs": [
    {
     "data": {
      "text/plain": [
       "dict_keys(['AnorexiaRecovery', 'bingeeating', 'eating_disorders', 'EdAnonymousAdults', 'EatingDisorderHope', 'selftext', 'bulimia', 'BulimiaRecovery', 'EDRecovery_public', 'BingeEatingDisorder', 'EatingDisorders', 'anorexiaflareuphelp', 'edsupport', 'PurgingDisorder', 'AnorexiaNervosa', 'BulimiaAndAnaSupport', 'EDAnonymous', 'NotOtherwiseSpecified'])"
      ]
     },
     "execution_count": 11,
     "metadata": {},
     "output_type": "execute_result"
    }
   ],
   "source": [
    "polarity_dfs.keys()"
   ]
  },
  {
   "cell_type": "code",
   "execution_count": 12,
   "id": "a9eceef8",
   "metadata": {
    "scrolled": false
   },
   "outputs": [
    {
     "data": {
      "text/html": [
       "<div>\n",
       "<style scoped>\n",
       "    .dataframe tbody tr th:only-of-type {\n",
       "        vertical-align: middle;\n",
       "    }\n",
       "\n",
       "    .dataframe tbody tr th {\n",
       "        vertical-align: top;\n",
       "    }\n",
       "\n",
       "    .dataframe thead th {\n",
       "        text-align: right;\n",
       "    }\n",
       "</style>\n",
       "<table border=\"1\" class=\"dataframe\">\n",
       "  <thead>\n",
       "    <tr style=\"text-align: right;\">\n",
       "      <th></th>\n",
       "      <th>id</th>\n",
       "      <th>selftext</th>\n",
       "      <th>sentence_polarity</th>\n",
       "    </tr>\n",
       "  </thead>\n",
       "  <tbody>\n",
       "    <tr>\n",
       "      <th>0</th>\n",
       "      <td>10pljws</td>\n",
       "      <td>Is it possible to gain 5 pounds in 10 days? I’...</td>\n",
       "      <td>0.355774</td>\n",
       "    </tr>\n",
       "    <tr>\n",
       "      <th>1</th>\n",
       "      <td>10pg79q</td>\n",
       "      <td>Hello all, not sure if this is the best place ...</td>\n",
       "      <td>0.230702</td>\n",
       "    </tr>\n",
       "    <tr>\n",
       "      <th>2</th>\n",
       "      <td>10p9kga</td>\n",
       "      <td>I’m soo proud of myself 🥲</td>\n",
       "      <td>5.592233</td>\n",
       "    </tr>\n",
       "    <tr>\n",
       "      <th>3</th>\n",
       "      <td>10p8r2g</td>\n",
       "      <td>do i need to be concerned about chest pain whe...</td>\n",
       "      <td>0.508727</td>\n",
       "    </tr>\n",
       "    <tr>\n",
       "      <th>4</th>\n",
       "      <td>10p6vc9</td>\n",
       "      <td>2 weeks ago is was 58 lbs, I got on the scale ...</td>\n",
       "      <td>0.453443</td>\n",
       "    </tr>\n",
       "    <tr>\n",
       "      <th>...</th>\n",
       "      <td>...</td>\n",
       "      <td>...</td>\n",
       "      <td>...</td>\n",
       "    </tr>\n",
       "    <tr>\n",
       "      <th>2681</th>\n",
       "      <td>g70olb</td>\n",
       "      <td>I hope no one minds my updates, I promise they...</td>\n",
       "      <td>0.597833</td>\n",
       "    </tr>\n",
       "    <tr>\n",
       "      <th>2682</th>\n",
       "      <td>g6sef1</td>\n",
       "      <td></td>\n",
       "      <td>NaN</td>\n",
       "    </tr>\n",
       "    <tr>\n",
       "      <th>2683</th>\n",
       "      <td>g6se8c</td>\n",
       "      <td>[deleted]</td>\n",
       "      <td>-0.067754</td>\n",
       "    </tr>\n",
       "    <tr>\n",
       "      <th>2684</th>\n",
       "      <td>g6bt08</td>\n",
       "      <td>Today I took my supplements, stayed hydrated a...</td>\n",
       "      <td>-0.619578</td>\n",
       "    </tr>\n",
       "    <tr>\n",
       "      <th>2685</th>\n",
       "      <td>g68jrk</td>\n",
       "      <td>What happens if you ignore it for long enough ...</td>\n",
       "      <td>-0.449911</td>\n",
       "    </tr>\n",
       "  </tbody>\n",
       "</table>\n",
       "<p>2686 rows × 3 columns</p>\n",
       "</div>"
      ],
      "text/plain": [
       "           id                                           selftext  \\\n",
       "0     10pljws  Is it possible to gain 5 pounds in 10 days? I’...   \n",
       "1     10pg79q  Hello all, not sure if this is the best place ...   \n",
       "2     10p9kga                          I’m soo proud of myself 🥲   \n",
       "3     10p8r2g  do i need to be concerned about chest pain whe...   \n",
       "4     10p6vc9  2 weeks ago is was 58 lbs, I got on the scale ...   \n",
       "...       ...                                                ...   \n",
       "2681   g70olb  I hope no one minds my updates, I promise they...   \n",
       "2682   g6sef1                                                      \n",
       "2683   g6se8c                                          [deleted]   \n",
       "2684   g6bt08  Today I took my supplements, stayed hydrated a...   \n",
       "2685   g68jrk  What happens if you ignore it for long enough ...   \n",
       "\n",
       "      sentence_polarity  \n",
       "0              0.355774  \n",
       "1              0.230702  \n",
       "2              5.592233  \n",
       "3              0.508727  \n",
       "4              0.453443  \n",
       "...                 ...  \n",
       "2681           0.597833  \n",
       "2682                NaN  \n",
       "2683          -0.067754  \n",
       "2684          -0.619578  \n",
       "2685          -0.449911  \n",
       "\n",
       "[2686 rows x 3 columns]"
      ]
     },
     "execution_count": 12,
     "metadata": {},
     "output_type": "execute_result"
    }
   ],
   "source": [
    "polarity_dfs[\"AnorexiaRecovery\"]"
   ]
  },
  {
   "cell_type": "code",
   "execution_count": 18,
   "id": "223a697b",
   "metadata": {},
   "outputs": [],
   "source": [
    "for subreddit in polarity_dfs.keys():\n",
    "#     print(subreddit)\n",
    "    sub = [subreddit for i in range(len(polarity_dfs[subreddit]))]\n",
    "    polarity_dfs[subreddit]['subreddit'] = sub"
   ]
  },
  {
   "cell_type": "code",
   "execution_count": 21,
   "id": "a056c8e5",
   "metadata": {},
   "outputs": [],
   "source": [
    "all_subreddits_polarity_df = pd.concat([polarity_dfs[subreddit] for subreddit in polarity_dfs.keys()])"
   ]
  },
  {
   "cell_type": "markdown",
   "id": "f93d302d",
   "metadata": {},
   "source": [
    "## Combined Sentence Polarity Scores for All Individual Subreddits Excluding BingeEatingRecovery"
   ]
  },
  {
   "cell_type": "code",
   "execution_count": 25,
   "id": "0d5b2472",
   "metadata": {
    "scrolled": false
   },
   "outputs": [
    {
     "data": {
      "text/plain": [
       "subreddit\n",
       "AnorexiaNervosa           977\n",
       "AnorexiaRecovery         2686\n",
       "BingeEatingDisorder       393\n",
       "BulimiaAndAnaSupport      117\n",
       "BulimiaRecovery            23\n",
       "EDAnonymous              3910\n",
       "EDRecovery_public         529\n",
       "EatingDisorderHope         99\n",
       "EatingDisorders           904\n",
       "EdAnonymousAdults        4954\n",
       "NotOtherwiseSpecified      18\n",
       "PurgingDisorder            15\n",
       "anorexiaflareuphelp        38\n",
       "bingeeating               421\n",
       "bulimia                  2326\n",
       "eating_disorders         3663\n",
       "edsupport                  83\n",
       "Name: id, dtype: int64"
      ]
     },
     "execution_count": 25,
     "metadata": {},
     "output_type": "execute_result"
    }
   ],
   "source": [
    "all_subreddits_polarity_df.groupby(by='subreddit')['id'].count()"
   ]
  },
  {
   "cell_type": "code",
   "execution_count": 29,
   "id": "31b42c45",
   "metadata": {},
   "outputs": [],
   "source": [
    "all_subreddits_polarity_df.to_csv('submission_polarity.csv')"
   ]
  },
  {
   "cell_type": "code",
   "execution_count": null,
   "id": "a310ad59",
   "metadata": {},
   "outputs": [],
   "source": []
  }
 ],
 "metadata": {
  "kernelspec": {
   "display_name": "Python 3 (ipykernel)",
   "language": "python",
   "name": "python3"
  },
  "language_info": {
   "codemirror_mode": {
    "name": "ipython",
    "version": 3
   },
   "file_extension": ".py",
   "mimetype": "text/x-python",
   "name": "python",
   "nbconvert_exporter": "python",
   "pygments_lexer": "ipython3",
   "version": "3.11.1"
  }
 },
 "nbformat": 4,
 "nbformat_minor": 5
}
