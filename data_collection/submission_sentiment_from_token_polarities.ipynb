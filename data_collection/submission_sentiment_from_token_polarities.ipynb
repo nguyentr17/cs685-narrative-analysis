{
 "cells": [
  {
   "cell_type": "code",
   "execution_count": 1,
   "id": "d2ba859f",
   "metadata": {},
   "outputs": [],
   "source": [
    "import os\n",
    "import json\n",
    "import pandas as pd\n",
    "from sqlalchemy import text\n",
    "from sqlalchemy import create_engine\n",
    "from sqlalchemy.orm import sessionmaker\n",
    "import nltk\n",
    "from nltk.tokenize import word_tokenize\n",
    "from nltk.corpus import stopwords\n",
    "import numpy as np\n",
    "import gensim\n",
    "\n",
    "import sys\n",
    "from nltk.tokenize import sent_tokenize\n",
    "\n",
    "from gensim.models import Word2Vec\n",
    "from nltk.stem import WordNetLemmatizer\n",
    "from nltk.stem import PorterStemmer\n",
    "import ast\n",
    "from nltk.corpus import wordnet"
   ]
  },
  {
   "cell_type": "code",
   "execution_count": 2,
   "id": "64b544f0",
   "metadata": {},
   "outputs": [
    {
     "name": "stderr",
     "output_type": "stream",
     "text": [
      "[nltk_data] Downloading package punkt to\n",
      "[nltk_data]     /Users/jengyuchou/nltk_data...\n",
      "[nltk_data]   Package punkt is already up-to-date!\n",
      "[nltk_data] Downloading package stopwords to\n",
      "[nltk_data]     /Users/jengyuchou/nltk_data...\n",
      "[nltk_data]   Package stopwords is already up-to-date!\n",
      "[nltk_data] Downloading package wordnet to\n",
      "[nltk_data]     /Users/jengyuchou/nltk_data...\n",
      "[nltk_data]   Package wordnet is already up-to-date!\n",
      "[nltk_data] Downloading package averaged_perceptron_tagger to\n",
      "[nltk_data]     /Users/jengyuchou/nltk_data...\n",
      "[nltk_data]   Package averaged_perceptron_tagger is already up-to-\n",
      "[nltk_data]       date!\n"
     ]
    },
    {
     "data": {
      "text/plain": [
       "True"
      ]
     },
     "execution_count": 2,
     "metadata": {},
     "output_type": "execute_result"
    }
   ],
   "source": [
    "import nltk\n",
    "import ssl\n",
    "\n",
    "try:\n",
    "    _create_unverified_https_context = ssl._create_unverified_context\n",
    "except AttributeError:\n",
    "    pass\n",
    "else:\n",
    "    ssl._create_default_https_context = _create_unverified_https_context\n",
    "\n",
    "nltk.download('punkt')\n",
    "nltk.download('stopwords')\n",
    "nltk.download('wordnet')\n",
    "nltk.download('averaged_perceptron_tagger')"
   ]
  },
  {
   "cell_type": "code",
   "execution_count": 3,
   "id": "d1e21220",
   "metadata": {},
   "outputs": [],
   "source": [
    "normalized_dir = \"./polarities/lemmatized_normalized\""
   ]
  },
  {
   "cell_type": "code",
   "execution_count": 4,
   "id": "7484b4b3",
   "metadata": {
    "scrolled": true
   },
   "outputs": [
    {
     "data": {
      "text/plain": [
       "19"
      ]
     },
     "execution_count": 4,
     "metadata": {},
     "output_type": "execute_result"
    }
   ],
   "source": [
    "len(os.listdir(normalized_dir))"
   ]
  },
  {
   "cell_type": "code",
   "execution_count": 5,
   "id": "402f9040",
   "metadata": {},
   "outputs": [],
   "source": [
    "subreddits = list()"
   ]
  },
  {
   "cell_type": "code",
   "execution_count": 6,
   "id": "b19e2b4d",
   "metadata": {},
   "outputs": [],
   "source": [
    "subreddit_polarities = dict()\n",
    "for subreddit in os.listdir(normalized_dir):\n",
    "    if subreddit.split('_standardized')[0] != 'BingeEatingRecovery' and subreddit.split('_standardized')[0] != 'selftext':\n",
    "        with open(os.path.join(normalized_dir,subreddit)) as f:\n",
    "            subreddit_polarities[subreddit.split('_standardized')[0]] = json.load(f)\n",
    "            subreddits.append(subreddit.split('_standardized')[0])"
   ]
  },
  {
   "cell_type": "code",
   "execution_count": 7,
   "id": "a56f205b",
   "metadata": {},
   "outputs": [
    {
     "data": {
      "text/plain": [
       "dict_keys(['AnorexiaRecovery', 'bingeeating', 'eating_disorders', 'EdAnonymousAdults', 'EatingDisorderHope', 'bulimia', 'BulimiaRecovery', 'EDRecovery_public', 'BingeEatingDisorder', 'EatingDisorders', 'anorexiaflareuphelp', 'edsupport', 'PurgingDisorder', 'AnorexiaNervosa', 'BulimiaAndAnaSupport', 'EDAnonymous', 'NotOtherwiseSpecified'])"
      ]
     },
     "execution_count": 7,
     "metadata": {},
     "output_type": "execute_result"
    }
   ],
   "source": [
    "subreddit_polarities.keys()"
   ]
  },
  {
   "cell_type": "code",
   "execution_count": 8,
   "id": "9f5e92b1",
   "metadata": {
    "scrolled": true
   },
   "outputs": [
    {
     "data": {
      "text/plain": [
       "['AnorexiaRecovery',\n",
       " 'bingeeating',\n",
       " 'eating_disorders',\n",
       " 'EdAnonymousAdults',\n",
       " 'EatingDisorderHope',\n",
       " 'bulimia',\n",
       " 'BulimiaRecovery',\n",
       " 'EDRecovery_public',\n",
       " 'BingeEatingDisorder',\n",
       " 'EatingDisorders',\n",
       " 'anorexiaflareuphelp',\n",
       " 'edsupport',\n",
       " 'PurgingDisorder',\n",
       " 'AnorexiaNervosa',\n",
       " 'BulimiaAndAnaSupport',\n",
       " 'EDAnonymous',\n",
       " 'NotOtherwiseSpecified']"
      ]
     },
     "execution_count": 8,
     "metadata": {},
     "output_type": "execute_result"
    }
   ],
   "source": [
    "subreddits"
   ]
  },
  {
   "cell_type": "code",
   "execution_count": 9,
   "id": "98d8e1c1",
   "metadata": {},
   "outputs": [],
   "source": [
    "sqlite_path = \"./reddit_ed_0.6.0.sqlite3\"\n",
    "engine = create_engine(\n",
    "    f\"sqlite:///{sqlite_path}\",\n",
    "    connect_args={\"check_same_thread\":False},\n",
    ")"
   ]
  },
  {
   "cell_type": "code",
   "execution_count": 10,
   "id": "340a1135",
   "metadata": {},
   "outputs": [],
   "source": [
    "# function to convert nltk tag to wordnet tag\n",
    "def nltk_tag_to_wordnet_tag(nltk_tag):\n",
    "    if nltk_tag.startswith('J'):\n",
    "        return wordnet.ADJ\n",
    "    elif nltk_tag.startswith('V'):\n",
    "        return wordnet.VERB\n",
    "    elif nltk_tag.startswith('N'):\n",
    "        return wordnet.NOUN\n",
    "    elif nltk_tag.startswith('R'):\n",
    "        return wordnet.ADV\n",
    "    else:          \n",
    "        return None\n",
    "\n",
    "def lemmatize_sentence(sentence):\n",
    "    #tokenize the sentence and find the POS tag for each token\n",
    "    nltk_tagged = nltk.pos_tag(nltk.word_tokenize(sentence))  \n",
    "    #tuple of (token, wordnet_tag)\n",
    "    wordnet_tagged = map(lambda x: (x[0], nltk_tag_to_wordnet_tag(x[1])), nltk_tagged)\n",
    "    lemmatized_sentence = []\n",
    "    for word, tag in wordnet_tagged:\n",
    "        if tag is None:\n",
    "            #if there is no available tag, append the token as is\n",
    "            lemmatized_sentence.append(word)\n",
    "        else:        \n",
    "            #else use the tag to lemmatize the token\n",
    "            lemmatized_sentence.append(lemmatizer.lemmatize(word, tag))\n",
    "    return \" \".join(lemmatized_sentence)"
   ]
  },
  {
   "cell_type": "code",
   "execution_count": 11,
   "id": "447a0891",
   "metadata": {},
   "outputs": [],
   "source": [
    "def lemmatized_preprocess(text):\n",
    "    result=[]\n",
    "    for token in gensim.utils.simple_preprocess(lemmatize_sentence(text)) :\n",
    "        \n",
    "        if token not in stopwords.words('english'):\n",
    "            \n",
    "            result.append(token)\n",
    "    return result"
   ]
  },
  {
   "cell_type": "code",
   "execution_count": 12,
   "id": "9356e088",
   "metadata": {},
   "outputs": [],
   "source": [
    "lemmatizer = WordNetLemmatizer()"
   ]
  },
  {
   "cell_type": "markdown",
   "id": "78164c7b",
   "metadata": {},
   "source": [
    "# Averaging Polarity Scores"
   ]
  },
  {
   "cell_type": "code",
   "execution_count": 13,
   "id": "cfa27a22",
   "metadata": {
    "scrolled": true
   },
   "outputs": [
    {
     "name": "stdout",
     "output_type": "stream",
     "text": [
      "AnorexiaRecovery\n"
     ]
    },
    {
     "name": "stderr",
     "output_type": "stream",
     "text": [
      "/Library/Frameworks/Python.framework/Versions/3.11/lib/python3.11/site-packages/numpy/lib/function_base.py:518: RuntimeWarning: Mean of empty slice.\n",
      "  avg = a.mean(axis, **keepdims_kw)\n",
      "/Library/Frameworks/Python.framework/Versions/3.11/lib/python3.11/site-packages/numpy/core/_methods.py:190: RuntimeWarning: invalid value encountered in double_scalars\n",
      "  ret = ret.dtype.type(ret / rcount)\n"
     ]
    },
    {
     "name": "stdout",
     "output_type": "stream",
     "text": [
      "bingeeating\n",
      "eating_disorders\n"
     ]
    },
    {
     "name": "stderr",
     "output_type": "stream",
     "text": [
      "/Library/Frameworks/Python.framework/Versions/3.11/lib/python3.11/site-packages/numpy/lib/function_base.py:518: RuntimeWarning: Mean of empty slice.\n",
      "  avg = a.mean(axis, **keepdims_kw)\n",
      "/Library/Frameworks/Python.framework/Versions/3.11/lib/python3.11/site-packages/numpy/core/_methods.py:190: RuntimeWarning: invalid value encountered in double_scalars\n",
      "  ret = ret.dtype.type(ret / rcount)\n"
     ]
    },
    {
     "name": "stdout",
     "output_type": "stream",
     "text": [
      "EdAnonymousAdults\n"
     ]
    },
    {
     "name": "stderr",
     "output_type": "stream",
     "text": [
      "/Library/Frameworks/Python.framework/Versions/3.11/lib/python3.11/site-packages/numpy/lib/function_base.py:518: RuntimeWarning: Mean of empty slice.\n",
      "  avg = a.mean(axis, **keepdims_kw)\n",
      "/Library/Frameworks/Python.framework/Versions/3.11/lib/python3.11/site-packages/numpy/core/_methods.py:190: RuntimeWarning: invalid value encountered in double_scalars\n",
      "  ret = ret.dtype.type(ret / rcount)\n"
     ]
    },
    {
     "name": "stdout",
     "output_type": "stream",
     "text": [
      "EatingDisorderHope\n",
      "bulimia\n"
     ]
    },
    {
     "name": "stderr",
     "output_type": "stream",
     "text": [
      "/Library/Frameworks/Python.framework/Versions/3.11/lib/python3.11/site-packages/numpy/lib/function_base.py:518: RuntimeWarning: Mean of empty slice.\n",
      "  avg = a.mean(axis, **keepdims_kw)\n",
      "/Library/Frameworks/Python.framework/Versions/3.11/lib/python3.11/site-packages/numpy/core/_methods.py:190: RuntimeWarning: invalid value encountered in double_scalars\n",
      "  ret = ret.dtype.type(ret / rcount)\n"
     ]
    },
    {
     "name": "stdout",
     "output_type": "stream",
     "text": [
      "BulimiaRecovery\n",
      "EDRecovery_public\n",
      "BingeEatingDisorder\n"
     ]
    },
    {
     "name": "stderr",
     "output_type": "stream",
     "text": [
      "/Library/Frameworks/Python.framework/Versions/3.11/lib/python3.11/site-packages/numpy/lib/function_base.py:518: RuntimeWarning: Mean of empty slice.\n",
      "  avg = a.mean(axis, **keepdims_kw)\n",
      "/Library/Frameworks/Python.framework/Versions/3.11/lib/python3.11/site-packages/numpy/core/_methods.py:190: RuntimeWarning: invalid value encountered in double_scalars\n",
      "  ret = ret.dtype.type(ret / rcount)\n"
     ]
    },
    {
     "name": "stdout",
     "output_type": "stream",
     "text": [
      "EatingDisorders\n",
      "anorexiaflareuphelp\n",
      "edsupport\n",
      "PurgingDisorder\n",
      "AnorexiaNervosa\n"
     ]
    },
    {
     "name": "stderr",
     "output_type": "stream",
     "text": [
      "/Library/Frameworks/Python.framework/Versions/3.11/lib/python3.11/site-packages/numpy/lib/function_base.py:518: RuntimeWarning: Mean of empty slice.\n",
      "  avg = a.mean(axis, **keepdims_kw)\n",
      "/Library/Frameworks/Python.framework/Versions/3.11/lib/python3.11/site-packages/numpy/core/_methods.py:190: RuntimeWarning: invalid value encountered in double_scalars\n",
      "  ret = ret.dtype.type(ret / rcount)\n"
     ]
    },
    {
     "name": "stdout",
     "output_type": "stream",
     "text": [
      "BulimiaAndAnaSupport\n"
     ]
    },
    {
     "name": "stderr",
     "output_type": "stream",
     "text": [
      "/Library/Frameworks/Python.framework/Versions/3.11/lib/python3.11/site-packages/numpy/lib/function_base.py:518: RuntimeWarning: Mean of empty slice.\n",
      "  avg = a.mean(axis, **keepdims_kw)\n",
      "/Library/Frameworks/Python.framework/Versions/3.11/lib/python3.11/site-packages/numpy/core/_methods.py:190: RuntimeWarning: invalid value encountered in double_scalars\n",
      "  ret = ret.dtype.type(ret / rcount)\n"
     ]
    },
    {
     "name": "stdout",
     "output_type": "stream",
     "text": [
      "EDAnonymous\n"
     ]
    },
    {
     "name": "stderr",
     "output_type": "stream",
     "text": [
      "/Library/Frameworks/Python.framework/Versions/3.11/lib/python3.11/site-packages/numpy/lib/function_base.py:518: RuntimeWarning: Mean of empty slice.\n",
      "  avg = a.mean(axis, **keepdims_kw)\n",
      "/Library/Frameworks/Python.framework/Versions/3.11/lib/python3.11/site-packages/numpy/core/_methods.py:190: RuntimeWarning: invalid value encountered in double_scalars\n",
      "  ret = ret.dtype.type(ret / rcount)\n"
     ]
    },
    {
     "name": "stdout",
     "output_type": "stream",
     "text": [
      "NotOtherwiseSpecified\n"
     ]
    }
   ],
   "source": [
    "polarity_dfs = dict()\n",
    "for subreddit in subreddits:\n",
    "    if subreddit != 'BingeEatingRecovery' and subreddit != 'selftext':\n",
    "        polarities = list()\n",
    "        print(subreddit)\n",
    "        query = f\"select id, selftext from subreddit_submission_metadata where subreddit='{subreddit}';\"\n",
    "        df = pd.read_sql_query(text(query),con=engine.connect())\n",
    "        for sentence in df.values:\n",
    "            preprocessed_sentence = lemmatized_preprocess(sentence[1])\n",
    "            sentence_polarities = [subreddit_polarities[subreddit][word] for word in preprocessed_sentence if word in subreddit_polarities[subreddit].keys()]\n",
    "        #     print(sentence_polarities)\n",
    "            avg_polarities = np.average(sentence_polarities)\n",
    "        #     print(f\"Regular sum of sentence non-stopwords polarities: {sum_polarities}\")  \n",
    "        #     print(sentence.append(sum_polarities))\n",
    "            polarities.append({'id':sentence[0], 'selftext':sentence[1],'sentence_polarity':avg_polarities})\n",
    "\n",
    "\n",
    "        polarity_dfs[subreddit] = pd.DataFrame.from_dict(polarities)"
   ]
  },
  {
   "cell_type": "code",
   "execution_count": 14,
   "id": "17915c0c",
   "metadata": {
    "scrolled": true
   },
   "outputs": [
    {
     "data": {
      "text/plain": [
       "dict_keys(['AnorexiaRecovery', 'bingeeating', 'eating_disorders', 'EdAnonymousAdults', 'EatingDisorderHope', 'bulimia', 'BulimiaRecovery', 'EDRecovery_public', 'BingeEatingDisorder', 'EatingDisorders', 'anorexiaflareuphelp', 'edsupport', 'PurgingDisorder', 'AnorexiaNervosa', 'BulimiaAndAnaSupport', 'EDAnonymous', 'NotOtherwiseSpecified'])"
      ]
     },
     "execution_count": 14,
     "metadata": {},
     "output_type": "execute_result"
    }
   ],
   "source": [
    "polarity_dfs.keys()"
   ]
  },
  {
   "cell_type": "code",
   "execution_count": 15,
   "id": "223a697b",
   "metadata": {},
   "outputs": [],
   "source": [
    "for subreddit in polarity_dfs.keys():\n",
    "#     print(subreddit)\n",
    "    sub = [subreddit for i in range(len(polarity_dfs[subreddit]))]\n",
    "    polarity_dfs[subreddit]['subreddit'] = sub"
   ]
  },
  {
   "cell_type": "code",
   "execution_count": 16,
   "id": "a056c8e5",
   "metadata": {},
   "outputs": [],
   "source": [
    "all_subreddits_polarity_df = pd.concat([polarity_dfs[subreddit] for subreddit in polarity_dfs.keys()])"
   ]
  },
  {
   "cell_type": "code",
   "execution_count": 17,
   "id": "4728d70e",
   "metadata": {},
   "outputs": [
    {
     "data": {
      "text/html": [
       "<div>\n",
       "<style scoped>\n",
       "    .dataframe tbody tr th:only-of-type {\n",
       "        vertical-align: middle;\n",
       "    }\n",
       "\n",
       "    .dataframe tbody tr th {\n",
       "        vertical-align: top;\n",
       "    }\n",
       "\n",
       "    .dataframe thead th {\n",
       "        text-align: right;\n",
       "    }\n",
       "</style>\n",
       "<table border=\"1\" class=\"dataframe\">\n",
       "  <thead>\n",
       "    <tr style=\"text-align: right;\">\n",
       "      <th></th>\n",
       "      <th>id</th>\n",
       "      <th>selftext</th>\n",
       "      <th>sentence_polarity</th>\n",
       "      <th>subreddit</th>\n",
       "    </tr>\n",
       "  </thead>\n",
       "  <tbody>\n",
       "    <tr>\n",
       "      <th>584</th>\n",
       "      <td>znaf5q</td>\n",
       "      <td>i hate myself</td>\n",
       "      <td>-12.241338</td>\n",
       "      <td>AnorexiaNervosa</td>\n",
       "    </tr>\n",
       "    <tr>\n",
       "      <th>42</th>\n",
       "      <td>10o9fkb</td>\n",
       "      <td>I hate it</td>\n",
       "      <td>-10.214032</td>\n",
       "      <td>BingeEatingDisorder</td>\n",
       "    </tr>\n",
       "    <tr>\n",
       "      <th>390</th>\n",
       "      <td>10mmavk</td>\n",
       "      <td>That’s it. That’s the post.</td>\n",
       "      <td>-8.334615</td>\n",
       "      <td>EDAnonymous</td>\n",
       "    </tr>\n",
       "    <tr>\n",
       "      <th>282</th>\n",
       "      <td>10nisvw</td>\n",
       "      <td>That's it that's the post</td>\n",
       "      <td>-8.334615</td>\n",
       "      <td>EDAnonymous</td>\n",
       "    </tr>\n",
       "    <tr>\n",
       "      <th>1051</th>\n",
       "      <td>joxgmd</td>\n",
       "      <td>That’s it that’s the post</td>\n",
       "      <td>-7.649268</td>\n",
       "      <td>eating_disorders</td>\n",
       "    </tr>\n",
       "    <tr>\n",
       "      <th>...</th>\n",
       "      <td>...</td>\n",
       "      <td>...</td>\n",
       "      <td>...</td>\n",
       "      <td>...</td>\n",
       "    </tr>\n",
       "    <tr>\n",
       "      <th>1967</th>\n",
       "      <td>10ajqjq</td>\n",
       "      <td>💖</td>\n",
       "      <td>NaN</td>\n",
       "      <td>EDAnonymous</td>\n",
       "    </tr>\n",
       "    <tr>\n",
       "      <th>3065</th>\n",
       "      <td>101sqec</td>\n",
       "      <td>.</td>\n",
       "      <td>NaN</td>\n",
       "      <td>EDAnonymous</td>\n",
       "    </tr>\n",
       "    <tr>\n",
       "      <th>3316</th>\n",
       "      <td>zznufi</td>\n",
       "      <td>👨‍🦲💕</td>\n",
       "      <td>NaN</td>\n",
       "      <td>EDAnonymous</td>\n",
       "    </tr>\n",
       "    <tr>\n",
       "      <th>3368</th>\n",
       "      <td>zz93po</td>\n",
       "      <td>😀</td>\n",
       "      <td>NaN</td>\n",
       "      <td>EDAnonymous</td>\n",
       "    </tr>\n",
       "    <tr>\n",
       "      <th>3538</th>\n",
       "      <td>zxoasg</td>\n",
       "      <td>🌚</td>\n",
       "      <td>NaN</td>\n",
       "      <td>EDAnonymous</td>\n",
       "    </tr>\n",
       "  </tbody>\n",
       "</table>\n",
       "<p>16669 rows × 4 columns</p>\n",
       "</div>"
      ],
      "text/plain": [
       "           id                     selftext  sentence_polarity  \\\n",
       "584    znaf5q                i hate myself         -12.241338   \n",
       "42    10o9fkb                    I hate it         -10.214032   \n",
       "390   10mmavk  That’s it. That’s the post.          -8.334615   \n",
       "282   10nisvw    That's it that's the post          -8.334615   \n",
       "1051   joxgmd    That’s it that’s the post          -7.649268   \n",
       "...       ...                          ...                ...   \n",
       "1967  10ajqjq                            💖                NaN   \n",
       "3065  101sqec                            .                NaN   \n",
       "3316   zznufi                         👨‍🦲💕                NaN   \n",
       "3368   zz93po                            😀                NaN   \n",
       "3538   zxoasg                            🌚                NaN   \n",
       "\n",
       "                subreddit  \n",
       "584       AnorexiaNervosa  \n",
       "42    BingeEatingDisorder  \n",
       "390           EDAnonymous  \n",
       "282           EDAnonymous  \n",
       "1051     eating_disorders  \n",
       "...                   ...  \n",
       "1967          EDAnonymous  \n",
       "3065          EDAnonymous  \n",
       "3316          EDAnonymous  \n",
       "3368          EDAnonymous  \n",
       "3538          EDAnonymous  \n",
       "\n",
       "[16669 rows x 4 columns]"
      ]
     },
     "execution_count": 17,
     "metadata": {},
     "output_type": "execute_result"
    }
   ],
   "source": [
    "all_subreddits_polarity_df.sort_values(by='sentence_polarity')"
   ]
  },
  {
   "cell_type": "markdown",
   "id": "f93d302d",
   "metadata": {},
   "source": [
    "## Combined Sentence Polarity Scores for All Individual Subreddits Excluding BingeEatingRecovery"
   ]
  },
  {
   "cell_type": "code",
   "execution_count": 18,
   "id": "0d5b2472",
   "metadata": {
    "scrolled": false
   },
   "outputs": [
    {
     "data": {
      "text/plain": [
       "subreddit\n",
       "AnorexiaNervosa           863\n",
       "AnorexiaRecovery         2020\n",
       "BingeEatingDisorder       368\n",
       "BulimiaAndAnaSupport       76\n",
       "BulimiaRecovery            13\n",
       "EDAnonymous              3774\n",
       "EDRecovery_public         361\n",
       "EatingDisorderHope         62\n",
       "EatingDisorders           893\n",
       "EdAnonymousAdults        3530\n",
       "NotOtherwiseSpecified       8\n",
       "PurgingDisorder            12\n",
       "anorexiaflareuphelp        33\n",
       "bingeeating               252\n",
       "bulimia                  1901\n",
       "eating_disorders         2440\n",
       "edsupport                  63\n",
       "Name: id, dtype: int64"
      ]
     },
     "execution_count": 18,
     "metadata": {},
     "output_type": "execute_result"
    }
   ],
   "source": [
    "all_subreddits_polarity_df.groupby(by='subreddit')['id'].count()"
   ]
  },
  {
   "cell_type": "code",
   "execution_count": 19,
   "id": "31b42c45",
   "metadata": {},
   "outputs": [],
   "source": [
    "all_subreddits_polarity_df.to_csv('submission_polarity.csv')"
   ]
  },
  {
   "cell_type": "code",
   "execution_count": null,
   "id": "a310ad59",
   "metadata": {},
   "outputs": [],
   "source": []
  }
 ],
 "metadata": {
  "kernelspec": {
   "display_name": "Python 3 (ipykernel)",
   "language": "python",
   "name": "python3"
  },
  "language_info": {
   "codemirror_mode": {
    "name": "ipython",
    "version": 3
   },
   "file_extension": ".py",
   "mimetype": "text/x-python",
   "name": "python",
   "nbconvert_exporter": "python",
   "pygments_lexer": "ipython3",
   "version": "3.11.1"
  }
 },
 "nbformat": 4,
 "nbformat_minor": 5
}
