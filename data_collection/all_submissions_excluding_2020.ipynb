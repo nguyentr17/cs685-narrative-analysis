{
 "cells": [
  {
   "cell_type": "code",
   "execution_count": 1,
   "id": "47d6e84f",
   "metadata": {},
   "outputs": [],
   "source": [
    "import os\n",
    "import json\n",
    "import pandas as pd\n",
    "from sqlalchemy import text\n",
    "from sqlalchemy import create_engine\n",
    "from sqlalchemy.orm import sessionmaker\n",
    "import nltk\n",
    "from nltk.tokenize import word_tokenize\n",
    "from nltk.corpus import stopwords\n",
    "import numpy as np\n",
    "import gensim\n",
    "\n",
    "import sys\n",
    "from nltk.tokenize import sent_tokenize\n",
    "\n",
    "from gensim.models import Word2Vec\n",
    "from nltk.stem import WordNetLemmatizer\n",
    "from nltk.stem import PorterStemmer\n",
    "import ast\n",
    "from nltk.corpus import wordnet"
   ]
  },
  {
   "cell_type": "code",
   "execution_count": 2,
   "id": "4d094cff",
   "metadata": {},
   "outputs": [
    {
     "name": "stderr",
     "output_type": "stream",
     "text": [
      "[nltk_data] Downloading package punkt to\n",
      "[nltk_data]     /Users/jengyuchou/nltk_data...\n",
      "[nltk_data]   Package punkt is already up-to-date!\n",
      "[nltk_data] Downloading package stopwords to\n",
      "[nltk_data]     /Users/jengyuchou/nltk_data...\n",
      "[nltk_data]   Package stopwords is already up-to-date!\n",
      "[nltk_data] Downloading package wordnet to\n",
      "[nltk_data]     /Users/jengyuchou/nltk_data...\n",
      "[nltk_data]   Package wordnet is already up-to-date!\n",
      "[nltk_data] Downloading package averaged_perceptron_tagger to\n",
      "[nltk_data]     /Users/jengyuchou/nltk_data...\n",
      "[nltk_data]   Package averaged_perceptron_tagger is already up-to-\n",
      "[nltk_data]       date!\n"
     ]
    },
    {
     "data": {
      "text/plain": [
       "True"
      ]
     },
     "execution_count": 2,
     "metadata": {},
     "output_type": "execute_result"
    }
   ],
   "source": [
    "import nltk\n",
    "import ssl\n",
    "\n",
    "try:\n",
    "    _create_unverified_https_context = ssl._create_unverified_context\n",
    "except AttributeError:\n",
    "    pass\n",
    "else:\n",
    "    ssl._create_default_https_context = _create_unverified_https_context\n",
    "\n",
    "nltk.download('punkt')\n",
    "nltk.download('stopwords')\n",
    "nltk.download('wordnet')\n",
    "nltk.download('averaged_perceptron_tagger')"
   ]
  },
  {
   "cell_type": "code",
   "execution_count": 3,
   "id": "60b83f2a",
   "metadata": {},
   "outputs": [],
   "source": [
    "sqlite_path = \"./reddit_ed_0.6.0.sqlite3\"\n",
    "engine = create_engine(\n",
    "    f\"sqlite:///{sqlite_path}\",\n",
    "    connect_args={\"check_same_thread\":False},\n",
    ")"
   ]
  },
  {
   "cell_type": "code",
   "execution_count": 4,
   "id": "abd2612e",
   "metadata": {},
   "outputs": [],
   "source": [
    "all_subreddits_polarity_df = pd.read_csv('submission_polarity.csv')"
   ]
  },
  {
   "cell_type": "code",
   "execution_count": 5,
   "id": "c643d54e",
   "metadata": {},
   "outputs": [
    {
     "data": {
      "text/html": [
       "<div>\n",
       "<style scoped>\n",
       "    .dataframe tbody tr th:only-of-type {\n",
       "        vertical-align: middle;\n",
       "    }\n",
       "\n",
       "    .dataframe tbody tr th {\n",
       "        vertical-align: top;\n",
       "    }\n",
       "\n",
       "    .dataframe thead th {\n",
       "        text-align: right;\n",
       "    }\n",
       "</style>\n",
       "<table border=\"1\" class=\"dataframe\">\n",
       "  <thead>\n",
       "    <tr style=\"text-align: right;\">\n",
       "      <th></th>\n",
       "      <th>id</th>\n",
       "      <th>selftext</th>\n",
       "      <th>sentence_polarity</th>\n",
       "      <th>subreddit</th>\n",
       "    </tr>\n",
       "  </thead>\n",
       "  <tbody>\n",
       "    <tr>\n",
       "      <th>0</th>\n",
       "      <td>10pljws</td>\n",
       "      <td>Is it possible to gain 5 pounds in 10 days? I’...</td>\n",
       "      <td>0.938680</td>\n",
       "      <td>AnorexiaRecovery</td>\n",
       "    </tr>\n",
       "    <tr>\n",
       "      <th>1</th>\n",
       "      <td>10pg79q</td>\n",
       "      <td>Hello all, not sure if this is the best place ...</td>\n",
       "      <td>0.149335</td>\n",
       "      <td>AnorexiaRecovery</td>\n",
       "    </tr>\n",
       "    <tr>\n",
       "      <th>2</th>\n",
       "      <td>10p9kga</td>\n",
       "      <td>I’m soo proud of myself 🥲</td>\n",
       "      <td>6.462965</td>\n",
       "      <td>AnorexiaRecovery</td>\n",
       "    </tr>\n",
       "    <tr>\n",
       "      <th>3</th>\n",
       "      <td>10p8r2g</td>\n",
       "      <td>do i need to be concerned about chest pain whe...</td>\n",
       "      <td>0.504343</td>\n",
       "      <td>AnorexiaRecovery</td>\n",
       "    </tr>\n",
       "    <tr>\n",
       "      <th>4</th>\n",
       "      <td>10p6vc9</td>\n",
       "      <td>2 weeks ago is was 58 lbs, I got on the scale ...</td>\n",
       "      <td>0.409928</td>\n",
       "      <td>AnorexiaRecovery</td>\n",
       "    </tr>\n",
       "    <tr>\n",
       "      <th>...</th>\n",
       "      <td>...</td>\n",
       "      <td>...</td>\n",
       "      <td>...</td>\n",
       "      <td>...</td>\n",
       "    </tr>\n",
       "    <tr>\n",
       "      <th>16664</th>\n",
       "      <td>lrjuuq</td>\n",
       "      <td>So I recently lost a pet, today is the 1 year ...</td>\n",
       "      <td>0.232494</td>\n",
       "      <td>NotOtherwiseSpecified</td>\n",
       "    </tr>\n",
       "    <tr>\n",
       "      <th>16665</th>\n",
       "      <td>lpje44</td>\n",
       "      <td>Who the fuck decided that “FED” should be in t...</td>\n",
       "      <td>-0.040827</td>\n",
       "      <td>NotOtherwiseSpecified</td>\n",
       "    </tr>\n",
       "    <tr>\n",
       "      <th>16666</th>\n",
       "      <td>lorrkh</td>\n",
       "      <td>I suck at making them but I love a good meme! ...</td>\n",
       "      <td>-0.012205</td>\n",
       "      <td>NotOtherwiseSpecified</td>\n",
       "    </tr>\n",
       "    <tr>\n",
       "      <th>16667</th>\n",
       "      <td>lorq56</td>\n",
       "      <td>I’m so tired of feeling like a “fake anorexic”...</td>\n",
       "      <td>-0.004249</td>\n",
       "      <td>NotOtherwiseSpecified</td>\n",
       "    </tr>\n",
       "    <tr>\n",
       "      <th>16668</th>\n",
       "      <td>loratb</td>\n",
       "      <td>Welcome to our new community!! You truly are w...</td>\n",
       "      <td>-0.024291</td>\n",
       "      <td>NotOtherwiseSpecified</td>\n",
       "    </tr>\n",
       "  </tbody>\n",
       "</table>\n",
       "<p>16669 rows × 4 columns</p>\n",
       "</div>"
      ],
      "text/plain": [
       "            id                                           selftext  \\\n",
       "0      10pljws  Is it possible to gain 5 pounds in 10 days? I’...   \n",
       "1      10pg79q  Hello all, not sure if this is the best place ...   \n",
       "2      10p9kga                          I’m soo proud of myself 🥲   \n",
       "3      10p8r2g  do i need to be concerned about chest pain whe...   \n",
       "4      10p6vc9  2 weeks ago is was 58 lbs, I got on the scale ...   \n",
       "...        ...                                                ...   \n",
       "16664   lrjuuq  So I recently lost a pet, today is the 1 year ...   \n",
       "16665   lpje44  Who the fuck decided that “FED” should be in t...   \n",
       "16666   lorrkh  I suck at making them but I love a good meme! ...   \n",
       "16667   lorq56  I’m so tired of feeling like a “fake anorexic”...   \n",
       "16668   loratb  Welcome to our new community!! You truly are w...   \n",
       "\n",
       "       sentence_polarity              subreddit  \n",
       "0               0.938680       AnorexiaRecovery  \n",
       "1               0.149335       AnorexiaRecovery  \n",
       "2               6.462965       AnorexiaRecovery  \n",
       "3               0.504343       AnorexiaRecovery  \n",
       "4               0.409928       AnorexiaRecovery  \n",
       "...                  ...                    ...  \n",
       "16664           0.232494  NotOtherwiseSpecified  \n",
       "16665          -0.040827  NotOtherwiseSpecified  \n",
       "16666          -0.012205  NotOtherwiseSpecified  \n",
       "16667          -0.004249  NotOtherwiseSpecified  \n",
       "16668          -0.024291  NotOtherwiseSpecified  \n",
       "\n",
       "[16669 rows x 4 columns]"
      ]
     },
     "execution_count": 5,
     "metadata": {},
     "output_type": "execute_result"
    }
   ],
   "source": [
    "all_subreddits_polarity_df"
   ]
  },
  {
   "cell_type": "code",
   "execution_count": 6,
   "id": "f4227b71",
   "metadata": {},
   "outputs": [],
   "source": [
    "query = f\"select id, created_utc from subreddit_submission_metadata;\"\n",
    "df = pd.read_sql_query(text(query),con=engine.connect())"
   ]
  },
  {
   "cell_type": "code",
   "execution_count": 7,
   "id": "1f186804",
   "metadata": {},
   "outputs": [],
   "source": [
    "df = df.merge(all_subreddits_polarity_df,how='inner',on='id')"
   ]
  },
  {
   "cell_type": "code",
   "execution_count": 8,
   "id": "576f9446",
   "metadata": {},
   "outputs": [
    {
     "data": {
      "text/html": [
       "<div>\n",
       "<style scoped>\n",
       "    .dataframe tbody tr th:only-of-type {\n",
       "        vertical-align: middle;\n",
       "    }\n",
       "\n",
       "    .dataframe tbody tr th {\n",
       "        vertical-align: top;\n",
       "    }\n",
       "\n",
       "    .dataframe thead th {\n",
       "        text-align: right;\n",
       "    }\n",
       "</style>\n",
       "<table border=\"1\" class=\"dataframe\">\n",
       "  <thead>\n",
       "    <tr style=\"text-align: right;\">\n",
       "      <th></th>\n",
       "      <th>id</th>\n",
       "      <th>created_utc</th>\n",
       "      <th>selftext</th>\n",
       "      <th>sentence_polarity</th>\n",
       "      <th>subreddit</th>\n",
       "    </tr>\n",
       "  </thead>\n",
       "  <tbody>\n",
       "    <tr>\n",
       "      <th>0</th>\n",
       "      <td>10poqxu</td>\n",
       "      <td>1675140001</td>\n",
       "      <td>23 F. I just started treatment for an eating d...</td>\n",
       "      <td>-1.895242</td>\n",
       "      <td>EatingDisorders</td>\n",
       "    </tr>\n",
       "    <tr>\n",
       "      <th>1</th>\n",
       "      <td>10pnoxo</td>\n",
       "      <td>1675137504</td>\n",
       "      <td>I 26 f told the truth for the first time about...</td>\n",
       "      <td>-1.581629</td>\n",
       "      <td>EatingDisorders</td>\n",
       "    </tr>\n",
       "    <tr>\n",
       "      <th>2</th>\n",
       "      <td>10pkd8e</td>\n",
       "      <td>1675128549</td>\n",
       "      <td>Greetings,\\n\\nA research team from Carnegie Va...</td>\n",
       "      <td>-0.117162</td>\n",
       "      <td>EatingDisorders</td>\n",
       "    </tr>\n",
       "    <tr>\n",
       "      <th>3</th>\n",
       "      <td>10pjinj</td>\n",
       "      <td>1675126245</td>\n",
       "      <td>Idk who to talk to about this so I resort to r...</td>\n",
       "      <td>-2.159229</td>\n",
       "      <td>EatingDisorders</td>\n",
       "    </tr>\n",
       "    <tr>\n",
       "      <th>4</th>\n",
       "      <td>10pj90n</td>\n",
       "      <td>1675125516</td>\n",
       "      <td>I don’t know where to start.. Due to my upbrin...</td>\n",
       "      <td>-1.407739</td>\n",
       "      <td>EatingDisorders</td>\n",
       "    </tr>\n",
       "    <tr>\n",
       "      <th>...</th>\n",
       "      <td>...</td>\n",
       "      <td>...</td>\n",
       "      <td>...</td>\n",
       "      <td>...</td>\n",
       "      <td>...</td>\n",
       "    </tr>\n",
       "    <tr>\n",
       "      <th>16664</th>\n",
       "      <td>lrjuuq</td>\n",
       "      <td>1614191529</td>\n",
       "      <td>So I recently lost a pet, today is the 1 year ...</td>\n",
       "      <td>0.232494</td>\n",
       "      <td>NotOtherwiseSpecified</td>\n",
       "    </tr>\n",
       "    <tr>\n",
       "      <th>16665</th>\n",
       "      <td>lpje44</td>\n",
       "      <td>1613983999</td>\n",
       "      <td>Who the fuck decided that “FED” should be in t...</td>\n",
       "      <td>-0.040827</td>\n",
       "      <td>NotOtherwiseSpecified</td>\n",
       "    </tr>\n",
       "    <tr>\n",
       "      <th>16666</th>\n",
       "      <td>lorrkh</td>\n",
       "      <td>1613892434</td>\n",
       "      <td>I suck at making them but I love a good meme! ...</td>\n",
       "      <td>-0.012205</td>\n",
       "      <td>NotOtherwiseSpecified</td>\n",
       "    </tr>\n",
       "    <tr>\n",
       "      <th>16667</th>\n",
       "      <td>lorq56</td>\n",
       "      <td>1613892304</td>\n",
       "      <td>I’m so tired of feeling like a “fake anorexic”...</td>\n",
       "      <td>-0.004249</td>\n",
       "      <td>NotOtherwiseSpecified</td>\n",
       "    </tr>\n",
       "    <tr>\n",
       "      <th>16668</th>\n",
       "      <td>loratb</td>\n",
       "      <td>1613890539</td>\n",
       "      <td>Welcome to our new community!! You truly are w...</td>\n",
       "      <td>-0.024291</td>\n",
       "      <td>NotOtherwiseSpecified</td>\n",
       "    </tr>\n",
       "  </tbody>\n",
       "</table>\n",
       "<p>16669 rows × 5 columns</p>\n",
       "</div>"
      ],
      "text/plain": [
       "            id  created_utc  \\\n",
       "0      10poqxu   1675140001   \n",
       "1      10pnoxo   1675137504   \n",
       "2      10pkd8e   1675128549   \n",
       "3      10pjinj   1675126245   \n",
       "4      10pj90n   1675125516   \n",
       "...        ...          ...   \n",
       "16664   lrjuuq   1614191529   \n",
       "16665   lpje44   1613983999   \n",
       "16666   lorrkh   1613892434   \n",
       "16667   lorq56   1613892304   \n",
       "16668   loratb   1613890539   \n",
       "\n",
       "                                                selftext  sentence_polarity  \\\n",
       "0      23 F. I just started treatment for an eating d...          -1.895242   \n",
       "1      I 26 f told the truth for the first time about...          -1.581629   \n",
       "2      Greetings,\\n\\nA research team from Carnegie Va...          -0.117162   \n",
       "3      Idk who to talk to about this so I resort to r...          -2.159229   \n",
       "4      I don’t know where to start.. Due to my upbrin...          -1.407739   \n",
       "...                                                  ...                ...   \n",
       "16664  So I recently lost a pet, today is the 1 year ...           0.232494   \n",
       "16665  Who the fuck decided that “FED” should be in t...          -0.040827   \n",
       "16666  I suck at making them but I love a good meme! ...          -0.012205   \n",
       "16667  I’m so tired of feeling like a “fake anorexic”...          -0.004249   \n",
       "16668  Welcome to our new community!! You truly are w...          -0.024291   \n",
       "\n",
       "                   subreddit  \n",
       "0            EatingDisorders  \n",
       "1            EatingDisorders  \n",
       "2            EatingDisorders  \n",
       "3            EatingDisorders  \n",
       "4            EatingDisorders  \n",
       "...                      ...  \n",
       "16664  NotOtherwiseSpecified  \n",
       "16665  NotOtherwiseSpecified  \n",
       "16666  NotOtherwiseSpecified  \n",
       "16667  NotOtherwiseSpecified  \n",
       "16668  NotOtherwiseSpecified  \n",
       "\n",
       "[16669 rows x 5 columns]"
      ]
     },
     "execution_count": 8,
     "metadata": {},
     "output_type": "execute_result"
    }
   ],
   "source": [
    "df"
   ]
  },
  {
   "cell_type": "code",
   "execution_count": 9,
   "id": "ec27295d",
   "metadata": {},
   "outputs": [],
   "source": [
    "from datetime import datetime"
   ]
  },
  {
   "cell_type": "code",
   "execution_count": 10,
   "id": "df6815e2",
   "metadata": {},
   "outputs": [
    {
     "data": {
      "text/plain": [
       "datetime.datetime(1991, 5, 24, 22, 53, 21)"
      ]
     },
     "execution_count": 10,
     "metadata": {},
     "output_type": "execute_result"
    }
   ],
   "source": [
    "datetime.fromtimestamp(675140001)"
   ]
  },
  {
   "cell_type": "code",
   "execution_count": 11,
   "id": "ff127acc",
   "metadata": {
    "scrolled": true
   },
   "outputs": [],
   "source": [
    "before = datetime(2023,1,31,0,0)  # Jan 1, 2021"
   ]
  },
  {
   "cell_type": "code",
   "execution_count": 12,
   "id": "9bd48c54",
   "metadata": {},
   "outputs": [],
   "source": [
    "after = datetime(2015,1,1,0,0) # Jan 31, 2019"
   ]
  },
  {
   "cell_type": "code",
   "execution_count": 13,
   "id": "cb2e534c",
   "metadata": {},
   "outputs": [],
   "source": [
    "# if submission was posted in the date range of after-before, 2020, ignore"
   ]
  },
  {
   "cell_type": "code",
   "execution_count": 14,
   "id": "9091bf72",
   "metadata": {},
   "outputs": [
    {
     "data": {
      "text/html": [
       "<div>\n",
       "<style scoped>\n",
       "    .dataframe tbody tr th:only-of-type {\n",
       "        vertical-align: middle;\n",
       "    }\n",
       "\n",
       "    .dataframe tbody tr th {\n",
       "        vertical-align: top;\n",
       "    }\n",
       "\n",
       "    .dataframe thead th {\n",
       "        text-align: right;\n",
       "    }\n",
       "</style>\n",
       "<table border=\"1\" class=\"dataframe\">\n",
       "  <thead>\n",
       "    <tr style=\"text-align: right;\">\n",
       "      <th></th>\n",
       "      <th>id</th>\n",
       "      <th>created_utc</th>\n",
       "    </tr>\n",
       "  </thead>\n",
       "  <tbody>\n",
       "    <tr>\n",
       "      <th>0</th>\n",
       "      <td>10poqxu</td>\n",
       "      <td>1675140001</td>\n",
       "    </tr>\n",
       "    <tr>\n",
       "      <th>1</th>\n",
       "      <td>10pnoxo</td>\n",
       "      <td>1675137504</td>\n",
       "    </tr>\n",
       "    <tr>\n",
       "      <th>2</th>\n",
       "      <td>10pkd8e</td>\n",
       "      <td>1675128549</td>\n",
       "    </tr>\n",
       "    <tr>\n",
       "      <th>3</th>\n",
       "      <td>10pjinj</td>\n",
       "      <td>1675126245</td>\n",
       "    </tr>\n",
       "    <tr>\n",
       "      <th>4</th>\n",
       "      <td>10pj90n</td>\n",
       "      <td>1675125516</td>\n",
       "    </tr>\n",
       "    <tr>\n",
       "      <th>...</th>\n",
       "      <td>...</td>\n",
       "      <td>...</td>\n",
       "    </tr>\n",
       "    <tr>\n",
       "      <th>16664</th>\n",
       "      <td>lrjuuq</td>\n",
       "      <td>1614191529</td>\n",
       "    </tr>\n",
       "    <tr>\n",
       "      <th>16665</th>\n",
       "      <td>lpje44</td>\n",
       "      <td>1613983999</td>\n",
       "    </tr>\n",
       "    <tr>\n",
       "      <th>16666</th>\n",
       "      <td>lorrkh</td>\n",
       "      <td>1613892434</td>\n",
       "    </tr>\n",
       "    <tr>\n",
       "      <th>16667</th>\n",
       "      <td>lorq56</td>\n",
       "      <td>1613892304</td>\n",
       "    </tr>\n",
       "    <tr>\n",
       "      <th>16668</th>\n",
       "      <td>loratb</td>\n",
       "      <td>1613890539</td>\n",
       "    </tr>\n",
       "  </tbody>\n",
       "</table>\n",
       "<p>16669 rows × 2 columns</p>\n",
       "</div>"
      ],
      "text/plain": [
       "            id  created_utc\n",
       "0      10poqxu   1675140001\n",
       "1      10pnoxo   1675137504\n",
       "2      10pkd8e   1675128549\n",
       "3      10pjinj   1675126245\n",
       "4      10pj90n   1675125516\n",
       "...        ...          ...\n",
       "16664   lrjuuq   1614191529\n",
       "16665   lpje44   1613983999\n",
       "16666   lorrkh   1613892434\n",
       "16667   lorq56   1613892304\n",
       "16668   loratb   1613890539\n",
       "\n",
       "[16669 rows x 2 columns]"
      ]
     },
     "execution_count": 14,
     "metadata": {},
     "output_type": "execute_result"
    }
   ],
   "source": [
    "df[['id','created_utc']]"
   ]
  },
  {
   "cell_type": "code",
   "execution_count": 15,
   "id": "dda6e38e",
   "metadata": {},
   "outputs": [],
   "source": [
    "df_ts = list(zip(df['id'].tolist(),df['created_utc'].tolist()))"
   ]
  },
  {
   "cell_type": "code",
   "execution_count": 16,
   "id": "189a927f",
   "metadata": {},
   "outputs": [],
   "source": [
    "non_2020 = list()"
   ]
  },
  {
   "cell_type": "code",
   "execution_count": 17,
   "id": "e28b136b",
   "metadata": {},
   "outputs": [],
   "source": [
    "pre_2020 = list()"
   ]
  },
  {
   "cell_type": "code",
   "execution_count": 18,
   "id": "a80ae6fb",
   "metadata": {},
   "outputs": [],
   "source": [
    "post_2020 = list()"
   ]
  },
  {
   "cell_type": "code",
   "execution_count": 19,
   "id": "21ce7e62",
   "metadata": {},
   "outputs": [],
   "source": [
    "for i in df_ts:\n",
    "    current = datetime.fromtimestamp(i[1])\n",
    "    if current.year != 2020:\n",
    "        non_2020.append(i[0])\n",
    "        if current.year < 2020:\n",
    "            pre_2020.append(i[0])\n",
    "        elif current.year > 2020:\n",
    "            post_2020.append(i[0])"
   ]
  },
  {
   "cell_type": "code",
   "execution_count": 20,
   "id": "693de93b",
   "metadata": {},
   "outputs": [
    {
     "data": {
      "text/plain": [
       "16669"
      ]
     },
     "execution_count": 20,
     "metadata": {},
     "output_type": "execute_result"
    }
   ],
   "source": [
    "len(df_ts)"
   ]
  },
  {
   "cell_type": "code",
   "execution_count": 21,
   "id": "e8c14573",
   "metadata": {},
   "outputs": [
    {
     "data": {
      "text/plain": [
       "13364"
      ]
     },
     "execution_count": 21,
     "metadata": {},
     "output_type": "execute_result"
    }
   ],
   "source": [
    "len(non_2020)"
   ]
  },
  {
   "cell_type": "code",
   "execution_count": 22,
   "id": "980dec68",
   "metadata": {},
   "outputs": [
    {
     "data": {
      "text/plain": [
       "1279"
      ]
     },
     "execution_count": 22,
     "metadata": {},
     "output_type": "execute_result"
    }
   ],
   "source": [
    "len(pre_2020)"
   ]
  },
  {
   "cell_type": "code",
   "execution_count": 23,
   "id": "e6d1fc8d",
   "metadata": {},
   "outputs": [
    {
     "data": {
      "text/plain": [
       "12085"
      ]
     },
     "execution_count": 23,
     "metadata": {},
     "output_type": "execute_result"
    }
   ],
   "source": [
    "len(post_2020)"
   ]
  },
  {
   "cell_type": "code",
   "execution_count": 24,
   "id": "1884891d",
   "metadata": {},
   "outputs": [],
   "source": [
    "non_2020_df = df[df['id'].isin(non_2020)]"
   ]
  },
  {
   "cell_type": "code",
   "execution_count": 25,
   "id": "6c8a8d43",
   "metadata": {},
   "outputs": [],
   "source": [
    "non_2020_df.to_csv('non_2020_submission_polarities.csv',index=False)"
   ]
  },
  {
   "cell_type": "code",
   "execution_count": 26,
   "id": "61c85ca1",
   "metadata": {},
   "outputs": [],
   "source": [
    "pre_2020_df = df[df['id'].isin(pre_2020)]\n",
    "pre_2020_df.to_csv('pre_2020_submission_polarities.csv',index=False)"
   ]
  },
  {
   "cell_type": "code",
   "execution_count": null,
   "id": "2ce5826d",
   "metadata": {},
   "outputs": [],
   "source": [
    "post_2020_df = df[df['id'].isin(post_2020)]\n",
    "post_2020_df.to_csv('p_2020_submission_polarities.csv',index=False)"
   ]
  }
 ],
 "metadata": {
  "kernelspec": {
   "display_name": "Python 3 (ipykernel)",
   "language": "python",
   "name": "python3"
  },
  "language_info": {
   "codemirror_mode": {
    "name": "ipython",
    "version": 3
   },
   "file_extension": ".py",
   "mimetype": "text/x-python",
   "name": "python",
   "nbconvert_exporter": "python",
   "pygments_lexer": "ipython3",
   "version": "3.11.1"
  }
 },
 "nbformat": 4,
 "nbformat_minor": 5
}
