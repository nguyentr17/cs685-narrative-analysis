{
 "cells": [
  {
   "cell_type": "code",
   "execution_count": 5,
   "id": "546ae286",
   "metadata": {},
   "outputs": [],
   "source": [
    "import os\n",
    "import json\n",
    "import pandas as pd\n",
    "from sqlalchemy import text\n",
    "from sqlalchemy import create_engine\n",
    "from sqlalchemy.orm import sessionmaker\n",
    "import nltk\n",
    "from nltk.tokenize import word_tokenize\n",
    "from nltk.corpus import stopwords\n",
    "import numpy as np\n",
    "import gensim"
   ]
  },
  {
   "cell_type": "code",
   "execution_count": 9,
   "id": "08174fb0",
   "metadata": {},
   "outputs": [],
   "source": [
    "normalized_dir = \"./polarities/normalized\""
   ]
  },
  {
   "cell_type": "code",
   "execution_count": 33,
   "id": "13568588",
   "metadata": {},
   "outputs": [],
   "source": [
    "subreddits = list()"
   ]
  },
  {
   "cell_type": "code",
   "execution_count": 34,
   "id": "3335241c",
   "metadata": {},
   "outputs": [],
   "source": [
    "subreddit_polarities = dict()\n",
    "for subreddit in os.listdir(normalized_dir):\n",
    "    if subreddit.split('.')[-1] == 'json':\n",
    "        if subreddit.split('_standardized')[0] != 'BingeEatingRecovery':\n",
    "            with open(os.path.join(normalized_dir,subreddit)) as f:\n",
    "                subreddit_polarities[subreddit.split('_standardized')[0]] = json.load(f)\n",
    "                subreddits.append(subreddit.split('_standardized')[0])"
   ]
  },
  {
   "cell_type": "code",
   "execution_count": 35,
   "id": "eb22b647",
   "metadata": {
    "scrolled": false
   },
   "outputs": [
    {
     "data": {
      "text/plain": [
       "['AnorexiaRecovery',\n",
       " 'bingeeating',\n",
       " 'eating_disorders',\n",
       " 'EdAnonymousAdults',\n",
       " 'EatingDisorderHope',\n",
       " 'selftext',\n",
       " 'bulimia',\n",
       " 'BulimiaRecovery',\n",
       " 'EDRecovery_public',\n",
       " 'BingeEatingDisorder',\n",
       " 'EatingDisorders',\n",
       " 'anorexiaflareuphelp',\n",
       " 'edsupport',\n",
       " 'PurgingDisorder',\n",
       " 'AnorexiaNervosa',\n",
       " 'BulimiaAndAnaSupport',\n",
       " 'EDAnonymous',\n",
       " 'NotOtherwiseSpecified']"
      ]
     },
     "execution_count": 35,
     "metadata": {},
     "output_type": "execute_result"
    }
   ],
   "source": [
    "subreddits"
   ]
  },
  {
   "cell_type": "code",
   "execution_count": 90,
   "id": "c5a33845",
   "metadata": {},
   "outputs": [],
   "source": [
    "common = list(subreddit_polarities[subreddits[0]].keys())\n",
    "for subreddit in subreddits:\n",
    "#     print(subreddit)\n",
    "    common = [value for value in common if value in subreddit_polarities[subreddit].keys()]"
   ]
  },
  {
   "cell_type": "code",
   "execution_count": 92,
   "id": "490ba98c",
   "metadata": {
    "scrolled": false
   },
   "outputs": [],
   "source": [
    "df_list = list()\n",
    "for word in common:\n",
    "    for subreddit in subreddits:\n",
    "        df_list.append({'subreddit': subreddit, 'word': word, 'polarity': subreddit_polarities[subreddit][word]})"
   ]
  },
  {
   "cell_type": "code",
   "execution_count": 93,
   "id": "7f6be6a4",
   "metadata": {},
   "outputs": [],
   "source": [
    "shared_words = pd.DataFrame.from_dict(df_list)"
   ]
  },
  {
   "cell_type": "code",
   "execution_count": 94,
   "id": "59026bb4",
   "metadata": {},
   "outputs": [
    {
     "data": {
      "text/html": [
       "<div>\n",
       "<style scoped>\n",
       "    .dataframe tbody tr th:only-of-type {\n",
       "        vertical-align: middle;\n",
       "    }\n",
       "\n",
       "    .dataframe tbody tr th {\n",
       "        vertical-align: top;\n",
       "    }\n",
       "\n",
       "    .dataframe thead th {\n",
       "        text-align: right;\n",
       "    }\n",
       "</style>\n",
       "<table border=\"1\" class=\"dataframe\">\n",
       "  <thead>\n",
       "    <tr style=\"text-align: right;\">\n",
       "      <th></th>\n",
       "      <th>subreddit</th>\n",
       "      <th>word</th>\n",
       "      <th>polarity</th>\n",
       "    </tr>\n",
       "  </thead>\n",
       "  <tbody>\n",
       "    <tr>\n",
       "      <th>0</th>\n",
       "      <td>AnorexiaRecovery</td>\n",
       "      <td>want</td>\n",
       "      <td>-0.319114</td>\n",
       "    </tr>\n",
       "    <tr>\n",
       "      <th>1</th>\n",
       "      <td>bingeeating</td>\n",
       "      <td>want</td>\n",
       "      <td>0.147042</td>\n",
       "    </tr>\n",
       "    <tr>\n",
       "      <th>2</th>\n",
       "      <td>eating_disorders</td>\n",
       "      <td>want</td>\n",
       "      <td>-2.114622</td>\n",
       "    </tr>\n",
       "    <tr>\n",
       "      <th>3</th>\n",
       "      <td>EdAnonymousAdults</td>\n",
       "      <td>want</td>\n",
       "      <td>-7.227650</td>\n",
       "    </tr>\n",
       "    <tr>\n",
       "      <th>4</th>\n",
       "      <td>EatingDisorderHope</td>\n",
       "      <td>want</td>\n",
       "      <td>-1.934358</td>\n",
       "    </tr>\n",
       "    <tr>\n",
       "      <th>...</th>\n",
       "      <td>...</td>\n",
       "      <td>...</td>\n",
       "      <td>...</td>\n",
       "    </tr>\n",
       "    <tr>\n",
       "      <th>769</th>\n",
       "      <td>PurgingDisorder</td>\n",
       "      <td>know</td>\n",
       "      <td>-0.042790</td>\n",
       "    </tr>\n",
       "    <tr>\n",
       "      <th>770</th>\n",
       "      <td>AnorexiaNervosa</td>\n",
       "      <td>know</td>\n",
       "      <td>-1.111143</td>\n",
       "    </tr>\n",
       "    <tr>\n",
       "      <th>771</th>\n",
       "      <td>BulimiaAndAnaSupport</td>\n",
       "      <td>know</td>\n",
       "      <td>4.377576</td>\n",
       "    </tr>\n",
       "    <tr>\n",
       "      <th>772</th>\n",
       "      <td>EDAnonymous</td>\n",
       "      <td>know</td>\n",
       "      <td>-4.385993</td>\n",
       "    </tr>\n",
       "    <tr>\n",
       "      <th>773</th>\n",
       "      <td>NotOtherwiseSpecified</td>\n",
       "      <td>know</td>\n",
       "      <td>0.129836</td>\n",
       "    </tr>\n",
       "  </tbody>\n",
       "</table>\n",
       "<p>774 rows × 3 columns</p>\n",
       "</div>"
      ],
      "text/plain": [
       "                 subreddit  word  polarity\n",
       "0         AnorexiaRecovery  want -0.319114\n",
       "1              bingeeating  want  0.147042\n",
       "2         eating_disorders  want -2.114622\n",
       "3        EdAnonymousAdults  want -7.227650\n",
       "4       EatingDisorderHope  want -1.934358\n",
       "..                     ...   ...       ...\n",
       "769        PurgingDisorder  know -0.042790\n",
       "770        AnorexiaNervosa  know -1.111143\n",
       "771   BulimiaAndAnaSupport  know  4.377576\n",
       "772            EDAnonymous  know -4.385993\n",
       "773  NotOtherwiseSpecified  know  0.129836\n",
       "\n",
       "[774 rows x 3 columns]"
      ]
     },
     "execution_count": 94,
     "metadata": {},
     "output_type": "execute_result"
    }
   ],
   "source": [
    "shared_words"
   ]
  },
  {
   "cell_type": "code",
   "execution_count": 15,
   "id": "29eef64b",
   "metadata": {},
   "outputs": [],
   "source": [
    "sqlite_path = \"./reddit_ed_0.6.0.sqlite3\"\n",
    "engine = create_engine(\n",
    "    f\"sqlite:///{sqlite_path}\",\n",
    "    connect_args={\"check_same_thread\":False},\n",
    ")"
   ]
  },
  {
   "cell_type": "code",
   "execution_count": 16,
   "id": "3e8e995c",
   "metadata": {},
   "outputs": [],
   "source": [
    "query = f\"select subreddit, count(*) as count from subreddit_submission_metadata group by subreddit;\"\n",
    "subreddits = pd.read_sql_query(text(query),con=engine.connect())"
   ]
  },
  {
   "cell_type": "code",
   "execution_count": 97,
   "id": "f2151e24",
   "metadata": {},
   "outputs": [],
   "source": [
    "merged_df = shared_words.merge(subreddits,how='inner',on='subreddit')"
   ]
  },
  {
   "cell_type": "code",
   "execution_count": 99,
   "id": "319fb8cd",
   "metadata": {},
   "outputs": [
    {
     "data": {
      "text/html": [
       "<div>\n",
       "<style scoped>\n",
       "    .dataframe tbody tr th:only-of-type {\n",
       "        vertical-align: middle;\n",
       "    }\n",
       "\n",
       "    .dataframe tbody tr th {\n",
       "        vertical-align: top;\n",
       "    }\n",
       "\n",
       "    .dataframe thead th {\n",
       "        text-align: right;\n",
       "    }\n",
       "</style>\n",
       "<table border=\"1\" class=\"dataframe\">\n",
       "  <thead>\n",
       "    <tr style=\"text-align: right;\">\n",
       "      <th></th>\n",
       "      <th>subreddit</th>\n",
       "      <th>word</th>\n",
       "      <th>polarity</th>\n",
       "      <th>count</th>\n",
       "    </tr>\n",
       "  </thead>\n",
       "  <tbody>\n",
       "    <tr>\n",
       "      <th>165</th>\n",
       "      <td>EdAnonymousAdults</td>\n",
       "      <td>food</td>\n",
       "      <td>-5.284351</td>\n",
       "      <td>4954</td>\n",
       "    </tr>\n",
       "    <tr>\n",
       "      <th>681</th>\n",
       "      <td>EDAnonymous</td>\n",
       "      <td>food</td>\n",
       "      <td>-3.306161</td>\n",
       "      <td>3910</td>\n",
       "    </tr>\n",
       "    <tr>\n",
       "      <th>251</th>\n",
       "      <td>bulimia</td>\n",
       "      <td>food</td>\n",
       "      <td>-1.825423</td>\n",
       "      <td>2326</td>\n",
       "    </tr>\n",
       "    <tr>\n",
       "      <th>122</th>\n",
       "      <td>eating_disorders</td>\n",
       "      <td>food</td>\n",
       "      <td>-0.839858</td>\n",
       "      <td>3663</td>\n",
       "    </tr>\n",
       "    <tr>\n",
       "      <th>208</th>\n",
       "      <td>EatingDisorderHope</td>\n",
       "      <td>food</td>\n",
       "      <td>-0.815537</td>\n",
       "      <td>99</td>\n",
       "    </tr>\n",
       "    <tr>\n",
       "      <th>638</th>\n",
       "      <td>BulimiaAndAnaSupport</td>\n",
       "      <td>food</td>\n",
       "      <td>-0.680637</td>\n",
       "      <td>117</td>\n",
       "    </tr>\n",
       "    <tr>\n",
       "      <th>380</th>\n",
       "      <td>BingeEatingDisorder</td>\n",
       "      <td>food</td>\n",
       "      <td>-0.259065</td>\n",
       "      <td>393</td>\n",
       "    </tr>\n",
       "    <tr>\n",
       "      <th>423</th>\n",
       "      <td>EatingDisorders</td>\n",
       "      <td>food</td>\n",
       "      <td>-0.226930</td>\n",
       "      <td>904</td>\n",
       "    </tr>\n",
       "    <tr>\n",
       "      <th>509</th>\n",
       "      <td>edsupport</td>\n",
       "      <td>food</td>\n",
       "      <td>-0.205861</td>\n",
       "      <td>83</td>\n",
       "    </tr>\n",
       "    <tr>\n",
       "      <th>79</th>\n",
       "      <td>bingeeating</td>\n",
       "      <td>food</td>\n",
       "      <td>-0.181133</td>\n",
       "      <td>421</td>\n",
       "    </tr>\n",
       "    <tr>\n",
       "      <th>595</th>\n",
       "      <td>AnorexiaNervosa</td>\n",
       "      <td>food</td>\n",
       "      <td>-0.080145</td>\n",
       "      <td>977</td>\n",
       "    </tr>\n",
       "    <tr>\n",
       "      <th>724</th>\n",
       "      <td>NotOtherwiseSpecified</td>\n",
       "      <td>food</td>\n",
       "      <td>-0.076732</td>\n",
       "      <td>18</td>\n",
       "    </tr>\n",
       "    <tr>\n",
       "      <th>552</th>\n",
       "      <td>PurgingDisorder</td>\n",
       "      <td>food</td>\n",
       "      <td>-0.042790</td>\n",
       "      <td>15</td>\n",
       "    </tr>\n",
       "    <tr>\n",
       "      <th>337</th>\n",
       "      <td>EDRecovery_public</td>\n",
       "      <td>food</td>\n",
       "      <td>-0.032252</td>\n",
       "      <td>529</td>\n",
       "    </tr>\n",
       "    <tr>\n",
       "      <th>466</th>\n",
       "      <td>anorexiaflareuphelp</td>\n",
       "      <td>food</td>\n",
       "      <td>0.324346</td>\n",
       "      <td>38</td>\n",
       "    </tr>\n",
       "    <tr>\n",
       "      <th>294</th>\n",
       "      <td>BulimiaRecovery</td>\n",
       "      <td>food</td>\n",
       "      <td>0.417890</td>\n",
       "      <td>23</td>\n",
       "    </tr>\n",
       "    <tr>\n",
       "      <th>36</th>\n",
       "      <td>AnorexiaRecovery</td>\n",
       "      <td>food</td>\n",
       "      <td>0.745337</td>\n",
       "      <td>2686</td>\n",
       "    </tr>\n",
       "  </tbody>\n",
       "</table>\n",
       "</div>"
      ],
      "text/plain": [
       "                 subreddit  word  polarity  count\n",
       "165      EdAnonymousAdults  food -5.284351   4954\n",
       "681            EDAnonymous  food -3.306161   3910\n",
       "251                bulimia  food -1.825423   2326\n",
       "122       eating_disorders  food -0.839858   3663\n",
       "208     EatingDisorderHope  food -0.815537     99\n",
       "638   BulimiaAndAnaSupport  food -0.680637    117\n",
       "380    BingeEatingDisorder  food -0.259065    393\n",
       "423        EatingDisorders  food -0.226930    904\n",
       "509              edsupport  food -0.205861     83\n",
       "79             bingeeating  food -0.181133    421\n",
       "595        AnorexiaNervosa  food -0.080145    977\n",
       "724  NotOtherwiseSpecified  food -0.076732     18\n",
       "552        PurgingDisorder  food -0.042790     15\n",
       "337      EDRecovery_public  food -0.032252    529\n",
       "466    anorexiaflareuphelp  food  0.324346     38\n",
       "294        BulimiaRecovery  food  0.417890     23\n",
       "36        AnorexiaRecovery  food  0.745337   2686"
      ]
     },
     "execution_count": 99,
     "metadata": {},
     "output_type": "execute_result"
    }
   ],
   "source": [
    "merged_df[merged_df['word']==\"food\"].sort_values(by='polarity')"
   ]
  },
  {
   "cell_type": "markdown",
   "id": "b46715b5",
   "metadata": {},
   "source": [
    "# Keyword Comparison"
   ]
  },
  {
   "cell_type": "code",
   "execution_count": 43,
   "id": "e6ff1dc6",
   "metadata": {},
   "outputs": [],
   "source": [
    "keywords = [\n",
    "    \"eat\",\n",
    "    \"eating\",\n",
    "    \"drink\",\n",
    "    \"food\",\n",
    "    \"gain\", \n",
    "    \"gained\",\n",
    "    \"gaining\",\n",
    "    \"lose\",\n",
    "    \"lost\",\n",
    "    \"losing\",\n",
    "    \"weight\", \n",
    "    \"exercise\", \n",
    "    \"exercising\",\n",
    "    \"exercised\",\n",
    "    \"recovery\",\n",
    "    \"relapse\",\n",
    "    \"relapsed\",\n",
    "    \"therapy\",\n",
    "    \"hospital\",\n",
    "    \"doctor\",\n",
    "    \"nurse\",\n",
    "    \"body\",\n",
    "    \"family\"\n",
    "]"
   ]
  },
  {
   "cell_type": "code",
   "execution_count": 24,
   "id": "13f7f8e0",
   "metadata": {},
   "outputs": [],
   "source": [
    "sorted_edanonymous_polarities = dict(sorted(subreddit_polarities[\"EDAnonymous\"].items(), key=lambda item: item[1]))"
   ]
  },
  {
   "cell_type": "code",
   "execution_count": 29,
   "id": "32e8b944",
   "metadata": {},
   "outputs": [
    {
     "name": "stdout",
     "output_type": "stream",
     "text": [
      "EDAnonymous most negative word: ('disappointed', -14.26873112516215) \n",
      "EDAnonymous most positive word: ('loving', 14.53987153536562)\n"
     ]
    }
   ],
   "source": [
    "print(f\"EDAnonymous most negative word: {list(sorted_edanonymous_polarities.items())[0]} \\nEDAnonymous most positive word: {list(sorted_edanonymous_polarities.items())[-1]}\")\n"
   ]
  },
  {
   "cell_type": "code",
   "execution_count": 61,
   "id": "9d692a2b",
   "metadata": {},
   "outputs": [],
   "source": [
    "keyword_scores = dict()"
   ]
  },
  {
   "cell_type": "code",
   "execution_count": 62,
   "id": "10b2226f",
   "metadata": {},
   "outputs": [],
   "source": [
    "for keyword in keywords:\n",
    "    keyword_scores[keyword] = dict()\n",
    "    for subreddit in subreddits:\n",
    "        if keyword in subreddit_polarities[subreddit].keys():\n",
    "            keyword_scores[keyword][subreddit] = subreddit_polarities[subreddit][keyword]\n",
    "        else:\n",
    "            keyword_scores[keyword][subreddit] = 0"
   ]
  },
  {
   "cell_type": "code",
   "execution_count": 63,
   "id": "240d5ac3",
   "metadata": {},
   "outputs": [
    {
     "data": {
      "text/plain": [
       "{'EdAnonymousAdults': -6.684741530465614,\n",
       " 'selftext': -3.9911441469958167,\n",
       " 'EDAnonymous': -3.828017185259774,\n",
       " 'EatingDisorderHope': -2.1337942719970964,\n",
       " 'eating_disorders': -1.6561770702431415,\n",
       " 'bulimia': -0.3565905111456042,\n",
       " 'EatingDisorders': -0.22855594062950688,\n",
       " 'BulimiaRecovery': -0.1546821483718844,\n",
       " 'NotOtherwiseSpecified': -0.10015545083120789,\n",
       " 'EDRecovery_public': -0.08960636086795665,\n",
       " 'PurgingDisorder': -0.04278997999343847,\n",
       " 'BulimiaAndAnaSupport': -0.011899276926267683,\n",
       " 'bingeeating': 0.005148540369127633,\n",
       " 'AnorexiaNervosa': 0.03825491089186577,\n",
       " 'BingeEatingDisorder': 0.08397916088341413,\n",
       " 'edsupport': 0.29454764142009593,\n",
       " 'anorexiaflareuphelp': 0.4221634005634859,\n",
       " 'AnorexiaRecovery': 1.8778797585188083}"
      ]
     },
     "execution_count": 63,
     "metadata": {},
     "output_type": "execute_result"
    }
   ],
   "source": [
    "dict(sorted(keyword_scores[\"eat\"].items(), key=lambda item: item[1]))"
   ]
  },
  {
   "cell_type": "code",
   "execution_count": 64,
   "id": "71d13e02",
   "metadata": {},
   "outputs": [
    {
     "data": {
      "text/plain": [
       "{'EdAnonymousAdults': -6.575621612342669,\n",
       " 'EDAnonymous': -3.7448463662834977,\n",
       " 'selftext': -3.4429998916097535,\n",
       " 'BulimiaAndAnaSupport': -1.8393968654732524,\n",
       " 'eating_disorders': -0.8759853544192222,\n",
       " 'anorexiaflareuphelp': -0.600279007185873,\n",
       " 'EatingDisorders': -0.3368377951932086,\n",
       " 'bulimia': -0.32364617193240625,\n",
       " 'bingeeating': -0.1437711270151641,\n",
       " 'BulimiaRecovery': -0.12612519391390947,\n",
       " 'BingeEatingDisorder': -0.09128772891348642,\n",
       " 'PurgingDisorder': -0.04278997999343847,\n",
       " 'AnorexiaNervosa': -0.02043865027033414,\n",
       " 'EDRecovery_public': 0.05588180309738335,\n",
       " 'NotOtherwiseSpecified': 0.13062686334678464,\n",
       " 'edsupport': 0.7617676610024667,\n",
       " 'EatingDisorderHope': 0.7661338553240781,\n",
       " 'AnorexiaRecovery': 1.7465208022504286}"
      ]
     },
     "execution_count": 64,
     "metadata": {},
     "output_type": "execute_result"
    }
   ],
   "source": [
    "dict(sorted(keyword_scores[\"eating\"].items(), key=lambda item: item[1]))"
   ]
  },
  {
   "cell_type": "code",
   "execution_count": 65,
   "id": "f800ac27",
   "metadata": {},
   "outputs": [
    {
     "data": {
      "text/plain": [
       "{'EdAnonymousAdults': -5.2843509633191434,\n",
       " 'EDAnonymous': -3.3061606990049373,\n",
       " 'selftext': -3.282968599347329,\n",
       " 'bulimia': -1.825422691661064,\n",
       " 'eating_disorders': -0.8398582080984942,\n",
       " 'EatingDisorderHope': -0.815536941113765,\n",
       " 'BulimiaAndAnaSupport': -0.6806367940321293,\n",
       " 'BingeEatingDisorder': -0.25906547568088883,\n",
       " 'EatingDisorders': -0.22693036766897506,\n",
       " 'edsupport': -0.20586110530840093,\n",
       " 'bingeeating': -0.18113333243968407,\n",
       " 'AnorexiaNervosa': -0.08014478498851244,\n",
       " 'NotOtherwiseSpecified': -0.07673189017956288,\n",
       " 'PurgingDisorder': -0.04278997999343847,\n",
       " 'EDRecovery_public': -0.032251901649976024,\n",
       " 'anorexiaflareuphelp': 0.3243461016874401,\n",
       " 'BulimiaRecovery': 0.41788986214965823,\n",
       " 'AnorexiaRecovery': 0.7453365163386063}"
      ]
     },
     "execution_count": 65,
     "metadata": {},
     "output_type": "execute_result"
    }
   ],
   "source": [
    "dict(sorted(keyword_scores[\"food\"].items(), key=lambda item: item[1]))"
   ]
  },
  {
   "cell_type": "code",
   "execution_count": 66,
   "id": "a9dd5777",
   "metadata": {},
   "outputs": [
    {
     "data": {
      "text/plain": [
       "{'EdAnonymousAdults': -4.940309789483588,\n",
       " 'EDAnonymous': -2.9763551599416123,\n",
       " 'EatingDisorderHope': -2.119210409551989,\n",
       " 'selftext': -1.4868987488969354,\n",
       " 'BulimiaAndAnaSupport': -0.9450632333823498,\n",
       " 'edsupport': -0.6352506333967762,\n",
       " 'eating_disorders': -0.39728491413402883,\n",
       " 'BulimiaRecovery': -0.275714991119904,\n",
       " 'AnorexiaNervosa': -0.1454845868511857,\n",
       " 'anorexiaflareuphelp': -0.12578375691807067,\n",
       " 'AnorexiaRecovery': -0.05653185365288687,\n",
       " 'PurgingDisorder': -0.04278997999343847,\n",
       " 'NotOtherwiseSpecified': 0,\n",
       " 'BingeEatingDisorder': 0.048310973363290294,\n",
       " 'EDRecovery_public': 0.05506844237661227,\n",
       " 'bingeeating': 0.10158729751898096,\n",
       " 'bulimia': 0.2742639295462902,\n",
       " 'EatingDisorders': 0.7077632818416318}"
      ]
     },
     "execution_count": 66,
     "metadata": {},
     "output_type": "execute_result"
    }
   ],
   "source": [
    "dict(sorted(keyword_scores[\"weight\"].items(), key=lambda item: item[1]))"
   ]
  },
  {
   "cell_type": "code",
   "execution_count": 67,
   "id": "9c172c74",
   "metadata": {},
   "outputs": [
    {
     "data": {
      "text/plain": [
       "{'EatingDisorderHope': -1.4337188012167057,\n",
       " 'EdAnonymousAdults': -1.3864307403102685,\n",
       " 'selftext': -0.836943186257188,\n",
       " 'edsupport': -0.5864366407412065,\n",
       " 'EDAnonymous': -0.48032279815442075,\n",
       " 'bingeeating': -0.38061788989454004,\n",
       " 'BulimiaRecovery': -0.2964951684430267,\n",
       " 'EDRecovery_public': -0.16544290862700722,\n",
       " 'AnorexiaNervosa': -0.03777070065972426,\n",
       " 'anorexiaflareuphelp': 0,\n",
       " 'PurgingDisorder': 0,\n",
       " 'NotOtherwiseSpecified': 0,\n",
       " 'bulimia': 0.032393612162226366,\n",
       " 'BingeEatingDisorder': 0.04848200542766314,\n",
       " 'AnorexiaRecovery': 0.45427812236015425,\n",
       " 'BulimiaAndAnaSupport': 0.8004376598343864,\n",
       " 'eating_disorders': 2.235439347060017,\n",
       " 'EatingDisorders': 2.3121848092956223}"
      ]
     },
     "execution_count": 67,
     "metadata": {},
     "output_type": "execute_result"
    }
   ],
   "source": [
    "dict(sorted(keyword_scores[\"gain\"].items(), key=lambda item: item[1]))"
   ]
  },
  {
   "cell_type": "code",
   "execution_count": 68,
   "id": "3d2d5172",
   "metadata": {},
   "outputs": [
    {
     "data": {
      "text/plain": [
       "{'BingeEatingDisorder': -1.0935646976788678,\n",
       " 'selftext': -1.0496758157674233,\n",
       " 'EdAnonymousAdults': -0.9888025737342806,\n",
       " 'edsupport': -0.8441085304878367,\n",
       " 'EatingDisorderHope': -0.36070374536429967,\n",
       " 'bingeeating': -0.0659463691130857,\n",
       " 'AnorexiaNervosa': -0.027870266344228553,\n",
       " 'BulimiaAndAnaSupport': -0.009836302057883325,\n",
       " 'PurgingDisorder': 0,\n",
       " 'NotOtherwiseSpecified': 0,\n",
       " 'EDAnonymous': 0.0014265317415762344,\n",
       " 'bulimia': 0.0064132729809364755,\n",
       " 'EDRecovery_public': 0.05337977521920983,\n",
       " 'BulimiaRecovery': 0.35244102855130394,\n",
       " 'anorexiaflareuphelp': 0.46308388179297255,\n",
       " 'AnorexiaRecovery': 0.5014775548845303,\n",
       " 'eating_disorders': 0.6922281743980739,\n",
       " 'EatingDisorders': 7.521089309585316}"
      ]
     },
     "execution_count": 68,
     "metadata": {},
     "output_type": "execute_result"
    }
   ],
   "source": [
    "dict(sorted(keyword_scores[\"gained\"].items(), key=lambda item: item[1]))"
   ]
  },
  {
   "cell_type": "code",
   "execution_count": 69,
   "id": "cdca6561",
   "metadata": {},
   "outputs": [
    {
     "data": {
      "text/plain": [
       "{'EatingDisorderHope': -1.9729474844820971,\n",
       " 'EdAnonymousAdults': -1.888242687494107,\n",
       " 'selftext': -0.8279712170787533,\n",
       " 'edsupport': -0.41365124555005545,\n",
       " 'BulimiaAndAnaSupport': -0.27753077288346506,\n",
       " 'AnorexiaNervosa': -0.1273711934586739,\n",
       " 'bingeeating': -0.07376943718993362,\n",
       " 'EDRecovery_public': -0.016489538133945693,\n",
       " 'BulimiaRecovery': 0,\n",
       " 'anorexiaflareuphelp': 0,\n",
       " 'PurgingDisorder': 0,\n",
       " 'NotOtherwiseSpecified': 0,\n",
       " 'bulimia': 0.009474540877069362,\n",
       " 'BingeEatingDisorder': 0.029328170874413848,\n",
       " 'EDAnonymous': 0.14729424636105262,\n",
       " 'AnorexiaRecovery': 0.5565559135467548,\n",
       " 'eating_disorders': 0.7703885714098542,\n",
       " 'EatingDisorders': 2.303362034608182}"
      ]
     },
     "execution_count": 69,
     "metadata": {},
     "output_type": "execute_result"
    }
   ],
   "source": [
    "dict(sorted(keyword_scores[\"gaining\"].items(), key=lambda item: item[1]))"
   ]
  },
  {
   "cell_type": "code",
   "execution_count": 70,
   "id": "4c99191f",
   "metadata": {},
   "outputs": [
    {
     "data": {
      "text/plain": [
       "{'EdAnonymousAdults': -2.056018484889376,\n",
       " 'edsupport': -1.1234928796442325,\n",
       " 'selftext': -0.8375408982013914,\n",
       " 'bingeeating': -0.6017019223943806,\n",
       " 'BulimiaRecovery': -0.18603237978249074,\n",
       " 'AnorexiaNervosa': -0.020595383036596183,\n",
       " 'EatingDisorderHope': -0.01411279959560823,\n",
       " 'PurgingDisorder': 0,\n",
       " 'NotOtherwiseSpecified': 0,\n",
       " 'bulimia': 0.006988107692788223,\n",
       " 'BingeEatingDisorder': 0.01534996879262142,\n",
       " 'EDAnonymous': 0.02977406101407341,\n",
       " 'EDRecovery_public': 0.06553440647189217,\n",
       " 'anorexiaflareuphelp': 0.47413030760132885,\n",
       " 'eating_disorders': 0.6495440944455457,\n",
       " 'BulimiaAndAnaSupport': 1.3575632297888394,\n",
       " 'AnorexiaRecovery': 1.7131063848095536,\n",
       " 'EatingDisorders': 2.287611853406844}"
      ]
     },
     "execution_count": 70,
     "metadata": {},
     "output_type": "execute_result"
    }
   ],
   "source": [
    "dict(sorted(keyword_scores[\"losing\"].items(), key=lambda item: item[1]))"
   ]
  },
  {
   "cell_type": "code",
   "execution_count": 73,
   "id": "cb3209b1",
   "metadata": {},
   "outputs": [
    {
     "data": {
      "text/plain": [
       "{'EdAnonymousAdults': -3.607664360755767,\n",
       " 'selftext': -3.0719139979567816,\n",
       " 'EDAnonymous': -1.8086482768991015,\n",
       " 'EatingDisorderHope': -1.34721203461359,\n",
       " 'eating_disorders': -1.3140076440951884,\n",
       " 'AnorexiaRecovery': -0.07821339759195142,\n",
       " 'bingeeating': -0.040472808700351255,\n",
       " 'BulimiaAndAnaSupport': -0.02757993042321606,\n",
       " 'bulimia': -0.0013896081075617903,\n",
       " 'BulimiaRecovery': 0,\n",
       " 'anorexiaflareuphelp': 0,\n",
       " 'PurgingDisorder': 0,\n",
       " 'NotOtherwiseSpecified': 0,\n",
       " 'EDRecovery_public': 0.0428577280280738,\n",
       " 'EatingDisorders': 0.05525124691801582,\n",
       " 'BingeEatingDisorder': 0.07769719221441866,\n",
       " 'AnorexiaNervosa': 0.33182472888204034,\n",
       " 'edsupport': 0.8663063439023286}"
      ]
     },
     "execution_count": 73,
     "metadata": {},
     "output_type": "execute_result"
    }
   ],
   "source": [
    "dict(sorted(keyword_scores[\"exercise\"].items(), key=lambda item: item[1]))"
   ]
  },
  {
   "cell_type": "code",
   "execution_count": 74,
   "id": "986e5ad0",
   "metadata": {},
   "outputs": [
    {
     "data": {
      "text/plain": [
       "{'anorexiaflareuphelp': 2.538787540959024,\n",
       " 'BulimiaRecovery': 3.117476436678474,\n",
       " 'EatingDisorderHope': 5.1583710178059015,\n",
       " 'edsupport': 7.0078847691747015,\n",
       " 'NotOtherwiseSpecified': 7.242150207208292,\n",
       " 'BulimiaAndAnaSupport': 7.965300257182804,\n",
       " 'bingeeating': 8.099254461566748,\n",
       " 'PurgingDisorder': 8.160076172694088,\n",
       " 'selftext': 8.329629146817725,\n",
       " 'EdAnonymousAdults': 8.934841106137359,\n",
       " 'BingeEatingDisorder': 10.469805832626061,\n",
       " 'EDRecovery_public': 11.507604041673838,\n",
       " 'eating_disorders': 11.836421556942645,\n",
       " 'AnorexiaRecovery': 12.84269398173431,\n",
       " 'AnorexiaNervosa': 14.049697402820176,\n",
       " 'EDAnonymous': 14.26648912433481,\n",
       " 'EatingDisorders': 14.439920320410408,\n",
       " 'bulimia': 15.199595057531221}"
      ]
     },
     "execution_count": 74,
     "metadata": {},
     "output_type": "execute_result"
    }
   ],
   "source": [
    "dict(sorted(keyword_scores[\"recovery\"].items(), key=lambda item: item[1]))"
   ]
  },
  {
   "cell_type": "code",
   "execution_count": 75,
   "id": "0f257a26",
   "metadata": {},
   "outputs": [
    {
     "data": {
      "text/plain": [
       "{'EatingDisorders': -14.080954729893818,\n",
       " 'AnorexiaNervosa': -13.841505000650649,\n",
       " 'EDAnonymous': -13.625026501799649,\n",
       " 'bulimia': -12.123718699712354,\n",
       " 'eating_disorders': -11.217226327363868,\n",
       " 'BulimiaRecovery': -11.186099053333548,\n",
       " 'EDRecovery_public': -11.06121464194216,\n",
       " 'BingeEatingDisorder': -10.072461564191972,\n",
       " 'AnorexiaRecovery': -10.006249008292802,\n",
       " 'EdAnonymousAdults': -8.403854203936485,\n",
       " 'bingeeating': -7.910072835364409,\n",
       " 'BulimiaAndAnaSupport': -7.619198220150584,\n",
       " 'selftext': -6.813388733731937,\n",
       " 'edsupport': -6.51394988335956,\n",
       " 'anorexiaflareuphelp': -3.659905734822165,\n",
       " 'EatingDisorderHope': -3.4157189323507295,\n",
       " 'PurgingDisorder': 0,\n",
       " 'NotOtherwiseSpecified': 0}"
      ]
     },
     "execution_count": 75,
     "metadata": {},
     "output_type": "execute_result"
    }
   ],
   "source": [
    "dict(sorted(keyword_scores[\"relapse\"].items(), key=lambda item: item[1]))"
   ]
  },
  {
   "cell_type": "code",
   "execution_count": 76,
   "id": "1d025c15",
   "metadata": {},
   "outputs": [
    {
     "data": {
      "text/plain": [
       "{'eating_disorders': -7.097265739012118,\n",
       " 'EDAnonymous': -6.8201752441550845,\n",
       " 'selftext': -2.7643370457868532,\n",
       " 'BulimiaAndAnaSupport': -0.25771077206783716,\n",
       " 'EatingDisorderHope': -0.10282570549594233,\n",
       " 'bulimia': -0.0812626404183583,\n",
       " 'BulimiaRecovery': 0,\n",
       " 'anorexiaflareuphelp': 0,\n",
       " 'edsupport': 0,\n",
       " 'PurgingDisorder': 0,\n",
       " 'NotOtherwiseSpecified': 0,\n",
       " 'bingeeating': 0.017336089499873496,\n",
       " 'AnorexiaNervosa': 0.0188245910206493,\n",
       " 'EatingDisorders': 0.026506465449043795,\n",
       " 'EDRecovery_public': 0.06124315666583501,\n",
       " 'BingeEatingDisorder': 0.11253440245188934,\n",
       " 'EdAnonymousAdults': 0.5579395107112511,\n",
       " 'AnorexiaRecovery': 7.816031789650467}"
      ]
     },
     "execution_count": 76,
     "metadata": {},
     "output_type": "execute_result"
    }
   ],
   "source": [
    "dict(sorted(keyword_scores[\"relapsed\"].items(), key=lambda item: item[1]))"
   ]
  },
  {
   "cell_type": "code",
   "execution_count": 77,
   "id": "879ee2e9",
   "metadata": {},
   "outputs": [
    {
     "data": {
      "text/plain": [
       "{'bingeeating': -0.6079116975370529,\n",
       " 'BulimiaAndAnaSupport': -0.09819107309489992,\n",
       " 'bulimia': -0.05825123353802429,\n",
       " 'AnorexiaRecovery': -0.044328035377662944,\n",
       " 'PurgingDisorder': -0.04278997999343847,\n",
       " 'BulimiaRecovery': 0,\n",
       " 'anorexiaflareuphelp': 0,\n",
       " 'AnorexiaNervosa': 0.04315949353652905,\n",
       " 'eating_disorders': 0.0482870454311529,\n",
       " 'EatingDisorders': 0.05173650434515339,\n",
       " 'BingeEatingDisorder': 0.10871954758565379,\n",
       " 'NotOtherwiseSpecified': 0.11440099095476411,\n",
       " 'EDRecovery_public': 0.15421257529942323,\n",
       " 'edsupport': 0.6243510887995762,\n",
       " 'EatingDisorderHope': 0.8321873205850455,\n",
       " 'EDAnonymous': 2.592546891147753,\n",
       " 'EdAnonymousAdults': 3.340836331542262,\n",
       " 'selftext': 4.6998834344463685}"
      ]
     },
     "execution_count": 77,
     "metadata": {},
     "output_type": "execute_result"
    }
   ],
   "source": [
    "dict(sorted(keyword_scores[\"therapy\"].items(), key=lambda item: item[1]))"
   ]
  },
  {
   "cell_type": "code",
   "execution_count": 78,
   "id": "9c2da822",
   "metadata": {},
   "outputs": [
    {
     "data": {
      "text/plain": [
       "{'BulimiaAndAnaSupport': -0.03292509835481332,\n",
       " 'AnorexiaNervosa': -0.00231167804432547,\n",
       " 'EatingDisorderHope': 0,\n",
       " 'BulimiaRecovery': 0,\n",
       " 'BingeEatingDisorder': 0,\n",
       " 'PurgingDisorder': 0,\n",
       " 'NotOtherwiseSpecified': 0,\n",
       " 'bulimia': 0.02783191041072061,\n",
       " 'eating_disorders': 0.050277341130068265,\n",
       " 'EatingDisorders': 0.05620243057366743,\n",
       " 'EDRecovery_public': 0.058167364062570545,\n",
       " 'bingeeating': 0.10760522814728486,\n",
       " 'EDAnonymous': 0.11624708407415678,\n",
       " 'anorexiaflareuphelp': 0.16260891343383083,\n",
       " 'AnorexiaRecovery': 0.17398425573840784,\n",
       " 'edsupport': 0.26173402088165143,\n",
       " 'EdAnonymousAdults': 0.47116394354552127,\n",
       " 'selftext': 3.4941410509919018}"
      ]
     },
     "execution_count": 78,
     "metadata": {},
     "output_type": "execute_result"
    }
   ],
   "source": [
    "dict(sorted(keyword_scores[\"hospital\"].items(), key=lambda item: item[1]))"
   ]
  },
  {
   "cell_type": "code",
   "execution_count": 79,
   "id": "dbdc656e",
   "metadata": {},
   "outputs": [
    {
     "data": {
      "text/plain": [
       "{'edsupport': -0.985617801682091,\n",
       " 'BulimiaAndAnaSupport': -0.06200394650127218,\n",
       " 'AnorexiaRecovery': -0.009565505287642249,\n",
       " 'EatingDisorderHope': 0,\n",
       " 'BulimiaRecovery': 0,\n",
       " 'anorexiaflareuphelp': 0,\n",
       " 'PurgingDisorder': 0,\n",
       " 'NotOtherwiseSpecified': 0,\n",
       " 'AnorexiaNervosa': 0.013730329955515208,\n",
       " 'EDRecovery_public': 0.02662042553876239,\n",
       " 'bingeeating': 0.041194518035743935,\n",
       " 'EatingDisorders': 0.04225649029237842,\n",
       " 'BingeEatingDisorder': 0.054188808927244536,\n",
       " 'eating_disorders': 0.06688890803853152,\n",
       " 'bulimia': 0.08951230037496095,\n",
       " 'EDAnonymous': 0.2171080119570145,\n",
       " 'selftext': 2.8597068409463975,\n",
       " 'EdAnonymousAdults': 3.954498062565385}"
      ]
     },
     "execution_count": 79,
     "metadata": {},
     "output_type": "execute_result"
    }
   ],
   "source": [
    "dict(sorted(keyword_scores[\"doctor\"].items(), key=lambda item: item[1]))"
   ]
  },
  {
   "cell_type": "code",
   "execution_count": 80,
   "id": "6d0d4ded",
   "metadata": {},
   "outputs": [
    {
     "data": {
      "text/plain": [
       "{'AnorexiaNervosa': -0.0030788725548076454,\n",
       " 'bingeeating': 0,\n",
       " 'EatingDisorderHope': 0,\n",
       " 'BulimiaRecovery': 0,\n",
       " 'anorexiaflareuphelp': 0,\n",
       " 'PurgingDisorder': 0,\n",
       " 'BulimiaAndAnaSupport': 0,\n",
       " 'NotOtherwiseSpecified': 0,\n",
       " 'bulimia': 0.008156743524694473,\n",
       " 'EatingDisorders': 0.056528615175641554,\n",
       " 'BingeEatingDisorder': 0.05686377600262203,\n",
       " 'eating_disorders': 0.07622807867041141,\n",
       " 'EDAnonymous': 0.08291330572634258,\n",
       " 'AnorexiaRecovery': 0.08818669326217568,\n",
       " 'EdAnonymousAdults': 0.16208103122371156,\n",
       " 'edsupport': 0.16377735945650387,\n",
       " 'EDRecovery_public': 0.23298357954228782,\n",
       " 'selftext': 1.1000745388062645}"
      ]
     },
     "execution_count": 80,
     "metadata": {},
     "output_type": "execute_result"
    }
   ],
   "source": [
    "dict(sorted(keyword_scores[\"nurse\"].items(), key=lambda item: item[1]))"
   ]
  },
  {
   "cell_type": "code",
   "execution_count": 81,
   "id": "38fdf2a2",
   "metadata": {},
   "outputs": [
    {
     "data": {
      "text/plain": [
       "{'EdAnonymousAdults': -5.4863696804638575,\n",
       " 'BulimiaAndAnaSupport': -3.393858345305703,\n",
       " 'selftext': -3.012033725827072,\n",
       " 'EDAnonymous': -1.946793304405343,\n",
       " 'eating_disorders': -1.5892705198450165,\n",
       " 'edsupport': -0.763718883937251,\n",
       " 'EatingDisorderHope': -0.763276378347939,\n",
       " 'bingeeating': -0.6734114475905477,\n",
       " 'AnorexiaNervosa': -0.21178677809625748,\n",
       " 'bulimia': -0.20404553424422683,\n",
       " 'BulimiaRecovery': -0.17333738875766722,\n",
       " 'BingeEatingDisorder': -0.13229990005408496,\n",
       " 'anorexiaflareuphelp': -0.08819511077856061,\n",
       " 'PurgingDisorder': -0.04278997999343847,\n",
       " 'NotOtherwiseSpecified': 0,\n",
       " 'EatingDisorders': 0.03634185417063183,\n",
       " 'AnorexiaRecovery': 0.4756739796691353,\n",
       " 'EDRecovery_public': 4.335734881159487}"
      ]
     },
     "execution_count": 81,
     "metadata": {},
     "output_type": "execute_result"
    }
   ],
   "source": [
    "dict(sorted(keyword_scores[\"body\"].items(), key=lambda item: item[1]))"
   ]
  },
  {
   "cell_type": "code",
   "execution_count": 82,
   "id": "7052f7ba",
   "metadata": {},
   "outputs": [
    {
     "data": {
      "text/plain": [
       "{'EatingDisorderHope': -2.197244481362058,\n",
       " 'EdAnonymousAdults': -1.026412390176563,\n",
       " 'eating_disorders': -0.9295434098297286,\n",
       " 'EDAnonymous': -0.9238768386733146,\n",
       " 'BingeEatingDisorder': -0.3276624214138818,\n",
       " 'PurgingDisorder': 0,\n",
       " 'NotOtherwiseSpecified': 0,\n",
       " 'bingeeating': 0.02124400485043036,\n",
       " 'AnorexiaNervosa': 0.0360428828255183,\n",
       " 'EDRecovery_public': 0.04876149286160614,\n",
       " 'EatingDisorders': 0.05124293737602682,\n",
       " 'bulimia': 0.051524709068131995,\n",
       " 'selftext': 0.14114766539598508,\n",
       " 'edsupport': 0.17861395679009381,\n",
       " 'AnorexiaRecovery': 0.2759088826294038,\n",
       " 'anorexiaflareuphelp': 0.50910041019699,\n",
       " 'BulimiaRecovery': 0.5148705587413757,\n",
       " 'BulimiaAndAnaSupport': 2.7029587811017315}"
      ]
     },
     "execution_count": 82,
     "metadata": {},
     "output_type": "execute_result"
    }
   ],
   "source": [
    "dict(sorted(keyword_scores[\"family\"].items(), key=lambda item: item[1]))"
   ]
  },
  {
   "cell_type": "code",
   "execution_count": null,
   "id": "7dfa3a5e",
   "metadata": {},
   "outputs": [],
   "source": []
  }
 ],
 "metadata": {
  "kernelspec": {
   "display_name": "Python 3 (ipykernel)",
   "language": "python",
   "name": "python3"
  },
  "language_info": {
   "codemirror_mode": {
    "name": "ipython",
    "version": 3
   },
   "file_extension": ".py",
   "mimetype": "text/x-python",
   "name": "python",
   "nbconvert_exporter": "python",
   "pygments_lexer": "ipython3",
   "version": "3.11.1"
  }
 },
 "nbformat": 4,
 "nbformat_minor": 5
}
