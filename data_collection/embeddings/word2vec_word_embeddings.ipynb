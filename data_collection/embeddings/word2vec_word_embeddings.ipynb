{
 "cells": [
  {
   "cell_type": "code",
   "execution_count": 41,
   "id": "fd8daf24",
   "metadata": {},
   "outputs": [],
   "source": [
    "import sys\n",
    "from nltk.tokenize import sent_tokenize\n",
    "import pandas as pd\n",
    "from sqlalchemy import text\n",
    "from sqlalchemy import create_engine\n",
    "from sqlalchemy.orm import sessionmaker\n",
    "import nltk\n",
    "from nltk.tokenize import word_tokenize\n",
    "from nltk.corpus import stopwords\n",
    "import gensim\n",
    "from gensim.models import Word2Vec\n",
    "from nltk.stem import WordNetLemmatizer\n",
    "from nltk.stem import PorterStemmer\n",
    "import ast\n",
    "from nltk.corpus import wordnet"
   ]
  },
  {
   "cell_type": "code",
   "execution_count": 42,
   "id": "1b5a6be8",
   "metadata": {},
   "outputs": [
    {
     "name": "stderr",
     "output_type": "stream",
     "text": [
      "[nltk_data] Downloading package punkt to\n",
      "[nltk_data]     /Users/jengyuchou/nltk_data...\n",
      "[nltk_data]   Package punkt is already up-to-date!\n",
      "[nltk_data] Downloading package stopwords to\n",
      "[nltk_data]     /Users/jengyuchou/nltk_data...\n",
      "[nltk_data]   Package stopwords is already up-to-date!\n",
      "[nltk_data] Downloading package wordnet to\n",
      "[nltk_data]     /Users/jengyuchou/nltk_data...\n",
      "[nltk_data]   Package wordnet is already up-to-date!\n",
      "[nltk_data] Downloading package averaged_perceptron_tagger to\n",
      "[nltk_data]     /Users/jengyuchou/nltk_data...\n",
      "[nltk_data]   Package averaged_perceptron_tagger is already up-to-\n",
      "[nltk_data]       date!\n"
     ]
    },
    {
     "data": {
      "text/plain": [
       "True"
      ]
     },
     "execution_count": 42,
     "metadata": {},
     "output_type": "execute_result"
    }
   ],
   "source": [
    "import nltk\n",
    "import ssl\n",
    "\n",
    "try:\n",
    "    _create_unverified_https_context = ssl._create_unverified_context\n",
    "except AttributeError:\n",
    "    pass\n",
    "else:\n",
    "    ssl._create_default_https_context = _create_unverified_https_context\n",
    "\n",
    "nltk.download('punkt')\n",
    "nltk.download('stopwords')\n",
    "nltk.download('wordnet')\n",
    "nltk.download('averaged_perceptron_tagger')"
   ]
  },
  {
   "cell_type": "markdown",
   "id": "09f07e7b",
   "metadata": {},
   "source": [
    "# Lemmatizer"
   ]
  },
  {
   "cell_type": "code",
   "execution_count": 43,
   "id": "facbbcde",
   "metadata": {},
   "outputs": [],
   "source": [
    "# function to convert nltk tag to wordnet tag\n",
    "def nltk_tag_to_wordnet_tag(nltk_tag):\n",
    "    if nltk_tag.startswith('J'):\n",
    "        return wordnet.ADJ\n",
    "    elif nltk_tag.startswith('V'):\n",
    "        return wordnet.VERB\n",
    "    elif nltk_tag.startswith('N'):\n",
    "        return wordnet.NOUN\n",
    "    elif nltk_tag.startswith('R'):\n",
    "        return wordnet.ADV\n",
    "    else:          \n",
    "        return None\n",
    "\n",
    "def lemmatize_sentence(sentence):\n",
    "    #tokenize the sentence and find the POS tag for each token\n",
    "    nltk_tagged = nltk.pos_tag(nltk.word_tokenize(sentence))  \n",
    "    #tuple of (token, wordnet_tag)\n",
    "    wordnet_tagged = map(lambda x: (x[0], nltk_tag_to_wordnet_tag(x[1])), nltk_tagged)\n",
    "    lemmatized_sentence = []\n",
    "    for word, tag in wordnet_tagged:\n",
    "        if tag is None:\n",
    "            #if there is no available tag, append the token as is\n",
    "            lemmatized_sentence.append(word)\n",
    "        else:        \n",
    "            #else use the tag to lemmatize the token\n",
    "            lemmatized_sentence.append(lemmatizer.lemmatize(word, tag))\n",
    "    return \" \".join(lemmatized_sentence)"
   ]
  },
  {
   "cell_type": "markdown",
   "id": "8915a490",
   "metadata": {},
   "source": [
    "# Lemmatize Before Word Embeddings"
   ]
  },
  {
   "cell_type": "code",
   "execution_count": 47,
   "id": "8c16b214",
   "metadata": {},
   "outputs": [],
   "source": [
    "sqlite_path = \"../reddit_ed_0.6.0.sqlite3\"\n",
    "engine = create_engine(\n",
    "    f\"sqlite:///{sqlite_path}\",\n",
    "    connect_args={\"check_same_thread\":False},\n",
    ")"
   ]
  },
  {
   "cell_type": "code",
   "execution_count": 54,
   "id": "5a05e7a5",
   "metadata": {},
   "outputs": [],
   "source": [
    "query = f\"select subreddit, count(*) from subreddit_submission_metadata group by subreddit;\"\n",
    "subreddits = pd.read_sql_query(text(query),con=engine.connect())['subreddit'].tolist()"
   ]
  },
  {
   "cell_type": "code",
   "execution_count": 63,
   "id": "f4ad0a32",
   "metadata": {},
   "outputs": [],
   "source": [
    "def lemmatized_preprocess(text):\n",
    "    result=[]\n",
    "    for token in gensim.utils.simple_preprocess(lemmatize_sentence(text)) :\n",
    "        \n",
    "        if token not in stopwords.words('english'):\n",
    "            \n",
    "            result.append(token)\n",
    "    return result"
   ]
  },
  {
   "cell_type": "code",
   "execution_count": 64,
   "id": "1adb0348",
   "metadata": {},
   "outputs": [],
   "source": [
    "lemmatize_sentences = dict()"
   ]
  },
  {
   "cell_type": "code",
   "execution_count": 65,
   "id": "2415334c",
   "metadata": {},
   "outputs": [],
   "source": [
    "subreddits_lemmatized_selftext = dict()\n",
    "for subreddit in subreddits:\n",
    "    query = f\"select selftext from subreddit_submission_metadata where subreddit='{subreddit}';\"\n",
    "    df = pd.read_sql_query(text(query),con=engine.connect())['selftext'].tolist()\n",
    "    subreddits_lemmatized_selftext[subreddit] = df\n",
    "    lemmatize_sentences[subreddit] = [lemmatized_preprocess(doc) for doc in df]"
   ]
  },
  {
   "cell_type": "code",
   "execution_count": 69,
   "id": "b3a3a316",
   "metadata": {},
   "outputs": [
    {
     "name": "stdout",
     "output_type": "stream",
     "text": [
      "AnorexiaNervosa vocab size: 5037\n",
      "AnorexiaRecovery vocab size: 7725\n",
      "BingeEatingDisorder vocab size: 3285\n",
      "BingeEatingRecovery vocab size: 69\n",
      "BulimiaAndAnaSupport vocab size: 1538\n",
      "BulimiaRecovery vocab size: 482\n",
      "EDAnonymous vocab size: 10471\n",
      "EDRecovery_public vocab size: 3328\n",
      "EatingDisorderHope vocab size: 1410\n",
      "EatingDisorders vocab size: 5927\n",
      "EdAnonymousAdults vocab size: 11682\n",
      "NotOtherwiseSpecified vocab size: 212\n",
      "PurgingDisorder vocab size: 323\n",
      "anorexiaflareuphelp vocab size: 445\n",
      "bingeeating vocab size: 3370\n",
      "bulimia vocab size: 6836\n",
      "eating_disorders vocab size: 8654\n",
      "edsupport vocab size: 1729\n"
     ]
    }
   ],
   "source": [
    "for subreddit in subreddits:\n",
    "    model = Word2Vec(lemmatize_sentences[subreddit], vector_size=128, window=3, min_count=1, workers=4)\n",
    "    model.build_vocab(lemmatize_sentences[subreddit])\n",
    "    print(f\"{subreddit} vocab size: {len(model.wv)}\")\n",
    "    W2V_EPOCH = 100\n",
    "    model.train(lemmatize_sentences[subreddit], total_examples=len(lemmatize_sentences[subreddit]), epochs=W2V_EPOCH)\n",
    "    model.wv.save_word2vec_format(f\"./lemmatized/{subreddit}_word2vec.txt\", binary=False)\n",
    "    "
   ]
  },
  {
   "cell_type": "code",
   "execution_count": 70,
   "id": "f8e564b1",
   "metadata": {},
   "outputs": [],
   "source": [
    "query = f\"select selftext from subreddit_submission_metadata;\"\n",
    "selftext = pd.read_sql_query(text(query),con=engine.connect())['selftext'].tolist()"
   ]
  },
  {
   "cell_type": "code",
   "execution_count": 71,
   "id": "4102844b",
   "metadata": {
    "scrolled": true
   },
   "outputs": [
    {
     "data": {
      "text/plain": [
       "21161"
      ]
     },
     "execution_count": 71,
     "metadata": {},
     "output_type": "execute_result"
    }
   ],
   "source": [
    "len(selftext)"
   ]
  },
  {
   "cell_type": "code",
   "execution_count": 72,
   "id": "06d7c5fa",
   "metadata": {},
   "outputs": [],
   "source": [
    "preprocessed_lemmatized_selftext = [lemmatized_preprocess(doc) for doc in selftext]"
   ]
  },
  {
   "cell_type": "code",
   "execution_count": 73,
   "id": "d6817a19",
   "metadata": {},
   "outputs": [
    {
     "name": "stdout",
     "output_type": "stream",
     "text": [
      "selftext vocab size: 21537\n"
     ]
    }
   ],
   "source": [
    "model = Word2Vec(preprocessed_lemmatized_selftext, vector_size=128, window=3, min_count=1, workers=4)\n",
    "model.build_vocab(preprocessed_lemmatized_selftext)\n",
    "print(f\"selftext vocab size: {len(model.wv)}\")\n",
    "W2V_EPOCH = 100\n",
    "model.train(preprocessed_lemmatized_selftext, total_examples=len(preprocessed_lemmatized_selftext), epochs=W2V_EPOCH)\n",
    "model.wv.save_word2vec_format(f\"./lemmatized/selftext_word2vec.txt\", binary=False)"
   ]
  },
  {
   "cell_type": "markdown",
   "id": "d3413744",
   "metadata": {},
   "source": [
    "# Word Embeddings"
   ]
  },
  {
   "cell_type": "code",
   "execution_count": 20,
   "id": "94747aeb",
   "metadata": {},
   "outputs": [],
   "source": [
    "STOP_WORDS = set(stopwords.words('english'))"
   ]
  },
  {
   "cell_type": "code",
   "execution_count": 23,
   "id": "c786f16a",
   "metadata": {},
   "outputs": [],
   "source": [
    "sqlite_path = \"../reddit_ed_0.6.0.sqlite3\"\n",
    "engine = create_engine(\n",
    "    f\"sqlite:///{sqlite_path}\",\n",
    "    connect_args={\"check_same_thread\":False},\n",
    ")"
   ]
  },
  {
   "cell_type": "code",
   "execution_count": 24,
   "id": "ae45016a",
   "metadata": {},
   "outputs": [],
   "source": [
    "query = f\"select subreddit, count(*) from subreddit_submission_metadata group by subreddit;\"\n",
    "subreddits = pd.read_sql_query(text(query),con=engine.connect())['subreddit'].tolist()"
   ]
  },
  {
   "cell_type": "code",
   "execution_count": 25,
   "id": "e905b4e0",
   "metadata": {},
   "outputs": [],
   "source": [
    "def preprocess(text):\n",
    "    result=[]\n",
    "    for token in gensim.utils.simple_preprocess(text) :\n",
    "        \n",
    "        if token not in stopwords.words('english'):\n",
    "            \n",
    "            result.append(token)\n",
    "    return result"
   ]
  },
  {
   "cell_type": "code",
   "execution_count": 26,
   "id": "fbe621cb",
   "metadata": {
    "scrolled": true
   },
   "outputs": [
    {
     "data": {
      "text/plain": [
       "['AnorexiaNervosa',\n",
       " 'AnorexiaRecovery',\n",
       " 'BingeEatingDisorder',\n",
       " 'BingeEatingRecovery',\n",
       " 'BulimiaAndAnaSupport',\n",
       " 'BulimiaRecovery',\n",
       " 'EDAnonymous',\n",
       " 'EDRecovery_public',\n",
       " 'EatingDisorderHope',\n",
       " 'EatingDisorders',\n",
       " 'EdAnonymousAdults',\n",
       " 'NotOtherwiseSpecified',\n",
       " 'PurgingDisorder',\n",
       " 'anorexiaflareuphelp',\n",
       " 'bingeeating',\n",
       " 'bulimia',\n",
       " 'eating_disorders',\n",
       " 'edsupport']"
      ]
     },
     "execution_count": 26,
     "metadata": {},
     "output_type": "execute_result"
    }
   ],
   "source": [
    "subreddits"
   ]
  },
  {
   "cell_type": "code",
   "execution_count": 27,
   "id": "a3564566",
   "metadata": {},
   "outputs": [],
   "source": [
    "sentences = dict()"
   ]
  },
  {
   "cell_type": "code",
   "execution_count": 84,
   "id": "c2e13c4e",
   "metadata": {
    "scrolled": true
   },
   "outputs": [],
   "source": [
    "subreddits_selftext = dict()\n",
    "for subreddit in subreddits:\n",
    "    query = f\"select selftext from subreddit_submission_metadata where subreddit='{subreddit}';\"\n",
    "    df = pd.read_sql_query(text(query),con=engine.connect())['selftext'].tolist()\n",
    "    subreddits_selftext[subreddit] = df\n",
    "    sentences[subreddit] = [preprocess(doc) for doc in df]"
   ]
  },
  {
   "cell_type": "code",
   "execution_count": 97,
   "id": "69dc0eef",
   "metadata": {},
   "outputs": [
    {
     "name": "stdout",
     "output_type": "stream",
     "text": [
      "AnorexiaNervosa vocab size: 6121\n",
      "AnorexiaRecovery vocab size: 9369\n",
      "BingeEatingDisorder vocab size: 3936\n",
      "BingeEatingRecovery vocab size: 75\n",
      "BulimiaAndAnaSupport vocab size: 1782\n",
      "BulimiaRecovery vocab size: 542\n",
      "EDAnonymous vocab size: 12651\n",
      "EDRecovery_public vocab size: 4025\n",
      "EatingDisorderHope vocab size: 1658\n",
      "EatingDisorders vocab size: 7284\n",
      "EdAnonymousAdults vocab size: 14064\n",
      "NotOtherwiseSpecified vocab size: 223\n",
      "PurgingDisorder vocab size: 365\n",
      "anorexiaflareuphelp vocab size: 492\n",
      "bingeeating vocab size: 4066\n",
      "bulimia vocab size: 8346\n",
      "eating_disorders vocab size: 10525\n",
      "edsupport vocab size: 2024\n"
     ]
    }
   ],
   "source": [
    "for subreddit in subreddits:\n",
    "    model = Word2Vec(sentences[subreddit], vector_size=128, window=3, min_count=1, workers=4)\n",
    "    model.build_vocab(sentences[subreddit])\n",
    "    print(f\"{subreddit} vocab size: {len(model.wv)}\")\n",
    "    W2V_EPOCH = 100\n",
    "    model.train(sentences[subreddit], total_examples=len(sentences[subreddit]), epochs=W2V_EPOCH)\n",
    "    model.wv.save_word2vec_format(f\"./Word2Vec/{subreddit}_word2vec.txt\", binary=False)"
   ]
  },
  {
   "cell_type": "code",
   "execution_count": 98,
   "id": "2a0914fe",
   "metadata": {},
   "outputs": [],
   "source": [
    "query = f\"select selftext from subreddit_submission_metadata;\"\n",
    "selftext = pd.read_sql_query(text(query),con=engine.connect())['selftext'].tolist()"
   ]
  },
  {
   "cell_type": "code",
   "execution_count": 99,
   "id": "4d8ea9f1",
   "metadata": {},
   "outputs": [
    {
     "data": {
      "text/plain": [
       "21161"
      ]
     },
     "execution_count": 99,
     "metadata": {},
     "output_type": "execute_result"
    }
   ],
   "source": [
    "len(selftext)"
   ]
  },
  {
   "cell_type": "code",
   "execution_count": 100,
   "id": "d071973a",
   "metadata": {},
   "outputs": [],
   "source": [
    "preprocessed_selftext = [preprocess(doc) for doc in selftext]"
   ]
  },
  {
   "cell_type": "code",
   "execution_count": 105,
   "id": "62a2f094",
   "metadata": {},
   "outputs": [
    {
     "name": "stdout",
     "output_type": "stream",
     "text": [
      "selftext vocab size: 25282\n"
     ]
    }
   ],
   "source": [
    "model = Word2Vec(preprocessed_selftext, vector_size=128, window=3, min_count=1, workers=4)\n",
    "model.build_vocab(preprocessed_selftext)\n",
    "print(f\"selftext vocab size: {len(model.wv)}\")\n",
    "W2V_EPOCH = 100\n",
    "model.train(preprocessed_selftext, total_examples=len(preprocessed_selftext), epochs=W2V_EPOCH)\n",
    "model.wv.save_word2vec_format(f\"./Word2Vec/selftext_word2vec.txt\", binary=False)"
   ]
  },
  {
   "cell_type": "code",
   "execution_count": null,
   "id": "52738b38",
   "metadata": {},
   "outputs": [],
   "source": []
  }
 ],
 "metadata": {
  "kernelspec": {
   "display_name": "Python 3 (ipykernel)",
   "language": "python",
   "name": "python3"
  },
  "language_info": {
   "codemirror_mode": {
    "name": "ipython",
    "version": 3
   },
   "file_extension": ".py",
   "mimetype": "text/x-python",
   "name": "python",
   "nbconvert_exporter": "python",
   "pygments_lexer": "ipython3",
   "version": "3.11.1"
  }
 },
 "nbformat": 4,
 "nbformat_minor": 5
}
