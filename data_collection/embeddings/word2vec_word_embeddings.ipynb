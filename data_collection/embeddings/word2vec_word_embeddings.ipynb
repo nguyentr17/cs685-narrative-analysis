{
 "cells": [
  {
   "cell_type": "code",
   "execution_count": 21,
   "id": "fd8daf24",
   "metadata": {},
   "outputs": [],
   "source": [
    "import sys\n",
    "from nltk.tokenize import sent_tokenize\n",
    "import pandas as pd\n",
    "from sqlalchemy import text\n",
    "from sqlalchemy import create_engine\n",
    "from sqlalchemy.orm import sessionmaker\n",
    "import nltk\n",
    "from nltk.tokenize import word_tokenize\n",
    "from nltk.corpus import stopwords\n",
    "import gensim\n",
    "from gensim.models import Word2Vec\n"
   ]
  },
  {
   "cell_type": "code",
   "execution_count": 2,
   "id": "1b5a6be8",
   "metadata": {},
   "outputs": [
    {
     "name": "stderr",
     "output_type": "stream",
     "text": [
      "[nltk_data] Downloading package punkt to\n",
      "[nltk_data]     /Users/jengyuchou/nltk_data...\n",
      "[nltk_data]   Package punkt is already up-to-date!\n",
      "[nltk_data] Downloading package stopwords to\n",
      "[nltk_data]     /Users/jengyuchou/nltk_data...\n",
      "[nltk_data]   Package stopwords is already up-to-date!\n"
     ]
    },
    {
     "data": {
      "text/plain": [
       "True"
      ]
     },
     "execution_count": 2,
     "metadata": {},
     "output_type": "execute_result"
    }
   ],
   "source": [
    "import nltk\n",
    "import ssl\n",
    "\n",
    "try:\n",
    "    _create_unverified_https_context = ssl._create_unverified_context\n",
    "except AttributeError:\n",
    "    pass\n",
    "else:\n",
    "    ssl._create_default_https_context = _create_unverified_https_context\n",
    "\n",
    "nltk.download('punkt')\n",
    "nltk.download('stopwords')"
   ]
  },
  {
   "cell_type": "code",
   "execution_count": 11,
   "id": "3037f5d4",
   "metadata": {},
   "outputs": [],
   "source": [
    "import ast"
   ]
  },
  {
   "cell_type": "code",
   "execution_count": 3,
   "id": "94747aeb",
   "metadata": {},
   "outputs": [],
   "source": [
    "STOP_WORDS = set(stopwords.words('english'))"
   ]
  },
  {
   "cell_type": "code",
   "execution_count": 38,
   "id": "c786f16a",
   "metadata": {},
   "outputs": [],
   "source": [
    "sqlite_path = \"./reddit_ed_0.6.0.sqlite3\"\n",
    "engine = create_engine(\n",
    "    f\"sqlite:///{sqlite_path}\",\n",
    "    connect_args={\"check_same_thread\":False},\n",
    ")"
   ]
  },
  {
   "cell_type": "code",
   "execution_count": 39,
   "id": "ae45016a",
   "metadata": {},
   "outputs": [],
   "source": [
    "query = f\"select subreddit, count(*) from subreddit_submission_metadata group by subreddit;\"\n",
    "subreddits = pd.read_sql_query(text(query),con=engine.connect())['subreddit'].tolist()"
   ]
  },
  {
   "cell_type": "code",
   "execution_count": 61,
   "id": "e905b4e0",
   "metadata": {},
   "outputs": [],
   "source": [
    "def preprocess(text):\n",
    "    result=[]\n",
    "    for token in gensim.utils.simple_preprocess(text) :\n",
    "        \n",
    "        if token not in stopwords.words('english'):\n",
    "            \n",
    "            result.append(token)\n",
    "    return result"
   ]
  },
  {
   "cell_type": "code",
   "execution_count": 40,
   "id": "fbe621cb",
   "metadata": {
    "scrolled": true
   },
   "outputs": [
    {
     "data": {
      "text/plain": [
       "['AnorexiaNervosa',\n",
       " 'AnorexiaRecovery',\n",
       " 'BingeEatingDisorder',\n",
       " 'BingeEatingRecovery',\n",
       " 'BulimiaAndAnaSupport',\n",
       " 'BulimiaRecovery',\n",
       " 'EDAnonymous',\n",
       " 'EDRecovery_public',\n",
       " 'EatingDisorderHope',\n",
       " 'EatingDisorders',\n",
       " 'EdAnonymousAdults',\n",
       " 'NotOtherwiseSpecified',\n",
       " 'PurgingDisorder',\n",
       " 'anorexiaflareuphelp',\n",
       " 'bingeeating',\n",
       " 'bulimia',\n",
       " 'eating_disorders',\n",
       " 'edsupport']"
      ]
     },
     "execution_count": 40,
     "metadata": {},
     "output_type": "execute_result"
    }
   ],
   "source": [
    "subreddits"
   ]
  },
  {
   "cell_type": "code",
   "execution_count": 62,
   "id": "a3564566",
   "metadata": {},
   "outputs": [],
   "source": [
    "sentences = dict()"
   ]
  },
  {
   "cell_type": "code",
   "execution_count": 84,
   "id": "c2e13c4e",
   "metadata": {
    "scrolled": true
   },
   "outputs": [],
   "source": [
    "subreddits_selftext = dict()\n",
    "for subreddit in subreddits:\n",
    "    query = f\"select selftext from subreddit_submission_metadata where subreddit='{subreddit}';\"\n",
    "    df = pd.read_sql_query(text(query),con=engine.connect())['selftext'].tolist()\n",
    "    subreddits_selftext[subreddit] = df\n",
    "    sentences[subreddit] = [preprocess(doc) for doc in df]"
   ]
  },
  {
   "cell_type": "code",
   "execution_count": 97,
   "id": "69dc0eef",
   "metadata": {},
   "outputs": [
    {
     "name": "stdout",
     "output_type": "stream",
     "text": [
      "AnorexiaNervosa vocab size: 6121\n",
      "AnorexiaRecovery vocab size: 9369\n",
      "BingeEatingDisorder vocab size: 3936\n",
      "BingeEatingRecovery vocab size: 75\n",
      "BulimiaAndAnaSupport vocab size: 1782\n",
      "BulimiaRecovery vocab size: 542\n",
      "EDAnonymous vocab size: 12651\n",
      "EDRecovery_public vocab size: 4025\n",
      "EatingDisorderHope vocab size: 1658\n",
      "EatingDisorders vocab size: 7284\n",
      "EdAnonymousAdults vocab size: 14064\n",
      "NotOtherwiseSpecified vocab size: 223\n",
      "PurgingDisorder vocab size: 365\n",
      "anorexiaflareuphelp vocab size: 492\n",
      "bingeeating vocab size: 4066\n",
      "bulimia vocab size: 8346\n",
      "eating_disorders vocab size: 10525\n",
      "edsupport vocab size: 2024\n"
     ]
    }
   ],
   "source": [
    "for subreddit in subreddits:\n",
    "    model = Word2Vec(sentences[subreddit], vector_size=128, window=3, min_count=1, workers=4)\n",
    "    model.build_vocab(sentences[subreddit])\n",
    "    print(f\"{subreddit} vocab size: {len(model.wv)}\")\n",
    "    W2V_EPOCH = 100\n",
    "    model.train(sentences[subreddit], total_examples=len(sentences[subreddit]), epochs=W2V_EPOCH)\n",
    "    model.wv.save_word2vec_format(f\"./Word2Vec/{subreddit}_word2vec.txt\", binary=False)"
   ]
  },
  {
   "cell_type": "code",
   "execution_count": 98,
   "id": "2a0914fe",
   "metadata": {},
   "outputs": [],
   "source": [
    "query = f\"select selftext from subreddit_submission_metadata;\"\n",
    "selftext = pd.read_sql_query(text(query),con=engine.connect())['selftext'].tolist()"
   ]
  },
  {
   "cell_type": "code",
   "execution_count": 99,
   "id": "4d8ea9f1",
   "metadata": {},
   "outputs": [
    {
     "data": {
      "text/plain": [
       "21161"
      ]
     },
     "execution_count": 99,
     "metadata": {},
     "output_type": "execute_result"
    }
   ],
   "source": [
    "len(selftext)"
   ]
  },
  {
   "cell_type": "code",
   "execution_count": 100,
   "id": "d071973a",
   "metadata": {},
   "outputs": [],
   "source": [
    "preprocessed_selftext = [preprocess(doc) for doc in selftext]"
   ]
  },
  {
   "cell_type": "code",
   "execution_count": 105,
   "id": "62a2f094",
   "metadata": {},
   "outputs": [
    {
     "name": "stdout",
     "output_type": "stream",
     "text": [
      "selftext vocab size: 25282\n"
     ]
    }
   ],
   "source": [
    "model = Word2Vec(preprocessed_selftext, vector_size=128, window=3, min_count=1, workers=4)\n",
    "model.build_vocab(preprocessed_selftext)\n",
    "print(f\"selftext vocab size: {len(model.wv)}\")\n",
    "W2V_EPOCH = 100\n",
    "model.train(preprocessed_selftext, total_examples=len(preprocessed_selftext), epochs=W2V_EPOCH)\n",
    "model.wv.save_word2vec_format(f\"./Word2Vec/selftext_word2vec.txt\", binary=False)"
   ]
  },
  {
   "cell_type": "code",
   "execution_count": null,
   "id": "52738b38",
   "metadata": {},
   "outputs": [],
   "source": []
  }
 ],
 "metadata": {
  "kernelspec": {
   "display_name": "Python 3 (ipykernel)",
   "language": "python",
   "name": "python3"
  },
  "language_info": {
   "codemirror_mode": {
    "name": "ipython",
    "version": 3
   },
   "file_extension": ".py",
   "mimetype": "text/x-python",
   "name": "python",
   "nbconvert_exporter": "python",
   "pygments_lexer": "ipython3",
   "version": "3.11.1"
  }
 },
 "nbformat": 4,
 "nbformat_minor": 5
}
