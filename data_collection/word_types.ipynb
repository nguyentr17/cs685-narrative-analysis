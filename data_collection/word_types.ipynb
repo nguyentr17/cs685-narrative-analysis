{
 "cells": [
  {
   "cell_type": "code",
   "execution_count": 1,
   "id": "8e9f7172",
   "metadata": {},
   "outputs": [],
   "source": [
    "import pandas as pd\n",
    "from sqlalchemy import text\n",
    "from sqlalchemy import create_engine\n",
    "from sqlalchemy.orm import sessionmaker\n",
    "import nltk\n",
    "from nltk.tokenize import word_tokenize\n",
    "from nltk.corpus import stopwords"
   ]
  },
  {
   "cell_type": "code",
   "execution_count": 2,
   "id": "e28fcf55",
   "metadata": {},
   "outputs": [
    {
     "name": "stderr",
     "output_type": "stream",
     "text": [
      "[nltk_data] Downloading package punkt to\n",
      "[nltk_data]     /Users/jengyuchou/nltk_data...\n",
      "[nltk_data]   Package punkt is already up-to-date!\n",
      "[nltk_data] Downloading package stopwords to\n",
      "[nltk_data]     /Users/jengyuchou/nltk_data...\n",
      "[nltk_data]   Package stopwords is already up-to-date!\n"
     ]
    },
    {
     "data": {
      "text/plain": [
       "True"
      ]
     },
     "execution_count": 2,
     "metadata": {},
     "output_type": "execute_result"
    }
   ],
   "source": [
    "import nltk\n",
    "import ssl\n",
    "\n",
    "try:\n",
    "    _create_unverified_https_context = ssl._create_unverified_context\n",
    "except AttributeError:\n",
    "    pass\n",
    "else:\n",
    "    ssl._create_default_https_context = _create_unverified_https_context\n",
    "\n",
    "nltk.download('punkt')\n",
    "nltk.download('stopwords')"
   ]
  },
  {
   "cell_type": "code",
   "execution_count": 3,
   "id": "50050dc9",
   "metadata": {},
   "outputs": [],
   "source": [
    "sqlite_path = \"../reddit_ed_0.6.0.sqlite3\"\n",
    "engine = create_engine(\n",
    "    f\"sqlite:///{sqlite_path}\",\n",
    "    connect_args={\"check_same_thread\":False},\n",
    ")"
   ]
  },
  {
   "cell_type": "code",
   "execution_count": 4,
   "id": "21e37f0b",
   "metadata": {},
   "outputs": [],
   "source": [
    "query = f\"select selftext from subreddit_submission_metadata;\"\n",
    "df = pd.read_sql_query(text(query),con=engine.connect())"
   ]
  },
  {
   "cell_type": "code",
   "execution_count": 21,
   "id": "d5d745b8",
   "metadata": {},
   "outputs": [],
   "source": [
    "text = df[\"selftext\"]\n",
    "text = text.tolist()"
   ]
  },
  {
   "cell_type": "code",
   "execution_count": 27,
   "id": "dca4905f",
   "metadata": {},
   "outputs": [],
   "source": [
    "tokenized_text = [word_tokenize(t) for t in text]"
   ]
  },
  {
   "cell_type": "code",
   "execution_count": 30,
   "id": "73cfa4fc",
   "metadata": {},
   "outputs": [],
   "source": [
    "tokens = list()\n",
    "for text in tokenized_text:\n",
    "    tokens.extend(text)"
   ]
  },
  {
   "cell_type": "code",
   "execution_count": 31,
   "id": "bfa897e1",
   "metadata": {},
   "outputs": [
    {
     "data": {
      "text/plain": [
       "2744958"
      ]
     },
     "execution_count": 31,
     "metadata": {},
     "output_type": "execute_result"
    }
   ],
   "source": [
    "len(tokens)"
   ]
  },
  {
   "cell_type": "code",
   "execution_count": 42,
   "id": "8e8b3951",
   "metadata": {},
   "outputs": [],
   "source": [
    "types = list(set(tokens))\n",
    "types = [t.lower() for t in types if t.isalpha()]"
   ]
  },
  {
   "cell_type": "code",
   "execution_count": 58,
   "id": "1de6aac1",
   "metadata": {},
   "outputs": [
    {
     "data": {
      "text/plain": [
       "29953"
      ]
     },
     "execution_count": 58,
     "metadata": {},
     "output_type": "execute_result"
    }
   ],
   "source": [
    "len(types)"
   ]
  },
  {
   "cell_type": "code",
   "execution_count": 61,
   "id": "eb57d01e",
   "metadata": {},
   "outputs": [],
   "source": [
    "types_df = pd.DataFrame(types,columns=['types'])"
   ]
  },
  {
   "cell_type": "code",
   "execution_count": 63,
   "id": "5e4f0a36",
   "metadata": {},
   "outputs": [],
   "source": [
    "types_df.to_csv('cs685_narrative_analysis_subreddits.csv', index=False)"
   ]
  },
  {
   "cell_type": "markdown",
   "id": "1810d6f9",
   "metadata": {},
   "source": [
    "# Pre-2020 (pre-pandemic) & Post-2020"
   ]
  },
  {
   "cell_type": "code",
   "execution_count": 7,
   "id": "34736d15",
   "metadata": {},
   "outputs": [],
   "source": [
    "query = f\"select selftext, from subreddit_submission_metadata;\"\n",
    "df = pd.read_sql_query(text(query),con=engine.connect())"
   ]
  },
  {
   "cell_type": "code",
   "execution_count": 8,
   "id": "5fadc4da",
   "metadata": {},
   "outputs": [],
   "source": [
    "from datetime import datetime"
   ]
  },
  {
   "cell_type": "code",
   "execution_count": 9,
   "id": "85da7155",
   "metadata": {},
   "outputs": [],
   "source": [
    "before = datetime(2023,1,31,0,0)  # Jan 1, 2021\n",
    "after = datetime(2015,1,1,0,0) # Jan 31, 2019"
   ]
  },
  {
   "cell_type": "code",
   "execution_count": 12,
   "id": "8204c4f3",
   "metadata": {},
   "outputs": [
    {
     "data": {
      "text/plain": [
       "Index(['selftext'], dtype='object')"
      ]
     },
     "execution_count": 12,
     "metadata": {},
     "output_type": "execute_result"
    }
   ],
   "source": [
    "df.columns"
   ]
  },
  {
   "cell_type": "code",
   "execution_count": null,
   "id": "4a5280b6",
   "metadata": {},
   "outputs": [],
   "source": []
  }
 ],
 "metadata": {
  "kernelspec": {
   "display_name": "Python 3 (ipykernel)",
   "language": "python",
   "name": "python3"
  },
  "language_info": {
   "codemirror_mode": {
    "name": "ipython",
    "version": 3
   },
   "file_extension": ".py",
   "mimetype": "text/x-python",
   "name": "python",
   "nbconvert_exporter": "python",
   "pygments_lexer": "ipython3",
   "version": "3.11.1"
  }
 },
 "nbformat": 4,
 "nbformat_minor": 5
}
