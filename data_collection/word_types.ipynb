{
 "cells": [
  {
   "cell_type": "code",
   "execution_count": 3,
   "id": "8e9f7172",
   "metadata": {},
   "outputs": [],
   "source": [
    "import pandas as pd\n",
    "from sqlalchemy import text\n",
    "from sqlalchemy import create_engine\n",
    "from sqlalchemy.orm import sessionmaker\n",
    "import nltk\n",
    "from nltk.tokenize import word_tokenize\n",
    "from nltk.corpus import stopwords"
   ]
  },
  {
   "cell_type": "code",
   "execution_count": 4,
   "id": "e28fcf55",
   "metadata": {},
   "outputs": [
    {
     "name": "stderr",
     "output_type": "stream",
     "text": [
      "[nltk_data] Downloading package punkt to\n",
      "[nltk_data]     /Users/jengyuchou/nltk_data...\n",
      "[nltk_data]   Unzipping tokenizers/punkt.zip.\n",
      "[nltk_data] Downloading package stopwords to\n",
      "[nltk_data]     /Users/jengyuchou/nltk_data...\n",
      "[nltk_data]   Package stopwords is already up-to-date!\n"
     ]
    },
    {
     "data": {
      "text/plain": [
       "True"
      ]
     },
     "execution_count": 4,
     "metadata": {},
     "output_type": "execute_result"
    }
   ],
   "source": [
    "import nltk\n",
    "import ssl\n",
    "\n",
    "try:\n",
    "    _create_unverified_https_context = ssl._create_unverified_context\n",
    "except AttributeError:\n",
    "    pass\n",
    "else:\n",
    "    ssl._create_default_https_context = _create_unverified_https_context\n",
    "\n",
    "nltk.download('punkt')\n",
    "nltk.download('stopwords')"
   ]
  },
  {
   "cell_type": "code",
   "execution_count": 5,
   "id": "50050dc9",
   "metadata": {},
   "outputs": [],
   "source": [
    "sqlite_path = \"./reddit_ed_0.6.0.sqlite3\"\n",
    "engine = create_engine(\n",
    "    f\"sqlite:///{sqlite_path}\",\n",
    "    connect_args={\"check_same_thread\":False},\n",
    ")"
   ]
  },
  {
   "cell_type": "code",
   "execution_count": 6,
   "id": "21e37f0b",
   "metadata": {},
   "outputs": [],
   "source": [
    "query = f\"select selftext from subreddit_submission_metadata;\"\n",
    "df = pd.read_sql_query(text(query),con=engine.connect())"
   ]
  },
  {
   "cell_type": "code",
   "execution_count": 21,
   "id": "d5d745b8",
   "metadata": {},
   "outputs": [],
   "source": [
    "text = df[\"selftext\"]\n",
    "text = text.tolist()"
   ]
  },
  {
   "cell_type": "code",
   "execution_count": 27,
   "id": "dca4905f",
   "metadata": {},
   "outputs": [],
   "source": [
    "tokenized_text = [word_tokenize(t) for t in text]"
   ]
  },
  {
   "cell_type": "code",
   "execution_count": 30,
   "id": "73cfa4fc",
   "metadata": {},
   "outputs": [],
   "source": [
    "tokens = list()\n",
    "for text in tokenized_text:\n",
    "    tokens.extend(text)"
   ]
  },
  {
   "cell_type": "code",
   "execution_count": 31,
   "id": "bfa897e1",
   "metadata": {},
   "outputs": [
    {
     "data": {
      "text/plain": [
       "2744958"
      ]
     },
     "execution_count": 31,
     "metadata": {},
     "output_type": "execute_result"
    }
   ],
   "source": [
    "len(tokens)"
   ]
  },
  {
   "cell_type": "code",
   "execution_count": 42,
   "id": "8e8b3951",
   "metadata": {},
   "outputs": [],
   "source": [
    "types = list(set(tokens))\n",
    "types = [t.lower() for t in types if t.isalpha()]"
   ]
  },
  {
   "cell_type": "code",
   "execution_count": 58,
   "id": "1de6aac1",
   "metadata": {},
   "outputs": [
    {
     "data": {
      "text/plain": [
       "29953"
      ]
     },
     "execution_count": 58,
     "metadata": {},
     "output_type": "execute_result"
    }
   ],
   "source": [
    "len(types)"
   ]
  },
  {
   "cell_type": "code",
   "execution_count": 61,
   "id": "eb57d01e",
   "metadata": {},
   "outputs": [],
   "source": [
    "types_df = pd.DataFrame(types,columns=['types'])"
   ]
  },
  {
   "cell_type": "code",
   "execution_count": 63,
   "id": "5e4f0a36",
   "metadata": {},
   "outputs": [],
   "source": [
    "types_df.to_csv('cs685_narrative_analysis_subreddits.csv', index=False)"
   ]
  }
 ],
 "metadata": {
  "kernelspec": {
   "display_name": "Python 3 (ipykernel)",
   "language": "python",
   "name": "python3"
  },
  "language_info": {
   "codemirror_mode": {
    "name": "ipython",
    "version": 3
   },
   "file_extension": ".py",
   "mimetype": "text/x-python",
   "name": "python",
   "nbconvert_exporter": "python",
   "pygments_lexer": "ipython3",
   "version": "3.11.1"
  }
 },
 "nbformat": 4,
 "nbformat_minor": 5
}
