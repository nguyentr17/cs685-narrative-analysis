{
 "cells": [
  {
   "cell_type": "code",
   "execution_count": 1,
   "id": "699b57b8-2451-4c06-b9e9-7fce069ccdf7",
   "metadata": {
    "tags": []
   },
   "outputs": [],
   "source": [
    "import pandas as pd\n",
    "from sqlalchemy import text\n",
    "from sqlalchemy import create_engine\n",
    "from sqlalchemy.orm import sessionmaker"
   ]
  },
  {
   "cell_type": "code",
   "execution_count": 2,
   "id": "83071d2b-bad8-43ba-a877-ace565d1996e",
   "metadata": {
    "tags": []
   },
   "outputs": [],
   "source": [
    "sqlite_path = \"../data_collection/reddit_ed_0.6.0.sqlite3\"\n",
    "engine = create_engine(\n",
    "    f\"sqlite:///{sqlite_path}\",\n",
    "    connect_args={\"check_same_thread\":False},\n",
    ")"
   ]
  },
  {
   "cell_type": "code",
   "execution_count": 3,
   "id": "0936c1d5-e072-4057-a64e-a19a345f94cb",
   "metadata": {
    "tags": []
   },
   "outputs": [
    {
     "name": "stdout",
     "output_type": "stream",
     "text": [
      "schema: main\n",
      "table: filtered_200\n",
      "Column: {'name': 'subreddit', 'type': TEXT(), 'nullable': True, 'default': None, 'primary_key': 0}\n",
      "Column: {'name': 'selftext', 'type': TEXT(), 'nullable': True, 'default': None, 'primary_key': 0}\n",
      "Column: {'name': 'author_fullname', 'type': TEXT(), 'nullable': True, 'default': None, 'primary_key': 0}\n",
      "Column: {'name': 'title', 'type': TEXT(), 'nullable': True, 'default': None, 'primary_key': 0}\n",
      "Column: {'name': 'score', 'type': INTEGER(), 'nullable': True, 'default': None, 'primary_key': 0}\n",
      "Column: {'name': 'link_flair_css_class', 'type': TEXT(), 'nullable': True, 'default': None, 'primary_key': 0}\n",
      "Column: {'name': 'link_flair_text', 'type': TEXT(), 'nullable': True, 'default': None, 'primary_key': 0}\n",
      "Column: {'name': 'author_flair_type', 'type': TEXT(), 'nullable': True, 'default': None, 'primary_key': 0}\n",
      "Column: {'name': 'over_18', 'type': NUMERIC(), 'nullable': True, 'default': None, 'primary_key': 0}\n",
      "Column: {'name': 'author_flair_text', 'type': TEXT(), 'nullable': True, 'default': None, 'primary_key': 0}\n",
      "Column: {'name': 'subreddit_id', 'type': TEXT(), 'nullable': True, 'default': None, 'primary_key': 0}\n",
      "Column: {'name': 'id', 'type': TEXT(), 'nullable': True, 'default': None, 'primary_key': 0}\n",
      "Column: {'name': 'is_self', 'type': NUMERIC(), 'nullable': True, 'default': None, 'primary_key': 0}\n",
      "Column: {'name': 'author', 'type': TEXT(), 'nullable': True, 'default': None, 'primary_key': 0}\n",
      "Column: {'name': 'author_flair_css_class', 'type': TEXT(), 'nullable': True, 'default': None, 'primary_key': 0}\n",
      "Column: {'name': 'permalink', 'type': TEXT(), 'nullable': True, 'default': None, 'primary_key': 0}\n",
      "Column: {'name': 'url', 'type': TEXT(), 'nullable': True, 'default': None, 'primary_key': 0}\n",
      "Column: {'name': 'created_utc', 'type': INTEGER(), 'nullable': True, 'default': None, 'primary_key': 0}\n",
      "table: filtered_300\n",
      "Column: {'name': 'subreddit', 'type': TEXT(), 'nullable': True, 'default': None, 'primary_key': 0}\n",
      "Column: {'name': 'selftext', 'type': TEXT(), 'nullable': True, 'default': None, 'primary_key': 0}\n",
      "Column: {'name': 'author_fullname', 'type': TEXT(), 'nullable': True, 'default': None, 'primary_key': 0}\n",
      "Column: {'name': 'title', 'type': TEXT(), 'nullable': True, 'default': None, 'primary_key': 0}\n",
      "Column: {'name': 'score', 'type': INTEGER(), 'nullable': True, 'default': None, 'primary_key': 0}\n",
      "Column: {'name': 'link_flair_css_class', 'type': TEXT(), 'nullable': True, 'default': None, 'primary_key': 0}\n",
      "Column: {'name': 'link_flair_text', 'type': TEXT(), 'nullable': True, 'default': None, 'primary_key': 0}\n",
      "Column: {'name': 'author_flair_type', 'type': TEXT(), 'nullable': True, 'default': None, 'primary_key': 0}\n",
      "Column: {'name': 'over_18', 'type': NUMERIC(), 'nullable': True, 'default': None, 'primary_key': 0}\n",
      "Column: {'name': 'author_flair_text', 'type': TEXT(), 'nullable': True, 'default': None, 'primary_key': 0}\n",
      "Column: {'name': 'subreddit_id', 'type': TEXT(), 'nullable': True, 'default': None, 'primary_key': 0}\n",
      "Column: {'name': 'id', 'type': TEXT(), 'nullable': True, 'default': None, 'primary_key': 0}\n",
      "Column: {'name': 'is_self', 'type': NUMERIC(), 'nullable': True, 'default': None, 'primary_key': 0}\n",
      "Column: {'name': 'author', 'type': TEXT(), 'nullable': True, 'default': None, 'primary_key': 0}\n",
      "Column: {'name': 'author_flair_css_class', 'type': TEXT(), 'nullable': True, 'default': None, 'primary_key': 0}\n",
      "Column: {'name': 'permalink', 'type': TEXT(), 'nullable': True, 'default': None, 'primary_key': 0}\n",
      "Column: {'name': 'url', 'type': TEXT(), 'nullable': True, 'default': None, 'primary_key': 0}\n",
      "Column: {'name': 'created_utc', 'type': INTEGER(), 'nullable': True, 'default': None, 'primary_key': 0}\n",
      "table: submission_content\n",
      "Column: {'name': 'id', 'type': VARCHAR(), 'nullable': False, 'default': None, 'primary_key': 1}\n",
      "Column: {'name': 'selftext', 'type': VARCHAR(), 'nullable': True, 'default': None, 'primary_key': 0}\n",
      "table: subreddit_submission_metadata\n",
      "Column: {'name': 'subreddit', 'type': VARCHAR(), 'nullable': True, 'default': None, 'primary_key': 0}\n",
      "Column: {'name': 'selftext', 'type': VARCHAR(), 'nullable': True, 'default': None, 'primary_key': 0}\n",
      "Column: {'name': 'author_fullname', 'type': VARCHAR(), 'nullable': True, 'default': None, 'primary_key': 0}\n",
      "Column: {'name': 'title', 'type': VARCHAR(), 'nullable': True, 'default': None, 'primary_key': 0}\n",
      "Column: {'name': 'score', 'type': INTEGER(), 'nullable': True, 'default': None, 'primary_key': 0}\n",
      "Column: {'name': 'link_flair_css_class', 'type': VARCHAR(), 'nullable': True, 'default': None, 'primary_key': 0}\n",
      "Column: {'name': 'link_flair_text', 'type': VARCHAR(), 'nullable': True, 'default': None, 'primary_key': 0}\n",
      "Column: {'name': 'author_flair_type', 'type': VARCHAR(), 'nullable': True, 'default': None, 'primary_key': 0}\n",
      "Column: {'name': 'over_18', 'type': BOOLEAN(), 'nullable': True, 'default': None, 'primary_key': 0}\n",
      "Column: {'name': 'author_flair_text', 'type': VARCHAR(), 'nullable': True, 'default': None, 'primary_key': 0}\n",
      "Column: {'name': 'subreddit_id', 'type': VARCHAR(), 'nullable': True, 'default': None, 'primary_key': 0}\n",
      "Column: {'name': 'id', 'type': VARCHAR(), 'nullable': False, 'default': None, 'primary_key': 1}\n",
      "Column: {'name': 'is_self', 'type': BOOLEAN(), 'nullable': True, 'default': None, 'primary_key': 0}\n",
      "Column: {'name': 'author', 'type': VARCHAR(), 'nullable': True, 'default': None, 'primary_key': 0}\n",
      "Column: {'name': 'author_flair_css_class', 'type': VARCHAR(), 'nullable': True, 'default': None, 'primary_key': 0}\n",
      "Column: {'name': 'permalink', 'type': VARCHAR(), 'nullable': True, 'default': None, 'primary_key': 0}\n",
      "Column: {'name': 'url', 'type': VARCHAR(), 'nullable': True, 'default': None, 'primary_key': 0}\n",
      "Column: {'name': 'created_utc', 'type': INTEGER(), 'nullable': True, 'default': None, 'primary_key': 0}\n"
     ]
    }
   ],
   "source": [
    "from sqlalchemy import inspect\n",
    "inspector = inspect(engine)\n",
    "schemas = inspector.get_schema_names()\n",
    "\n",
    "for schema in schemas:\n",
    "    print(\"schema: %s\" % schema)\n",
    "    for table_name in inspector.get_table_names(schema=schema):\n",
    "        print(\"table: %s\" % table_name)\n",
    "        for column in inspector.get_columns(table_name, schema=schema):\n",
    "            print(\"Column: %s\" % column)"
   ]
  },
  {
   "cell_type": "code",
   "execution_count": 5,
   "id": "8cacb1a9-1191-457d-bd35-d004ae532bcb",
   "metadata": {
    "tags": []
   },
   "outputs": [
    {
     "data": {
      "text/html": [
       "<div>\n",
       "<style scoped>\n",
       "    .dataframe tbody tr th:only-of-type {\n",
       "        vertical-align: middle;\n",
       "    }\n",
       "\n",
       "    .dataframe tbody tr th {\n",
       "        vertical-align: top;\n",
       "    }\n",
       "\n",
       "    .dataframe thead th {\n",
       "        text-align: right;\n",
       "    }\n",
       "</style>\n",
       "<table border=\"1\" class=\"dataframe\">\n",
       "  <thead>\n",
       "    <tr style=\"text-align: right;\">\n",
       "      <th></th>\n",
       "      <th>subreddit</th>\n",
       "      <th>selftext</th>\n",
       "      <th>author_fullname</th>\n",
       "      <th>title</th>\n",
       "      <th>score</th>\n",
       "      <th>link_flair_css_class</th>\n",
       "      <th>link_flair_text</th>\n",
       "      <th>author_flair_type</th>\n",
       "      <th>over_18</th>\n",
       "      <th>author_flair_text</th>\n",
       "      <th>subreddit_id</th>\n",
       "      <th>id</th>\n",
       "      <th>is_self</th>\n",
       "      <th>author</th>\n",
       "      <th>author_flair_css_class</th>\n",
       "      <th>permalink</th>\n",
       "      <th>url</th>\n",
       "      <th>created_utc</th>\n",
       "    </tr>\n",
       "  </thead>\n",
       "  <tbody>\n",
       "    <tr>\n",
       "      <th>0</th>\n",
       "      <td>EatingDisorders</td>\n",
       "      <td>23 F. I just started treatment for an eating d...</td>\n",
       "      <td>None</td>\n",
       "      <td>I need moral support</td>\n",
       "      <td>1</td>\n",
       "      <td></td>\n",
       "      <td>Seeking Support</td>\n",
       "      <td>None</td>\n",
       "      <td>None</td>\n",
       "      <td>None</td>\n",
       "      <td>t5_2qpcj</td>\n",
       "      <td>10poqxu</td>\n",
       "      <td>1</td>\n",
       "      <td>GullibleCup27</td>\n",
       "      <td>None</td>\n",
       "      <td>/r/EatingDisorders/comments/10poqxu/i_need_mor...</td>\n",
       "      <td>https://www.reddit.com/r/EatingDisorders/comme...</td>\n",
       "      <td>1675140001</td>\n",
       "    </tr>\n",
       "    <tr>\n",
       "      <th>1</th>\n",
       "      <td>EatingDisorders</td>\n",
       "      <td>I 26 f told the truth for the first time about...</td>\n",
       "      <td>None</td>\n",
       "      <td>Opening up about my ed</td>\n",
       "      <td>1</td>\n",
       "      <td></td>\n",
       "      <td>Seeking Support</td>\n",
       "      <td>None</td>\n",
       "      <td>None</td>\n",
       "      <td>None</td>\n",
       "      <td>t5_2qpcj</td>\n",
       "      <td>10pnoxo</td>\n",
       "      <td>1</td>\n",
       "      <td>mistinthrowaway</td>\n",
       "      <td>None</td>\n",
       "      <td>/r/EatingDisorders/comments/10pnoxo/opening_up...</td>\n",
       "      <td>https://www.reddit.com/r/EatingDisorders/comme...</td>\n",
       "      <td>1675137504</td>\n",
       "    </tr>\n",
       "    <tr>\n",
       "      <th>2</th>\n",
       "      <td>EatingDisorders</td>\n",
       "      <td>[removed]</td>\n",
       "      <td>None</td>\n",
       "      <td>My Long Battle With Binge Eating Coming To An End</td>\n",
       "      <td>1</td>\n",
       "      <td>one</td>\n",
       "      <td>Recovery Story</td>\n",
       "      <td>None</td>\n",
       "      <td>None</td>\n",
       "      <td>None</td>\n",
       "      <td>t5_2qpcj</td>\n",
       "      <td>10plv3v</td>\n",
       "      <td>1</td>\n",
       "      <td>LetMeTuckYouInHomie</td>\n",
       "      <td>None</td>\n",
       "      <td>/r/EatingDisorders/comments/10plv3v/my_long_ba...</td>\n",
       "      <td>https://www.reddit.com/r/EatingDisorders/comme...</td>\n",
       "      <td>1675132759</td>\n",
       "    </tr>\n",
       "    <tr>\n",
       "      <th>3</th>\n",
       "      <td>EatingDisorders</td>\n",
       "      <td>Greetings,\\n\\nA research team from Carnegie Va...</td>\n",
       "      <td>None</td>\n",
       "      <td>[Mod Approved] Are you a man who has experienc...</td>\n",
       "      <td>1</td>\n",
       "      <td>None</td>\n",
       "      <td>None</td>\n",
       "      <td>None</td>\n",
       "      <td>None</td>\n",
       "      <td>None</td>\n",
       "      <td>t5_2qpcj</td>\n",
       "      <td>10pkd8e</td>\n",
       "      <td>1</td>\n",
       "      <td>Acceptable_Ad_3206</td>\n",
       "      <td>None</td>\n",
       "      <td>/r/EatingDisorders/comments/10pkd8e/mod_approv...</td>\n",
       "      <td>https://www.reddit.com/r/EatingDisorders/comme...</td>\n",
       "      <td>1675128549</td>\n",
       "    </tr>\n",
       "    <tr>\n",
       "      <th>4</th>\n",
       "      <td>EatingDisorders</td>\n",
       "      <td>Idk who to talk to about this so I resort to r...</td>\n",
       "      <td>None</td>\n",
       "      <td>Just ranting ig</td>\n",
       "      <td>1</td>\n",
       "      <td>None</td>\n",
       "      <td>None</td>\n",
       "      <td>None</td>\n",
       "      <td>None</td>\n",
       "      <td>None</td>\n",
       "      <td>t5_2qpcj</td>\n",
       "      <td>10pjinj</td>\n",
       "      <td>1</td>\n",
       "      <td>tomato_bean876</td>\n",
       "      <td>None</td>\n",
       "      <td>/r/EatingDisorders/comments/10pjinj/just_ranti...</td>\n",
       "      <td>https://www.reddit.com/r/EatingDisorders/comme...</td>\n",
       "      <td>1675126245</td>\n",
       "    </tr>\n",
       "  </tbody>\n",
       "</table>\n",
       "</div>"
      ],
      "text/plain": [
       "         subreddit                                           selftext  \\\n",
       "0  EatingDisorders  23 F. I just started treatment for an eating d...   \n",
       "1  EatingDisorders  I 26 f told the truth for the first time about...   \n",
       "2  EatingDisorders                                          [removed]   \n",
       "3  EatingDisorders  Greetings,\\n\\nA research team from Carnegie Va...   \n",
       "4  EatingDisorders  Idk who to talk to about this so I resort to r...   \n",
       "\n",
       "  author_fullname                                              title  score  \\\n",
       "0            None                               I need moral support      1   \n",
       "1            None                             Opening up about my ed      1   \n",
       "2            None  My Long Battle With Binge Eating Coming To An End      1   \n",
       "3            None  [Mod Approved] Are you a man who has experienc...      1   \n",
       "4            None                                    Just ranting ig      1   \n",
       "\n",
       "  link_flair_css_class  link_flair_text author_flair_type over_18  \\\n",
       "0                       Seeking Support              None    None   \n",
       "1                       Seeking Support              None    None   \n",
       "2                  one   Recovery Story              None    None   \n",
       "3                 None             None              None    None   \n",
       "4                 None             None              None    None   \n",
       "\n",
       "  author_flair_text subreddit_id       id  is_self               author  \\\n",
       "0              None     t5_2qpcj  10poqxu        1        GullibleCup27   \n",
       "1              None     t5_2qpcj  10pnoxo        1      mistinthrowaway   \n",
       "2              None     t5_2qpcj  10plv3v        1  LetMeTuckYouInHomie   \n",
       "3              None     t5_2qpcj  10pkd8e        1   Acceptable_Ad_3206   \n",
       "4              None     t5_2qpcj  10pjinj        1       tomato_bean876   \n",
       "\n",
       "  author_flair_css_class                                          permalink  \\\n",
       "0                   None  /r/EatingDisorders/comments/10poqxu/i_need_mor...   \n",
       "1                   None  /r/EatingDisorders/comments/10pnoxo/opening_up...   \n",
       "2                   None  /r/EatingDisorders/comments/10plv3v/my_long_ba...   \n",
       "3                   None  /r/EatingDisorders/comments/10pkd8e/mod_approv...   \n",
       "4                   None  /r/EatingDisorders/comments/10pjinj/just_ranti...   \n",
       "\n",
       "                                                 url  created_utc  \n",
       "0  https://www.reddit.com/r/EatingDisorders/comme...   1675140001  \n",
       "1  https://www.reddit.com/r/EatingDisorders/comme...   1675137504  \n",
       "2  https://www.reddit.com/r/EatingDisorders/comme...   1675132759  \n",
       "3  https://www.reddit.com/r/EatingDisorders/comme...   1675128549  \n",
       "4  https://www.reddit.com/r/EatingDisorders/comme...   1675126245  "
      ]
     },
     "execution_count": 5,
     "metadata": {},
     "output_type": "execute_result"
    }
   ],
   "source": [
    "query = f\"select * from subreddit_submission_metadata\"\n",
    "df = pd.read_sql_query(text(query),con=engine.connect())\n",
    "df.head()\n"
   ]
  },
  {
   "cell_type": "code",
   "execution_count": null,
   "id": "836f1850-5d2d-4df8-8c42-5ec4b58c181f",
   "metadata": {},
   "outputs": [],
   "source": []
  },
  {
   "cell_type": "markdown",
   "id": "9c654c40-ede8-4266-b34a-607206b08c97",
   "metadata": {},
   "source": [
    "## Pre-processing"
   ]
  },
  {
   "cell_type": "markdown",
   "id": "7d7dfde1-f39d-4416-a216-5d1285852d7d",
   "metadata": {},
   "source": [
    "### Remove very short posts or posts are removed"
   ]
  },
  {
   "cell_type": "code",
   "execution_count": 60,
   "id": "ff13c380-7f27-4cea-ad0c-a51ffa5c760d",
   "metadata": {
    "tags": []
   },
   "outputs": [
    {
     "data": {
      "text/plain": [
       "<Axes: >"
      ]
     },
     "execution_count": 60,
     "metadata": {},
     "output_type": "execute_result"
    },
    {
     "data": {
      "image/png": "[encoded data removed]",
      "text/plain": [
       "<Figure size 640x480 with 1 Axes>"
      ]
     },
     "metadata": {},
     "output_type": "display_data"
    }
   ],
   "source": [
    "df[\"num_words\"] = df[\"selftext\"].apply(lambda x: len(x.split()))\n",
    "df[\"num_words\"].hist(bins=30, range=[0,500])"
   ]
  },
  {
   "cell_type": "code",
   "execution_count": 64,
   "id": "21488418-4b19-4b37-bae7-0f035019f683",
   "metadata": {
    "tags": []
   },
   "outputs": [
    {
     "name": "stdout",
     "output_type": "stream",
     "text": [
      "Number of short posts: 8940\n",
      "Number of filtered posts (by word length): 15706\n"
     ]
    }
   ],
   "source": [
    "word_length_cutoff = 20 # set a very low threshold\n",
    "print(f\"Number of short posts: {len(df[df['num_words'] < word_length_cutoff])}\")\n",
    "filtered_df = df[df[\"num_words\"] >= word_length_cutoff]\n",
    "print(f\"Number of filtered posts (by word length): {len(filtered_df)}\")"
   ]
  },
  {
   "cell_type": "markdown",
   "id": "cdb94df3-a3da-4e94-bba2-3fba5d09848a",
   "metadata": {},
   "source": [
    "### Preprocess flair falgs"
   ]
  },
  {
   "cell_type": "code",
   "execution_count": 65,
   "id": "38bf2bd6-1824-4cc3-a4c6-1fdfd8a11fc0",
   "metadata": {
    "tags": []
   },
   "outputs": [
    {
     "name": "stderr",
     "output_type": "stream",
     "text": [
      "/var/folders/fj/7t9sn4pn7t993nnng_9lyxtr0000gn/T/ipykernel_30787/1831028574.py:1: SettingWithCopyWarning: \n",
      "A value is trying to be set on a copy of a slice from a DataFrame.\n",
      "Try using .loc[row_indexer,col_indexer] = value instead\n",
      "\n",
      "See the caveats in the documentation: https://pandas.pydata.org/pandas-docs/stable/user_guide/indexing.html#returning-a-view-versus-a-copy\n",
      "  filtered_df[\"link_flair_text\"] = filtered_df[\"link_flair_text\"].apply(lambda x: x.lower().strip() if x is not None else \"\")\n"
     ]
    }
   ],
   "source": [
    "filtered_df[\"link_flair_text\"] = filtered_df[\"link_flair_text\"].apply(lambda x: x.lower().strip() if x is not None else \"\")"
   ]
  },
  {
   "cell_type": "code",
   "execution_count": 66,
   "id": "053e6894-f47f-4e7a-b60e-aa0ca9dba0ad",
   "metadata": {
    "tags": []
   },
   "outputs": [
    {
     "data": {
      "text/plain": [
       "array(['seeking support', '', 'recovery story', 'question', 'information',\n",
       "       'trigger warning', 'tw: numbers', 'family problems', 'be/d',\n",
       "       'bulimia', 'tw: photos', 'harm reduction', 'rant / rave',\n",
       "       'discussion', 'shitpost', 'tw', 'recovery support', 'oh no',\n",
       "       'story time', 'recovery wins!', 'fatphobia',\n",
       "       'tw: brief calorie mention', 'tw venting abt food', 'food',\n",
       "       'educational', 'trans/nb', 'family vent', 'substance abuse',\n",
       "       'meta', 'tw : some numbers', 'lgbtq+', 'tw vent',\n",
       "       'tw: sa, csa mention', 'tw: appetite suppression', 'tw purging',\n",
       "       'advice', 'triggering phrase', 'tw sexual harassment',\n",
       "       'tw: numbers, references to self harm', 'tw: fatphobia',\n",
       "       'tw miscarriage', 'tw (ed + fatphobia)',\n",
       "       'tw: numbers, mentioned throwing up, choking, rapid weight loss',\n",
       "       'tw: vomiting', 'tw: just generally gross',\n",
       "       'tw ed started young, bmi, hw, uw,', 'tw: food', 'tw - portions',\n",
       "       'harm reduction, tw: numbers', 'tw - scared into recovery',\n",
       "       'tw - suicide', 'tw substance abuse (some #’s)', 'tw: help me',\n",
       "       'tw //  vent/rant + mention of relapse',\n",
       "       'tw: bulimia, binge eating', 'tw negitive self talk', 'tw: relaps',\n",
       "       'tw // purging', 'tw- numbers',\n",
       "       'tw: binging, laxative abuse, relapse', 'tw weight gain',\n",
       "       'tw potential description of restrictive behaviours',\n",
       "       'tw body image/weight gain', 'tw: rant', 'tw sexual abuse',\n",
       "       'tw calories and numbers', 'tw: binging', 'tw: edtwt', 'vent',\n",
       "       'recovery related', 'signs of health', 'link', 'wtf',\n",
       "       'realization', 'research', 'mention of calorie #s/weight in lbs',\n",
       "       'vent- trigger warning', 'image',\n",
       "       'sucess (small tw - mention of weight before recovery)',\n",
       "       'christmas season', 'mixed feelings about relapsing',\n",
       "       'the guilt hits', 'trigger warning: poem', 'needs support',\n",
       "       'hospitalization??', 'i need advice', 'announcement', 'video',\n",
       "       'moderation approved advertisement', 'resources', 'support needed',\n",
       "       'recovery win', ':orly: help please!',\n",
       "       ':partyparrot: can we talk about..?',\n",
       "       ':snoo_hug: recovery :table:',\n",
       "       ':illuminati: content warning :illuminati:',\n",
       "       ':snoo_thoughtful: help? :snoo_biblethump:',\n",
       "       ':snoo_thoughtful: i have a question. . .',\n",
       "       ':snoo_feelsbadman: just venting',\n",
       "       ':redditgold:motivation:redditgold:',\n",
       "       ':eek1: kinda triggering :eek2:', 'content warning',\n",
       "       ':snoo_hug: send support :snoo_sad:',\n",
       "       ':karma:personal story:karma:', ':orly: dae? :snoo_thoughtful:',\n",
       "       ':eek3::snoo_sad: family+friends :snoo_thoughtful:',\n",
       "       'small success :snoo_simple_smile:', ':karma:art to cope:karma:',\n",
       "       'eek a meme :eek3:', 'research request - ca, usa',\n",
       "       'research request', ':table: poetry and art',\n",
       "       ':karma:arttocope:karma:', 'help', 'success',\n",
       "       'research request (mod approved)', 'advice needed',\n",
       "       'strategies to try', 'binge/relapse', 'my story',\n",
       "       'ranty-rant-rant', 'progress', 'body image', 'meme/humor',\n",
       "       '💩 shitpost 💩', 'recovery 💜'], dtype=object)"
      ]
     },
     "execution_count": 66,
     "metadata": {},
     "output_type": "execute_result"
    }
   ],
   "source": [
    "filtered_df[\"link_flair_text\"].unique()"
   ]
  },
  {
   "cell_type": "markdown",
   "id": "88e91c3c-cae7-468a-bef2-fa2863d9f678",
   "metadata": {},
   "source": [
    "## Narrative Detection"
   ]
  },
  {
   "cell_type": "code",
   "execution_count": 69,
   "id": "92a41d1c-a6ab-4245-a515-8658a8a75017",
   "metadata": {
    "tags": []
   },
   "outputs": [],
   "source": [
    "positive_flags = [\"story\", \"progress\"]\n",
    "negative_flags = [\"announcement\", \"educational\", \"research request\", \"resources\", \"advertise\"]\n",
    "uncertain_flags = [\"question\", \"support\", \"advice\"]"
   ]
  },
  {
   "cell_type": "code",
   "execution_count": 70,
   "id": "08ee1822-3c0a-4152-8f39-7ee31d9ae8a1",
   "metadata": {
    "tags": []
   },
   "outputs": [],
   "source": [
    "import re\n",
    "positive_flag_regex = \".*(\" + \")|(\".join(positive_flags) + \").*\"\n",
    "negative_flag_regex = \".*(\" + \")|(\".join(negative_flags) + \").*\"\n",
    "uncertain_flag_regex = \".*(\" + \")|(\".join(uncertain_flags) + \").*\""
   ]
  },
  {
   "cell_type": "code",
   "execution_count": 71,
   "id": "45cfafa8-9ec2-4bd9-85db-3536f952ec49",
   "metadata": {
    "tags": []
   },
   "outputs": [
    {
     "name": "stderr",
     "output_type": "stream",
     "text": [
      "/var/folders/fj/7t9sn4pn7t993nnng_9lyxtr0000gn/T/ipykernel_30787/1589716092.py:1: SettingWithCopyWarning: \n",
      "A value is trying to be set on a copy of a slice from a DataFrame.\n",
      "Try using .loc[row_indexer,col_indexer] = value instead\n",
      "\n",
      "See the caveats in the documentation: https://pandas.pydata.org/pandas-docs/stable/user_guide/indexing.html#returning-a-view-versus-a-copy\n",
      "  filtered_df[\"narrative_positive\"] = filtered_df[\"link_flair_text\"].apply(lambda x: 1 if re.match(positive_flag_regex, x) else 0)\n",
      "/var/folders/fj/7t9sn4pn7t993nnng_9lyxtr0000gn/T/ipykernel_30787/1589716092.py:2: SettingWithCopyWarning: \n",
      "A value is trying to be set on a copy of a slice from a DataFrame.\n",
      "Try using .loc[row_indexer,col_indexer] = value instead\n",
      "\n",
      "See the caveats in the documentation: https://pandas.pydata.org/pandas-docs/stable/user_guide/indexing.html#returning-a-view-versus-a-copy\n",
      "  filtered_df[\"narrative_negative\"] = filtered_df[\"link_flair_text\"].apply(lambda x: 1 if re.match(negative_flag_regex, x) else 0)\n",
      "/var/folders/fj/7t9sn4pn7t993nnng_9lyxtr0000gn/T/ipykernel_30787/1589716092.py:3: SettingWithCopyWarning: \n",
      "A value is trying to be set on a copy of a slice from a DataFrame.\n",
      "Try using .loc[row_indexer,col_indexer] = value instead\n",
      "\n",
      "See the caveats in the documentation: https://pandas.pydata.org/pandas-docs/stable/user_guide/indexing.html#returning-a-view-versus-a-copy\n",
      "  filtered_df[\"narrative_uncertain\"] = filtered_df[\"link_flair_text\"].apply(lambda x: 1 if re.match(uncertain_flag_regex, x) else 0)\n"
     ]
    }
   ],
   "source": [
    "filtered_df[\"narrative_positive\"] = filtered_df[\"link_flair_text\"].apply(lambda x: 1 if re.match(positive_flag_regex, x) else 0)\n",
    "filtered_df[\"narrative_negative\"] = filtered_df[\"link_flair_text\"].apply(lambda x: 1 if re.match(negative_flag_regex, x) else 0)\n",
    "filtered_df[\"narrative_uncertain\"] = filtered_df[\"link_flair_text\"].apply(lambda x: 1 if re.match(uncertain_flag_regex, x) else 0)"
   ]
  },
  {
   "cell_type": "code",
   "execution_count": 77,
   "id": "fef584b0-d9f3-4733-89ac-fde92c8ae434",
   "metadata": {
    "tags": []
   },
   "outputs": [],
   "source": [
    "pd.set_option('display.max_colwidth', None)"
   ]
  },
  {
   "cell_type": "code",
   "execution_count": 73,
   "id": "97b91a08-625b-4da5-a8fb-324d5b2275d4",
   "metadata": {
    "tags": []
   },
   "outputs": [],
   "source": [
    "def get_analysis_info(data: pd.DataFrame, type: str):\n",
    "    column_name = f\"narrative_{type}\"\n",
    "    print(f\"Number of {type}: {sum(data[column_name])} / {len(data)}\")\n",
    "    print(f\"Values of flair flags: {data[data[column_name] == 1]['link_flair_text'].unique()}\")\n",
    "    return data[data[column_name] == 1][[\"title\",\"link_flair_text\", \"selftext\"]]"
   ]
  },
  {
   "cell_type": "markdown",
   "id": "e73861d5-e6ad-4867-a908-9bc64673c868",
   "metadata": {},
   "source": [
    "#### Narrative Positive"
   ]
  },
  {
   "cell_type": "code",
   "execution_count": 80,
   "id": "75fc91c3-049b-425b-a26c-9c2427a25ad8",
   "metadata": {
    "tags": []
   },
   "outputs": [
    {
     "name": "stdout",
     "output_type": "stream",
     "text": [
      "Number of positive: 159 / 15706\n",
      "Values of flair flags: ['recovery story' 'story time' ':karma:personal story:karma:' 'my story'\n",
      " 'progress']\n"
     ]
    },
    {
     "data": {
      "text/html": [
       "<div>\n",
       "<style scoped>\n",
       "    .dataframe tbody tr th:only-of-type {\n",
       "        vertical-align: middle;\n",
       "    }\n",
       "\n",
       "    .dataframe tbody tr th {\n",
       "        vertical-align: top;\n",
       "    }\n",
       "\n",
       "    .dataframe thead th {\n",
       "        text-align: right;\n",
       "    }\n",
       "</style>\n",
       "<table border=\"1\" class=\"dataframe\">\n",
       "  <thead>\n",
       "    <tr style=\"text-align: right;\">\n",
       "      <th></th>\n",
       "      <th>title</th>\n",
       "      <th>link_flair_text</th>\n",
       "      <th>selftext</th>\n",
       "    </tr>\n",
       "  </thead>\n",
       "  <tbody>\n",
       "    <tr>\n",
       "      <th>13</th>\n",
       "      <td>ED tip if you are trying to eat more</td>\n",
       "      <td>recovery story</td>\n",
       "      <td>Smoothies really helped me. You can put a banana or two and a whole mango and some orange juice and blend it up. It’s like a drink but has lots of food in it. It might not work for everyone but it really helped me in my recovery</td>\n",
       "    </tr>\n",
       "    <tr>\n",
       "      <th>58</th>\n",
       "      <td>Recovery Story</td>\n",
       "      <td>recovery story</td>\n",
       "      <td>\\n\\nI started getting insecure during lockdown after being bullied for my weight. I started eating really unhealthy amounts of food. This continued for a while and I felt weak and tired all the time. I tried to recover and then relapsed again. I started to recover again at the start of December and it’s going really well. Especially in the last week. I went from a full meal a day to Breakfast, Lunch, Dinner and snacks. I have so much more energy and all my headaches are gone. I know I have a long way to go get but I am really proud of how far I have come. I know it’s hard sometimes but please keep pushing through it and you will be so much healthier and happier. Please know that you can message me if you ever need help and that there are people out there that care and will listen to you</td>\n",
       "    </tr>\n",
       "    <tr>\n",
       "      <th>109</th>\n",
       "      <td>This has been going on since 2006</td>\n",
       "      <td>recovery story</td>\n",
       "      <td>17 years of ED. It just seems like this will be life long for me. I was only 11 years old when this illness came on. I look back and feel sad that as a child I was tormented by this disease. I didn’t know how to cope with it. Now I recognize my triggers but it’s still hard to live with.</td>\n",
       "    </tr>\n",
       "    <tr>\n",
       "      <th>143</th>\n",
       "      <td>so proud of myself</td>\n",
       "      <td>recovery story</td>\n",
       "      <td>I'm six days binge free! Today i didn't rexist and i started binging but i'm not disappointed at all bc i have been really good last week. Im really proud of myself 😁</td>\n",
       "    </tr>\n",
       "    <tr>\n",
       "      <th>154</th>\n",
       "      <td>It gets better</td>\n",
       "      <td>recovery story</td>\n",
       "      <td>I'm more than 2 years into recovery. I promise it gets better. I am living a life right now that I couldn't have *imagined* 2 years ago. I have a boyfriend, straight A's, lots of friends, a vibrant social life, great mental health, I eat whatever I want, and most importantly: a healthy state of mind. \\n\\nI went through hell and back but I made it, and if I made it, you can too. If you ever need someone to talk to or need advice, my DMs are open. Much love to you all</td>\n",
       "    </tr>\n",
       "    <tr>\n",
       "      <th>...</th>\n",
       "      <td>...</td>\n",
       "      <td>...</td>\n",
       "      <td>...</td>\n",
       "    </tr>\n",
       "    <tr>\n",
       "      <th>24089</th>\n",
       "      <td>Life changing!!</td>\n",
       "      <td>progress</td>\n",
       "      <td>I started Concerta for my ADHD, and taking it daily has changed my life. I can do the normal life things I need to do, but notably it is a HUGE help with my binging disorder. The medication really helps me to manage impulses surrounding binging. \\n\\nIt also completely erases my appetite, but I’m making the effort to have multiple healthy meals every day so I’m not accidentally starving myself. So far it’s been one solid month and I’ve lost around 10lbs! That sounds like a lot, but my starting weight was 315lbs, so this needs to happen for my health and wellness. Looking forward to getting into the 200s again:)</td>\n",
       "    </tr>\n",
       "    <tr>\n",
       "      <th>24098</th>\n",
       "      <td>Lost five pounds!!</td>\n",
       "      <td>progress</td>\n",
       "      <td>I know it’s super small, but omg!! I have hardly binged this year and I can’t believe it. I thought I’d never get here to see the progress.</td>\n",
       "    </tr>\n",
       "    <tr>\n",
       "      <th>24099</th>\n",
       "      <td>I resisted an urge today</td>\n",
       "      <td>progress</td>\n",
       "      <td>I told myself two days ago no more doordash because I cant afford it and well, obviously, binging. Today I had a bad day, and I wanted chick fil a, but, as much as it was screaming inside me, I didn't get fries. Only chicken. So I successfully stayed within my limit today. I still had food out but...progress right?</td>\n",
       "    </tr>\n",
       "    <tr>\n",
       "      <th>24124</th>\n",
       "      <td>Finally Happy with My Life (Vyvanse)</td>\n",
       "      <td>progress</td>\n",
       "      <td>For context, I have always had a binge eating disorder. However, during covid it hit a huge spike. I gained 40 lbs in one year. \\n\\nGrowing up, I was always fat shamed even though at the time I was 120 and 5’5. As you can guess, this set me down a spiral where I would stress eat and actually become fat. \\n\\nI would always make excuses to not workout or to not binge. I was miserable. It was obvious that people had notice my weight gain and they all started treating me quickly. My senior year of high school was hell. \\n\\nFirst year of college, I was away from home and started to feel independent. Skip forward, I got a psychiatrist and he diagnosed me with BED. It was nothing new really. However, just two weeks ago, he prescribed me vyvanse and it so far has significantly changed my life. \\n\\nVyvanse is not a weight loss drug, but it is meant to suppress your impulses and binge like tendencies. Its been only 1.5 week and I have already loss nearly 10 pounds since the beginning of January. \\n\\nHowever, I have also been working out. Nothing too intense really, just walking for 30 minutes on a treadmill with an incline. Vyvanse is also prescribed for patients with ADHD, and I have never felt more productive and social in my life. I no longer care of how people think about me and because I have been keeping myself busy, I haven’t thought about food as much as I usually do. In my experience, its also kind of like an appetite suppressant but don’t quote me on that.\\n\\nVyvanse is very expensive, and I just feel so fortunate that my insurance covers it. Although the weight loss and change is minimal, I already fell so much better- like there is hope for me. \\n\\nJust a little rant :)</td>\n",
       "    </tr>\n",
       "    <tr>\n",
       "      <th>24152</th>\n",
       "      <td>New Here…Just</td>\n",
       "      <td>my story</td>\n",
       "      <td>Hey everyone! Long story short - I used to struggle with anorexia/restrictive eating for years when I was younger. I thought I recovered, but I think what actually happened was I was so afraid of going down the Ana ED road again, that I actually swung my pendulum in the other direction and developed BED; I’ve put on just, a ridiculous amount of weight over the years and when I try to diet or get healthy, those intense fears of anorexia come flooding back and I instinctively binge to prove I’m “recovered”. Honestly though, the guilt and self hatred never went away, just the below numbers on the scale. I just want to be healthy. 😞</td>\n",
       "    </tr>\n",
       "  </tbody>\n",
       "</table>\n",
       "<p>159 rows × 3 columns</p>\n",
       "</div>"
      ],
      "text/plain": [
       "                                      title link_flair_text  \\\n",
       "13     ED tip if you are trying to eat more  recovery story   \n",
       "58                           Recovery Story  recovery story   \n",
       "109       This has been going on since 2006  recovery story   \n",
       "143                      so proud of myself  recovery story   \n",
       "154                          It gets better  recovery story   \n",
       "...                                     ...             ...   \n",
       "24089                       Life changing!!        progress   \n",
       "24098                    Lost five pounds!!        progress   \n",
       "24099              I resisted an urge today        progress   \n",
       "24124  Finally Happy with My Life (Vyvanse)        progress   \n",
       "24152                         New Here…Just        my story   \n",
       "\n",
       "                                                                                                                                                                                                                                                                                                                                                                                                                                                                                                                                                                                                                                                                                                                                                                                                                                                                                                                                                                                                                                                                                                                                                                                                                                                                                                                                                                                                                                                                                                                                                                                                                                                                                                                                                                   selftext  \n",
       "13                                                                                                                                                                                                                                                                                                                                                                                                                                                                                                                                                                                                                                                                                                                                                                                                                                                                                                                                                                                                                                                                                                                                                                                                                                                                                                                                                                                                                                                                                                                                     Smoothies really helped me. You can put a banana or two and a whole mango and some orange juice and blend it up. It’s like a drink but has lots of food in it. It might not work for everyone but it really helped me in my recovery  \n",
       "58                                                                                                                                                                                                                                                                                                                                                                                                                                                                                                                                                                                                                                                                                                                                                                                                                                                                                                                                            \\n\\nI started getting insecure during lockdown after being bullied for my weight. I started eating really unhealthy amounts of food. This continued for a while and I felt weak and tired all the time. I tried to recover and then relapsed again. I started to recover again at the start of December and it’s going really well. Especially in the last week. I went from a full meal a day to Breakfast, Lunch, Dinner and snacks. I have so much more energy and all my headaches are gone. I know I have a long way to go get but I am really proud of how far I have come. I know it’s hard sometimes but please keep pushing through it and you will be so much healthier and happier. Please know that you can message me if you ever need help and that there are people out there that care and will listen to you  \n",
       "109                                                                                                                                                                                                                                                                                                                                                                                                                                                                                                                                                                                                                                                                                                                                                                                                                                                                                                                                                                                                                                                                                                                                                                                                                                                                                                                                                                                                                                                                         17 years of ED. It just seems like this will be life long for me. I was only 11 years old when this illness came on. I look back and feel sad that as a child I was tormented by this disease. I didn’t know how to cope with it. Now I recognize my triggers but it’s still hard to live with.  \n",
       "143                                                                                                                                                                                                                                                                                                                                                                                                                                                                                                                                                                                                                                                                                                                                                                                                                                                                                                                                                                                                                                                                                                                                                                                                                                                                                                                                                                                                                                                                                                                                                                                                  I'm six days binge free! Today i didn't rexist and i started binging but i'm not disappointed at all bc i have been really good last week. Im really proud of myself 😁  \n",
       "154                                                                                                                                                                                                                                                                                                                                                                                                                                                                                                                                                                                                                                                                                                                                                                                                                                                                                                                                                                                                                                                                                                                                                                                                                                                                                  I'm more than 2 years into recovery. I promise it gets better. I am living a life right now that I couldn't have *imagined* 2 years ago. I have a boyfriend, straight A's, lots of friends, a vibrant social life, great mental health, I eat whatever I want, and most importantly: a healthy state of mind. \\n\\nI went through hell and back but I made it, and if I made it, you can too. If you ever need someone to talk to or need advice, my DMs are open. Much love to you all  \n",
       "...                                                                                                                                                                                                                                                                                                                                                                                                                                                                                                                                                                                                                                                                                                                                                                                                                                                                                                                                                                                                                                                                                                                                                                                                                                                                                                                                                                                                                                                                                                                                                                                                                                                                                                                                                                     ...  \n",
       "24089                                                                                                                                                                                                                                                                                                                                                                                                                                                                                                                                                                                                                                                                                                                                                                                                                                                                                                                                                                                                                                                                                                                             I started Concerta for my ADHD, and taking it daily has changed my life. I can do the normal life things I need to do, but notably it is a HUGE help with my binging disorder. The medication really helps me to manage impulses surrounding binging. \\n\\nIt also completely erases my appetite, but I’m making the effort to have multiple healthy meals every day so I’m not accidentally starving myself. So far it’s been one solid month and I’ve lost around 10lbs! That sounds like a lot, but my starting weight was 315lbs, so this needs to happen for my health and wellness. Looking forward to getting into the 200s again:)  \n",
       "24098                                                                                                                                                                                                                                                                                                                                                                                                                                                                                                                                                                                                                                                                                                                                                                                                                                                                                                                                                                                                                                                                                                                                                                                                                                                                                                                                                                                                                                                                                                                                                                                                                           I know it’s super small, but omg!! I have hardly binged this year and I can’t believe it. I thought I’d never get here to see the progress.  \n",
       "24099                                                                                                                                                                                                                                                                                                                                                                                                                                                                                                                                                                                                                                                                                                                                                                                                                                                                                                                                                                                                                                                                                                                                                                                                                                                                                                                                                                                                                                          I told myself two days ago no more doordash because I cant afford it and well, obviously, binging. Today I had a bad day, and I wanted chick fil a, but, as much as it was screaming inside me, I didn't get fries. Only chicken. So I successfully stayed within my limit today. I still had food out but...progress right?  \n",
       "24124  For context, I have always had a binge eating disorder. However, during covid it hit a huge spike. I gained 40 lbs in one year. \\n\\nGrowing up, I was always fat shamed even though at the time I was 120 and 5’5. As you can guess, this set me down a spiral where I would stress eat and actually become fat. \\n\\nI would always make excuses to not workout or to not binge. I was miserable. It was obvious that people had notice my weight gain and they all started treating me quickly. My senior year of high school was hell. \\n\\nFirst year of college, I was away from home and started to feel independent. Skip forward, I got a psychiatrist and he diagnosed me with BED. It was nothing new really. However, just two weeks ago, he prescribed me vyvanse and it so far has significantly changed my life. \\n\\nVyvanse is not a weight loss drug, but it is meant to suppress your impulses and binge like tendencies. Its been only 1.5 week and I have already loss nearly 10 pounds since the beginning of January. \\n\\nHowever, I have also been working out. Nothing too intense really, just walking for 30 minutes on a treadmill with an incline. Vyvanse is also prescribed for patients with ADHD, and I have never felt more productive and social in my life. I no longer care of how people think about me and because I have been keeping myself busy, I haven’t thought about food as much as I usually do. In my experience, its also kind of like an appetite suppressant but don’t quote me on that.\\n\\nVyvanse is very expensive, and I just feel so fortunate that my insurance covers it. Although the weight loss and change is minimal, I already fell so much better- like there is hope for me. \\n\\nJust a little rant :)  \n",
       "24152                                                                                                                                                                                                                                                                                                                                                                                                                                                                                                                                                                                                                                                                                                                                                                                                                                                                                                                                                                                                                                                                                                          Hey everyone! Long story short - I used to struggle with anorexia/restrictive eating for years when I was younger. I thought I recovered, but I think what actually happened was I was so afraid of going down the Ana ED road again, that I actually swung my pendulum in the other direction and developed BED; I’ve put on just, a ridiculous amount of weight over the years and when I try to diet or get healthy, those intense fears of anorexia come flooding back and I instinctively binge to prove I’m “recovered”. Honestly though, the guilt and self hatred never went away, just the below numbers on the scale. I just want to be healthy. 😞  \n",
       "\n",
       "[159 rows x 3 columns]"
      ]
     },
     "execution_count": 80,
     "metadata": {},
     "output_type": "execute_result"
    }
   ],
   "source": [
    "get_analysis_info(filtered_df, \"positive\")"
   ]
  },
  {
   "cell_type": "markdown",
   "id": "055e6b50-ede3-4ee2-9f0a-778778365e79",
   "metadata": {},
   "source": [
    "#### Narrative Negative"
   ]
  },
  {
   "cell_type": "code",
   "execution_count": 75,
   "id": "d6667521-4493-4240-9265-c2df6e7abeb8",
   "metadata": {
    "tags": []
   },
   "outputs": [
    {
     "name": "stdout",
     "output_type": "stream",
     "text": [
      "Number of negative: 61 / 15706\n",
      "Values of flair flags: ['educational' 'announcement' 'resources' 'research request - ca, usa'\n",
      " 'research request' 'research request (mod approved)']\n"
     ]
    },
    {
     "data": {
      "text/html": [
       "<div>\n",
       "<style scoped>\n",
       "    .dataframe tbody tr th:only-of-type {\n",
       "        vertical-align: middle;\n",
       "    }\n",
       "\n",
       "    .dataframe tbody tr th {\n",
       "        vertical-align: top;\n",
       "    }\n",
       "\n",
       "    .dataframe thead th {\n",
       "        text-align: right;\n",
       "    }\n",
       "</style>\n",
       "<table border=\"1\" class=\"dataframe\">\n",
       "  <thead>\n",
       "    <tr style=\"text-align: right;\">\n",
       "      <th></th>\n",
       "      <th>title</th>\n",
       "      <th>link_flair_text</th>\n",
       "      <th>selftext</th>\n",
       "    </tr>\n",
       "  </thead>\n",
       "  <tbody>\n",
       "    <tr>\n",
       "      <th>7285</th>\n",
       "      <td>Graduate Student Seeking Research Participants</td>\n",
       "      <td>educational</td>\n",
       "      <td>Hello, my name is Samantha Hentkowski and I am a graduate student in the Early Childhood and Family Development program at Missouri State University. I am seeking candidates to participate in an interview involving intergenerational transmission of disordered eating. The interview will involve in-depth questions regarding eating behaviors, thoughts, and emotions that an individual with disordered eating possesses, their experiences in their own family of origin, and their thoughts about how they will or are parenting their children.\\n\\nTo participate in this study, please reach out to me at Hentkowski0243@MissouriState.edu\\n\\nYou will be sent a questionnaire via email to assess eligibility for the study, then I may reach out to you to schedule an interview on Zoom.</td>\n",
       "    </tr>\n",
       "    <tr>\n",
       "      <th>7495</th>\n",
       "      <td>Binge Eating &amp;amp; Anorexia related to Brain Connectivity (ACC)</td>\n",
       "      <td>educational</td>\n",
       "      <td>First: What is ACC’s function?\\nChat GPT:\\nThe anterior cingulate cortex (ACC) is a brain region that is involved in a variety of cognitive and emotional processes. Some of its functions include:\\nError detection and monitoring: The ACC is activated when a person detects an error or discrepancy in their own behavior or in the behavior of others.\\nConflict resolution: The ACC is involved in resolving conflicts between different mental processes, such as between a habitual response and a newly learned response.\\nEmotion regulation: The ACC is activated when a person is trying to regulate their emotional responses, such as when trying to suppress an emotional reaction.\\nPain perception and processing: The ACC is involved in the processing of pain and is activated in response to painful stimuli.\\nDecision making: The ACC is involved in decision making, particularly in situations where there is a high degree of uncertainty or conflict between different options.\\nAttention regulation: The ACC is also thought to play a role in attention regulation, it is activated when a person is shifting attention between different tasks, or when attention is focused on a task.\\nHow is Binge Eating Disorder related to ACC?\\nChat GPT:\\nThe anterior cingulate cortex (ACC) is a region of the brain that plays an important role in a wide variety of cognitive and emotional processes, including attention, decision-making, and error detection. In relation with Binge Eating Disorder, It has been found in brain imaging studies that people with BED have increased activity in the ACC as well as other brain regions that are involved in reward processing, emotion regulation, and impulse control. These brain regions are thought to be involved in the overvaluation of food and the inability to resist the urge to eat in the context of BED.\\nAdditionally, people with BED have been found to have abnormal functioning in the brain’s reward systems, which are also involved in the regulation of emotions and stress response. Therefore, BED is associated with abnormal activity in the ACC and other brain regions involved in reward processing, emotion regulation, and impulse control.\\n_\\nWith Anorexia Nervosa, the gray brain matter is smaller.\\nOur ancestors would actually over eat, and eat on the average of two meals a day so binge eating disorder is evolutionary.</td>\n",
       "    </tr>\n",
       "    <tr>\n",
       "      <th>8052</th>\n",
       "      <td>Can a hospital deny admitting you if your BMI is too low?</td>\n",
       "      <td>educational</td>\n",
       "      <td>The question speaks for itself. Sorry if it’s a stupid question. I don’t know if any hospital can work with ED patients or if it’s something hard to come by.</td>\n",
       "    </tr>\n",
       "    <tr>\n",
       "      <th>8119</th>\n",
       "      <td>Was anyone else put on birth control due to messed up hormonal balance?</td>\n",
       "      <td>educational</td>\n",
       "      <td>And what was your experience with it? Some people say that you can gain weight and I'm actually scared that can be the case for me.</td>\n",
       "    </tr>\n",
       "    <tr>\n",
       "      <th>8257</th>\n",
       "      <td>user flair?</td>\n",
       "      <td>educational</td>\n",
       "      <td>how are you guys getting custom user flairs ?? it says i’m not authorized to make one ? (e.g. 19 | F | AN | UW)</td>\n",
       "    </tr>\n",
       "    <tr>\n",
       "      <th>...</th>\n",
       "      <td>...</td>\n",
       "      <td>...</td>\n",
       "      <td>...</td>\n",
       "    </tr>\n",
       "    <tr>\n",
       "      <th>22464</th>\n",
       "      <td>Eating Disorder Research</td>\n",
       "      <td>research request</td>\n",
       "      <td>Hi! I have been struggling with a binge eating disorder since I was 14 (I'm 21 now), and I've been on the road to recovery for a few years. I'm an interior design student at SCAD, and for my senior thesis, I'm going to design a recovery center for people who struggle with eating disorders.\\n\\nI am in the research phase and want to gather as much data as possible to make my design the best it can be! I've copied a link below to a Google survey I create for people to share their experience with disordered eating. All the responses will be kept anonymous, and I would appreciate if you guys could check it out! \\n\\nSurvey link: [https://forms.gle/2P29Uqc7bcBYrC776](https://forms.gle/2P29Uqc7bcBYrC776)</td>\n",
       "    </tr>\n",
       "    <tr>\n",
       "      <th>22708</th>\n",
       "      <td>[Academic] Research study looking to hear from people with lived experience of suicidal thoughts &amp;amp; behaviours (Adults, 18+ only, UK) [mod approved]</td>\n",
       "      <td>research request</td>\n",
       "      <td>Hello,\\n\\nI am doing a research study looking at what recovery means to people who have had or are currently experiencing thoughts about taking their life as well as exploring what factors have helped people in their recovery journey.\\n\\nWe are looking to hear from adults (18+) who live in the UK, are registered with a GP and currently experiencing or have previously experienced suicidal thoughts and/or behaviours within the last 5 years.\\n\\nWe are hoping to recruit about 150 people. \\n\\nFor more information and to express your interest, please follow the link\\n\\n[**https://www.qualtrics.manchester.ac.uk/jfe/form/SV\\_8J8RC0nv9iICcAe**](https://www.qualtrics.manchester.ac.uk/jfe/form/SV_8J8RC0nv9iICcAe)\\n\\n**Support Services (UK Only)**\\n\\n**Samaritans: UK wide, Free 24-hour confidential helpline for individuals experiencing distress. You can also email them. 116 123 or jo@samaritans.org**\\n\\n**CALM: UK wide, Free confidential helpline for young men aged 15-35, 5pm-mightnight experiencing crisis. Webchat available via website (**[**www.thecalmzone.net**](http://www.thecalmzone.net/)**) 0800585858**\\n\\n**AssistLine: UK wide, Free 24-hour confidential helpline for individuals with thoughts of suicide or self-harm. 0800 689 5652**\\n\\n**Shout: UK wide, 24-hour text service for anyone in crisis.Text Shout to 85258**\\n\\n**Rethink Mental Illness: UK wide, Provide free advice and information on living with mental health difficulties 9:30am to 4pm Monday to Friday 0808 801 0525**</td>\n",
       "    </tr>\n",
       "    <tr>\n",
       "      <th>22725</th>\n",
       "      <td>Stanford University Eating Disorder Treatment Study!</td>\n",
       "      <td>research request</td>\n",
       "      <td>Stanford University is conducting a research study comparing two eating disorder treatment programs to reduce body dissatisfaction and disordered eating behaviors! Women between the ages of 18 and 34, and who live in the California Bay Area, are invited to participate. All participants can receive up to $305 for taking part. You will be asked to complete various assessments, including 2 fMRI scans, and attend weekly one-hour groups for 8 weeks. Learn more here: [http://www.eatingbehaviortreatment.com/](http://www.eatingbehaviortreatment.com/) or email us at eatingbehaviortreatment@stanford.edu</td>\n",
       "    </tr>\n",
       "    <tr>\n",
       "      <th>22918</th>\n",
       "      <td>Stanford Academic Research on Eating Behaviors!</td>\n",
       "      <td>research request</td>\n",
       "      <td>As a part of a new research study, Stanford University is exploring the connection between emotions and eating in adolescents girls (14-18) with Binge eating and Purging behaviors. If you are currently struggling with binge and/or purge behaviors, OR you don't struggle with these behaviors, and live in the California Bay Area, we would love to include you in our work! Participants are compensated $100 for their time. Please email [ereatingstudy@stanford.edu](mailto:ereatingstudy@stanford.edu) or follow this link [https://redcap.stanford.edu/surveys/?s=YJ7WM3AA8Y9C7N49](https://redcap.stanford.edu/surveys/?s=YJ7WM3AA8Y9C7N49) if you are interested.</td>\n",
       "    </tr>\n",
       "    <tr>\n",
       "      <th>23780</th>\n",
       "      <td>[Mod Approved] Are you a man who has experienced an eating disorder? Participate in this quick 10-15 minute eating disorder survey (Ages 18-25, identify as a man).</td>\n",
       "      <td>research request (mod approved)</td>\n",
       "      <td>Greetings, \\n\\nA research team from Carnegie Vanguard High School is evaluating young adult men’s experiences with disordered eating, body image concerns, and interpersonal stressors. To participate you must be: \\n\\n* 18 - 25 years old\\n* Identify as a man \\n* Previous or current experiences with clinically severe body image and eating concerns (i.e., an eating disorder) \\n* This study is strictly VOLUNTARY and there are no monetary benefits or additional incentives. This research will not directly benefit you. **However, this research may provide a better understanding for how men experience these issues and may help to inform future prevention and treatment efforts.**\\n\\nThe online survey is expected to take 15 minutes to complete. If you match the eligibility criteria and are interested in participating in this study, [click here](https://qfreeaccountssjc1.az1.qualtrics.com/jfe/form/SV_9TVmc9Lgl8yDbsq) for informed consent and more details. This research project has been approved by this institution’s campus review board. If you have any questions about this study, please contact the Advising Investigator, Dakota Leget, M.A. at [leget003@d.umn.edu](mailto:leget003@d.umn.edu) or contact the Educator of this AP Research course at [HHILL4@houstonisd.org](mailto:HHILL4@houstonisd.org).\\n\\n&amp;amp;#x200B;\\n\\nAgain, CLICK [HERE](https://qfreeaccountssjc1.az1.qualtrics.com/jfe/form/SV_9TVmc9Lgl8yDbsq) FOR SURVEY (Survey lasts until February 21st).\\n\\n&amp;amp;#x200B;\\n\\nThank you!</td>\n",
       "    </tr>\n",
       "  </tbody>\n",
       "</table>\n",
       "<p>61 rows × 3 columns</p>\n",
       "</div>"
      ],
      "text/plain": [
       "                                                                                                                                                                     title  \\\n",
       "7285                                                                                                                        Graduate Student Seeking Research Participants   \n",
       "7495                                                                                                       Binge Eating &amp; Anorexia related to Brain Connectivity (ACC)   \n",
       "8052                                                                                                             Can a hospital deny admitting you if your BMI is too low?   \n",
       "8119                                                                                               Was anyone else put on birth control due to messed up hormonal balance?   \n",
       "8257                                                                                                                                                           user flair?   \n",
       "...                                                                                                                                                                    ...   \n",
       "22464                                                                                                                                             Eating Disorder Research   \n",
       "22708              [Academic] Research study looking to hear from people with lived experience of suicidal thoughts &amp; behaviours (Adults, 18+ only, UK) [mod approved]   \n",
       "22725                                                                                                                 Stanford University Eating Disorder Treatment Study!   \n",
       "22918                                                                                                                      Stanford Academic Research on Eating Behaviors!   \n",
       "23780  [Mod Approved] Are you a man who has experienced an eating disorder? Participate in this quick 10-15 minute eating disorder survey (Ages 18-25, identify as a man).   \n",
       "\n",
       "                       link_flair_text  \\\n",
       "7285                       educational   \n",
       "7495                       educational   \n",
       "8052                       educational   \n",
       "8119                       educational   \n",
       "8257                       educational   \n",
       "...                                ...   \n",
       "22464                 research request   \n",
       "22708                 research request   \n",
       "22725                 research request   \n",
       "22918                 research request   \n",
       "23780  research request (mod approved)   \n",
       "\n",
       "                                                                                                                                                                                                                                                                                                                                                                                                                                                                                                                                                                                                                                                                                                                                                                                                                                                                                                                                                                                                                                                                                                                                                                                                                                                                                                                                                                                                                                                                                                                                                                                                                                                                                                                                                                                                                                                                                                                                                                                                                                                                                                                                                                                                                                                                                                                                                                                                                                                    selftext  \n",
       "7285                                                                                                                                                                                                                                                                                                                                                                                                                                                                                                                                                                                                                                                                                                                                                                                                                                                                                                                                                                                                                                                                                                                                                                                                                                                                                                                                                                                                                                                                                                                                                                                                                                                 Hello, my name is Samantha Hentkowski and I am a graduate student in the Early Childhood and Family Development program at Missouri State University. I am seeking candidates to participate in an interview involving intergenerational transmission of disordered eating. The interview will involve in-depth questions regarding eating behaviors, thoughts, and emotions that an individual with disordered eating possesses, their experiences in their own family of origin, and their thoughts about how they will or are parenting their children.\\n\\nTo participate in this study, please reach out to me at Hentkowski0243@MissouriState.edu\\n\\nYou will be sent a questionnaire via email to assess eligibility for the study, then I may reach out to you to schedule an interview on Zoom.  \n",
       "7495   First: What is ACC’s function?\\nChat GPT:\\nThe anterior cingulate cortex (ACC) is a brain region that is involved in a variety of cognitive and emotional processes. Some of its functions include:\\nError detection and monitoring: The ACC is activated when a person detects an error or discrepancy in their own behavior or in the behavior of others.\\nConflict resolution: The ACC is involved in resolving conflicts between different mental processes, such as between a habitual response and a newly learned response.\\nEmotion regulation: The ACC is activated when a person is trying to regulate their emotional responses, such as when trying to suppress an emotional reaction.\\nPain perception and processing: The ACC is involved in the processing of pain and is activated in response to painful stimuli.\\nDecision making: The ACC is involved in decision making, particularly in situations where there is a high degree of uncertainty or conflict between different options.\\nAttention regulation: The ACC is also thought to play a role in attention regulation, it is activated when a person is shifting attention between different tasks, or when attention is focused on a task.\\nHow is Binge Eating Disorder related to ACC?\\nChat GPT:\\nThe anterior cingulate cortex (ACC) is a region of the brain that plays an important role in a wide variety of cognitive and emotional processes, including attention, decision-making, and error detection. In relation with Binge Eating Disorder, It has been found in brain imaging studies that people with BED have increased activity in the ACC as well as other brain regions that are involved in reward processing, emotion regulation, and impulse control. These brain regions are thought to be involved in the overvaluation of food and the inability to resist the urge to eat in the context of BED.\\nAdditionally, people with BED have been found to have abnormal functioning in the brain’s reward systems, which are also involved in the regulation of emotions and stress response. Therefore, BED is associated with abnormal activity in the ACC and other brain regions involved in reward processing, emotion regulation, and impulse control.\\n_\\nWith Anorexia Nervosa, the gray brain matter is smaller.\\nOur ancestors would actually over eat, and eat on the average of two meals a day so binge eating disorder is evolutionary.  \n",
       "8052                                                                                                                                                                                                                                                                                                                                                                                                                                                                                                                                                                                                                                                                                                                                                                                                                                                                                                                                                                                                                                                                                                                                                                                                                                                                                                                                                                                                                                                                                                                                                                                                                                                                                                                                                                                                                                                                                                                                                                                                                                                                                                                                                                                                                                                                                           The question speaks for itself. Sorry if it’s a stupid question. I don’t know if any hospital can work with ED patients or if it’s something hard to come by.  \n",
       "8119                                                                                                                                                                                                                                                                                                                                                                                                                                                                                                                                                                                                                                                                                                                                                                                                                                                                                                                                                                                                                                                                                                                                                                                                                                                                                                                                                                                                                                                                                                                                                                                                                                                                                                                                                                                                                                                                                                                                                                                                                                                                                                                                                                                                                                                                                                                     And what was your experience with it? Some people say that you can gain weight and I'm actually scared that can be the case for me.  \n",
       "8257                                                                                                                                                                                                                                                                                                                                                                                                                                                                                                                                                                                                                                                                                                                                                                                                                                                                                                                                                                                                                                                                                                                                                                                                                                                                                                                                                                                                                                                                                                                                                                                                                                                                                                                                                                                                                                                                                                                                                                                                                                                                                                                                                                                                                                                                                                                                         how are you guys getting custom user flairs ?? it says i’m not authorized to make one ? (e.g. 19 | F | AN | UW)  \n",
       "...                                                                                                                                                                                                                                                                                                                                                                                                                                                                                                                                                                                                                                                                                                                                                                                                                                                                                                                                                                                                                                                                                                                                                                                                                                                                                                                                                                                                                                                                                                                                                                                                                                                                                                                                                                                                                                                                                                                                                                                                                                                                                                                                                                                                                                                                                                                                                                                                                                                      ...  \n",
       "22464                                                                                                                                                                                                                                                                                                                                                                                                                                                                                                                                                                                                                                                                                                                                                                                                                                                                                                                                                                                                                                                                                                                                                                                                                                                                                                                                                                                                                                                                                                                                                                                                                                                                                                                      Hi! I have been struggling with a binge eating disorder since I was 14 (I'm 21 now), and I've been on the road to recovery for a few years. I'm an interior design student at SCAD, and for my senior thesis, I'm going to design a recovery center for people who struggle with eating disorders.\\n\\nI am in the research phase and want to gather as much data as possible to make my design the best it can be! I've copied a link below to a Google survey I create for people to share their experience with disordered eating. All the responses will be kept anonymous, and I would appreciate if you guys could check it out! \\n\\nSurvey link: [https://forms.gle/2P29Uqc7bcBYrC776](https://forms.gle/2P29Uqc7bcBYrC776)  \n",
       "22708                                                                                                                                                                                                                                                                                                                                                                                                                                                                                                                                                                                                                                                                                                                                                                                                                                                                                                 Hello,\\n\\nI am doing a research study looking at what recovery means to people who have had or are currently experiencing thoughts about taking their life as well as exploring what factors have helped people in their recovery journey.\\n\\nWe are looking to hear from adults (18+) who live in the UK, are registered with a GP and currently experiencing or have previously experienced suicidal thoughts and/or behaviours within the last 5 years.\\n\\nWe are hoping to recruit about 150 people. \\n\\nFor more information and to express your interest, please follow the link\\n\\n[**https://www.qualtrics.manchester.ac.uk/jfe/form/SV\\_8J8RC0nv9iICcAe**](https://www.qualtrics.manchester.ac.uk/jfe/form/SV_8J8RC0nv9iICcAe)\\n\\n**Support Services (UK Only)**\\n\\n**Samaritans: UK wide, Free 24-hour confidential helpline for individuals experiencing distress. You can also email them. 116 123 or jo@samaritans.org**\\n\\n**CALM: UK wide, Free confidential helpline for young men aged 15-35, 5pm-mightnight experiencing crisis. Webchat available via website (**[**www.thecalmzone.net**](http://www.thecalmzone.net/)**) 0800585858**\\n\\n**AssistLine: UK wide, Free 24-hour confidential helpline for individuals with thoughts of suicide or self-harm. 0800 689 5652**\\n\\n**Shout: UK wide, 24-hour text service for anyone in crisis.Text Shout to 85258**\\n\\n**Rethink Mental Illness: UK wide, Provide free advice and information on living with mental health difficulties 9:30am to 4pm Monday to Friday 0808 801 0525**  \n",
       "22725                                                                                                                                                                                                                                                                                                                                                                                                                                                                                                                                                                                                                                                                                                                                                                                                                                                                                                                                                                                                                                                                                                                                                                                                                                                                                                                                                                                                                                                                                                                                                                                                                                                                                                                                                                                                                               Stanford University is conducting a research study comparing two eating disorder treatment programs to reduce body dissatisfaction and disordered eating behaviors! Women between the ages of 18 and 34, and who live in the California Bay Area, are invited to participate. All participants can receive up to $305 for taking part. You will be asked to complete various assessments, including 2 fMRI scans, and attend weekly one-hour groups for 8 weeks. Learn more here: [http://www.eatingbehaviortreatment.com/](http://www.eatingbehaviortreatment.com/) or email us at eatingbehaviortreatment@stanford.edu  \n",
       "22918                                                                                                                                                                                                                                                                                                                                                                                                                                                                                                                                                                                                                                                                                                                                                                                                                                                                                                                                                                                                                                                                                                                                                                                                                                                                                                                                                                                                                                                                                                                                                                                                                                                                                                                                                                        As a part of a new research study, Stanford University is exploring the connection between emotions and eating in adolescents girls (14-18) with Binge eating and Purging behaviors. If you are currently struggling with binge and/or purge behaviors, OR you don't struggle with these behaviors, and live in the California Bay Area, we would love to include you in our work! Participants are compensated $100 for their time. Please email [ereatingstudy@stanford.edu](mailto:ereatingstudy@stanford.edu) or follow this link [https://redcap.stanford.edu/surveys/?s=YJ7WM3AA8Y9C7N49](https://redcap.stanford.edu/surveys/?s=YJ7WM3AA8Y9C7N49) if you are interested.  \n",
       "23780                                                                                                                                                                                                                                                                                                                                                                                                                                                                                                                                                                                                                                                                                                                                                                                                                                                                                                 Greetings, \\n\\nA research team from Carnegie Vanguard High School is evaluating young adult men’s experiences with disordered eating, body image concerns, and interpersonal stressors. To participate you must be: \\n\\n* 18 - 25 years old\\n* Identify as a man \\n* Previous or current experiences with clinically severe body image and eating concerns (i.e., an eating disorder) \\n* This study is strictly VOLUNTARY and there are no monetary benefits or additional incentives. This research will not directly benefit you. **However, this research may provide a better understanding for how men experience these issues and may help to inform future prevention and treatment efforts.**\\n\\nThe online survey is expected to take 15 minutes to complete. If you match the eligibility criteria and are interested in participating in this study, [click here](https://qfreeaccountssjc1.az1.qualtrics.com/jfe/form/SV_9TVmc9Lgl8yDbsq) for informed consent and more details. This research project has been approved by this institution’s campus review board. If you have any questions about this study, please contact the Advising Investigator, Dakota Leget, M.A. at [leget003@d.umn.edu](mailto:leget003@d.umn.edu) or contact the Educator of this AP Research course at [HHILL4@houstonisd.org](mailto:HHILL4@houstonisd.org).\\n\\n&amp;#x200B;\\n\\nAgain, CLICK [HERE](https://qfreeaccountssjc1.az1.qualtrics.com/jfe/form/SV_9TVmc9Lgl8yDbsq) FOR SURVEY (Survey lasts until February 21st).\\n\\n&amp;#x200B;\\n\\nThank you!  \n",
       "\n",
       "[61 rows x 3 columns]"
      ]
     },
     "execution_count": 75,
     "metadata": {},
     "output_type": "execute_result"
    }
   ],
   "source": [
    "get_analysis_info(filtered_df, \"negative\")"
   ]
  },
  {
   "cell_type": "markdown",
   "id": "d2aee63d-1d27-4ef4-bf83-f16bb0779437",
   "metadata": {},
   "source": [
    "#### Narrative Uncertain"
   ]
  },
  {
   "cell_type": "code",
   "execution_count": 76,
   "id": "fd7ac859-55b4-44da-ab4e-fc56ce736f77",
   "metadata": {
    "tags": []
   },
   "outputs": [
    {
     "name": "stdout",
     "output_type": "stream",
     "text": [
      "Number of uncertain: 1551 / 15706\n",
      "Values of flair flags: ['question' 'advice' 'support needed'\n",
      " ':snoo_thoughtful: i have a question. . .' 'advice needed']\n"
     ]
    },
    {
     "data": {
      "text/html": [
       "<div>\n",
       "<style scoped>\n",
       "    .dataframe tbody tr th:only-of-type {\n",
       "        vertical-align: middle;\n",
       "    }\n",
       "\n",
       "    .dataframe tbody tr th {\n",
       "        vertical-align: top;\n",
       "    }\n",
       "\n",
       "    .dataframe thead th {\n",
       "        text-align: right;\n",
       "    }\n",
       "</style>\n",
       "<table border=\"1\" class=\"dataframe\">\n",
       "  <thead>\n",
       "    <tr style=\"text-align: right;\">\n",
       "      <th></th>\n",
       "      <th>title</th>\n",
       "      <th>link_flair_text</th>\n",
       "      <th>selftext</th>\n",
       "    </tr>\n",
       "  </thead>\n",
       "  <tbody>\n",
       "    <tr>\n",
       "      <th>21</th>\n",
       "      <td>Helping out my girlfriend!!</td>\n",
       "      <td>question</td>\n",
       "      <td>alright, so, well i dont know how to phrase this well, but my girlfriend has been going through a tough time recently with a vv big relapse on her ED recovery journey, and its quite apparent that she finds it hard to recover again. she seems quite drained and tired from all of that, and she does not want to talk to a counsellor about it as she is afraid her parents would be informed. ive been trying my best to emotionally support her, just watch out for her and stuff like that! i encourage her to eat, but i dont force! same for recovery and all that... its quite emotionally draining for me too, but i can cope with that alright! so that is alright on my end... i just would like to know from all of you here, what motivated you to recover? how can a loved one best support someone suffering from an ED? what is something you wish someone would say or do when you are in recovery?</td>\n",
       "    </tr>\n",
       "    <tr>\n",
       "      <th>23</th>\n",
       "      <td>Friend with ED won’t let people call her baby chubby</td>\n",
       "      <td>question</td>\n",
       "      <td>I have a girlfriend who’s recovering. She had a baby last year and per her mom, it really bothers her if people call her baby chunky or chubby or comment on baby’s fat leg rolls. Also she took like one photo of herself while pregnant. \\nNow I’m not in the ED community or anything similar so I DO NOT want to upset or offend anyone but I just think this is ludicrous. I personally loved seeing pix of my mother glowing and pregnant with me. And babies ARE beautifully wonderfully perfectly chubby! \\nI just don’t understand at all but I’m not gonna say this to her. Just wondering if this is typical?\\nAgain I’m sorry if my thoughts on this upset you - that’s not my intention.</td>\n",
       "    </tr>\n",
       "    <tr>\n",
       "      <th>39</th>\n",
       "      <td>How do I become comfortable with socially eating?</td>\n",
       "      <td>question</td>\n",
       "      <td>I’m recovering from BED and haven’t binged in probably six months. I’m proud of the progress I have made, but I’m still going through some mental anguish. This is mainly in regards to socially eating. So I have a group of friends that are foodies and basically want to go out to eat a lot. I love hanging out with them, but every time I hang out with them, the event revolves around food or going to a restaurant. Every time I go and eat with them, I feel immense guilt and self-hatred afterwards. Even if the food is super good, I still hate myself afterwards. My closest friend in that group has reassured me that it will be okay if I have a day where I eat good food. She has even said that life is too short for bad food. I want to feel empowered by that, but I just can’t. When I eat food at a restaurant, I can’t shake the feeling that I’m wrong and disgusting. I feel like I’m going to go back to my old ways and I’m just super negative in my head after I go out to eat with them. Also I feel like if I go and say no to food, people are going to ask me why and I just don’t feel like telling them a whole story. I love hanging out with them, but I don’t know what to do to resolve my bad emotions.</td>\n",
       "    </tr>\n",
       "    <tr>\n",
       "      <th>44</th>\n",
       "      <td>does anyone have tips on trying to get out of a relapse?</td>\n",
       "      <td>question</td>\n",
       "      <td>I was diagnosed w OSFED (atypical anorexia) in 2021, and started treatment at the emily program, which i stopped at the end of last year (combo of no time or energy for therapy, cost, and i wasn’t the biggest fan of my therapist). while my eating habits have gotten very consistent and i am fine with most types of food, i do tend to binge occasionally (esp on super sugary foods) and am started to get somewhat fixated on what i’m eating like i used to. \\n\\ni’ve been trying to not get as caught up in it, and also just feed myself and buy snacks that are enjoyable but still healthy for me. but i’m wondering if people have tips on establishing regular eating patterns and also just not relapsing.\\n\\ni’m terrified of weight gain and though i haven’t decreased my food intake yet (i’ve started training for a half marathon so i’ve been eating well), i’m scared i will eventually get to that point.\\n\\nthank you so much!</td>\n",
       "    </tr>\n",
       "    <tr>\n",
       "      <th>72</th>\n",
       "      <td>Advice for someone about to start working in an ED clinic?</td>\n",
       "      <td>question</td>\n",
       "      <td>Hi everyone!  Like the title says, I'm about to start a job in an inpatient ED clinic (I'm currently working in the same psych hospital so I'm familiar with inpatient treatment but not the ED unit in particular).  I don't have much personal experience with eating disorders but obviously I want to not screw this up.  I was wondering if any of you lovely people who have had experience with inpatient treatment (or other intensive treatment) have any tips/advice?  As in, was there anything particularly helpful or therapeutic for you (or not helpful, that you wish staff had done differently)?  No pressure to answer this of course, but any insight is appreciated :)</td>\n",
       "    </tr>\n",
       "    <tr>\n",
       "      <th>...</th>\n",
       "      <td>...</td>\n",
       "      <td>...</td>\n",
       "      <td>...</td>\n",
       "    </tr>\n",
       "    <tr>\n",
       "      <th>24139</th>\n",
       "      <td>Rewarding Ourselves</td>\n",
       "      <td>advice needed</td>\n",
       "      <td>So for me a binge would be almost like a reward to me - I don't know if that's because I've Self Harmed since I was very young and saw harm as a good thing, like I deserved it  or because we got Cake on special occasions maybe. I don't know. But for me bingeing is the reward, purging or restricting was punishment. So I've worked on that A lot. I'm definitely not seeing it as a reward but I miss that connection with food if that makes sense. Right now I'm reward craving so badly but have nothing to fill that crave, any advice?</td>\n",
       "    </tr>\n",
       "    <tr>\n",
       "      <th>24163</th>\n",
       "      <td>Really really struggling</td>\n",
       "      <td>support needed</td>\n",
       "      <td>The past week, i have been so so bad at binging, eating to the point i feel so sick, even when i am not hungry. I eat because i am stressed. \\n\\nI have bpd, and i thought i was doing awesome in coping, because i realised, i hadnt been getting super anxious anymore and spiralling much.... till i realised instead, ive been binging :(   \\nYet, 5 mins of feeling sick, i want to eat again!!! I think i have eaten more i the past week than i have the past month. \\n\\nI dont have my next therapy session until end of Jan, so i am trying to reach out to get any tips anyone has that have successfully worked. Unfortunately, i also have chronic fatigue syndrome so tips of exercise whilst i try and do what i can, i am housebound quite a lot.</td>\n",
       "    </tr>\n",
       "    <tr>\n",
       "      <th>24167</th>\n",
       "      <td>I want to binge so bad! I’m in my car help pls!</td>\n",
       "      <td>support needed</td>\n",
       "      <td>K don’t know what’s wrong with me I already binged today and I should feel full but I don’t feel anything in my stomach! I don’t know what to do</td>\n",
       "    </tr>\n",
       "    <tr>\n",
       "      <th>24172</th>\n",
       "      <td>binging more and more</td>\n",
       "      <td>support needed</td>\n",
       "      <td>I'm trying to stop alcohol with the support of my boyfriend but since I stopped drinking I've been binging much more and I don't control it at all, I'm terrified of telling him because he'll think I'm not trying and that I'm a lost cause, he's doing everything he can to help me and doesn't judge me but I'm so scared\\n\\nI just feel worthless and disgusting he says I'm not but gosh if he knew everything what's going on he would change his mind\\n\\nDid anyone else start binging more when trying to stop an addiction?</td>\n",
       "    </tr>\n",
       "    <tr>\n",
       "      <th>24173</th>\n",
       "      <td>scared to binge.</td>\n",
       "      <td>support needed</td>\n",
       "      <td>this is a bit of a vent. i had to stop taking vyvanse last month and have been having bad dreams about binging/ overall anxiety about binging. \\n\\natm i’m starting to get hungry for dinner but i’m putting off eating because i don’t want to trigger a binge, but i know allowing myself to get too hungry can also trigger one. \\n\\ni don’t really talk about this with anyone in my life so just wanted to post here with people that may relate.</td>\n",
       "    </tr>\n",
       "  </tbody>\n",
       "</table>\n",
       "<p>1551 rows × 3 columns</p>\n",
       "</div>"
      ],
      "text/plain": [
       "                                                            title  \\\n",
       "21                                    Helping out my girlfriend!!   \n",
       "23           Friend with ED won’t let people call her baby chubby   \n",
       "39              How do I become comfortable with socially eating?   \n",
       "44       does anyone have tips on trying to get out of a relapse?   \n",
       "72     Advice for someone about to start working in an ED clinic?   \n",
       "...                                                           ...   \n",
       "24139                                         Rewarding Ourselves   \n",
       "24163                                    Really really struggling   \n",
       "24167             I want to binge so bad! I’m in my car help pls!   \n",
       "24172                                       binging more and more   \n",
       "24173                                            scared to binge.   \n",
       "\n",
       "      link_flair_text  \\\n",
       "21           question   \n",
       "23           question   \n",
       "39           question   \n",
       "44           question   \n",
       "72           question   \n",
       "...               ...   \n",
       "24139   advice needed   \n",
       "24163  support needed   \n",
       "24167  support needed   \n",
       "24172  support needed   \n",
       "24173  support needed   \n",
       "\n",
       "                                                                                                                                                                                                                                                                                                                                                                                                                                                                                                                                                                                                                                                                                                                                                                                                                                                                                                                                                                                                                                                                                                                                                                                                                                                   selftext  \n",
       "21                                                                                                                                                                                                                                                                                                                                   alright, so, well i dont know how to phrase this well, but my girlfriend has been going through a tough time recently with a vv big relapse on her ED recovery journey, and its quite apparent that she finds it hard to recover again. she seems quite drained and tired from all of that, and she does not want to talk to a counsellor about it as she is afraid her parents would be informed. ive been trying my best to emotionally support her, just watch out for her and stuff like that! i encourage her to eat, but i dont force! same for recovery and all that... its quite emotionally draining for me too, but i can cope with that alright! so that is alright on my end... i just would like to know from all of you here, what motivated you to recover? how can a loved one best support someone suffering from an ED? what is something you wish someone would say or do when you are in recovery?  \n",
       "23                                                                                                                                                                                                                                                                                                                                                                                                                                                                                                                                                    I have a girlfriend who’s recovering. She had a baby last year and per her mom, it really bothers her if people call her baby chunky or chubby or comment on baby’s fat leg rolls. Also she took like one photo of herself while pregnant. \\nNow I’m not in the ED community or anything similar so I DO NOT want to upset or offend anyone but I just think this is ludicrous. I personally loved seeing pix of my mother glowing and pregnant with me. And babies ARE beautifully wonderfully perfectly chubby! \\nI just don’t understand at all but I’m not gonna say this to her. Just wondering if this is typical?\\nAgain I’m sorry if my thoughts on this upset you - that’s not my intention.  \n",
       "39     I’m recovering from BED and haven’t binged in probably six months. I’m proud of the progress I have made, but I’m still going through some mental anguish. This is mainly in regards to socially eating. So I have a group of friends that are foodies and basically want to go out to eat a lot. I love hanging out with them, but every time I hang out with them, the event revolves around food or going to a restaurant. Every time I go and eat with them, I feel immense guilt and self-hatred afterwards. Even if the food is super good, I still hate myself afterwards. My closest friend in that group has reassured me that it will be okay if I have a day where I eat good food. She has even said that life is too short for bad food. I want to feel empowered by that, but I just can’t. When I eat food at a restaurant, I can’t shake the feeling that I’m wrong and disgusting. I feel like I’m going to go back to my old ways and I’m just super negative in my head after I go out to eat with them. Also I feel like if I go and say no to food, people are going to ask me why and I just don’t feel like telling them a whole story. I love hanging out with them, but I don’t know what to do to resolve my bad emotions.  \n",
       "44                                                                                                                                                                                                                                                                                                I was diagnosed w OSFED (atypical anorexia) in 2021, and started treatment at the emily program, which i stopped at the end of last year (combo of no time or energy for therapy, cost, and i wasn’t the biggest fan of my therapist). while my eating habits have gotten very consistent and i am fine with most types of food, i do tend to binge occasionally (esp on super sugary foods) and am started to get somewhat fixated on what i’m eating like i used to. \\n\\ni’ve been trying to not get as caught up in it, and also just feed myself and buy snacks that are enjoyable but still healthy for me. but i’m wondering if people have tips on establishing regular eating patterns and also just not relapsing.\\n\\ni’m terrified of weight gain and though i haven’t decreased my food intake yet (i’ve started training for a half marathon so i’ve been eating well), i’m scared i will eventually get to that point.\\n\\nthank you so much!  \n",
       "72                                                                                                                                                                                                                                                                                                                                                                                                                                                                                                                                                              Hi everyone!  Like the title says, I'm about to start a job in an inpatient ED clinic (I'm currently working in the same psych hospital so I'm familiar with inpatient treatment but not the ED unit in particular).  I don't have much personal experience with eating disorders but obviously I want to not screw this up.  I was wondering if any of you lovely people who have had experience with inpatient treatment (or other intensive treatment) have any tips/advice?  As in, was there anything particularly helpful or therapeutic for you (or not helpful, that you wish staff had done differently)?  No pressure to answer this of course, but any insight is appreciated :)  \n",
       "...                                                                                                                                                                                                                                                                                                                                                                                                                                                                                                                                                                                                                                                                                                                                                                                                                                                                                                                                                                                                                                                                                                                                                                                                                                                     ...  \n",
       "24139                                                                                                                                                                                                                                                                                                                                                                                                                                                                                                                                                                                                                                                                                                   So for me a binge would be almost like a reward to me - I don't know if that's because I've Self Harmed since I was very young and saw harm as a good thing, like I deserved it  or because we got Cake on special occasions maybe. I don't know. But for me bingeing is the reward, purging or restricting was punishment. So I've worked on that A lot. I'm definitely not seeing it as a reward but I miss that connection with food if that makes sense. Right now I'm reward craving so badly but have nothing to fill that crave, any advice?  \n",
       "24163                                                                                                                                                                                                                                                                                                                                                                                                                                                                                      The past week, i have been so so bad at binging, eating to the point i feel so sick, even when i am not hungry. I eat because i am stressed. \\n\\nI have bpd, and i thought i was doing awesome in coping, because i realised, i hadnt been getting super anxious anymore and spiralling much.... till i realised instead, ive been binging :(   \\nYet, 5 mins of feeling sick, i want to eat again!!! I think i have eaten more i the past week than i have the past month. \\n\\nI dont have my next therapy session until end of Jan, so i am trying to reach out to get any tips anyone has that have successfully worked. Unfortunately, i also have chronic fatigue syndrome so tips of exercise whilst i try and do what i can, i am housebound quite a lot.  \n",
       "24167                                                                                                                                                                                                                                                                                                                                                                                                                                                                                                                                                                                                                                                                                                                                                                                                                                                                                                                                                                                                                                                                                                      K don’t know what’s wrong with me I already binged today and I should feel full but I don’t feel anything in my stomach! I don’t know what to do  \n",
       "24172                                                                                                                                                                                                                                                                                                                                                                                                                                                                                                                                                                                                                                                                                                                 I'm trying to stop alcohol with the support of my boyfriend but since I stopped drinking I've been binging much more and I don't control it at all, I'm terrified of telling him because he'll think I'm not trying and that I'm a lost cause, he's doing everything he can to help me and doesn't judge me but I'm so scared\\n\\nI just feel worthless and disgusting he says I'm not but gosh if he knew everything what's going on he would change his mind\\n\\nDid anyone else start binging more when trying to stop an addiction?  \n",
       "24173                                                                                                                                                                                                                                                                                                                                                                                                                                                                                                                                                                                                                                                                                                                                                                                                this is a bit of a vent. i had to stop taking vyvanse last month and have been having bad dreams about binging/ overall anxiety about binging. \\n\\natm i’m starting to get hungry for dinner but i’m putting off eating because i don’t want to trigger a binge, but i know allowing myself to get too hungry can also trigger one. \\n\\ni don’t really talk about this with anyone in my life so just wanted to post here with people that may relate.  \n",
       "\n",
       "[1551 rows x 3 columns]"
      ]
     },
     "execution_count": 76,
     "metadata": {},
     "output_type": "execute_result"
    }
   ],
   "source": [
    "get_analysis_info(filtered_df, \"uncertain\")"
   ]
  }
 ],
 "metadata": {
  "kernelspec": {
   "display_name": "Python 3 (ipykernel)",
   "language": "python",
   "name": "python3"
  },
  "language_info": {
   "codemirror_mode": {
    "name": "ipython",
    "version": 3
   },
   "file_extension": ".py",
   "mimetype": "text/x-python",
   "name": "python",
   "nbconvert_exporter": "python",
   "pygments_lexer": "ipython3",
   "version": "3.8.16"
  }
 },
 "nbformat": 4,
 "nbformat_minor": 5
}
