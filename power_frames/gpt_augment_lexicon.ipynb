{
 "cells": [
  {
   "cell_type": "code",
   "execution_count": 27,
   "metadata": {},
   "outputs": [],
   "source": [
    "import openai\n",
    "import random\n",
    "import numpy as np\n",
    "import pandas as pd\n",
    "\n",
    "from numpy import nan\n",
    "from sklearn.metrics.pairwise import cosine_similarity\n",
    "from sklearn.model_selection import train_test_split\n",
    "\n",
    "from nltk import WordNetLemmatizer\n",
    "LEMMATIZER = WordNetLemmatizer()"
   ]
  },
  {
   "cell_type": "code",
   "execution_count": 132,
   "metadata": {},
   "outputs": [],
   "source": [
    "import json"
   ]
  },
  {
   "cell_type": "code",
   "execution_count": 2,
   "metadata": {},
   "outputs": [],
   "source": [
    "glove_path = 'data/glove.6B.300d.txt'\n",
    "missing_verbs_path = 'data/missing_verbs.txt'\n",
    "lexicon_path = 'FramesAgencyPower/agency_power.csv'"
   ]
  },
  {
   "cell_type": "code",
   "execution_count": 3,
   "metadata": {},
   "outputs": [],
   "source": [
    "def load_glove(glove_file):\n",
    "    \"\"\"Load GloVe vectors in numpy array\"\"\"\n",
    "    with open(glove_file, 'r') as f:\n",
    "        model = {}\n",
    "        for line in f:\n",
    "            split_line = line.split()\n",
    "            word = split_line[0]\n",
    "            embedding = np.array([float(val) for val in split_line[1:]])\n",
    "            model[word] = embedding\n",
    "    return model"
   ]
  },
  {
   "cell_type": "code",
   "execution_count": 4,
   "metadata": {},
   "outputs": [],
   "source": [
    "# find k examples from lexicon which are similar to given word (to be used as demonstrations to GPT);\n",
    "# will use cosine similarity between glove embeddings\n",
    "def find_k_similar_words(word: str, lexicon: dict, glove_embeddings: dict, k=5):\n",
    "    if word in glove_embeddings:\n",
    "        word_embedding = glove_embeddings[word]\n",
    "        similarities = []\n",
    "        for lexicon_word in lexicon:\n",
    "            if lexicon_word in glove_embeddings:\n",
    "                lexicon_word_embedding = glove_embeddings[lexicon_word]\n",
    "                similarity = cosine_similarity([word_embedding], [lexicon_word_embedding])[0][0]\n",
    "                similarities.append((lexicon_word, similarity))\n",
    "        \n",
    "        similarities.sort(key=lambda x: x[1], reverse=True)\n",
    "        return [x[0] for x in similarities[:k]]\n",
    "    \n",
    "    # if word not in glove embeddings, return k random words from lexicon\n",
    "    else:\n",
    "        return random.choices(list(lexicon.keys()), k=k)\n",
    "    "
   ]
  },
  {
   "cell_type": "code",
   "execution_count": 5,
   "metadata": {},
   "outputs": [],
   "source": [
    "def get_formatted_prompt(word: str, examples: list, lexicon: dict) -> str:\n",
    "    examples_str = ''\n",
    "    for example in examples:\n",
    "        examples_str += \"{'\" + example + \"': \" + str(lexicon[example]) + '}\\n'\n",
    "    \n",
    "    prompt = f\"\"\"I will give you a verb, and you will assign it two labels.\n",
    "The first label represents the agency that the verb gives its grammatical subject. This label can be one of the following:\n",
    "    \"agency_pos\": the verb gives its subject agency, \n",
    "    \"agency_neg\": the verb takes away agency from its subject,\n",
    "    \"agency_equal\": the verb does not affect the agency of its subject.\n",
    "\n",
    "The second label represents whether the verb gives power to its subject, object, or both. This label is only defined for transitive verbs. This label can be one of the following:\n",
    "    \"power_agent\": the verb gives power to its subject,\n",
    "    \"power_theme\": the verb gives power to its object,\n",
    "    \"power_equal\": the verb does not affect the power of its subject or object, or it affects both equally.\n",
    "    \"nan\": the verb is intransitive, so power is not defined.\n",
    "\n",
    "Here are some examples of verbs and their labels:\n",
    "{examples_str}\n",
    "Now, please label the following verb: {word}\n",
    "\n",
    "Format your answer as a JSON object in the same format as the examples above.\n",
    "\n",
    "Answer: \"\"\"\n",
    "\n",
    "    return prompt\n"
   ]
  },
  {
   "attachments": {},
   "cell_type": "markdown",
   "metadata": {},
   "source": [
    "Have chatgpt classify which missing 'verbs' are actually verbs (because the spacy parser isn't totally accurate)"
   ]
  },
  {
   "cell_type": "code",
   "execution_count": 85,
   "metadata": {},
   "outputs": [],
   "source": [
    "with open('data/missing_verbs.txt', 'r') as f:\n",
    "    missing_verbs = f.read().splitlines()"
   ]
  },
  {
   "cell_type": "code",
   "execution_count": 122,
   "metadata": {},
   "outputs": [
    {
     "data": {
      "text/plain": [
       "2625"
      ]
     },
     "execution_count": 122,
     "metadata": {},
     "output_type": "execute_result"
    }
   ],
   "source": [
    "len(missing_verbs)"
   ]
  },
  {
   "cell_type": "code",
   "execution_count": 124,
   "metadata": {},
   "outputs": [
    {
     "name": "stdout",
     "output_type": "stream",
     "text": [
      "688 689 690 691 692 error\n",
      "692 693 694 695 696 697 698 699 700 701 702 703 704 705 706 707 708 709 710 711 712 713 714 715 716 717 718 719 720 721 722 723 724 725 726 727 728 729 730 731 732 733 734 735 736 737 738 739 740 741 742 743 744 error\n",
      "744 745 746 747 748 749 750 751 752 753 754 755 756 757 758 759 760 761 762 763 764 765 766 767 768 769 770 771 772 773 774 775 776 777 778 779 780 781 782 783 784 785 786 787 788 789 790 791 792 793 794 795 796 797 798 799 800 801 802 803 804 805 806 807 808 809 810 811 812 813 814 815 816 817 818 819 820 821 822 823 824 error\n",
      "824 825 826 827 828 829 830 831 832 833 834 835 836 837 838 839 840 841 842 843 844 845 846 847 848 849 850 851 852 853 854 855 856 857 858 859 860 861 862 863 864 865 866 867 868 869 870 871 872 873 874 875 876 877 878 879 880 881 882 883 884 885 886 887 888 889 890 891 892 893 894 895 896 897 898 899 900 901 902 903 904 905 906 907 908 909 910 911 912 913 914 915 916 917 918 919 920 921 922 923 924 925 926 927 928 929 930 931 932 933 934 935 936 937 938 939 940 941 942 943 944 945 946 947 error\n",
      "947 948 949 950 951 952 953 954 955 956 957 958 959 960 961 962 963 964 965 966 967 968 969 970 971 972 973 974 975 976 977 978 979 980 981 982 983 984 985 986 987 988 989 990 991 992 993 994 995 996 997 998 999 1000 1001 1002 1003 1004 1005 1006 1007 1008 1009 1010 1011 1012 1013 1014 1015 1016 1017 1018 1019 1020 1021 1022 1023 1024 1025 1026 1027 1028 1029 1030 1031 1032 1033 1034 1035 1036 1037 1038 1039 1040 1041 1042 1043 1044 1045 1046 1047 1048 1049 1050 1051 1052 1053 1054 1055 1056 1057 1058 1059 1060 1061 1062 1063 1064 1065 1066 1067 1068 1069 1070 1071 1072 error\n",
      "1072 1073 1074 1075 1076 1077 1078 1079 1080 1081 1082 1083 1084 1085 1086 1087 1088 1089 1090 1091 1092 1093 1094 1095 1096 1097 1098 1099 1100 1101 1102 1103 1104 1105 1106 1107 1108 1109 1110 1111 1112 1113 1114 1115 1116 1117 1118 1119 1120 1121 1122 1123 1124 1125 1126 1127 1128 1129 1130 1131 1132 1133 1134 1135 1136 1137 1138 1139 1140 1141 1142 1143 1144 1145 1146 1147 1148 1149 1150 1151 1152 1153 1154 1155 1156 1157 1158 1159 1160 1161 1162 1163 1164 1165 1166 1167 1168 1169 1170 1171 1172 1173 1174 1175 1176 1177 1178 1179 1180 1181 1182 1183 1184 1185 1186 1187 1188 1189 1190 1191 1192 1193 1194 1195 1196 1197 1198 1199 1200 1201 1202 1203 1204 1205 1206 1207 1208 1209 1210 1211 1212 1213 1214 1215 1216 1217 1218 1219 1220 1221 1222 1223 1224 1225 1226 1227 1228 1229 1230 1231 1232 1233 1234 1235 1236 1237 1238 1239 1240 1241 1242 1243 1244 1245 1246 1247 1248 1249 1250 1251 1252 1253 1254 1255 1256 1257 1258 1259 1260 1261 1262 1263 1264 1265 1266 1267 1268 1269 error\n",
      "1269 1270 1271 1272 1273 1274 1275 1276 1277 1278 1279 1280 1281 1282 1283 1284 1285 1286 1287 1288 1289 1290 1291 1292 1293 1294 1295 1296 1297 1298 1299 1300 1301 1302 1303 1304 1305 1306 1307 1308 1309 1310 1311 1312 1313 1314 1315 1316 1317 1318 1319 1320 1321 1322 1323 1324 1325 1326 1327 1328 1329 1330 1331 1332 1333 1334 1335 1336 error\n",
      "1336 1337 1338 1339 1340 1341 1342 1343 1344 1345 1346 1347 1348 1349 1350 1351 1352 1353 1354 1355 1356 1357 1358 1359 1360 1361 1362 1363 1364 1365 1366 1367 1368 1369 1370 1371 1372 1373 1374 1375 1376 1377 1378 1379 1380 1381 1382 1383 1384 1385 1386 1387 1388 1389 1390 1391 1392 1393 1394 1395 1396 1397 1398 1399 1400 1401 1402 1403 1404 1405 1406 error\n",
      "1406 1407 1408 1409 1410 1411 1412 1413 1414 1415 1416 1417 1418 1419 1420 1421 1422 1423 1424 1425 1426 1427 1428 1429 1430 1431 1432 1433 1434 1435 1436 1437 1438 1439 1440 1441 1442 error\n",
      "1442 1443 1444 1445 1446 1447 1448 1449 1450 1451 1452 1453 1454 1455 1456 1457 1458 1459 1460 1461 1462 1463 1464 1465 1466 1467 1468 1469 1470 1471 1472 1473 1474 1475 1476 1477 1478 1479 1480 1481 1482 1483 1484 1485 1486 1487 1488 1489 1490 1491 1492 1493 1494 1495 1496 1497 1498 1499 1500 1501 1502 1503 1504 1505 1506 1507 1508 1509 1510 1511 1512 1513 1514 1515 1516 1517 1518 1519 1520 1521 1522 1523 1524 1525 1526 1527 1528 1529 1530 1531 1532 1533 1534 1535 1536 1537 1538 1539 1540 1541 1542 1543 1544 1545 1546 1547 1548 1549 1550 1551 1552 1553 1554 1555 1556 1557 1558 1559 1560 1561 1562 1563 1564 1565 1566 1567 1568 1569 1570 1571 1572 1573 1574 1575 1576 1577 1578 1579 1580 1581 1582 1583 1584 1585 1586 1587 1588 1589 1590 1591 1592 1593 1594 1595 1596 1597 1598 1599 1600 1601 1602 1603 1604 1605 1606 1607 1608 1609 1610 1611 1612 1613 1614 1615 1616 1617 1618 1619 1620 1621 1622 1623 1624 1625 1626 1627 1628 1629 1630 1631 1632 1633 1634 1635 1636 1637 1638 1639 1640 1641 1642 1643 1644 1645 1646 1647 1648 1649 error\n",
      "1649 1650 1651 1652 1653 1654 1655 1656 1657 1658 1659 1660 1661 1662 1663 1664 1665 1666 1667 1668 1669 1670 1671 1672 1673 1674 1675 1676 1677 1678 1679 1680 1681 1682 1683 1684 1685 1686 1687 1688 1689 1690 1691 1692 1693 1694 1695 1696 1697 1698 1699 1700 error\n",
      "1700 1701 1702 1703 1704 1705 1706 1707 1708 1709 1710 1711 1712 1713 1714 1715 1716 1717 1718 1719 1720 1721 1722 1723 1724 1725 1726 1727 1728 1729 1730 1731 1732 1733 1734 1735 1736 1737 1738 1739 1740 1741 1742 1743 1744 1745 1746 1747 error\n",
      "1747 1748 1749 1750 1751 1752 1753 1754 1755 1756 1757 1758 1759 1760 1761 1762 1763 1764 1765 1766 1767 1768 1769 1770 1771 1772 1773 1774 1775 1776 1777 1778 1779 1780 1781 1782 1783 1784 1785 1786 1787 1788 1789 1790 1791 1792 1793 1794 1795 1796 1797 1798 1799 1800 1801 1802 1803 1804 1805 1806 1807 1808 1809 1810 1811 1812 1813 1814 1815 1816 1817 1818 1819 1820 1821 1822 1823 error\n",
      "1823 1824 1825 1826 1827 1828 1829 1830 1831 1832 1833 1834 1835 1836 1837 1838 1839 1840 1841 1842 1843 1844 1845 1846 1847 1848 1849 1850 1851 1852 error\n",
      "1852 1853 1854 1855 1856 1857 1858 1859 1860 1861 1862 1863 1864 1865 1866 1867 1868 1869 1870 1871 1872 1873 1874 1875 1876 1877 1878 1879 1880 1881 1882 1883 1884 1885 1886 1887 1888 1889 1890 1891 1892 1893 1894 1895 1896 1897 1898 1899 1900 1901 1902 1903 1904 1905 1906 1907 1908 1909 1910 1911 1912 1913 1914 1915 1916 1917 1918 1919 1920 1921 1922 1923 1924 1925 1926 1927 1928 1929 1930 1931 1932 1933 1934 1935 1936 1937 1938 1939 1940 1941 1942 1943 1944 1945 1946 1947 1948 1949 1950 1951 1952 1953 1954 1955 1956 1957 1958 1959 1960 1961 1962 1963 1964 1965 1966 1967 1968 1969 1970 1971 1972 1973 1974 1975 1976 1977 1978 1979 1980 1981 1982 1983 1984 1985 1986 1987 1988 1989 1990 1991 1992 1993 1994 1995 1996 1997 1998 1999 2000 2001 2002 2003 2004 2005 2006 2007 2008 2009 2010 2011 2012 2013 2014 2015 2016 2017 2018 2019 2020 2021 2022 2023 2024 2025 2026 2027 2028 2029 2030 2031 2032 2033 2034 2035 2036 2037 2038 2039 2040 2041 2042 2043 2044 2045 2046 2047 2048 2049 2050 2051 2052 2053 2054 2055 2056 2057 2058 2059 2060 2061 2062 2063 2064 2065 2066 2067 2068 2069 2070 2071 2072 2073 2074 2075 2076 2077 2078 2079 2080 2081 2082 2083 2084 2085 2086 2087 2088 2089 2090 2091 2092 2093 2094 2095 2096 2097 2098 error\n",
      "2098 2099 2100 2101 2102 2103 2104 2105 2106 2107 2108 2109 2110 2111 2112 2113 2114 2115 2116 error\n",
      "2116 2117 2118 2119 2120 2121 2122 2123 2124 2125 2126 2127 2128 2129 2130 2131 2132 2133 2134 2135 2136 2137 2138 2139 2140 2141 2142 2143 2144 2145 2146 2147 2148 2149 2150 2151 2152 2153 2154 2155 2156 2157 2158 2159 2160 2161 2162 2163 2164 2165 2166 2167 2168 2169 2170 2171 2172 2173 2174 2175 2176 2177 2178 2179 2180 2181 2182 2183 2184 2185 2186 2187 2188 2189 2190 2191 2192 2193 2194 2195 2196 error\n",
      "2196 2197 2198 2199 2200 2201 2202 error\n",
      "2202 2203 2204 2205 2206 2207 2208 2209 2210 2211 2212 2213 2214 2215 2216 2217 2218 2219 2220 2221 2222 2223 2224 2225 2226 2227 2228 2229 2230 2231 2232 2233 2234 2235 2236 2237 2238 2239 2240 2241 2242 2243 2244 2245 2246 2247 2248 2249 2250 2251 2252 2253 2254 2255 2256 2257 error\n",
      "2257 2258 2259 2260 2261 2262 2263 2264 2265 2266 2267 2268 2269 2270 2271 2272 2273 2274 2275 2276 2277 2278 2279 2280 2281 2282 2283 2284 2285 2286 2287 2288 2289 2290 2291 2292 2293 2294 2295 2296 2297 2298 2299 2300 error\n",
      "2300 2301 2302 2303 2304 2305 2306 2307 2308 2309 2310 2311 2312 2313 2314 2315 2316 2317 2318 2319 2320 2321 2322 2323 2324 2325 2326 2327 2328 2329 2330 2331 2332 2333 2334 2335 2336 2337 2338 2339 2340 2341 2342 2343 2344 2345 2346 2347 2348 2349 2350 2351 2352 2353 2354 2355 2356 2357 2358 2359 2360 2361 2362 2363 2364 2365 2366 2367 2368 2369 2370 2371 2372 2373 2374 2375 2376 2377 2378 2379 2380 2381 2382 2383 2384 2385 2386 2387 2388 2389 2390 2391 2392 2393 2394 2395 2396 2397 2398 2399 2400 2401 2402 2403 2404 2405 2406 2407 2408 2409 2410 2411 2412 2413 2414 2415 2416 2417 2418 2419 2420 2421 2422 2423 2424 2425 2426 2427 2428 2429 2430 2431 2432 2433 2434 2435 2436 2437 2438 2439 2440 2441 2442 2443 2444 2445 2446 2447 2448 2449 2450 2451 2452 2453 2454 2455 2456 2457 2458 2459 2460 2461 2462 2463 2464 2465 2466 2467 2468 2469 2470 2471 2472 2473 2474 2475 2476 2477 2478 2479 2480 2481 2482 2483 2484 2485 2486 2487 2488 2489 2490 2491 2492 2493 2494 2495 2496 2497 2498 2499 2500 2501 2502 2503 2504 2505 2506 2507 2508 2509 2510 2511 2512 2513 2514 2515 2516 2517 2518 2519 2520 2521 2522 2523 2524 2525 2526 2527 2528 2529 2530 2531 2532 2533 2534 2535 2536 2537 2538 2539 2540 2541 2542 2543 2544 2545 2546 2547 2548 2549 2550 2551 2552 2553 2554 2555 2556 2557 2558 2559 2560 2561 2562 2563 2564 2565 2566 2567 2568 2569 2570 2571 2572 2573 2574 error\n",
      "2574 2575 2576 2577 2578 2579 2580 2581 2582 2583 2584 2585 2586 2587 2588 2589 2590 2591 2592 2593 2594 2595 2596 2597 2598 2599 2600 error\n",
      "2600 2601 2602 2603 2604 2605 2606 2607 2608 2609 2610 2611 2612 2613 2614 2615 2616 2617 2618 2619 2620 2621 2622 2623 2624 "
     ]
    }
   ],
   "source": [
    "temperature = 0.0\n",
    "p = 0.0\n",
    "responses = {}\n",
    "i = 688\n",
    "    \n",
    "while i < len(missing_verbs):\n",
    "    responses = {}\n",
    "    \n",
    "    for verb in missing_verbs[i:]:\n",
    "        print(i, end=' ')\n",
    "        prompt = f'Can the word \"{verb}\" be used as a verb? Give a one word, yes or no answer.'\n",
    "        \n",
    "        try:\n",
    "            response = openai.ChatCompletion.create(\n",
    "                        model=\"gpt-3.5-turbo\",\n",
    "                        n=1,\n",
    "                        #temperature=temperature,\n",
    "                        top_p=p,\n",
    "                        messages=[\n",
    "                            {\"role\": \"user\", \"content\": prompt}]\n",
    "                        )\n",
    "            responses[verb] = response.choices[0].message.content\n",
    "            i += 1\n",
    "        except:\n",
    "            print('error')\n",
    "            old_responses.update(responses)\n",
    "            break\n",
    "    "
   ]
  },
  {
   "cell_type": "code",
   "execution_count": 126,
   "metadata": {},
   "outputs": [
    {
     "data": {
      "text/plain": [
       "25"
      ]
     },
     "execution_count": 126,
     "metadata": {},
     "output_type": "execute_result"
    }
   ],
   "source": [
    "len(responses)"
   ]
  },
  {
   "cell_type": "code",
   "execution_count": 129,
   "metadata": {},
   "outputs": [
    {
     "data": {
      "text/plain": [
       "['bitch',\n",
       " 'eke',\n",
       " 'insights',\n",
       " 'channel',\n",
       " 'texted',\n",
       " 'wretched',\n",
       " 'keeo',\n",
       " 'undereat',\n",
       " 'trading',\n",
       " 'trek',\n",
       " 'psyches',\n",
       " 'debunking',\n",
       " 'morose',\n",
       " 'veggie',\n",
       " 'helpful',\n",
       " 'certify',\n",
       " 'upchuck',\n",
       " 'undiagnosed',\n",
       " 'wnt',\n",
       " 'smh',\n",
       " 'suicidal',\n",
       " 'thanking',\n",
       " 'life',\n",
       " 'seep',\n",
       " 'happier']"
      ]
     },
     "execution_count": 129,
     "metadata": {},
     "output_type": "execute_result"
    }
   ],
   "source": [
    "missing_verbs[-25:]"
   ]
  },
  {
   "cell_type": "code",
   "execution_count": 127,
   "metadata": {},
   "outputs": [
    {
     "data": {
      "text/plain": [
       "{'bitch': 'Yes.',\n",
       " 'eke': 'Yes.',\n",
       " 'insights': 'No.',\n",
       " 'channel': 'Yes.',\n",
       " 'texted': 'Yes.',\n",
       " 'wretched': 'No.',\n",
       " 'keeo': 'No.',\n",
       " 'undereat': 'Yes.',\n",
       " 'trading': 'Yes.',\n",
       " 'trek': 'Yes.',\n",
       " 'psyches': 'No.',\n",
       " 'debunking': 'Yes.',\n",
       " 'morose': 'No.',\n",
       " 'veggie': 'No.',\n",
       " 'helpful': 'No.',\n",
       " 'certify': 'Yes.',\n",
       " 'upchuck': 'Yes.',\n",
       " 'undiagnosed': 'No.',\n",
       " 'wnt': 'No.',\n",
       " 'smh': 'No.',\n",
       " 'suicidal': 'No.',\n",
       " 'thanking': 'Yes.',\n",
       " 'life': 'No.',\n",
       " 'seep': 'Yes.',\n",
       " 'happier': 'No.'}"
      ]
     },
     "execution_count": 127,
     "metadata": {},
     "output_type": "execute_result"
    }
   ],
   "source": [
    "responses"
   ]
  },
  {
   "cell_type": "code",
   "execution_count": 91,
   "metadata": {},
   "outputs": [],
   "source": [
    "#old_responses = responses"
   ]
  },
  {
   "cell_type": "code",
   "execution_count": 130,
   "metadata": {},
   "outputs": [],
   "source": [
    "old_responses.update(responses)"
   ]
  },
  {
   "cell_type": "code",
   "execution_count": 131,
   "metadata": {},
   "outputs": [
    {
     "data": {
      "text/plain": [
       "2625"
      ]
     },
     "execution_count": 131,
     "metadata": {},
     "output_type": "execute_result"
    }
   ],
   "source": [
    "len(old_responses)"
   ]
  },
  {
   "cell_type": "code",
   "execution_count": null,
   "metadata": {},
   "outputs": [],
   "source": [
    "old_responses"
   ]
  },
  {
   "cell_type": "code",
   "execution_count": 123,
   "metadata": {},
   "outputs": [],
   "source": [
    "backup = old_responses.copy()"
   ]
  },
  {
   "cell_type": "code",
   "execution_count": 133,
   "metadata": {},
   "outputs": [],
   "source": [
    "with open('data/missing_verbs_responses.json', 'w') as f:\n",
    "    json.dump(old_responses, f, indent=4)"
   ]
  },
  {
   "cell_type": "code",
   "execution_count": 136,
   "metadata": {},
   "outputs": [
    {
     "data": {
      "text/plain": [
       "(array(['No.', 'Yes.'], dtype='<U4'), array([1193, 1432]))"
      ]
     },
     "execution_count": 136,
     "metadata": {},
     "output_type": "execute_result"
    }
   ],
   "source": [
    "np.unique(list(old_responses.values()), return_counts=True)"
   ]
  },
  {
   "cell_type": "code",
   "execution_count": 137,
   "metadata": {},
   "outputs": [],
   "source": [
    "only_verbs = [verb for verb in old_responses if old_responses[verb] == 'Yes.']"
   ]
  },
  {
   "cell_type": "code",
   "execution_count": 139,
   "metadata": {},
   "outputs": [
    {
     "data": {
      "text/plain": [
       "'slap'"
      ]
     },
     "execution_count": 139,
     "metadata": {},
     "output_type": "execute_result"
    }
   ],
   "source": [
    "LEMMATIZER.lemmatize('slapped', pos='v').lower()"
   ]
  },
  {
   "cell_type": "code",
   "execution_count": 140,
   "metadata": {},
   "outputs": [],
   "source": [
    "with open('data/missing_verbs_only.txt', 'w') as f:\n",
    "    f.write('\\n'.join(only_verbs))\n",
    "with open('data/missing_verbs_only_lemmatized.txt', 'w') as f:\n",
    "    f.write('\\n'.join([LEMMATIZER.lemmatize(verb, pos='v').lower() for verb in only_verbs]))"
   ]
  },
  {
   "attachments": {},
   "cell_type": "markdown",
   "metadata": {},
   "source": [
    "Load the agency power lexicon"
   ]
  },
  {
   "cell_type": "code",
   "execution_count": 6,
   "metadata": {},
   "outputs": [],
   "source": [
    "lexicon_df = pd.read_csv(lexicon_path)\n",
    "\n",
    "# replace verb column with lemmas\n",
    "lexicon_df['verb'] = lexicon_df['verb'].apply(lambda x: LEMMATIZER.lemmatize(x, pos='v').lower())\n",
    "\n",
    "# conver to dict\n",
    "lexicon = {}\n",
    "for i, row in lexicon_df.iterrows():\n",
    "    verb = row['verb']\n",
    "    agency = row['agency']\n",
    "    power = row['power']\n",
    "\n",
    "    lexicon[verb] = {'agency': agency, 'power': power}"
   ]
  },
  {
   "attachments": {},
   "cell_type": "markdown",
   "metadata": {},
   "source": [
    "Load the verbs missing from the power agency lexicon"
   ]
  },
  {
   "cell_type": "code",
   "execution_count": 7,
   "metadata": {},
   "outputs": [],
   "source": [
    "with open(missing_verbs_path, 'r') as f:\n",
    "    missing_verbs = f.read().split('\\n')"
   ]
  },
  {
   "attachments": {},
   "cell_type": "markdown",
   "metadata": {},
   "source": [
    "Load glove embeddings"
   ]
  },
  {
   "cell_type": "code",
   "execution_count": 8,
   "metadata": {},
   "outputs": [],
   "source": [
    "glove_embeddings = load_glove(glove_path)"
   ]
  },
  {
   "attachments": {},
   "cell_type": "markdown",
   "metadata": {},
   "source": [
    "Have chatgpt label the missing verbs"
   ]
  },
  {
   "cell_type": "code",
   "execution_count": 42,
   "metadata": {},
   "outputs": [],
   "source": [
    "missing_verb = missing_verbs[0]\n",
    "examples = find_k_similar_words(missing_verb, lexicon, glove_embeddings, k=10)"
   ]
  },
  {
   "cell_type": "code",
   "execution_count": 43,
   "metadata": {},
   "outputs": [
    {
     "data": {
      "text/plain": [
       "['anger',\n",
       " 'fear',\n",
       " 'disgust',\n",
       " 'envy',\n",
       " 'arouse',\n",
       " 'concern',\n",
       " 'provoke',\n",
       " 'desire',\n",
       " 'resent',\n",
       " 'regret']"
      ]
     },
     "execution_count": 43,
     "metadata": {},
     "output_type": "execute_result"
    }
   ],
   "source": [
    "examples"
   ]
  },
  {
   "cell_type": "code",
   "execution_count": 40,
   "metadata": {},
   "outputs": [
    {
     "name": "stdout",
     "output_type": "stream",
     "text": [
      "{'sentence': {'agency': 'agency_pos', 'power': 'power_agent'}}\n",
      "{'jog': {'agency': 'agency_pos', 'power': nan}}\n",
      "{'travel': {'agency': 'agency_pos', 'power': 'power_agent'}}\n",
      "{'pardon': {'agency': 'agency_pos', 'power': 'power_agent'}}\n",
      "{'stroll': {'agency': 'agency_equal', 'power': nan}}\n",
      "{'terminate': {'agency': 'agency_pos', 'power': 'power_agent'}}\n",
      "{'taxis': {'agency': 'agency_pos', 'power': nan}}\n",
      "{'hike': {'agency': 'agency_equal', 'power': 'power_equal'}}\n",
      "{'trip': {'agency': 'agency_pos', 'power': 'power_agent'}}\n",
      "{'endure': {'agency': 'agency_neg', 'power': 'power_theme'}}\n"
     ]
    }
   ],
   "source": [
    "for example in examples:\n",
    "    print( \"{'\" + example + \"': \" + str(lexicon[example]) + '}')"
   ]
  },
  {
   "cell_type": "code",
   "execution_count": 44,
   "metadata": {},
   "outputs": [
    {
     "name": "stdout",
     "output_type": "stream",
     "text": [
      "I will give you a verb, and you will assign it two labels.\n",
      "The first label represents the agency that the verb gives its grammatical subject. This label can be one of the following:\n",
      "    \"agency_pos\": the verb gives its subject agency, \n",
      "    \"agency_neg\": the verb takes away agency from its subject,\n",
      "    \"agency_equal\": the verb does not affect the agency of its subject.\n",
      "\n",
      "The second label represents whether the verb gives power to its subject, object, or both. This label is only defined for transitive verbs. This label can be one of the following:\n",
      "    \"power_agent\": the verb gives power to its subject,\n",
      "    \"power_theme\": the verb gives power to its object,\n",
      "    \"power_equal\": the verb does not affect the power of its subject or object, or it affects both equally.\n",
      "    \"nan\": the verb is intransitive, so power is not defined.\n",
      "\n",
      "Here are some examples of verbs and their labels:\n",
      "{'anger': {'agency': 'agency_equal', 'power': 'power_equal'}}\n",
      "{'fear': {'agency': 'agency_neg', 'power': 'power_theme'}}\n",
      "{'disgust': {'agency': 'agency_neg', 'power': 'power_equal'}}\n",
      "{'envy': {'agency': 'agency_equal', 'power': 'power_theme'}}\n",
      "{'arouse': {'agency': 'agency_pos', 'power': 'power_agent'}}\n",
      "{'concern': {'agency': 'agency_equal', 'power': 'power_equal'}}\n",
      "{'provoke': {'agency': 'agency_pos', 'power': 'power_equal'}}\n",
      "{'desire': {'agency': 'agency_neg', 'power': 'power_theme'}}\n",
      "{'resent': {'agency': 'agency_neg', 'power': 'power_theme'}}\n",
      "{'regret': {'agency': 'agency_neg', 'power': 'power_theme'}}\n",
      "\n",
      "Now, please label the following verb: resentment\n",
      "\n",
      "Format your answer as a JSON object in the same format as the examples above.\n",
      "\n",
      "Answer: \n"
     ]
    }
   ],
   "source": [
    "print(get_formatted_prompt(missing_verb, examples, lexicon))"
   ]
  },
  {
   "attachments": {},
   "cell_type": "markdown",
   "metadata": {},
   "source": [
    "Test chatgpt's accuracy on subset of the lexicon"
   ]
  },
  {
   "cell_type": "code",
   "execution_count": 9,
   "metadata": {},
   "outputs": [],
   "source": [
    "train, test = train_test_split(lexicon_df, test_size=0.2, random_state=42)"
   ]
  },
  {
   "cell_type": "code",
   "execution_count": 10,
   "metadata": {},
   "outputs": [],
   "source": [
    "train_dict = {}\n",
    "test_dict = {}\n",
    "\n",
    "for i, row in train.iterrows():\n",
    "    verb = row['verb']\n",
    "    agency = row['agency']\n",
    "    power = row['power']\n",
    "\n",
    "    train_dict[verb] = {'agency': agency, 'power': power}\n",
    "\n",
    "for i, row in test.iterrows():\n",
    "    verb = row['verb']\n",
    "    agency = row['agency']\n",
    "    power = row['power']\n",
    "\n",
    "    test_dict[verb] = {'agency': agency, 'power': power}"
   ]
  },
  {
   "cell_type": "code",
   "execution_count": 30,
   "metadata": {},
   "outputs": [
    {
     "data": {
      "text/plain": [
       "(1718, 431)"
      ]
     },
     "execution_count": 30,
     "metadata": {},
     "output_type": "execute_result"
    }
   ],
   "source": [
    "len(train_dict), len(test_dict)"
   ]
  },
  {
   "cell_type": "code",
   "execution_count": 11,
   "metadata": {},
   "outputs": [],
   "source": [
    "gpt_prompts = {}\n",
    "for verb in test_dict:\n",
    "    examples = find_k_similar_words(verb, train_dict, glove_embeddings, k=10)\n",
    "    prompt = get_formatted_prompt(verb, examples, train_dict)\n",
    "    gpt_prompts[verb] = prompt"
   ]
  },
  {
   "cell_type": "code",
   "execution_count": 13,
   "metadata": {},
   "outputs": [],
   "source": [
    "# save prompts as json\n",
    "import json\n",
    "with open('data/gpt_prompts.json', 'w') as f:\n",
    "    json.dump(gpt_prompts, f, indent=4)"
   ]
  },
  {
   "cell_type": "code",
   "execution_count": 19,
   "metadata": {},
   "outputs": [],
   "source": [
    "# get openai key\n",
    "with open('openai_key.txt', 'r') as f:\n",
    "    openai.api_key = f.read()"
   ]
  },
  {
   "cell_type": "code",
   "execution_count": 20,
   "metadata": {},
   "outputs": [],
   "source": [
    "verb = 'rest'\n",
    "prompt = gpt_prompts[verb]\n",
    "response = openai.ChatCompletion.create(\n",
    "                model=\"gpt-3.5-turbo\",\n",
    "                #n=n,\n",
    "                #temperature=temperature,\n",
    "                messages=[\n",
    "                    {\"role\": \"user\", \"content\": prompt}]\n",
    "                )"
   ]
  },
  {
   "cell_type": "code",
   "execution_count": 28,
   "metadata": {},
   "outputs": [],
   "source": [
    "result = response['choices'][0].message.content\n",
    "result = eval(result)"
   ]
  },
  {
   "cell_type": "code",
   "execution_count": 29,
   "metadata": {},
   "outputs": [
    {
     "data": {
      "text/plain": [
       "{'agency': 'agency_equal', 'power': nan}"
      ]
     },
     "execution_count": 29,
     "metadata": {},
     "output_type": "execute_result"
    }
   ],
   "source": [
    "result[verb]"
   ]
  },
  {
   "cell_type": "code",
   "execution_count": 83,
   "metadata": {},
   "outputs": [
    {
     "name": "stdout",
     "output_type": "stream",
     "text": [
      "0 1 2 3 4 5 6 7 8 9 10 11 12 13 14 15 16 17 18 19 20 21 22 23 24 25 26 27 28 29 30 31 32 33 34 35 "
     ]
    },
    {
     "ename": "RateLimitError",
     "evalue": "That model is currently overloaded with other requests. You can retry your request, or contact us through our help center at help.openai.com if the error persists. (Please include the request ID b14bc88b8db68555a8953dd350a3dcce in your message.)",
     "output_type": "error",
     "traceback": [
      "\u001b[0;31m---------------------------------------------------------------------------\u001b[0m",
      "\u001b[0;31mRateLimitError\u001b[0m                            Traceback (most recent call last)",
      "Cell \u001b[0;32mIn[83], line 6\u001b[0m\n\u001b[1;32m      4\u001b[0m \u001b[39mfor\u001b[39;00m verb, prompt \u001b[39min\u001b[39;00m \u001b[39mlist\u001b[39m(gpt_prompts\u001b[39m.\u001b[39mitems())[\u001b[39m268\u001b[39m:]:\n\u001b[1;32m      5\u001b[0m     \u001b[39mprint\u001b[39m(i, end\u001b[39m=\u001b[39m\u001b[39m'\u001b[39m\u001b[39m \u001b[39m\u001b[39m'\u001b[39m)\n\u001b[0;32m----> 6\u001b[0m     response \u001b[39m=\u001b[39m openai\u001b[39m.\u001b[39mChatCompletion\u001b[39m.\u001b[39mcreate(\n\u001b[1;32m      7\u001b[0m                 model\u001b[39m=\u001b[39m\u001b[39m\"\u001b[39m\u001b[39mgpt-3.5-turbo\u001b[39m\u001b[39m\"\u001b[39m,\n\u001b[1;32m      8\u001b[0m                 n\u001b[39m=\u001b[39mn,\n\u001b[1;32m      9\u001b[0m                 \u001b[39m#temperature=temperature,\u001b[39;00m\n\u001b[1;32m     10\u001b[0m                 messages\u001b[39m=\u001b[39m[\n\u001b[1;32m     11\u001b[0m                     {\u001b[39m\"\u001b[39m\u001b[39mrole\u001b[39m\u001b[39m\"\u001b[39m: \u001b[39m\"\u001b[39m\u001b[39muser\u001b[39m\u001b[39m\"\u001b[39m, \u001b[39m\"\u001b[39m\u001b[39mcontent\u001b[39m\u001b[39m\"\u001b[39m: prompt}]\n\u001b[1;32m     12\u001b[0m                 )\n\u001b[1;32m     13\u001b[0m     gpt_responses[verb] \u001b[39m=\u001b[39m []\n\u001b[1;32m     14\u001b[0m     \u001b[39mfor\u001b[39;00m j \u001b[39min\u001b[39;00m \u001b[39mrange\u001b[39m(n):\n",
      "File \u001b[0;32m~/miniconda3/envs/coref/lib/python3.11/site-packages/openai/api_resources/chat_completion.py:25\u001b[0m, in \u001b[0;36mChatCompletion.create\u001b[0;34m(cls, *args, **kwargs)\u001b[0m\n\u001b[1;32m     23\u001b[0m \u001b[39mwhile\u001b[39;00m \u001b[39mTrue\u001b[39;00m:\n\u001b[1;32m     24\u001b[0m     \u001b[39mtry\u001b[39;00m:\n\u001b[0;32m---> 25\u001b[0m         \u001b[39mreturn\u001b[39;00m \u001b[39msuper\u001b[39m()\u001b[39m.\u001b[39mcreate(\u001b[39m*\u001b[39margs, \u001b[39m*\u001b[39m\u001b[39m*\u001b[39mkwargs)\n\u001b[1;32m     26\u001b[0m     \u001b[39mexcept\u001b[39;00m TryAgain \u001b[39mas\u001b[39;00m e:\n\u001b[1;32m     27\u001b[0m         \u001b[39mif\u001b[39;00m timeout \u001b[39mis\u001b[39;00m \u001b[39mnot\u001b[39;00m \u001b[39mNone\u001b[39;00m \u001b[39mand\u001b[39;00m time\u001b[39m.\u001b[39mtime() \u001b[39m>\u001b[39m start \u001b[39m+\u001b[39m timeout:\n",
      "File \u001b[0;32m~/miniconda3/envs/coref/lib/python3.11/site-packages/openai/api_resources/abstract/engine_api_resource.py:153\u001b[0m, in \u001b[0;36mEngineAPIResource.create\u001b[0;34m(cls, api_key, api_base, api_type, request_id, api_version, organization, **params)\u001b[0m\n\u001b[1;32m    127\u001b[0m \u001b[39m@classmethod\u001b[39m\n\u001b[1;32m    128\u001b[0m \u001b[39mdef\u001b[39;00m \u001b[39mcreate\u001b[39m(\n\u001b[1;32m    129\u001b[0m     \u001b[39mcls\u001b[39m,\n\u001b[0;32m   (...)\u001b[0m\n\u001b[1;32m    136\u001b[0m     \u001b[39m*\u001b[39m\u001b[39m*\u001b[39mparams,\n\u001b[1;32m    137\u001b[0m ):\n\u001b[1;32m    138\u001b[0m     (\n\u001b[1;32m    139\u001b[0m         deployment_id,\n\u001b[1;32m    140\u001b[0m         engine,\n\u001b[0;32m   (...)\u001b[0m\n\u001b[1;32m    150\u001b[0m         api_key, api_base, api_type, api_version, organization, \u001b[39m*\u001b[39m\u001b[39m*\u001b[39mparams\n\u001b[1;32m    151\u001b[0m     )\n\u001b[0;32m--> 153\u001b[0m     response, _, api_key \u001b[39m=\u001b[39m requestor\u001b[39m.\u001b[39mrequest(\n\u001b[1;32m    154\u001b[0m         \u001b[39m\"\u001b[39m\u001b[39mpost\u001b[39m\u001b[39m\"\u001b[39m,\n\u001b[1;32m    155\u001b[0m         url,\n\u001b[1;32m    156\u001b[0m         params\u001b[39m=\u001b[39mparams,\n\u001b[1;32m    157\u001b[0m         headers\u001b[39m=\u001b[39mheaders,\n\u001b[1;32m    158\u001b[0m         stream\u001b[39m=\u001b[39mstream,\n\u001b[1;32m    159\u001b[0m         request_id\u001b[39m=\u001b[39mrequest_id,\n\u001b[1;32m    160\u001b[0m         request_timeout\u001b[39m=\u001b[39mrequest_timeout,\n\u001b[1;32m    161\u001b[0m     )\n\u001b[1;32m    163\u001b[0m     \u001b[39mif\u001b[39;00m stream:\n\u001b[1;32m    164\u001b[0m         \u001b[39m# must be an iterator\u001b[39;00m\n\u001b[1;32m    165\u001b[0m         \u001b[39massert\u001b[39;00m \u001b[39mnot\u001b[39;00m \u001b[39misinstance\u001b[39m(response, OpenAIResponse)\n",
      "File \u001b[0;32m~/miniconda3/envs/coref/lib/python3.11/site-packages/openai/api_requestor.py:230\u001b[0m, in \u001b[0;36mAPIRequestor.request\u001b[0;34m(self, method, url, params, headers, files, stream, request_id, request_timeout)\u001b[0m\n\u001b[1;32m    209\u001b[0m \u001b[39mdef\u001b[39;00m \u001b[39mrequest\u001b[39m(\n\u001b[1;32m    210\u001b[0m     \u001b[39mself\u001b[39m,\n\u001b[1;32m    211\u001b[0m     method,\n\u001b[0;32m   (...)\u001b[0m\n\u001b[1;32m    218\u001b[0m     request_timeout: Optional[Union[\u001b[39mfloat\u001b[39m, Tuple[\u001b[39mfloat\u001b[39m, \u001b[39mfloat\u001b[39m]]] \u001b[39m=\u001b[39m \u001b[39mNone\u001b[39;00m,\n\u001b[1;32m    219\u001b[0m ) \u001b[39m-\u001b[39m\u001b[39m>\u001b[39m Tuple[Union[OpenAIResponse, Iterator[OpenAIResponse]], \u001b[39mbool\u001b[39m, \u001b[39mstr\u001b[39m]:\n\u001b[1;32m    220\u001b[0m     result \u001b[39m=\u001b[39m \u001b[39mself\u001b[39m\u001b[39m.\u001b[39mrequest_raw(\n\u001b[1;32m    221\u001b[0m         method\u001b[39m.\u001b[39mlower(),\n\u001b[1;32m    222\u001b[0m         url,\n\u001b[0;32m   (...)\u001b[0m\n\u001b[1;32m    228\u001b[0m         request_timeout\u001b[39m=\u001b[39mrequest_timeout,\n\u001b[1;32m    229\u001b[0m     )\n\u001b[0;32m--> 230\u001b[0m     resp, got_stream \u001b[39m=\u001b[39m \u001b[39mself\u001b[39m\u001b[39m.\u001b[39m_interpret_response(result, stream)\n\u001b[1;32m    231\u001b[0m     \u001b[39mreturn\u001b[39;00m resp, got_stream, \u001b[39mself\u001b[39m\u001b[39m.\u001b[39mapi_key\n",
      "File \u001b[0;32m~/miniconda3/envs/coref/lib/python3.11/site-packages/openai/api_requestor.py:624\u001b[0m, in \u001b[0;36mAPIRequestor._interpret_response\u001b[0;34m(self, result, stream)\u001b[0m\n\u001b[1;32m    616\u001b[0m     \u001b[39mreturn\u001b[39;00m (\n\u001b[1;32m    617\u001b[0m         \u001b[39mself\u001b[39m\u001b[39m.\u001b[39m_interpret_response_line(\n\u001b[1;32m    618\u001b[0m             line, result\u001b[39m.\u001b[39mstatus_code, result\u001b[39m.\u001b[39mheaders, stream\u001b[39m=\u001b[39m\u001b[39mTrue\u001b[39;00m\n\u001b[1;32m    619\u001b[0m         )\n\u001b[1;32m    620\u001b[0m         \u001b[39mfor\u001b[39;00m line \u001b[39min\u001b[39;00m parse_stream(result\u001b[39m.\u001b[39miter_lines())\n\u001b[1;32m    621\u001b[0m     ), \u001b[39mTrue\u001b[39;00m\n\u001b[1;32m    622\u001b[0m \u001b[39melse\u001b[39;00m:\n\u001b[1;32m    623\u001b[0m     \u001b[39mreturn\u001b[39;00m (\n\u001b[0;32m--> 624\u001b[0m         \u001b[39mself\u001b[39m\u001b[39m.\u001b[39m_interpret_response_line(\n\u001b[1;32m    625\u001b[0m             result\u001b[39m.\u001b[39mcontent\u001b[39m.\u001b[39mdecode(\u001b[39m\"\u001b[39m\u001b[39mutf-8\u001b[39m\u001b[39m\"\u001b[39m),\n\u001b[1;32m    626\u001b[0m             result\u001b[39m.\u001b[39mstatus_code,\n\u001b[1;32m    627\u001b[0m             result\u001b[39m.\u001b[39mheaders,\n\u001b[1;32m    628\u001b[0m             stream\u001b[39m=\u001b[39m\u001b[39mFalse\u001b[39;00m,\n\u001b[1;32m    629\u001b[0m         ),\n\u001b[1;32m    630\u001b[0m         \u001b[39mFalse\u001b[39;00m,\n\u001b[1;32m    631\u001b[0m     )\n",
      "File \u001b[0;32m~/miniconda3/envs/coref/lib/python3.11/site-packages/openai/api_requestor.py:687\u001b[0m, in \u001b[0;36mAPIRequestor._interpret_response_line\u001b[0;34m(self, rbody, rcode, rheaders, stream)\u001b[0m\n\u001b[1;32m    685\u001b[0m stream_error \u001b[39m=\u001b[39m stream \u001b[39mand\u001b[39;00m \u001b[39m\"\u001b[39m\u001b[39merror\u001b[39m\u001b[39m\"\u001b[39m \u001b[39min\u001b[39;00m resp\u001b[39m.\u001b[39mdata\n\u001b[1;32m    686\u001b[0m \u001b[39mif\u001b[39;00m stream_error \u001b[39mor\u001b[39;00m \u001b[39mnot\u001b[39;00m \u001b[39m200\u001b[39m \u001b[39m<\u001b[39m\u001b[39m=\u001b[39m rcode \u001b[39m<\u001b[39m \u001b[39m300\u001b[39m:\n\u001b[0;32m--> 687\u001b[0m     \u001b[39mraise\u001b[39;00m \u001b[39mself\u001b[39m\u001b[39m.\u001b[39mhandle_error_response(\n\u001b[1;32m    688\u001b[0m         rbody, rcode, resp\u001b[39m.\u001b[39mdata, rheaders, stream_error\u001b[39m=\u001b[39mstream_error\n\u001b[1;32m    689\u001b[0m     )\n\u001b[1;32m    690\u001b[0m \u001b[39mreturn\u001b[39;00m resp\n",
      "\u001b[0;31mRateLimitError\u001b[0m: That model is currently overloaded with other requests. You can retry your request, or contact us through our help center at help.openai.com if the error persists. (Please include the request ID b14bc88b8db68555a8953dd350a3dcce in your message.)"
     ]
    }
   ],
   "source": [
    "gpt_responses = {}\n",
    "i = 0\n",
    "n = 5 # number of responses to generate\n",
    "for verb, prompt in list(gpt_prompts.items())[268:]:\n",
    "    print(i, end=' ')\n",
    "    response = openai.ChatCompletion.create(\n",
    "                model=\"gpt-3.5-turbo\",\n",
    "                n=n,\n",
    "                #temperature=temperature,\n",
    "                messages=[\n",
    "                    {\"role\": \"user\", \"content\": prompt}]\n",
    "                )\n",
    "    gpt_responses[verb] = []\n",
    "    for j in range(n):\n",
    "        result = response['choices'][j].message.content\n",
    "        gpt_responses[verb].append(result)\n",
    "    i += 1"
   ]
  },
  {
   "cell_type": "code",
   "execution_count": 82,
   "metadata": {},
   "outputs": [],
   "source": [
    "first_gpt_responses = gpt_responses"
   ]
  },
  {
   "cell_type": "code",
   "execution_count": 81,
   "metadata": {},
   "outputs": [
    {
     "data": {
      "text/plain": [
       "('enjoy',\n",
       " [\"{'enjoy': {'agency': 'agency_pos', 'power': 'power_theme'}}\",\n",
       "  '{\"enjoy\": {\"agency\": \"agency_equal\", \"power\": \"power_theme\"}}',\n",
       "  \"{'enjoy': {'agency': 'agency_equal', 'power': 'power_theme'}}\",\n",
       "  \"{'enjoy': {'agency': 'agency_equal', 'power': 'power_theme'}}\",\n",
       "  \"{'enjoy': {'agency': 'agency_equal', 'power': 'power_theme'}}\"])"
      ]
     },
     "execution_count": 81,
     "metadata": {},
     "output_type": "execute_result"
    }
   ],
   "source": [
    "list(gpt_responses.items())[267]"
   ]
  },
  {
   "cell_type": "code",
   "execution_count": 73,
   "metadata": {},
   "outputs": [
    {
     "data": {
      "text/plain": [
       "268"
      ]
     },
     "execution_count": 73,
     "metadata": {},
     "output_type": "execute_result"
    }
   ],
   "source": [
    "len(gpt_responses)"
   ]
  },
  {
   "cell_type": "code",
   "execution_count": 74,
   "metadata": {},
   "outputs": [],
   "source": [
    "# save gpt responses as json\n",
    "with open('data/gpt_responses_multiple5_INCOMPLETE.json', 'w') as f:\n",
    "    json.dump(gpt_responses, f, indent=4)"
   ]
  },
  {
   "cell_type": "code",
   "execution_count": 77,
   "metadata": {},
   "outputs": [],
   "source": [
    "gpt_preds = {}\n",
    "for verb, responses in gpt_responses.items():\n",
    "    new_responses = []\n",
    "    for res in responses:\n",
    "        try: \n",
    "            new_responses.append(eval(res))\n",
    "        except:\n",
    "            continue\n",
    "    responses = new_responses\n",
    "    all_agencies = [res[verb]['agency'] for res in responses]\n",
    "    all_powers = [res[verb]['power'] for res in responses]\n",
    "    \n",
    "    # get most common agency\n",
    "    majority_agency = max(set(all_agencies), key=all_agencies.count)\n",
    "    majority_power = max(set(all_powers), key=all_powers.count)\n",
    "    \n",
    "    final_ans = {'agency': majority_agency, 'power': majority_power}\n",
    "    gpt_preds[verb] = final_ans"
   ]
  },
  {
   "cell_type": "code",
   "execution_count": 63,
   "metadata": {},
   "outputs": [],
   "source": [
    "verb = 'rest'\n",
    "responses = gpt_responses[verb]\n",
    "responses = [eval(res) for res in responses]\n",
    "\n",
    "all_agencies = [res[verb]['agency'] for res in responses]\n",
    "all_powers = [res[verb]['power'] for res in responses]"
   ]
  },
  {
   "cell_type": "code",
   "execution_count": 66,
   "metadata": {},
   "outputs": [],
   "source": [
    "all_agencies = ['agency_equal', 'agency_pos', 'agency_pos']"
   ]
  },
  {
   "cell_type": "code",
   "execution_count": 67,
   "metadata": {},
   "outputs": [
    {
     "data": {
      "text/plain": [
       "'agency_pos'"
      ]
     },
     "execution_count": 67,
     "metadata": {},
     "output_type": "execute_result"
    }
   ],
   "source": [
    "max(set(all_agencies), key=all_agencies.count)"
   ]
  },
  {
   "cell_type": "code",
   "execution_count": 62,
   "metadata": {},
   "outputs": [
    {
     "data": {
      "text/plain": [
       "[\"{'rest': {'agency': 'agency_equal', 'power': nan}}\",\n",
       " \"{'rest': {'agency': 'agency_equal', 'power': 'nan'}}\",\n",
       " \"{'rest': {'agency': 'agency_equal', 'power': nan}}\"]"
      ]
     },
     "execution_count": 62,
     "metadata": {},
     "output_type": "execute_result"
    }
   ],
   "source": [
    "responses"
   ]
  },
  {
   "cell_type": "code",
   "execution_count": 78,
   "metadata": {},
   "outputs": [],
   "source": [
    "# compute accuracy\n",
    "agency_correct = 0\n",
    "power_correct = 0\n",
    "total = 0\n",
    "for verb in gpt_preds:\n",
    "    total += 1\n",
    "    agency_correct += gpt_preds[verb]['agency'] == test_dict[verb]['agency']\n",
    "    \n",
    "    # if verb is intransitive, power is not defined; need to check separately for nan values\n",
    "    if test_dict[verb]['power'] is nan and gpt_preds[verb]['power'] is nan:\n",
    "        power_correct += 1\n",
    "    else:\n",
    "        power_correct += gpt_preds[verb]['power'] == test_dict[verb]['power']\n",
    "    \n",
    "    #print(verb, gpt_preds[verb], test_dict[verb])"
   ]
  },
  {
   "cell_type": "code",
   "execution_count": 79,
   "metadata": {},
   "outputs": [
    {
     "name": "stdout",
     "output_type": "stream",
     "text": [
      "Agency accuracy: 0.8134328358208955 (218/268)\n",
      "Power accuracy: 0.4253731343283582 (114/268)\n"
     ]
    }
   ],
   "source": [
    "print(f'Agency accuracy: {agency_correct/total} ({agency_correct}/{total})')\n",
    "print(f'Power accuracy: {power_correct/total} ({power_correct}/{total})')"
   ]
  }
 ],
 "metadata": {
  "kernelspec": {
   "display_name": "coref",
   "language": "python",
   "name": "python3"
  },
  "language_info": {
   "codemirror_mode": {
    "name": "ipython",
    "version": 3
   },
   "file_extension": ".py",
   "mimetype": "text/x-python",
   "name": "python",
   "nbconvert_exporter": "python",
   "pygments_lexer": "ipython3",
   "version": "3.11.3"
  },
  "orig_nbformat": 4
 },
 "nbformat": 4,
 "nbformat_minor": 2
}
